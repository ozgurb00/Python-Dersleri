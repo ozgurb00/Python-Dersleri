{
 "cells": [
  {
   "cell_type": "markdown",
   "metadata": {},
   "source": [
    "# NESNE YÖNELİMLİ PROGRAMLAMA\n",
    "\n",
    "<p> Programlamlarımızı otomatize etme yönünde kullanabileceğimiz en önemli yöntemlerden birisi nesne yönelimli programlamadır. Bu yöntemdeki en önemli yapı \"sınıf (class)\" kavramıdır. Sınıflar sayesinde nesneler üretip daha pratik ve geliştirilebilir yapılar elde edebiliriz. </p>"
   ]
  },
  {
   "cell_type": "markdown",
   "metadata": {},
   "source": [
    "## Sınıf Tanımlama\n",
    "\n",
    "<p> Nesne yönelimli programlamanın en önemli unsurunun sınıflar olduğundan bahsettikten sonra Python'da nasıl sınıf tanımladığımıza bakalım. </p>"
   ]
  },
  {
   "cell_type": "code",
   "execution_count": null,
   "metadata": {},
   "outputs": [],
   "source": [
    "class Sınıf:\n",
    "    sınıf = \"Bu bir sınıftır\"\n",
    "    \n",
    "class Boş:\n",
    "    pass"
   ]
  },
  {
   "cell_type": "markdown",
   "metadata": {},
   "source": [
    "<p> Yukarıdaki örneklerde de görüldüğü gibi bir sınıf oluşturmak için $class$ ifadesini kullanıyoruz. Bu ifadeden sonra oluşturulan isim sınıfın ismidir ve geleneksel kulanım gereği Pascal Case, yani kelimelerin ilk harfleri büyük olacak şekilde yazılır. </p>\n",
    "\n",
    "<p> Şayet boş bir sınıf oluşturmak istersek bu durumda da sınıf bloğunun altına pass ifadesini yazmak yeterli olacaktır. Bu tarz sınıflar isim olarak mevcut olmasına rağmen işlev olarak tek başlarına bir önemleri yoktur. Ancak konunun ilerleyen kısımlarında da göreceğimiz bazı kavramları anlamak için yeri geldiğinde kullanılacaktır. </p>\n",
    "\n",
    "<p> Bir sınıf oluşturmayı temel olarak anladığımıza göre sınıflara ait unsurları nasıl kullanacağımızı görelim. Bu hususta ilk olarak sınıf üstünden bir değer atama yaparak bir nesne oluşturmamız gerekiyor.</p>"
   ]
  },
  {
   "cell_type": "code",
   "execution_count": null,
   "metadata": {},
   "outputs": [],
   "source": [
    "a = Sınıf()\n",
    "print(type(a))"
   ]
  },
  {
   "cell_type": "markdown",
   "metadata": {},
   "source": [
    "<p> Yukarıdaki değer atama sonucu a isimli bir nesne oluşturduk ve a ismi üzerinden Sınıf'ın unsurlarına aşağıda olduğu gibi ulaşılabilir. </p>"
   ]
  },
  {
   "cell_type": "code",
   "execution_count": null,
   "metadata": {},
   "outputs": [],
   "source": [
    "print(a.sınıf)"
   ]
  },
  {
   "cell_type": "markdown",
   "metadata": {},
   "source": [
    "## Sınıf Nicelikleri\n",
    "\n",
    "<p> Programlamada kullanılan sınıf kavramını somutlaştırabilmek adına formal tanımı bırakıp pratik olarak neye benzediğini incelemeye çalışalım. Örneğin, türümüzü kategorize etmek amacıyla atalarımız kendilerine \"İnsan\" demişler. Konaklamak, korunmak, barınmak vb. amaçlarla kulladığımız çeşitli oluşumlara bina, bazı canlılara hayvan, bitki vb. gibi bir sürü isim verip varlıkları belli gruplarda kategorize etmişler. İşte bütün bunlar aslında birer sınıftır. Programlamada kullanılan sınıflar da böyledir. Örneğin \"İnsan\" diye bir sınıf oluştursak, onun ortak özellikleri kol, bacak gibi uzuvlar; göz, kulak, dil gibi duyu organları; acıkma, susama, nefes alma gibi fiziksel tepkiler olurdu. İşte bu durum programlamada da mevcuttur ve bir sınıf bloğunun altında benzer özellikler oluşturabiliriz. </p>"
   ]
  },
  {
   "cell_type": "code",
   "execution_count": null,
   "metadata": {},
   "outputs": [],
   "source": [
    "class İnsan:\n",
    "    uzuvlar = [\"Kol\", \"Bacak\"]\n",
    "    duyu_organları = [\"Göz\", \"Kulak\", \"Dil\", \"Deri\", \"Burun\"]\n",
    "    fiziksel_durumlar = [\"Acıkma\", \"Nefes Alma\", \"Susama\"]\n",
    "    \n",
    "    def ölümlü_mü(self):\n",
    "        return \"Ölümlü\"\n",
    "    \n",
    "a = İnsan()\n",
    "print(a.uzuvlar)\n",
    "print(a.duyu_organları)\n",
    "print(a.fiziksel_durumlar)\n",
    "print(a.ölümlü_mü())"
   ]
  },
  {
   "cell_type": "markdown",
   "metadata": {},
   "source": [
    "<p> Yukarıda İnsan diye bir sınıf tanımladık ve ona çeşitli özellikler ekledik. En sonda bir de fonksiyon ekledik. Dikkat ettiyseniz bu fonksiyonda $self$ diye bir ibare var. Bu ifadeyi kullanma sebebimiz sınıf içerisinde bir fonksiyon oluşturmaktır. self Python'da oldukça sık kullanılır. Bundan dolayı onu biraz daha yakından incelemekte yarar var. </p>"
   ]
  },
  {
   "cell_type": "markdown",
   "metadata": {},
   "source": [
    "## self İfadesi\n",
    "\n",
    "<p> Bu ifade sınıflarda fonksiyon oluştururken parametre olarak kullanmak zorunda olduğumuz bir yapıdır. Eğer fonksiyonumuz hiç parametre almıyorsa bile eklenir. Görev olarak C++ ve Java'daki $this$ ifadesine benzer. Yani, sınıfın mevcut değer atamasının referansıdır. </p>"
   ]
  },
  {
   "cell_type": "markdown",
   "metadata": {},
   "source": [
    "## __init__ Metodu\n",
    "\n",
    "<p> self ifadesinin detaylı kullanımına geçmeden önce __init__ metodunu da incelemek bize kolaylık sağlayacaktır. Bu method da diğer nesne yönelimli programlama dillerindeki $constructor$, yani oluşturucu görevini üstlenir ve nesnelerin atanmasında oldukça kullanışlıdır. Kendimiz bunu tanımlamasak bile Python tarafından otomatik olarak tanımlanır ve bir nesne oluşturulduğunda otomatik olarak çalıştırılır.</p>\n",
    "\n",
    "<p> Yukarıda bazı basit sınıflar oluşturmuştuk. Sınıf tanımlamak bu haliyle oldukça kolay gibi görünüyordu. Ancak pratikte bu derecede basit sınıflarla karşılaşmak neredeyse mümkün olmadığı için ileri örneklerde __init__ ve self ifadelerini sıkça kullanacağız. </p>"
   ]
  },
  {
   "cell_type": "code",
   "execution_count": null,
   "metadata": {},
   "outputs": [],
   "source": [
    "class Sınıf:\n",
    "    def __init__(self):\n",
    "        print(\"__init__\")\n",
    "a = Sınıf()"
   ]
  },
  {
   "cell_type": "code",
   "execution_count": null,
   "metadata": {},
   "outputs": [],
   "source": [
    "class Öğretmen:\n",
    "    def __init__(self, isim):\n",
    "        self.isim = isim\n",
    "    def branşOluştur(self, branş):\n",
    "        self.branş = branş\n",
    "    def branşÖğren(self):\n",
    "        return self.branş\n",
    "    \n",
    "x = Öğretmen(\"Ahmet\")\n",
    "x.branşOluştur(\"Fen Bilgisi\")\n",
    "print(x.isim)\n",
    "print(x.branşÖğren())"
   ]
  },
  {
   "cell_type": "markdown",
   "metadata": {},
   "source": [
    "<p> Öğretmen adlı bir sınıf oluşturduktan sonra sınıfı x adlı değişkene atadık. Bu atama işlemi Python'da $instantiation$, yani örneklendirme diye geçmektedir. Fonksiyonu etkinleştirmek için onu nasıl çağırıyorsak, sınıfları etkinleştirmek için de sınıfları örneklendirmekteyiz. </p>\n",
    "\n",
    "<p> Örneklendirme işleminden sonra, çalıştığımız sınıfın özelliklerini bir bir değişkene aktarmış oluyoruz. Yani, bu değişkenin ismi bizim sınıfımız için bir $referans$ haline gelmiş oluyor. </p>"
   ]
  },
  {
   "cell_type": "markdown",
   "metadata": {},
   "source": [
    "## self İfadesinin Kullanımı ile İlgili Önemli Not\n",
    "\n",
    "<p> Şu ana kadar self ifadesinin kullanımına dair belli başlı noktalara değindik. Ancak oldukça önemli bir özelliğe değinmedik. O da şu ki, self ifadesi kendi başına bir anahtar kelime değil, keyfi bir bir ifadedir. Onun yerine başka isimler de kullanılabilir. </p>"
   ]
  },
  {
   "cell_type": "code",
   "execution_count": null,
   "metadata": {},
   "outputs": [],
   "source": [
    "class Öğretmen:\n",
    "    def __init__(s, isim):\n",
    "        s.isim = isim\n",
    "    def branşOluştur(s, branş):\n",
    "        s.branş = branş\n",
    "    def branşÖğren(s):\n",
    "        return s.branş\n",
    "    \n",
    "x = Öğretmen(\"Ahmet\")\n",
    "x.branşOluştur(\"Fen Bilgisi\")\n",
    "print(x.isim)\n",
    "print(x.branşÖğren())"
   ]
  },
  {
   "cell_type": "markdown",
   "metadata": {},
   "source": [
    "## Veri Saklama\n",
    "\n",
    "<p> Nesne yönelimli programlamada nicelikleri saklamak için çeşitli yöntemler kullanırız. Bu C++, Java gibi dillerde \"private, protected\" gibi ifadelerle gerçekleştirilirken, Python'da tek alt çizgi (_) veya çift alt çizgi (__) ile gerçekleştirilir ve bu özelliklere dışarıdan doğrudan ulaşılamaz. </p>"
   ]
  },
  {
   "cell_type": "code",
   "execution_count": null,
   "metadata": {},
   "outputs": [],
   "source": [
    "class Ürün:\n",
    "    def __init__(self, ürün):\n",
    "        self._ürün = ürün\n",
    "x = Ürün(\"A\")\n",
    "print(x.ürün)"
   ]
  },
  {
   "cell_type": "markdown",
   "metadata": {},
   "source": [
    "<p> Görüldüğü üzere böyle bir durumda özelliğe doğrudan ulaşamadık. Ancak getter metotları ile saklı ögelere ulaşabilir ve setter metotları ile bunları değiştirebiliriz. </p>"
   ]
  },
  {
   "cell_type": "code",
   "execution_count": null,
   "metadata": {},
   "outputs": [],
   "source": [
    "class Ürün:\n",
    "    def __init__(self, ürün):\n",
    "        self._ürün = ürün\n",
    "    def get_ürün(self):\n",
    "        return self._ürün\n",
    "    def set_ürün(self, yeni):\n",
    "        self._ürün = yeni\n",
    "\n",
    "x = Ürün(\"A\")\n",
    "print(x.get_ürün())\n",
    "x.set_ürün(\"B\")\n",
    "print(x.get_ürün())"
   ]
  },
  {
   "cell_type": "markdown",
   "metadata": {},
   "source": [
    "## Kalıtım (Inheritance)\n",
    "\n",
    "<p> Python'daki ilk konulardan son konulara doğru ilerledikçe öğrendiğimiz yapıların işlemlerimizi daha otomatik hale getirmeye başladığını fark etmişizdir. Nesne yönelimli programlama bunlar arasında en önemli konulardan birisidir ve otomatizasyonu sağlayan bazı önemli özellikleri vardır. İşte bu özelliklerden biri kalıtımdır. </p>\n",
    "\n",
    "<p> OOP'de (Object Oriendted Programming-Nesne Yönelimli Programlama) bir ata sınıfın (Parent Class) özelliklerinin bir yavru sınıf (Child Class) tarafından kullanılmasına kalıtım denir. </p> "
   ]
  },
  {
   "cell_type": "code",
   "execution_count": null,
   "metadata": {},
   "outputs": [],
   "source": [
    "class İnsan:\n",
    "    def __init__(self, isim, boy, kilo, yaş):\n",
    "        self.isim = isim\n",
    "        self.boy = boy\n",
    "        self.kilo = kilo\n",
    "        self.yaş = yaş\n",
    "    def isimNe(self):\n",
    "        return self.isim\n",
    "    def boyKaç(self):\n",
    "        return self.boy\n",
    "    def kiloKaç(self):\n",
    "        return self.kilo\n",
    "    def yaşKaç(self):\n",
    "        return self.yaş\n",
    "    \n",
    "class Bebek(İnsan):\n",
    "    def konuşabilirMi(self):\n",
    "        return \"Hayır\"\n",
    "    \n",
    "x = Bebek(\"X\", 50, 5, 1)\n",
    "print(x.isimNe())\n",
    "print(x.boyKaç())\n",
    "print(x.kiloKaç())\n",
    "print(x.yaşKaç())\n",
    "print(x.konuşabilirMi())"
   ]
  },
  {
   "cell_type": "markdown",
   "metadata": {},
   "source": [
    "<p> Örneğimizde ilk önce İnsan diye bir ata sınıf tanımladık ve ona çeşitli özellikler ekledik. Ardından da Bebek diye bir yavru sınıf tanımladık ve parametre olarak ata sınıf olan İnsan sınıfını kullandık. Böylece Bebek sınıfı İnsan sınıfının bütün özelliklerini miras aldı. Buna ek olarak da konuşabilirMi() metoduna da sahip oldu. </p>\n",
    "\n",
    "<p> Kalıtımda dikkat edilmesi gereken unsurlardan biri yavru sınıfın metotlarının ata sınıf tarafından doğrudan kullanılamamasıdır. Eğer örneklendirmeyi İnsan sınıfı üstünden yapsaydık konuşabilirMi() metodunu kullanamayacaktık. </p>"
   ]
  },
  {
   "cell_type": "code",
   "execution_count": null,
   "metadata": {},
   "outputs": [],
   "source": [
    "class İnsan:\n",
    "    def __init__(self, isim, boy, kilo, yaş):\n",
    "        self.isim = isim\n",
    "        self.boy = boy\n",
    "        self.kilo = kilo\n",
    "        self.yaş = yaş\n",
    "    def isimNe(self):\n",
    "        return self.isim\n",
    "    def boyKaç(self):\n",
    "        return self.boy\n",
    "    def kiloKaç(self):\n",
    "        return self.kilo\n",
    "    def yaşKaç(self):\n",
    "        return self.yaş\n",
    "    \n",
    "class Bebek(İnsan):\n",
    "    def konuşabilirMi(self):\n",
    "        return \"Hayır\"\n",
    "    \n",
    "x = İnsan(\"X\", 50, 5, 1)\n",
    "print(x.isimNe())\n",
    "print(x.boyKaç())\n",
    "print(x.kiloKaç())\n",
    "print(x.yaşKaç())\n",
    "print(x.konuşabilirMi())"
   ]
  },
  {
   "cell_type": "markdown",
   "metadata": {},
   "source": [
    "## isistance ve issubclass\n",
    "\n",
    "<p> Bir sınıfın başka bir sınıfın alt sınıfı olduğunu kontrol etmek için issubclass() fonksiyonu kullanılır. Eğer bir nesnenin bir sınıfın örneklendirmesi olduğunu kontrol etmek istersek bu durumda da isinstance() fonksiyonunu kullanabiliriz. </p>"
   ]
  },
  {
   "cell_type": "code",
   "execution_count": null,
   "metadata": {},
   "outputs": [],
   "source": [
    "class İnsan:\n",
    "    def __init__(self, isim, boy, kilo, yaş):\n",
    "        self.isim = isim\n",
    "        self.boy = boy\n",
    "        self.kilo = kilo\n",
    "        self.yaş = yaş\n",
    "    def isimNe(self):\n",
    "        return self.isim\n",
    "    def boyKaç(self):\n",
    "        return self.boy\n",
    "    def kiloKaç(self):\n",
    "        return self.kilo\n",
    "    def yaşKaç(self):\n",
    "        return self.yaş\n",
    "    \n",
    "class Bebek(İnsan):\n",
    "    def konuşabilirMi(self):\n",
    "        return \"Hayır\"\n",
    "    \n",
    "x = İnsan(\"X\", 180, 70, 25)\n",
    "y = Bebek(\"Y\", 50, 5, 1)\n",
    "\n",
    "print(issubclass(Bebek, İnsan))\n",
    "print(isinstance(x, İnsan))\n",
    "print(isinstance(y, Bebek))\n",
    "print(isinstance(x, Bebek))"
   ]
  },
  {
   "cell_type": "markdown",
   "metadata": {},
   "source": [
    "## Çoklu Kalıtım\n",
    "\n",
    "<p> Çoğu nesne yönelimli programlama dillerinde bir sınıf en fazla diğer bir sınıfın özelliklerini miras alabilir. Ancak Python onların aksine çoklu kalıtımı mümkün kılmaktadır. </p>"
   ]
  },
  {
   "cell_type": "code",
   "execution_count": null,
   "metadata": {},
   "outputs": [],
   "source": [
    "class Bilgisayar:\n",
    "    def __init__(self, marka, model, cpu, gpu, sistem):\n",
    "        self.marka = marka\n",
    "        self.model = model\n",
    "        self.cpu = cpu\n",
    "        self.gpu = gpu\n",
    "        self.sistem = sistem\n",
    "    def markaNe(self):\n",
    "        return self.marka\n",
    "    def modelNe(self):\n",
    "        return self.model\n",
    "    def cpuNe(self):\n",
    "        return self.cpu\n",
    "    def gpuNe(self):\n",
    "        return self.gpu\n",
    "    def sistemNe(self):\n",
    "        return self.sistem\n",
    "    \n",
    "class Makine:\n",
    "    mesaj = \"Bu bir makinedir.\"\n",
    "    \n",
    "class Notebook(Bilgisayar, Makine):\n",
    "    özellik = \"Taşınabilir\"\n",
    "\n",
    "\n",
    "x = Notebook(\"MSI\", \"GP66 Leopard\", \"I7\", \"RTX3060\", \"Windows 10\")\n",
    "print(x.mesaj)\n",
    "print(x.özellik)"
   ]
  },
  {
   "cell_type": "markdown",
   "metadata": {},
   "source": [
    "<p> Üst sınıfın elemanlarına alt sınıftan ulaşmak çeşitli yöntemler ile mümkün olmaktadır. Bunlardan birisi alt sınıf içerisinde üst sınıfın özelliklerini kullanmaktır. </p>"
   ]
  },
  {
   "cell_type": "code",
   "execution_count": null,
   "metadata": {},
   "outputs": [],
   "source": [
    "class Araba:\n",
    "    def __init__(self, marka, model):\n",
    "        self.marka = marka\n",
    "        self.model = model\n",
    "        \n",
    "class Kamyon(Araba):\n",
    "    def __init__(self, marka, model, ehliyet):\n",
    "        Araba.marka = marka\n",
    "        Araba.model = model\n",
    "        self.ehliyet = ehliyet\n",
    "    def yazdır(self):\n",
    "        print(Araba.marka + \", \" + Araba.model + \", \" + self.ehliyet)\n",
    "        \n",
    "x = Kamyon(\"A Marka\", \"B Model\", \"C Sınıfı\")\n",
    "x.yazdır()"
   ]
  },
  {
   "cell_type": "markdown",
   "metadata": {},
   "source": [
    "<p> Üst sınıfın özelliklerine ulaşmak için bir diğer yol da super() fonksiyonudur. </p>"
   ]
  },
  {
   "cell_type": "code",
   "execution_count": null,
   "metadata": {},
   "outputs": [],
   "source": [
    "class Araba:\n",
    "    def __init__(self):\n",
    "        self.marka = \"A Marka\"\n",
    "        self.model = \"B Model\"\n",
    "        \n",
    "class Kamyon(Araba):\n",
    "    def __init__(self, ehliyet):\n",
    "        super().__init__()\n",
    "        self.ehliyet = ehliyet\n",
    "    def yazdır(self):\n",
    "        print(self.marka + \", \" + self.model + \", \" + self.ehliyet)\n",
    "        \n",
    "x = Kamyon(\"C Sınıfı\")\n",
    "x.yazdır()"
   ]
  },
  {
   "cell_type": "markdown",
   "metadata": {},
   "source": [
    "## Oluşturucular (Constructors)\n",
    "\n",
    "<p> Nesne yönelimli programlamadaki en önemli basamaklardan birisi bir nesneyi örneklendirirken kullanılan oluşturuculardır. Bir oluşturucunun görevi, bir sınıfın nesnesi ilk oluşturulduğunda değerleri sınıfın üyelerine atamaktır. Bundan dolayı __init__() metodunun sınıflarda bir şekilde kullanıldığını biliyoruz. Bu noktada __init__()'i kendimiz oluşturup özelleştirebilir veya bu işi otomatik olarak yapması için Python'a bırakabiliriz. </p>\n",
    "\n",
    "<p> __init__()'i parametreli veya parametresiz olarak kullanabiliriz. </p>"
   ]
  },
  {
   "cell_type": "code",
   "execution_count": null,
   "metadata": {},
   "outputs": [],
   "source": [
    "class Sınıf1:\n",
    "    def __init__(self):\n",
    "        self.mesaj = \"Parametresiz oluşturucu\"\n",
    "        \n",
    "    def yazdır(self):\n",
    "        print(self.mesaj)\n",
    "        \n",
    "class Sınıf2:\n",
    "    def __init__(self, mesaj):\n",
    "        self.mesaj = mesaj\n",
    "    def yazdır(self):\n",
    "        print(self.mesaj)\n",
    "        \n",
    "a1 = Sınıf1()\n",
    "a2 = Sınıf2(\"Parametreli oluşturucu\")\n",
    "\n",
    "a1.yazdır()\n",
    "a2.yazdır()"
   ]
  },
  {
   "cell_type": "markdown",
   "metadata": {},
   "source": [
    "## Polimorfizm \n",
    "\n",
    "<p> Aynı isimli fonksiyonların farklı değerlerle kullanılmasına polimorfizm (polymorphism) denir. Nesne yönelimli programlamada sıkça kullanılır. </p>"
   ]
  },
  {
   "cell_type": "code",
   "execution_count": null,
   "metadata": {},
   "outputs": [],
   "source": [
    "class İşlemler:\n",
    "    def __init__(self, a, b):\n",
    "        self.a = a\n",
    "        self.b = b\n",
    "    def toplama(self):\n",
    "        return self.a + self.b\n",
    "    def çıkarma(self):\n",
    "        return self.a - self.b\n",
    "    def çarpma(self):\n",
    "        return self.a * self.b\n",
    "    def bölme(self):\n",
    "        return self.a / self.b\n",
    "    \n",
    "class Toplam:\n",
    "    def __init__(self, i1, i2):\n",
    "        self.i1 = i1\n",
    "        self.i2 = i2\n",
    "    def toplama(self):\n",
    "        return self.i1 + self.i2\n",
    "    \n",
    "a1 = İşlemler(2, 10)\n",
    "a2 = Toplam(2, 10)\n",
    "\n",
    "print(a1.toplama())\n",
    "print(a2.toplama())"
   ]
  },
  {
   "cell_type": "markdown",
   "metadata": {},
   "source": [
    "<p> Polimorfizm kalıtım yoluyla da gerçekleştirilebilir. Eğer kalıtım ile ata sınıfın metotlarını modife edersek bu duruma $overriding$ denir. </p>"
   ]
  },
  {
   "cell_type": "code",
   "execution_count": null,
   "metadata": {},
   "outputs": [],
   "source": [
    "class İşlemler1:\n",
    "    def __init__(self, x, y):\n",
    "        self.x = x\n",
    "        self.y = y\n",
    "    def işlem1(self):\n",
    "        return self.x ** self.y\n",
    "    def işlem2(self):\n",
    "        return self.x ** self.x + self.y ** self.y\n",
    "    \n",
    "class İşlemler2(İşlemler1):\n",
    "    def işlem1(self):\n",
    "        return self.y ** self.x\n",
    "    def işlem2(self):\n",
    "        return self.x * self.x + self.y * self.y\n",
    "    \n",
    "a1 = İşlemler1(2, 3)\n",
    "a2 = İşlemler2(2, 3)\n",
    "\n",
    "print(a1.işlem1())\n",
    "print(a2.işlem1())\n",
    "print()\n",
    "print(a1.işlem2())\n",
    "print(a2.işlem2())"
   ]
  },
  {
   "cell_type": "markdown",
   "metadata": {},
   "source": [
    "# SORULAR \n",
    "\n",
    "<p> 1) Değer ataması yapıldıktan sonra \"Merhaba Dünya\" yazısını elde edeceğiniz bir sınıf oluşturun. </p>"
   ]
  },
  {
   "cell_type": "code",
   "execution_count": null,
   "metadata": {},
   "outputs": [],
   "source": [
    "class Merhaba:\n",
    "    print(\"Merhaba Dünya\")\n",
    "    \n",
    "s = Merhaba()"
   ]
  },
  {
   "cell_type": "markdown",
   "metadata": {},
   "source": [
    "<p> 2) \"Kullanıcı\" diye bir sınıf oluşturun ve oluşturucu fonksiyon yardımıyla ad, soyad, kullanıcı adı ve parola bilgilerinin yer alacağı özellikler ekleyin. Örneklendirme yaptıktan sonra ise bu özelliklerin değerlerini ekrana bastırın. </p>"
   ]
  },
  {
   "cell_type": "code",
   "execution_count": null,
   "metadata": {},
   "outputs": [],
   "source": [
    "class Kullanıcı:\n",
    "    def __init__(self, ad, soyad, k_adı, parola):\n",
    "        self.ad = ad\n",
    "        self.soyad = soyad\n",
    "        self.k_adı = k_adı\n",
    "        self.parola = parola\n",
    "        \n",
    "k = Kullanıcı(\"Ahmet\", \"Can\", \"ahmetcan123\", \"Abc123\")\n",
    "print(k.ad)\n",
    "print(k.soyad)\n",
    "print(k.k_adı)\n",
    "print(k.parola)"
   ]
  },
  {
   "cell_type": "markdown",
   "metadata": {},
   "source": [
    "<p> 3) \"Makine\" diye boş bir sınıf oluşturun. Ardından \"Bilgisayar\" diye bir sınıf daha oluşturup Makine sınıfını miras edinin ve marka, model, işletim sistemi bilgilerini gizli veri olarak oluşturun. Ardından onları getter ve setter fonksiyonları yardımıyla erişilebilir ve kullanılabilir hale getirin.</p>"
   ]
  },
  {
   "cell_type": "code",
   "execution_count": null,
   "metadata": {},
   "outputs": [],
   "source": [
    "class Makine:\n",
    "    pass\n",
    "\n",
    "class Bilgisayar(Makine):\n",
    "    def __init__(self, marka, model, sistem):\n",
    "        self._marka = marka \n",
    "        self._model = model\n",
    "        self._sistem = sistem\n",
    "    def get_marka(self):\n",
    "        return self._marka\n",
    "    def set_marka(self, marka):\n",
    "        self._marka = marka\n",
    "    def get_model(self):\n",
    "        return self._model\n",
    "    def set_model(self, model):\n",
    "        self._model = model\n",
    "    def get_sistem(self):\n",
    "        return self._sistem\n",
    "    def set_sistem(self, sistem):\n",
    "        self._sistem = sistem\n",
    "        \n",
    "x = Bilgisayar(\"Asus\", \"ROG\", \"Windows 10\")\n",
    "print(x.get_marka())\n",
    "print(x.get_model())\n",
    "print(x.get_sistem())\n",
    "print(\"----------------\")\n",
    "x.set_marka(\"Apple\")\n",
    "x.set_model(\"Macbook Air\")\n",
    "x.set_sistem(\"MacOS\")\n",
    "print(x.get_marka())\n",
    "print(x.get_model())\n",
    "print(x.get_sistem())"
   ]
  },
  {
   "cell_type": "markdown",
   "metadata": {},
   "source": [
    "<p> 4) 3. sorudaki kodlarınızı kullanarak Bilgisayar sınıfının Makine sınıfının bir alt sınıfı olup olmadığını kontrol edin. Ardından sınıf değerlerini atadığınız değişkenin Makine ve Bilgisayar sınıflarının bir örneklendirmesi olup olmadığını kontrol edin. </p>"
   ]
  },
  {
   "cell_type": "code",
   "execution_count": null,
   "metadata": {},
   "outputs": [],
   "source": [
    "class Makine:\n",
    "    pass\n",
    "\n",
    "class Bilgisayar(Makine):\n",
    "    def __init__(self, marka, model, sistem):\n",
    "        self._marka = marka\n",
    "        self._model = model\n",
    "        self._sistem = sistem\n",
    "    def get_marka(self):\n",
    "        return self._marka\n",
    "    def set_marka(self, marka):\n",
    "        self._marka = marka\n",
    "    def get_model(self):\n",
    "        return self._model\n",
    "    def set_model(self, model):\n",
    "        self._model = model\n",
    "    def get_sistem(self):\n",
    "        return self._sistem\n",
    "    def set_sistem(self, sistem):\n",
    "        self._sistem = sistem\n",
    "        \n",
    "x = Bilgisayar(\"Asus\", \"ROG\", \"Windows 10\")\n",
    "print(issubclass(Bilgisayar, Makine))\n",
    "print(isinstance(x, Makine))\n",
    "print(isinstance(x, Bilgisayar))"
   ]
  },
  {
   "cell_type": "markdown",
   "metadata": {},
   "source": [
    "<p> 5) Sırasıyla Hayvan, Kuş ve Serçe diye üç ayrı sınıf oluşturun. Kuş sınıfının Hayvan, Serçe sınıfının da hem Kuş hem de Hayvan sınıfını miras almasını sağlayın ve her bir sınıf içerisine ayrı birer özellik ekleyin. Sınıflar oluşturulduktan sonra Serçe sınıfının özelliklerini bir değişkene atayın ve miras alınmış her bir özelliğin değerini ekrana bastırın. </p>"
   ]
  },
  {
   "cell_type": "code",
   "execution_count": null,
   "metadata": {},
   "outputs": [],
   "source": [
    "class Hayvan:\n",
    "    özellik1 = \"Heterotrof beslenir.\"\n",
    "\n",
    "class Kuş(Hayvan):\n",
    "    özellik2 = \"Uçar\"\n",
    "    \n",
    "class Serçe(Kuş, Hayvan):\n",
    "    özellik3 = \"Öter\"\n",
    "    \n",
    "a = Serçe()\n",
    "print(a.özellik1)\n",
    "print(a.özellik2)\n",
    "print(a.özellik3)"
   ]
  },
  {
   "cell_type": "markdown",
   "metadata": {},
   "source": [
    "<p> 6) \"Hesap\" diye bir üst sınıf oluşturup ad, soyad ve hesap numarası bilgilerini bu sınıf vasıtasıyla elde edin. Ardından \"Kart\" diye ayrı bir sınıf oluşturup Hesap sınıfının özelliklerini miras alın. super() fonksiyonu ile ad, soyad ve hesap numarasını bilgilerini alın ve bunlara \"Banka Kartı, Kredi Kartı\" değerlerinden birini seçeğiniz kart türü değerini ekleyin ve genel bilgileri ekrana yazdıracak bir metot oluşturun. </p>   "
   ]
  },
  {
   "cell_type": "code",
   "execution_count": null,
   "metadata": {},
   "outputs": [],
   "source": [
    "class Hesap:\n",
    "    def __init__(self):\n",
    "        self.ad = \"Ahmet\"\n",
    "        self.soyad = \"Can\"\n",
    "        self.h_no = \"12345\"\n",
    "        \n",
    "class Kart(Hesap):\n",
    "    def __init__(self, kart):\n",
    "        super().__init__()\n",
    "        self.kart = kart\n",
    "    def yazdır(self):\n",
    "        print(\"Ad Soyad: \" + self.ad + \" \" + self. soyad)\n",
    "        print(\"Hesap Numarası: \" + self.h_no)\n",
    "        print(\"Kart Türü: \" + self.kart)\n",
    "        \n",
    "x = Kart(\"Kredi Kartı\")\n",
    "x.yazdır()"
   ]
  },
  {
   "cell_type": "markdown",
   "metadata": {},
   "source": [
    "<p> 7) \"İşlemler\" diye bir üst sınıf oluşturup iki sayının toplama, çıkarma, çarpma ve bölme işlemlerinin sonucunu döndürün. Ardından \"BasitHesapMakinesi\" diye başka bir sınıf oluşturup İşlemler sınıfının özelliklerini miras alın. Ancak toplama ve çarpma işlemlerini iki sayıya ilaveten gireceğiniz keyfi sayıda değer üstünden yeniden düzenleyin ve buna uygun örnek işlemler yapıp sonuçları kontrol edin. </p>"
   ]
  },
  {
   "cell_type": "code",
   "execution_count": null,
   "metadata": {},
   "outputs": [],
   "source": [
    "class İşlemler:\n",
    "    def __init__(self, a, b):\n",
    "        self.a = a\n",
    "        self.b = b\n",
    "    def toplama(self):\n",
    "        return self.a + self.b\n",
    "    def çıkarma(self):\n",
    "        return self.a - self.b\n",
    "    def çarpma(self):\n",
    "        return self.a * self.b\n",
    "    def bölme(self):\n",
    "        return self.a / self.b\n",
    "    \n",
    "class BasitHesapMakinesi(İşlemler):\n",
    "    def toplama(self, *args):\n",
    "        self.toplam = 0\n",
    "        for i in range(len(args)):\n",
    "            self.toplam += args[i]\n",
    "        return self.a + self.b + self.toplam\n",
    "    def çarpma(self, *args):\n",
    "        self.çarpım = 1\n",
    "        for i in range(len(args)):\n",
    "            self.çarpım *= args[i]\n",
    "        return self.a * self.b * self.çarpım\n",
    "    \n",
    "x = BasitHesapMakinesi(1, 2)\n",
    "print(x.toplama(3, 4, 5))\n",
    "print(x.çarpma(3, 4, 5))"
   ]
  }
 ],
 "metadata": {
  "kernelspec": {
   "display_name": "Python 3",
   "language": "python",
   "name": "python3"
  },
  "language_info": {
   "codemirror_mode": {
    "name": "ipython",
    "version": 3
   },
   "file_extension": ".py",
   "mimetype": "text/x-python",
   "name": "python",
   "nbconvert_exporter": "python",
   "pygments_lexer": "ipython3",
   "version": "3.8.5"
  }
 },
 "nbformat": 4,
 "nbformat_minor": 4
}
