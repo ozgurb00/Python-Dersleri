{
 "cells": [
  {
   "cell_type": "markdown",
   "metadata": {},
   "source": [
    "# KARAKTER DİZİLERİ\n",
    "\n",
    "<p>String ya da karakter dizisi Python'daki en temel elementlerden birisidir. Tırnak işareti içerisinde belirtilen harf, \n",
    "cümle ya da sayı değerleri sentaksa uygun yazıldığı müddetçe karakter dizisi, yani string veri tipi olarak tanımlanır. </p>"
   ]
  },
  {
   "cell_type": "code",
   "execution_count": null,
   "metadata": {},
   "outputs": [],
   "source": [
    "karater_dizisi = \"Karakter Dizisi\"\n",
    "print(type(karater_dizisi))"
   ]
  },
  {
   "cell_type": "markdown",
   "metadata": {},
   "source": [
    "<p>Karakter dizileri programlama unsurları içerisineki öneminden dolayı pek çok metoda ve özelliğe sahiptir. Bunlardan bir \n",
    "tanesi de stringlerin karakterlerine ulaşabilmektir. Bu işlem aşağıdaki örnekte görüldüğü üzere [] işareti ile yapılır. \n",
    "Python'da karakterler 0'dan başlar. </p>"
   ]
  },
  {
   "cell_type": "code",
   "execution_count": null,
   "metadata": {},
   "outputs": [],
   "source": [
    "karakter_dizisi = \"Bu bir karakter dizisidir.\"\n",
    "print(karakter_dizisi[0])\n",
    "print(karakter_dizisi[1])"
   ]
  },
  {
   "cell_type": "markdown",
   "metadata": {},
   "source": [
    "<p>Karakterlere tersten de başlanabilir. Bunun için [] işareti içerisine sondan hangi öğeyi istiyorsak istediğimiz öğe numarasının önüne eksi koyarız (sondaki öğenin indeksi -1'dir, ondan sonra gelen indeks -2 vb. şeklinde devam eder). </p>"
   ]
  },
  {
   "cell_type": "code",
   "execution_count": null,
   "metadata": {},
   "outputs": [],
   "source": [
    "karakter_dizisi = \"Bu bir karakter dizisidir.\"\n",
    "print(karakter_dizisi[-4])\n",
    "print(karakter_dizisi[-3])\n",
    "print(karakter_dizisi[-2])\n",
    "print(karakter_dizisi[-1])"
   ]
  },
  {
   "cell_type": "markdown",
   "metadata": {},
   "source": [
    "<p>İndeksleme işleminde, daha önceden belirlediğimiz karakter dizisinin karakter sayısını aşarsak IndexError dediğimiz hata\n",
    "ortaya çıkar. </p>"
   ]
  },
  {
   "cell_type": "code",
   "execution_count": null,
   "metadata": {},
   "outputs": [],
   "source": [
    "karakter_dizisi = \"Bu bir karakter dizisidir.\"\n",
    "print(karakter_dizisi[100])"
   ]
  },
  {
   "cell_type": "markdown",
   "metadata": {},
   "source": [
    "<p>İndeksleme işleminde öğelere tek tek değil parçalar halinde ulaşmak da mümkündür. Bu aşağıdaki örnekte görüleceği şekilde\n",
    "yapılabilir. </p>"
   ]
  },
  {
   "cell_type": "code",
   "execution_count": null,
   "metadata": {},
   "outputs": [],
   "source": [
    "karakter_dizisi = \"Bu bir karakter dizisidir.\"\n",
    "print(karakter_dizisi[0:10])"
   ]
  },
  {
   "cell_type": "markdown",
   "metadata": {},
   "source": [
    "<p>Stringlerin karakterleri modifiye edilemez, çünkü stringler değiştirilebilir değildir. Bu denenirse NameError alınır. </p>"
   ]
  },
  {
   "cell_type": "code",
   "execution_count": null,
   "metadata": {},
   "outputs": [],
   "source": [
    "karakter_dizisi = \"Bu bir karakter dizisidir.\"\n",
    "karater_dizisi[0] = \"b\""
   ]
  },
  {
   "cell_type": "markdown",
   "metadata": {},
   "source": [
    "# Karakter Dizisi Yöntemleri\n",
    "\n",
    "<p>Karakter dizilerinin Python'da oldukça önemli bir yer kapladığını şu ana kadar defalarca kez gördük. Ancak onlardan yararlanmak için tek başına bu veri tipinin ne olduğunu bilmek yetmez. Zira zaman zaman harflerin büyüklük küçüklük değerlerini değiştirmek, bir metin içerisinde belli kelimeleri bulup onun üstünde manipülasyonlar yapmak, bir kelimeyi başka bir kelime ile değiştirmek, metin içerisindeki gereksiz noktalama işaretlerinden kurtulmak vb. işlemlerde bulunmamız gerekebilir. İşte bütün bunları gerçekleştirmek için Python bize çok çeşitli araçlar sunuyor. Şimdi bu araçlara, yani karakter dizisi yöntemlerine daha yakından bakalım. Bütün karakter dizisi yöntemlerini görmek için aşağıdaki kodu yazmamız yeterli olacaktır. </p>"
   ]
  },
  {
   "cell_type": "code",
   "execution_count": null,
   "metadata": {},
   "outputs": [],
   "source": [
    "print(dir(\"\"))"
   ]
  },
  {
   "cell_type": "code",
   "execution_count": null,
   "metadata": {},
   "outputs": [],
   "source": [
    "print(dir(set))"
   ]
  },
  {
   "cell_type": "markdown",
   "metadata": {},
   "source": [
    "# capitalize()\n",
    "\n",
    "<p>Eğer bir karakter dizisinin sadece ilk harfini büyütmek istersek, capitalize() metodunu kullanabiliriz. </p>"
   ]
  },
  {
   "cell_type": "code",
   "execution_count": null,
   "metadata": {},
   "outputs": [],
   "source": [
    "kelime = \"bilgisayar\"\n",
    "print(kelime.capitalize())\n",
    "cümle = \"python programlama dili\"\n",
    "print(cümle.capitalize())"
   ]
  },
  {
   "cell_type": "markdown",
   "metadata": {},
   "source": [
    "# center()\n",
    "\n",
    "<p>Bir karakter dizisini center() metodu sayesinde ortalayabiliriz. Bunu yaparken bir parametre kullanmamız lazım.\n",
    "Kullanacağımız parametrenin sayısal değeri eğer karakter dizisinin uzunluğundan küçükse, karakter dizisini \n",
    "ortalamada bir etkisi olmayacaktır. </p>"
   ]
  },
  {
   "cell_type": "code",
   "execution_count": null,
   "metadata": {},
   "outputs": [],
   "source": [
    "değişken = \"bilişim\"\n",
    "print(len(değişken))\n",
    "print(değişken.center(5))"
   ]
  },
  {
   "cell_type": "markdown",
   "metadata": {},
   "source": [
    "<p>Eğer parametrede belirttiğimiz değer karakter dizisinin uzunluğundan büyükse, center() metodu karakter dizisini\n",
    "parametrede kullandığımız değere göre ortalar. </p>"
   ]
  },
  {
   "cell_type": "code",
   "execution_count": null,
   "metadata": {},
   "outputs": [],
   "source": [
    "değişken = \"bilişim\"\n",
    "print(değişken.center(20))"
   ]
  },
  {
   "cell_type": "markdown",
   "metadata": {},
   "source": [
    "# count()\n",
    "\n",
    "<p>Bir karakter dizisinin içerisinde belirlediği karakterden ya da karakter grubundan kaç tane olduğunu saymamıza yardımcı olur. </p>"
   ]
  },
  {
   "cell_type": "code",
   "execution_count": null,
   "metadata": {},
   "outputs": [],
   "source": [
    "kelime = \"otomobil\"\n",
    "print(kelime.count(\"o\"))\n",
    "\n",
    "cümle = \"Otomobil ve mobil internet teknololojileri modernizasyonu\"\n",
    "print(cümle.count(\"mob\"))"
   ]
  },
  {
   "cell_type": "markdown",
   "metadata": {},
   "source": [
    "# endswith()\n",
    "\n",
    "<p>Bir karakter dizisinin hangi karakter veya karakterlerle bitip bitmediğini belirlemek için endswith yöntemi kullanılır. </p>"
   ]
  },
  {
   "cell_type": "code",
   "execution_count": null,
   "metadata": {},
   "outputs": [],
   "source": [
    "kelime = \"futbol\"\n",
    "print(kelime.endswith(\"l\"))\n",
    "print(kelime.endswith(\"bol\"))\n",
    "print(kelime.endswith(\"BOL\"))\n"
   ]
  },
  {
   "cell_type": "markdown",
   "metadata": {},
   "source": [
    "# find() / rfind()\n",
    "\n",
    "<p>Bir karakter dizisi içerisindeki belli bir karakterin konumunu belirlemek için find() ve rfind() yöntemleri kullanılabilir.\n",
    "Bu iki metot arasındaki fark find() metodu belirtilen karakteri aramaya soldan başlarken, rfind() ise sağdan başlar. </p>"
   ]
  },
  {
   "cell_type": "code",
   "execution_count": null,
   "metadata": {},
   "outputs": [],
   "source": [
    "kelime = \"data\"\n",
    "print(kelime.find(\"a\"))\n",
    "print(kelime.rfind(\"a\"))"
   ]
  },
  {
   "cell_type": "markdown",
   "metadata": {},
   "source": [
    "# index() / rindex()\n",
    "\n",
    "<p>\n",
    "index() ve rindex() yöntemleri, belirlediğimiz bir karakterin ya da karakter grubunun ilk konumunun nerede olduğunu \n",
    "bulmaya yarar. Bu açıdan find() ve rfind() yöntemi ile benzerlik gösterir. </p>"
   ]
  },
  {
   "cell_type": "code",
   "execution_count": null,
   "metadata": {},
   "outputs": [],
   "source": [
    "kelime = \"programlama\"\n",
    "print(kelime.index(\"p\"))\n",
    "print(kelime.index(\"a\"))\n",
    "print(kelime.rindex(\"a\"))"
   ]
  },
  {
   "cell_type": "markdown",
   "metadata": {},
   "source": [
    "<p>Bu yöntemler arasındaki fark, eğer aradığımız karakter, karakter dizisinde yoksa index() yöntemi \n",
    "ValueError hatası verir, find() ise -1 değerini gösterir. </p>"
   ]
  },
  {
   "cell_type": "markdown",
   "metadata": {},
   "source": [
    "# isupper() / islower()\n",
    "\n",
    "<p>Bir karakter dizisinin tamamen küçük veya tamamen büyük harflerden oluşup oluşmadığını islower veya isupper yöntemleri ile inceleriz. </p>"
   ]
  },
  {
   "cell_type": "code",
   "execution_count": null,
   "metadata": {},
   "outputs": [],
   "source": [
    "kelime1 = \"bilgisayar\"\n",
    "kelime2 = \"Bilgisayar\"\n",
    "\n",
    "print(kelime1.islower())\n",
    "print(kelime2.islower())"
   ]
  },
  {
   "cell_type": "code",
   "execution_count": null,
   "metadata": {},
   "outputs": [],
   "source": [
    "kelime1 = \"OTOMOBİL\"\n",
    "kelime2 = \"Otomobil\"\n",
    "\n",
    "print(kelime1.isupper())\n",
    "print(kelime2.isupper())"
   ]
  },
  {
   "cell_type": "markdown",
   "metadata": {},
   "source": [
    "# join()\n",
    "\n",
    "<p>Bölünmüş karakter dizilerini tekrar bir araya getirmek için join() yöntemini kullanırız. \n",
    "Burada dikkat etmemiz gereken husus, bölünmüş karakter dizilerinden ne anladığımızdır. Sentaks açısından bölünmüş karakter\n",
    "dizileri \"list\" veri tipine girer. O yüzden join() metodunu diğer karakter dizilerine kıyasla daha farklı bir şekilde kullanırız. </p>"
   ]
  },
  {
   "cell_type": "code",
   "execution_count": null,
   "metadata": {},
   "outputs": [],
   "source": [
    "liste = [\"bu\", \"bir\", \"deneme\", \"cümlesidir\"]\n",
    "joinÖrnek = \" \".join(liste)\n",
    "print(joinÖrnek)"
   ]
  },
  {
   "cell_type": "markdown",
   "metadata": {},
   "source": [
    "<p>Yukarıdaki örnekte bir liste içerisindeki kelimeleri boşluk yardımıyla birleştirdik. Ancak bunu farklı şekillerde de yapabiliriz. Mühim olan bu birleştirme işlemini join() metodunun yukarıdaki haliyle yapmak. Aşağıdaki gibi bir örnek programın hata vermesine sebep olacaktır. </p>"
   ]
  },
  {
   "cell_type": "code",
   "execution_count": null,
   "metadata": {},
   "outputs": [],
   "source": [
    "liste = [\"bu\", \"bir\", \"deneme\", \"cümlesidir\"]\n",
    "print(liste.join())"
   ]
  },
  {
   "cell_type": "markdown",
   "metadata": {},
   "source": [
    "<p>Doğrudan listelerle çalışılabileceği gibi, bir karakter dizisi önce split() metodu ile ayrılıp daha sonra join() ile\n",
    "birleştirilebilir. </p>"
   ]
  },
  {
   "cell_type": "code",
   "execution_count": null,
   "metadata": {},
   "outputs": [],
   "source": [
    "cümle1 = \"bu bir deneme cümlesidir\"\n",
    "cümle2 = cümle1.split()\n",
    "cümle3 = \" \".join(cümle2)\n",
    "cümle4 = \"-\".join(cümle2)\n",
    "print(cümle2)\n",
    "print(cümle3)\n",
    "print(cümle4)"
   ]
  },
  {
   "cell_type": "markdown",
   "metadata": {},
   "source": [
    "# replace()\n",
    "\n",
    "<p>Bir karakter dizisi içerisinde herhangi belli bir karakter grubunu değiştirmek istediğimizde replace() metodunu \n",
    "kullanırız. </p>"
   ]
  },
  {
   "cell_type": "code",
   "execution_count": null,
   "metadata": {},
   "outputs": [],
   "source": [
    "kelime = \"programlama\"\n",
    "kelime2 = kelime.replace(\"o\", \"O\")\n",
    "kelime3 = kelime2.replace(\"a\", \"A\")\n",
    "print(kelime2)\n",
    "print(kelime3)"
   ]
  },
  {
   "cell_type": "code",
   "execution_count": null,
   "metadata": {},
   "outputs": [],
   "source": [
    "kelime = \"YAZILIM\" \n",
    "print(kelime.replace(\"ILIM\", \"ılım\"))"
   ]
  },
  {
   "cell_type": "markdown",
   "metadata": {},
   "source": [
    "# sorted()\n",
    "\n",
    "<p>Programlamaya yeni başlayanlar aşina olmayabilirler. Ancak bir veri grubunun alfabetik düzene (lexicographical order) ya da matematiksel düzene göre sıralanması yerine göre çok önem arz eder. </p>\n",
    "\n",
    "<p>Veri tipleri çoğunlukla karşımıza dağınık bir şekilde gelir. Böyle verileri küçükten büyüğe sıralamak için Python'da sorted() metodu kullanılır. </p>"
   ]
  },
  {
   "cell_type": "code",
   "execution_count": null,
   "metadata": {},
   "outputs": [],
   "source": [
    "değişken = \"kelime\"\n",
    "print(sorted(değişken))"
   ]
  },
  {
   "cell_type": "code",
   "execution_count": null,
   "metadata": {},
   "outputs": [],
   "source": [
    "değişken = [1, 5, 10, 3, 20, 15, 1000, 2]\n",
    "print(sorted(değişken))"
   ]
  },
  {
   "cell_type": "code",
   "execution_count": null,
   "metadata": {},
   "outputs": [],
   "source": [
    "print(sorted(\"coğrafya\")) "
   ]
  },
  {
   "cell_type": "markdown",
   "metadata": {},
   "source": [
    "<p>Yukarıda \"coğrafya\" kelimesini sorted() ile kullandığımızda Türkçe kurallarına göre bir yanlışlık yapıldığını, \"ğ\" harfinin en sona atıldığına dikkat edelim. Bunun sebebi, sorted() fonksiyonunun otomatik sıralama kurallarında İngiliz alfabesini baz alması ve \"ğ\" harfi İngilizcede bulunmadığı için onu tanımlayamayıp en sona atmasıdır. Bunun önüne geçmek için \"locale\" modülünü kullanmamız gerekir. </p>"
   ]
  },
  {
   "cell_type": "code",
   "execution_count": null,
   "metadata": {},
   "outputs": [],
   "source": [
    "import locale\n",
    "locale.setlocale(locale.LC_ALL, \"Turkish_Turkey.1254\")\n",
    "\n",
    "print(sorted(\"coğrafya\", key = locale.strxfrm))"
   ]
  },
  {
   "cell_type": "markdown",
   "metadata": {},
   "source": [
    "# split() / rsplit()\n",
    "\n",
    "<p>Eğer bir karakter dizisi içerisindeki kelimelere ayrı ayrı erişmek istersek split() ve rsplit() yöntemleri kullanılabilir.\n",
    "Bunlardan en yaygın kullanılanı ve asıl bilmemiz gereken split() yöntemidir. split() kelimeleri soldan sağa doğru okuyarak\n",
    "onları ayırır. rsplit() ise sağdan sola doğru okuyarak ayırır. Ancak pratikte bu pek işlevsel olmadığı için rsplit() \n",
    "programcılar tarafından hiç kullanılmaz dersek yeridir. </p>"
   ]
  },
  {
   "cell_type": "code",
   "execution_count": null,
   "metadata": {},
   "outputs": [],
   "source": [
    "cümle = (\"Python programlama dili Guido van Rossum tarafından oluşturulmuştur.\")\n",
    "print(cümle.split())"
   ]
  },
  {
   "cell_type": "markdown",
   "metadata": {},
   "source": [
    "<p>Eğer bir cümleyi belli bir karakterden başlayarak ayırmak istersek, bunun için istediğimiz karakteri split() metodunun içine\n",
    "yazarsak istediğimiz şeyi gerçekleştirebiliriz. </p>"
   ]
  },
  {
   "cell_type": "code",
   "execution_count": null,
   "metadata": {},
   "outputs": [],
   "source": [
    "cümle = (\"Python, 2019 yılının en popüler programlama dilidir.\")\n",
    "print(cümle.split(\"a\"))"
   ]
  },
  {
   "cell_type": "code",
   "execution_count": null,
   "metadata": {},
   "outputs": [],
   "source": [
    "cümle = (\"Python programlama dili Guido van Rossum tarafından oluşturulmuştur.\")\n",
    "print(cümle.split(\" \", 4))"
   ]
  },
  {
   "cell_type": "markdown",
   "metadata": {},
   "source": [
    "<p>rsplit() ve split() arasındaki fark yukarıdaki parametre üzerinden incelenebilir. Eğer yukarıdaki parametreyi rsplit()\n",
    "ile kullanırsak Python kelimeleri ayırmaya başlayacaktır. </p>"
   ]
  },
  {
   "cell_type": "code",
   "execution_count": null,
   "metadata": {},
   "outputs": [],
   "source": [
    "cümle = (\"Python programlama dili Guido van Rossum tarafından oluşturulmuştur.\")\n",
    "print(cümle.rsplit(\" \", 4))"
   ]
  },
  {
   "cell_type": "markdown",
   "metadata": {},
   "source": [
    "# splitlines()\n",
    "\n",
    "<p>Bu yöntem bir karakter dizisini onun satırlarına göre ayırmaya yarar. </p>"
   ]
  },
  {
   "cell_type": "code",
   "execution_count": null,
   "metadata": {},
   "outputs": [],
   "source": [
    "paragraf = \"\"\"Sanayi Devrimi halkın genel refahının artmasını sağlamıştır.\n",
    "Sağlık alanına da olumlu etkisi olan devrim sayesinde sıtma,\n",
    "veba, humma gibi ölümcül hastalıklar ortadan kalkarken, uzun vadede,\n",
    "yaşam şartlarının iyileşmesi ile insan ömrü giderek uzamaya başlamıştır.\"\"\"\n",
    "print(paragraf.splitlines())"
   ]
  },
  {
   "cell_type": "code",
   "execution_count": null,
   "metadata": {},
   "outputs": [],
   "source": [
    "for i in paragraf.splitlines():\n",
    "    print(i)"
   ]
  },
  {
   "cell_type": "markdown",
   "metadata": {},
   "source": [
    "# startswith()\n",
    "\n",
    "<p>Bir karakter dizisinin hangi harfle ya da hangi karakterlerle başlayıp başlamadığını belirlemek için startswith() metodu kullanılır. </p>"
   ]
  },
  {
   "cell_type": "code",
   "execution_count": null,
   "metadata": {},
   "outputs": [],
   "source": [
    "kelime = \"programlama\"\n",
    "print(kelime.startswith(\"p\"))\n",
    "print(kelime.startswith(\"pro\"))\n",
    "print(kelime.startswith(\"PRO\"))\n"
   ]
  },
  {
   "cell_type": "code",
   "execution_count": null,
   "metadata": {},
   "outputs": [],
   "source": [
    "cümle = \"Java, nesneye yönelik bir programlama dilidir.\"\n",
    "print(cümle.startswith(\"Java, nesneye\"))\n",
    "print(cümle.startswith(\"Python, nesneye\"))"
   ]
  },
  {
   "cell_type": "markdown",
   "metadata": {},
   "source": [
    "# strip() / lstrip() / rstrip()\n",
    "\n",
    "<p>Zaman zaman bir karakter dizisinin başındaki, sonundaki veya hem başındaki hem de sonundaki karakterlerden kurtulmamız gerekebilir. Bunun için, istediğimiz durumun uygunluğuna göre strip, rstrip veya lstrip kullanılabilir. </p>\n",
    "<br>\n",
    "<p>Yukarıdaki yöntemlerden strip(), belirlediğimiz karakter dizisine iki yönden işlem uygular ve istediğimiz karakteri ya da karakter gruplarını hem baştan hem de sondan olmak üzere kaldırır. </p>"
   ]
  },
  {
   "cell_type": "code",
   "execution_count": null,
   "metadata": {
    "scrolled": true
   },
   "outputs": [],
   "source": [
    "kelime = \" araba \"\n",
    "print(kelime)\n",
    "print(kelime.strip())"
   ]
  },
  {
   "cell_type": "markdown",
   "metadata": {},
   "source": [
    "<p>Eğer strip() içerisinde bir parametre kullanmazsak, belirttiğimiz karakter dizisinin sağındaki ve solundaki boşlukları kaldırır. Ancak bir parametre belirtirsek karakter dizisinin sağında ve solunda parametredeki o karakteri arar, eğer bulursa her ikisini birden kaldırır. Sadece birini bulursa onu kaldırır. </p>"
   ]
  },
  {
   "cell_type": "code",
   "execution_count": null,
   "metadata": {},
   "outputs": [],
   "source": [
    "kelime = \"araba\"\n",
    "print(kelime.strip(\"a\"))\n",
    "print(kelime.lstrip(\"a\"))\n",
    "print(kelime.rstrip(\"a\"))"
   ]
  },
  {
   "cell_type": "markdown",
   "metadata": {},
   "source": [
    "# swapcase()\n",
    "\n",
    "swapcase() metodu büyük harfleri küçük harfe, küçük harfleri ise büyük harflere çevirir."
   ]
  },
  {
   "cell_type": "code",
   "execution_count": null,
   "metadata": {},
   "outputs": [],
   "source": [
    "karakter_dizisi1 = \"KaRIşıK hArFLEr\"\n",
    "karakter_dizisi2 = \"küçük harfler\"\n",
    "karakter_dizisi3 = \"BÜYÜK HARFLER\"\n",
    "\n",
    "print(karakter_dizisi1.swapcase())\n",
    "print(karakter_dizisi2.swapcase())\n",
    "print(karakter_dizisi3.swapcase())"
   ]
  },
  {
   "cell_type": "markdown",
   "metadata": {},
   "source": [
    "# title()\n",
    "\n",
    "<p>\n",
    "title() metodu ile capitalize() birbirlerine benzer. Aralarındaki fark, capitalize() metodu karakter dizisinin sadece ilk harfini büyütürken title() metodu karakter dizisindeki her kelimenin ilk harfini büyütür. </p>"
   ]
  },
  {
   "cell_type": "code",
   "execution_count": null,
   "metadata": {},
   "outputs": [],
   "source": [
    "kelime = \"otomobil\"\n",
    "print(kelime.title())\n",
    "print(kelime.capitalize())"
   ]
  },
  {
   "cell_type": "code",
   "execution_count": null,
   "metadata": {},
   "outputs": [],
   "source": [
    "cümle = \"otomobil markaları: audi, mercedes, bmw, fiat\"\n",
    "print(cümle.title())\n",
    "print(cümle.capitalize())"
   ]
  },
  {
   "cell_type": "markdown",
   "metadata": {},
   "source": [
    "# upper() / lower()\n",
    "\n",
    "<p>Bir karakter dizisinin tamamen büyük ya da tamamen küçük harflerden oluşmasını istersek upper() veya lower() metotlarını kullanırız. </p>"
   ]
  },
  {
   "cell_type": "code",
   "execution_count": null,
   "metadata": {},
   "outputs": [],
   "source": [
    "karakter_dizisi = \"büYÜk ve KÜÇüK haRFLERden OLuşAN karışıK BİR cÜMle\"\n",
    "print(karakter_dizisi.lower())"
   ]
  },
  {
   "cell_type": "code",
   "execution_count": null,
   "metadata": {},
   "outputs": [],
   "source": [
    "büyük_harfler = \"BÜYÜK HARFLER İÇEREN CÜMLE\"\n",
    "print(büyük_harfler.lower())"
   ]
  },
  {
   "cell_type": "code",
   "execution_count": null,
   "metadata": {},
   "outputs": [],
   "source": [
    "küçük_harfler = \"küçük harfler içeren cümle\"\n",
    "print(küçük_harfler.upper())"
   ]
  },
  {
   "cell_type": "markdown",
   "metadata": {},
   "source": [
    "# enumerate()\n",
    "\n",
    "Bir karakter dizisindeki karakterleri numaralandırmak istersek bu fonksiyonu kullanabiliriz. "
   ]
  },
  {
   "cell_type": "code",
   "execution_count": null,
   "metadata": {},
   "outputs": [],
   "source": [
    "print(enumerate(\"Karakter dizisi\"))"
   ]
  },
  {
   "cell_type": "code",
   "execution_count": null,
   "metadata": {},
   "outputs": [],
   "source": [
    "print(list(enumerate(\"Karakter dizisi\")))"
   ]
  },
  {
   "cell_type": "markdown",
   "metadata": {},
   "source": [
    "# SORULAR\n",
    "\n",
    "<p>1) Üç harften oluşan bir karakter dizisi tanımlayın ve bu karakter dizisinin ögelerine indeksler yardımıyla baştan ve tersen olmak üzere iki ayrı şekilde ulaşıp ekrana yazdırın. </p>"
   ]
  },
  {
   "cell_type": "code",
   "execution_count": null,
   "metadata": {},
   "outputs": [],
   "source": [
    "s = \"abc\"\n",
    "print(s[0])\n",
    "print(s[1])\n",
    "print(s[2])\n",
    "\n",
    "print()\n",
    "\n",
    "print(s[-1])\n",
    "print(s[-2])\n",
    "print(s[-3])"
   ]
  },
  {
   "cell_type": "markdown",
   "metadata": {},
   "source": [
    "<p>2) Kısa bir karakter dizisi tanımlayın ve bu karakter dizisinin boyutunu ekrana bastırın. Ardından bu boyutu aşan bir sayı belirleyin ve karakter dizisinin bu sayıya göre indeksini ekrana bastırmayı deneyin. Oluşacak \"IndexError\" hatası yerine kendiniz yeni bir uyarı mesajı yazın."
   ]
  },
  {
   "cell_type": "code",
   "execution_count": null,
   "metadata": {},
   "outputs": [],
   "source": [
    "s = \"abcde\"\n",
    "print(len(s))\n",
    "\n",
    "try:\n",
    "    print(s[10])\n",
    "except IndexError:\n",
    "    print(\"İndeks aşma hatası yapıldı\")"
   ]
  },
  {
   "cell_type": "markdown",
   "metadata": {},
   "source": [
    "<p>3) Aşağıdaki değişkenin ilk 10 karakterini döngü kullanmadan ekrana bastırın. </p>\n",
    "s = \"Karakterler önemli değişkenlerdir.\""
   ]
  },
  {
   "cell_type": "code",
   "execution_count": null,
   "metadata": {},
   "outputs": [],
   "source": [
    "s = \"Karakterler önemli değişkenlerdir.\"\n",
    "print(s[:10])"
   ]
  },
  {
   "cell_type": "markdown",
   "metadata": {},
   "source": [
    "<p>4) Aşağıdaki paragrafta geçen kelimelerden en uzun olanı bulunuz ve görüntüleyiniz.</p>\n",
    "\n",
    "paragraf = \"\"\"Python'un son derece kolay okunabilir olması düşünülmüştür. Bu yüzden örneğin küme parantezleri yerine girintileme işlemi kullanılır. Hatta bazı durumlarda girintileme işlemine dahi gerek kalmadan kodun ilgili bölümü tek satırda yazılabilir. Böylece Python, program kodunuzu en az çaba ile ve hızlıca yazmanıza imkân tanır. Sade sözdizimi ile diğer programlama dillerinden üstündür.\"\"\""
   ]
  },
  {
   "cell_type": "code",
   "execution_count": null,
   "metadata": {},
   "outputs": [],
   "source": [
    "paragraf = \"\"\"Python'un son derece kolay okunabilir olması düşünülmüştür. Bu yüzden örneğin küme parantezleri yerine girintileme işlemi kullanılır. Hatta bazı durumlarda girintileme işlemine dahi gerek kalmadan kodun ilgili bölümü tek satırda yazılabilir. Böylece Python, program kodunuzu en az çaba ile ve hızlıca yazmanıza imkân tanır. Sade sözdizimi ile diğer programlama dillerinden üstündür.\"\"\"\n",
    "print(len(paragraf.split()))\n",
    "print(type(paragraf.split()))\n",
    "liste = paragraf.split()\n",
    "print(max(liste, key = len)) "
   ]
  },
  {
   "cell_type": "markdown",
   "metadata": {},
   "source": [
    "<p>5) Aşağıdaki cümlelerin ilk harflerini büyük harf haline getiriniz. </p>\n",
    "cümleler = \"küresel ısınmanın etkileri giderek artıyor. bunu azaltmak için ivedi şekilde önlemler alınmalı. akside halde çok geç olabilir.\""
   ]
  },
  {
   "cell_type": "code",
   "execution_count": null,
   "metadata": {},
   "outputs": [],
   "source": [
    "cümleler = \"küresel ısınmanın etkileri giderek artıyor. bunu azaltmak için ivedi şekilde önlemler alınmalı. akside halde çok geç olabilir.\"\n",
    "liste = cümleler.split(\". \")\n",
    "print(liste)\n",
    "for i in range(len(liste)):\n",
    "    if i == len(liste) - 1:\n",
    "        print(liste[i].capitalize(), end = \"\")\n",
    "    else:\n",
    "        print(liste[i].capitalize(), end = \". \")"
   ]
  },
  {
   "cell_type": "markdown",
   "metadata": {},
   "source": [
    "<p>6) Aşağıdaki listede beş kişinin cep telefonu numaraları bulunmakta, ancak alan kodları (+90) yer almamaktadır. Bu numaralara alan kodu ekleyip listeyi yeniden oluşturunuz. </p>\n",
    "\n",
    "numaralar = [\"500 27\", \"501 35\", \"502 80\", \"502 95\", \"502 98\"]"
   ]
  },
  {
   "cell_type": "code",
   "execution_count": null,
   "metadata": {},
   "outputs": [],
   "source": [
    "numaralar = [\"500 27\", \"501 35\", \"502 80\", \"502 95\", \"502 98\"]\n",
    "for i in range(len(numaralar)):\n",
    "    numaralar[i] = (\"+90 {}\".format(numaralar[i])) \n",
    "    \n",
    "print(numaralar)"
   ]
  },
  {
   "cell_type": "markdown",
   "metadata": {},
   "source": [
    "<p>7) Aşağıdaki şiirdeki dizelerin ilk harflerini büyük harfe çeviriniz. </p>\n",
    "<p>şiir = \"\"\"açılmış sarmaşık gülleri <br>\n",
    "kokularıyla baygın <br>\n",
    "en görkemli saatinde yıldız alacasının <br>\n",
    "gizli bir yılan gibi yuvalanmış <br>\n",
    "içimde keder <br>\n",
    "uzak bir telefonda ağlayan <br>\n",
    "yağmurlu genç kadın\"\"\" </p>"
   ]
  },
  {
   "cell_type": "code",
   "execution_count": null,
   "metadata": {},
   "outputs": [],
   "source": [
    "şiir = \"\"\"açılmış sarmaşık gülleri\n",
    "kokularıyla baygın\n",
    "en görkemli saatinde yıldız alacasının\n",
    "gizli bir yılan gibi yuvalanmış\n",
    "içimde keder\n",
    "uzak bir telefonda ağlayan\n",
    "yağmurlu genç kadın\"\"\"\n",
    "\n",
    "şiir = şiir.splitlines()\n",
    "for i in range(len(şiir)):\n",
    "    şiir[i] = şiir[i].capitalize()\n",
    "print(şiir)"
   ]
  },
  {
   "cell_type": "markdown",
   "metadata": {},
   "source": [
    "<p>8) Aşağıdaki listedeki dosya uzantılarından .py uzantılı elemanları seçip ekrana bastırın. </p>\n",
    "<p>dosyalar = [\"veri1.dat\", \"veri2.dat\", \"model1.py\", \"tablolar.xlsx\", \"program.cpp\", \"model2.py\"] </p>"
   ]
  },
  {
   "cell_type": "code",
   "execution_count": null,
   "metadata": {},
   "outputs": [],
   "source": [
    "dosyalar = [\"veri1.dat\", \"veri2.dat\", \"model1.py\", \"tablolar.xlsx\", \"program.cpp\", \"model2.py\"]\n",
    "\n",
    "for i in range(len(dosyalar)):\n",
    "    if dosyalar[i].endswith(\".py\"):\n",
    "        print(dosyalar[i])"
   ]
  },
  {
   "cell_type": "markdown",
   "metadata": {},
   "source": [
    "<p>9) Aşağıdaki cümlede \"programlama\" kelimesinin hangi indekste başladığını bulunuz. </p> \n",
    "<p>cümle = \"Bilgisayarın donanıma nasıl davranacağını anlatan, bilgisayara yön veren komutlar, kelimeler, aritmetik işlemlerdir.Diğer bir tanım verecek olursak programlama, bilgisayar programlarının yazılması, test edilmesi ve bakımının yapılması sürecine verilen isimdir.\" </p>"
   ]
  },
  {
   "cell_type": "code",
   "execution_count": null,
   "metadata": {
    "scrolled": true
   },
   "outputs": [],
   "source": [
    "cümle = \"Bilgisayarın donanıma nasıl davranacağını anlatan, bilgisayara yön veren komutlar, kelimeler, aritmetik işlemlerdir.Diğer bir tanım verecek olursak programlama, bilgisayar programlarının yazılması, test edilmesi ve bakımının yapılması sürecine verilen isimdir.\"\n",
    "print(cümle.find(\"programlama\"))"
   ]
  },
  {
   "cell_type": "markdown",
   "metadata": {},
   "source": [
    "<p> 10) Bir karakter dizisi giriniz ve girdiğiniz karakter dizisinde hangi karakterden kaç tane olduğunu bulunuz. </p>"
   ]
  },
  {
   "cell_type": "code",
   "execution_count": null,
   "metadata": {},
   "outputs": [],
   "source": [
    "s = input(\"Karakter Dizisi: \")\n",
    "sözlük = {}\n",
    "for i in s:\n",
    "    ana_değer = sözlük.keys()\n",
    "    if i in ana_değer:\n",
    "        sözlük[i] += 1\n",
    "    else:\n",
    "        sözlük[i] = 1\n",
    "print(sözlük)"
   ]
  },
  {
   "cell_type": "markdown",
   "metadata": {},
   "source": [
    "<p> 11) Dolar, Euro ya da Sterlin türünde bir değeri klavyeden giriniz (10 Dolar, 1000 Euro vb.) ve ardından Dolar yazısı yerine $, Euro yerine €, Sterlin yerine £ işaretini getirin ve sonucu ekrana bastırın. </p>"
   ]
  },
  {
   "cell_type": "code",
   "execution_count": null,
   "metadata": {},
   "outputs": [],
   "source": [
    "para = input(\"Değer: \")\n",
    "if \"Dolar\" in para:\n",
    "    para = para.replace(\"Dolar\", \"$\")\n",
    "    print(para)\n",
    "if \"Sterlin\" in para:\n",
    "    para = para.replace(\"Sterlin\", \"£\")\n",
    "    print(para)\n",
    "if \"Euro\" in para:\n",
    "    para = para.replace(\"Euro\", \"€\")\n",
    "    print(para)"
   ]
  },
  {
   "cell_type": "markdown",
   "metadata": {},
   "source": [
    "<p> 12) Cümle görevi görecek bir karakter dizisi oluşturun ve bu karakter dizisindeki tamamen büyük ve tamamen küçük harflerin sayısı gösterin. </p>"
   ]
  },
  {
   "cell_type": "code",
   "execution_count": null,
   "metadata": {},
   "outputs": [],
   "source": [
    "cümle = \"DSÖ, Covid-19 pandemisinden sonra oluşabilecek yeni risklere karşı BM, AB ve daha birçok ülke ve kuruluşu uyardı.\"\n",
    "cümle = cümle.split()\n",
    "büyük = 0\n",
    "küçük = 0\n",
    "for i in cümle:\n",
    "    if i.islower():\n",
    "        küçük += 1\n",
    "    if i.isupper():\n",
    "        büyük += 1\n",
    "print(\"Tamamen büyük harflerden oluşan değerlerin sayısı:\", büyük)\n",
    "print(\"Tamamen küçük harflerden oluşan değerlerin sayısı:\", küçük)"
   ]
  },
  {
   "cell_type": "markdown",
   "metadata": {},
   "source": [
    "<p> 13) Kullanıcıdan bir şifre oluşturmasını isteyin. Şifre oluşturma koşulları arasında şifrenin en az bir sayı, en az bir büyük harf ve en az bir özel karakter (?, !, #, $, noktalama işaretleri vb.) içermemesi durumunda kullanıcıya geçerli bir şifre girmesi gerektiğini belirtip işlemi tekrarlayın. </p> "
   ]
  },
  {
   "cell_type": "code",
   "execution_count": null,
   "metadata": {},
   "outputs": [],
   "source": [
    "şifre = input(\"Kullanmak istediğiniz şifreyi girin: \")\n",
    "karakterler = [\"~\", \"`\", \"!\", \"@\", \"#\", \"$\", \"%\", \"^\", \"&\", \"*\", \"(\", \")\", \"-\", \"_\", \"+\", \"=\", \"{\", \"}\",\n",
    "             \"[\", \"]\", \"|\", \"\\\\\", \"/\", \":\", \";\", '\"', \"'\", \"<\", \">\", \",\", \".\", \"?\"]\n",
    "değer = True\n",
    "\n",
    "if not any(i.isdigit() for i in şifre):                  \n",
    "    print(\"Şifreniz en az bir rakam içermelidir!\")\n",
    "    değer = False\n",
    "if not any(i.isupper() for i in şifre):\n",
    "    print(\"Şifreniz en az bir büyük harf içermelidir!\")\n",
    "    değer = False\n",
    "if not any(i.islower() for i in şifre):\n",
    "    print(\"Şifreniz en az bir küçük harf içermelidir!\")\n",
    "    değer = False\n",
    "if not any(i in karakterler for i in şifre):\n",
    "    print(\"Şifreniz en az bir özel karakter içermelidir!\")\n",
    "    değer = False\n",
    "if değer == True:\n",
    "    print(\"Şifreniz kurallara uygundur!\")"
   ]
  },
  {
   "cell_type": "markdown",
   "metadata": {},
   "source": [
    "<p> 14) Aşağıdaki şiirin her bir dizisi ayrı bir satırda görüntülenecek şekilde, karakter dizisi metotlarından birini de kullanarak ekrana bastırın. </p>\n",
    "\n",
    "<pre>\n",
    "Ne hasta bekler sabahı\n",
    "Ne taze ölüyü mezar\n",
    "Ne de şeytan bir günahı\n",
    "Seni beklediğim kadar\n",
    "<pre>"
   ]
  },
  {
   "cell_type": "code",
   "execution_count": null,
   "metadata": {},
   "outputs": [],
   "source": [
    "şiir = \"\"\"\n",
    "Ne hasta bekler sabahı\n",
    "Ne taze ölüyü mezar\n",
    "Ne de şeytan bir günahı\n",
    "Seni beklediğim kadar\n",
    "\"\"\"\n",
    "\n",
    "for dize in şiir.splitlines():\n",
    "    print(dize)"
   ]
  },
  {
   "cell_type": "markdown",
   "metadata": {},
   "source": [
    "<p> 15) Bir karakter dizisinin anagramı, aynı karakterleri içeren başka bir karakter dizisidir. Yalnızca karakterlerin sırası farklı olabilir. Bu kurallara uygun olarak iki karakter dizisi değeri giriniz ve bunların anagram olup olmadığını kontrol ediniz.</p>"
   ]
  },
  {
   "cell_type": "code",
   "execution_count": null,
   "metadata": {},
   "outputs": [],
   "source": [
    "s1 = input(\"İlk karakter dizisi: \")                     \n",
    "s2 = input(\"İkinci karakter dizisi: \")                               \n",
    "s1 = sorted(s1)\n",
    "s2 = sorted(s2)                      \n",
    "#print(s1)\n",
    "#print(s2)\n",
    "\n",
    "u1 = len(s1)\n",
    "u2 = len(s2)\n",
    "\n",
    "if u1 != u2:\n",
    "    print(\"Uzunlukları eşit olmayan kelimeler anagram olamaz!\")\n",
    "\n",
    "\n",
    "    \n",
    "for i in range(u1):\n",
    "    if s1[i] != s2[i]:\n",
    "        print(\"Sayı anagram değil!\")\n",
    "    else:\n",
    "        print(\"Sayı anagram\")"
   ]
  },
  {
   "cell_type": "markdown",
   "metadata": {},
   "source": [
    "<p> 16) Bir siteye üyelikte girilecek isimlerin veri tabanında tamamen büyük harflerden oluşacak şekilde kaydedileceğini varsayalım. Buna göre kullanıcıdan isim ve soyismini isteyen bir kod yazın ve ardından kullanıcının girdiği ismin bütün harflerini büyük harfe çevirin. </p>"
   ]
  },
  {
   "cell_type": "code",
   "execution_count": null,
   "metadata": {},
   "outputs": [],
   "source": [
    "ad_soyad = input(\"Adınızı ve soyadınızı girin: \")\n",
    "ad_soyad = ad_soyad.upper()\n",
    "print(ad_soyad)"
   ]
  },
  {
   "cell_type": "markdown",
   "metadata": {},
   "source": [
    "<p> 17) Aşağıdaki listelerde bir çeşitli film ve dizi karakterlerinin isim ve soyisimlerinin yer aldığı listeler bulunmaktadır. Bu listelerdeki isim ve soyisimleri birleştirip, isim ve soyisimlerin birlikte görüntüleneceği yeni bir liste oluşturunuz. Ardından bu listenin elemanlarını bir karakter dizisi metodu yardımıyla ekrana bastırınız.</p>\n",
    "\n",
    "<p>isim = [\"Jack\", \"Tony\", \"Arwen\", \"Lois\", \"Robert\"] </p>\n",
    "<p>soy_isim = [\"Sparrow\", \"Stark\", \"Undomiel\", \"Lane\", \"Baratheon\"] </p>  "
   ]
  },
  {
   "cell_type": "code",
   "execution_count": null,
   "metadata": {},
   "outputs": [],
   "source": [
    "isim = [\"Jack\", \"Tony\", \"Arwen\", \"Lois\", \"Robert\"]\n",
    "soy_isim = [\"Sparrow\", \"Stark\", \"Undomiel\", \"Lane\", \"Baratheon\"]\n",
    "isim_soyisim = []\n",
    "\n",
    "for i in range(len(isim)):\n",
    "    isim_soyisim.append(\"{} {}\".format(isim[i], soy_isim[i]))\n",
    "    \n",
    "print(isim_soyisim)\n",
    "print(\", \".join(isim_soyisim))"
   ]
  },
  {
   "cell_type": "markdown",
   "metadata": {},
   "source": [
    "<p> 18) Verilen cümlenin başındaki ve sonundaki özel sembolleri çıkarın. Ardından Türkçe özgü ünlü harfler olan İ, Ö, Ü, ü, ö harflerini sırasıyla I, O, U, u ve o ile değiştirin.</p> \n",
    "\n",
    "<p> cümle = \" <<Öz, İl, ülke, Ülkü, göl>> \" </p>  "
   ]
  },
  {
   "cell_type": "code",
   "execution_count": null,
   "metadata": {},
   "outputs": [],
   "source": [
    "cümle = \"<<Öz, İl, ülke, Ülkü, göl>>\"\n",
    "cümle = cümle.lstrip(\"<<\")\n",
    "cümle = cümle.rstrip(\">>\")\n",
    "tr_karakter = \"İÖÜüö\"\n",
    "en_karakter = \"IOUuo\"\n",
    "for i in cümle:\n",
    "    if i in tr_karakter:\n",
    "        ind = tr_karakter.index(i) ind = 1                 \n",
    "        cümle = cümle.replace(i, en_karakter[ind])\n",
    "print(cümle)           "
   ]
  },
  {
   "cell_type": "markdown",
   "metadata": {},
   "source": [
    "<p> 19) Verilen değişkeni cümlelere ayırınız ve her değişkende kaç adet \"veri\" kelimesi geçtiğini bulunuz. Daha sonrasında ise paragrafta toplam kaç adet veri kelimesi geçtiğini gösteriniz. </p>"
   ]
  },
  {
   "cell_type": "code",
   "execution_count": null,
   "metadata": {},
   "outputs": [],
   "source": [
    "cümleler = \"\"\"Akıllı cihazların ve sosyal medya platformlarının artması küresel ölçekte veri hacminin\n",
    "büyümesine olanak sağladı. Böylece büyük verinin saklanması ve işlenmesi için pek çok yeni teknoloji\n",
    "geliştirildi. Büyük veri araçlarının gelişimi veri bilimine ve veri mühendisliğine duyulan önemi de arttırdı.\n",
    "Yapılan çeşitli araştırmalar bu iki alanın öneminin artmaya devam edeceğini gösteriyor\"\"\"\n",
    "\n",
    "cümleler = cümleler.split(\".\")\n",
    "toplam = 0\n",
    "for i in range(len(cümleler)):\n",
    "    print(\"{}. cümlede toplam {} tane veri kelimesi vardır.\".format(i+1, cümleler[i].count(\"veri\")))\n",
    "    toplam += cümleler[i].count(\"veri\")\n",
    "print(f\"Toplamda {toplam} tane veri kelimesi kullanılmıştır.\")"
   ]
  }
 ],
 "metadata": {
  "kernelspec": {
   "display_name": "Python 3",
   "language": "python",
   "name": "python3"
  },
  "language_info": {
   "codemirror_mode": {
    "name": "ipython",
    "version": 3
   },
   "file_extension": ".py",
   "mimetype": "text/x-python",
   "name": "python",
   "nbconvert_exporter": "python",
   "pygments_lexer": "ipython3",
   "version": "3.8.5"
  }
 },
 "nbformat": 4,
 "nbformat_minor": 4
}
