{
 "cells": [
  {
   "cell_type": "markdown",
   "metadata": {},
   "source": [
    "# LİSTELER\n",
    "\n",
    "<p>Python'daki bir diğer veri tipi de listelerdir. Listeler aşağıdaki yapıyla tanımlanır.</p>\n",
    "<p>değişken_adı = [öğeler]</p>\n",
    "<p>Yukarıdaki şekilde tanımlanan unsurlar Python'da artık liste veri tipinde tanımlanır. Bunu da aşağıdaki şekilde kontrol edebiliriz.</p>\n"
   ]
  },
  {
   "cell_type": "code",
   "execution_count": null,
   "metadata": {},
   "outputs": [],
   "source": [
    "liste = []\n",
    "print(type(liste))"
   ]
  },
  {
   "cell_type": "markdown",
   "metadata": {},
   "source": [
    "<p>Python'da bir listenin içine sadece tek bir veri tipine ait elemanlar eklenebileceği gibi başka veri tiplerine ait elemanlar da eklenebilir.</p>\n"
   ]
  },
  {
   "cell_type": "code",
   "execution_count": null,
   "metadata": {},
   "outputs": [],
   "source": [
    "liste = [1, 4, 10, -10, -4, 22, -4]\n",
    "print(liste)"
   ]
  },
  {
   "cell_type": "code",
   "execution_count": null,
   "metadata": {},
   "outputs": [],
   "source": [
    "liste = [\"a\", \"b\", 20, 15, 109.5, {1, 2, 3}, 20]\n",
    "print(liste)"
   ]
  },
  {
   "cell_type": "markdown",
   "metadata": {},
   "source": [
    "<p>İç içe listeler oluşturmak da mümkündür.</p>"
   ]
  },
  {
   "cell_type": "code",
   "execution_count": null,
   "metadata": {},
   "outputs": [],
   "source": [
    "liste = [1, 2, [\"a\", \"b\"], 100, 200]\n",
    "print(liste)"
   ]
  },
  {
   "cell_type": "markdown",
   "metadata": {},
   "source": [
    "Listelerin öğelerine erişmek için aşağıdaki yolu kullanmak gerekir <br>\n",
    "değişken_adı[eleman_sırası] <br>\n"
   ]
  },
  {
   "cell_type": "code",
   "execution_count": null,
   "metadata": {},
   "outputs": [],
   "source": [
    "liste = [\"a\", \"b\", 20, 15, 109.5, {1, 2, 3}, 20]\n",
    "print(liste[0])\n",
    "print(liste[1])"
   ]
  },
  {
   "cell_type": "markdown",
   "metadata": {},
   "source": [
    "<p>\n",
    "İç içe listeler oluşturduğumuzda içteki listenin öğelerine aşağıdaki örnekte gösterildiği gibi ulaşabiliriz.</p>"
   ]
  },
  {
   "cell_type": "code",
   "execution_count": null,
   "metadata": {
    "scrolled": true
   },
   "outputs": [],
   "source": [
    "liste = [1, 2, 4, 5, [\"a\", \"b\", \"c\", \"d\"], 14, 11]\n",
    "print(liste[4][0])\n",
    "print(liste[4][1])\n",
    "print(liste[4][2])\n",
    "print(liste[4][3])"
   ]
  },
  {
   "cell_type": "markdown",
   "metadata": {},
   "source": [
    "<p>Listelerde öğeler değiştirilebilir veya yeni öğeler eklenebilir.</p>"
   ]
  },
  {
   "cell_type": "code",
   "execution_count": null,
   "metadata": {},
   "outputs": [],
   "source": [
    "liste1 = [1, 2, 3, 4, 5]\n",
    "liste2 = [6, 7, 8]\n",
    "\n",
    "liste1[0] = 0\n",
    "liste2[2] = 100\n",
    "\n",
    "liste3 = liste1 + liste2\n",
    "\n",
    "print(liste1)\n",
    "print(liste2)\n",
    "print(liste3)\n",
    "\n",
    "liste4 = [\"abc\", \"efd\"]\n",
    "liste4 = liste4 + [\"klm\"]\n",
    "\n",
    "print(liste4)"
   ]
  },
  {
   "cell_type": "markdown",
   "metadata": {},
   "source": [
    "<p>Listeler iterable veri tipleridir. Liste öğelerine iterasyon ile ulaşılabilir. </p>"
   ]
  },
  {
   "cell_type": "code",
   "execution_count": null,
   "metadata": {},
   "outputs": [],
   "source": [
    "liste = [1, 2, 3, 4, \"a\", \"b\", 5, 6, \"c\"]\n",
    "for öğe in liste:\n",
    "    print(öğe)"
   ]
  },
  {
   "cell_type": "markdown",
   "metadata": {},
   "source": [
    "<p>Liste öğelerine ulaşmak için farklı yollar da vardır. </p>"
   ]
  },
  {
   "cell_type": "code",
   "execution_count": null,
   "metadata": {},
   "outputs": [],
   "source": [
    "liste = [1, 2, 3, 4, \"a\", \"b\", 5, 6, \"c\"]\n",
    "print(liste[-1])\n",
    "print(liste[::-1])\n",
    "print(liste[1:4])\n",
    "print(liste[0:6:2])\n",
    "print(liste[::2])\n",
    "print(liste[::])\n",
    "print(liste[:])\n"
   ]
  },
  {
   "cell_type": "markdown",
   "metadata": {},
   "source": [
    "<p>Listelerden öğe de çıkarılabilir. </p>"
   ]
  },
  {
   "cell_type": "code",
   "execution_count": null,
   "metadata": {},
   "outputs": [],
   "source": [
    "liste = [1, 2, 3, 4, 5]\n",
    "del liste[0:2]\n",
    "print(liste)"
   ]
  },
  {
   "cell_type": "markdown",
   "metadata": {},
   "source": [
    "# Liste Üreteçleri ve list() Fonksiyonu\n",
    "\n",
    "<p>Liste oluşturmak için Python bize list() fonksiyonunu ve liste üreteçlerini sunmaktadır. </p>"
   ]
  },
  {
   "cell_type": "code",
   "execution_count": null,
   "metadata": {},
   "outputs": [],
   "source": [
    "karakter_dizisi = \"Bu bir karakter dizisidir\"\n",
    "\n",
    "liste1 = list(karakter_dizisi)\n",
    "\n",
    "print(liste1)\n",
    "\n",
    "liste2 = [i for i in range(10)]\n",
    "print(liste2)\n",
    "\n",
    "x = []\n",
    "for i in range(10):\n",
    "    x.append(i)\n",
    "    \n",
    "print(x)\n",
    "\n",
    "liste3 = [i for i in karakter_dizisi]\n",
    "print(liste3)"
   ]
  },
  {
   "cell_type": "markdown",
   "metadata": {},
   "source": [
    "# DEMETLER\n",
    "\n",
    "<p>Python'daki bir diğer veri tipi de demetlerdir. Aşağıdaki şekilde tanımlanırlar </p>"
   ]
  },
  {
   "cell_type": "code",
   "execution_count": null,
   "metadata": {},
   "outputs": [],
   "source": [
    "demet1 = (1, 2, 3)\n",
    "demet2 = (\"a\", \"b\")\n",
    "print(type(demet1))\n",
    "print(type(demet2))\n",
    "\n",
    "değişken = (1)\n",
    "print(type(değişken))\n",
    "\n",
    "değişken = (1,)\n",
    "print(type(değişken))"
   ]
  },
  {
   "cell_type": "markdown",
   "metadata": {},
   "source": [
    "<p>Demetlerin öğelerine de listelerde olduğu gibi ulaşılabilir. </p>"
   ]
  },
  {
   "cell_type": "code",
   "execution_count": null,
   "metadata": {},
   "outputs": [],
   "source": [
    "çiçekler = (\"gül\", \"karanfil\", \"papatya\", \"nergis\")\n",
    "for i in range(0,4):\n",
    "    print(çiçekler[i])\n",
    "    \n",
    "print()    \n",
    "print(çiçekler[-1])\n",
    "print(çiçekler[:])\n",
    "print(çiçekler[::-1])"
   ]
  },
  {
   "cell_type": "markdown",
   "metadata": {},
   "source": [
    "<p>Görüldüğü üzere demetler yapı olarak listelere benziyor. Ancak aralarında temel bir fark var. Listeler değiştirilebilir (mutable) iken demetler değiştirilemez (immutable) durumdadır. O yüzden aşağıdaki gibi bir kod hata verecektir. </p>"
   ]
  },
  {
   "cell_type": "code",
   "execution_count": null,
   "metadata": {},
   "outputs": [],
   "source": [
    "demet = (1,2)\n",
    "demet[0] = 3"
   ]
  },
  {
   "cell_type": "code",
   "execution_count": null,
   "metadata": {},
   "outputs": [],
   "source": [
    "demet = (1, 2, 3, 4, 5)\n",
    "print(demet[4])"
   ]
  },
  {
   "cell_type": "markdown",
   "metadata": {},
   "source": [
    "# Liste Metotları\n",
    "\n",
    "<p>Liste oluştururken işimizi kolaylaştıran çeşitli yöntemler vardır. Bunlara liste metotları denir. </p>\n",
    "\n",
    "# append():\n",
    "\n",
    "append() fonksiyonu bir listenin sonuna öğe eklememize olanak sağlar."
   ]
  },
  {
   "cell_type": "code",
   "execution_count": null,
   "metadata": {},
   "outputs": [],
   "source": [
    "liste = []\n",
    "for i in range(5):\n",
    "    liste.append(i)\n",
    "print(liste)\n",
    "liste.append(5)\n",
    "print(liste)"
   ]
  },
  {
   "cell_type": "markdown",
   "metadata": {},
   "source": [
    "# extend():\n",
    "\n",
    "<p>İşlev olarak append() ile benzerlik gösterir. Ancak append() bir listeye başka bir liste eklemede sorun oluştururken extend() bu sorunu gidermede bize yardımcı olur. </p>"
   ]
  },
  {
   "cell_type": "code",
   "execution_count": null,
   "metadata": {},
   "outputs": [],
   "source": [
    "arabalar = [\"BMW\", \"Volkswagen\", \"Fiat\"]\n",
    "model = [\"X5\", \"Passat\", \"Egea\"]\n",
    "\n",
    "arabalar.append(model)\n",
    "print(arabalar)\n",
    "\n",
    "arabalar.extend(model)\n",
    "\n",
    "print(arabalar)\n",
    "\n",
    "del arabalar[3]\n",
    "\n",
    "print(arabalar)"
   ]
  },
  {
   "cell_type": "markdown",
   "metadata": {},
   "source": [
    "# insert():\n",
    "\n",
    "<p>\n",
    "Listenin kendi belirlediğimiz konumuna yeni bir öğe ya da öğeler ekler.</p>"
   ]
  },
  {
   "cell_type": "code",
   "execution_count": null,
   "metadata": {},
   "outputs": [],
   "source": [
    "notebooks = [\"asus\", \"lenovo\", \"toshiba\", \"hp\"]\n",
    "notebooks.insert(2, \"samsung\")\n",
    "print(notebooks)"
   ]
  },
  {
   "cell_type": "markdown",
   "metadata": {},
   "source": [
    "# remove()\n",
    "\n",
    "<p>\n",
    "Listeki herhangi bir öğeyi listeden çıkarmamızı sağlar. </p>"
   ]
  },
  {
   "cell_type": "code",
   "execution_count": null,
   "metadata": {},
   "outputs": [],
   "source": [
    "notebooks = [\"asus\", \"lenovo\", \"toshiba\", \"hp\", \"samsung\", \"asus\"]\n",
    "notebooks.remove(\"asus\") \n",
    "print(notebooks)"
   ]
  },
  {
   "cell_type": "markdown",
   "metadata": {},
   "source": [
    "# reverse()\n",
    "\n",
    "<p>Listenin elemanlarını ters çevirmeyi sağlar. </p>"
   ]
  },
  {
   "cell_type": "code",
   "execution_count": null,
   "metadata": {},
   "outputs": [],
   "source": [
    "notebooks = [\"asus\", \"lenovo\", \"toshiba\", \"hp\", \"samsung\"]\n",
    "notebooks.reverse()\n",
    "print(notebooks)"
   ]
  },
  {
   "cell_type": "markdown",
   "metadata": {},
   "source": [
    "# pop():\n",
    "\n",
    "<p>Listeden bir metodu silmemizi sağlar. Elemanın indeksini girmediğimiz takdirde son elemanı silecektir. </p>\n"
   ]
  },
  {
   "cell_type": "code",
   "execution_count": null,
   "metadata": {},
   "outputs": [],
   "source": [
    "notebooks = [\"asus\", \"lenovo\", \"toshiba\", \"hp\", \"samsung\"]\n",
    "notebooks.pop(3)\n",
    "print(notebooks)"
   ]
  },
  {
   "cell_type": "markdown",
   "metadata": {},
   "source": [
    "# sort():\n",
    "\n",
    "<p>Liste içindeki unsurları sayısal ya da alfabetik olarak sıralamaya yarar. </p>"
   ]
  },
  {
   "cell_type": "code",
   "execution_count": null,
   "metadata": {},
   "outputs": [],
   "source": [
    "sayılar = [3, 2, 20, 10, 100, -5, 200]\n",
    "harfler = [\"d\", \"y\", \"a\", \"t\", \"g\", \"b\"] \n",
    "\n",
    "sayılar.sort()\n",
    "harfler.sort()\n",
    "\n",
    "print(sayılar)\n",
    "print(harfler)"
   ]
  },
  {
   "cell_type": "markdown",
   "metadata": {},
   "source": [
    "# index():\n",
    "\n",
    "<p>Listedeki bir öğenin kaçıncı indekste olduğunu gösterir. </p>"
   ]
  },
  {
   "cell_type": "code",
   "execution_count": null,
   "metadata": {
    "scrolled": true
   },
   "outputs": [],
   "source": [
    "notebooks = [\"asus\", \"lenovo\", \"toshiba\", \"hp\", \"samsung\"]\n",
    "print(notebooks.index(\"hp\"))"
   ]
  },
  {
   "cell_type": "markdown",
   "metadata": {},
   "source": [
    "# count():\n",
    "\n",
    "<p>Bir listede bir öğeden kaç tane olduğunu hesaplar. </p>"
   ]
  },
  {
   "cell_type": "code",
   "execution_count": null,
   "metadata": {},
   "outputs": [],
   "source": [
    "notlar = [70, 100, 100, 80, 80, 65, 50, 90, 80, 85]\n",
    "print(notlar.count(80))\n",
    "print(notlar.count(100))"
   ]
  },
  {
   "cell_type": "markdown",
   "metadata": {},
   "source": [
    "# Demet Metotları\n",
    "\n",
    "<p> Demetlerdeki metot sayısı listelere göre oldukça azdır. Temel olarak iki fonksiyon ön plana çıkar. </p>"
   ]
  },
  {
   "cell_type": "markdown",
   "metadata": {},
   "source": [
    "# index():\n",
    "\n",
    "<p>Bir öğenin demet içerisinde hangi pozisyonda olduğunu söyler. </p>"
   ]
  },
  {
   "cell_type": "code",
   "execution_count": null,
   "metadata": {},
   "outputs": [],
   "source": [
    "eşyalar = (\"bilgisayar\", \"telefon\", \"kitap\", \"kalem\", \"cetvel\", \"kitap\")\n",
    "print(eşyalar.index(\"kitap\"))"
   ]
  },
  {
   "cell_type": "markdown",
   "metadata": {},
   "source": [
    "# count():\n",
    "\n",
    "<p>Listelerdeki kullanımı gibi, bir demet içerisinde belirli bir elemandan kaç tane olduğunu gösterir. </p>"
   ]
  },
  {
   "cell_type": "code",
   "execution_count": null,
   "metadata": {},
   "outputs": [],
   "source": [
    "notlar = (70, 100, 100, 80, 80, 65, 50, 90, 80, 85)\n",
    "print(notlar.count(80))\n",
    "print(notlar.count(100))"
   ]
  },
  {
   "cell_type": "markdown",
   "metadata": {},
   "source": [
    "# SORULAR"
   ]
  },
  {
   "cell_type": "markdown",
   "metadata": {},
   "source": [
    "<p>1) Aşağıdaki liste değişkenlerinin elemanlarını ekrana bastırın. </p>\n",
    "l1 = [1, 3, 5, 7, 9] <br>\n",
    "l2 = [\"a\", \"e\", \"ı\", \"i\"]"
   ]
  },
  {
   "cell_type": "code",
   "execution_count": null,
   "metadata": {},
   "outputs": [],
   "source": [
    "l1 = [1, 3, 5, 7, 9]\n",
    "l2 = [\"a\", \"e\", \"ı\", \"i\"]\n",
    "\n",
    "for i in l1:\n",
    "    print(i)\n",
    "    \n",
    "print()\n",
    "\n",
    "for j in l2:\n",
    "    print(j)"
   ]
  },
  {
   "cell_type": "markdown",
   "metadata": {},
   "source": [
    "<p>2) Aşağıdaki demet değişkenlerinin elemanlarını ekrana bastırın. <br>\n",
    "d1 = (1, 2, 3, 4, 5) <br>\n",
    "d2 = (6, 7, 8, 9, 10)</p>"
   ]
  },
  {
   "cell_type": "code",
   "execution_count": null,
   "metadata": {},
   "outputs": [],
   "source": [
    "d1 = (1, 2, 3, 4, 5) \n",
    "d2 = (6, 7, 8, 9, 10)\n",
    "\n",
    "\n",
    "for i in d1:\n",
    "    print(i)\n",
    "    \n",
    "print()\n",
    "\n",
    "for j in d2:\n",
    "    print(j)"
   ]
  },
  {
   "cell_type": "markdown",
   "metadata": {},
   "source": [
    "<p>3)Boş bir liste tanımlayıp içine rastgele öğeler ekleyin. </p>"
   ]
  },
  {
   "cell_type": "code",
   "execution_count": null,
   "metadata": {},
   "outputs": [],
   "source": [
    "liste = []\n",
    "öge = input(\"Bir öge girin(çıkmak için 'stop' yazınız): \")\n",
    "\n",
    "while öge != 'stop':\n",
    "    liste.append(öge)\n",
    "    öge = input(\"Bir öge girin(çıkmak için 'stop' yazınız): \")\n",
    "    \n",
    "print(liste)"
   ]
  },
  {
   "cell_type": "markdown",
   "metadata": {},
   "source": [
    "<p>4)Liste üreteçlerini kullanarak tek ve çift rakamlardan oluşan iki liste oluşturunuz. </p>"
   ]
  },
  {
   "cell_type": "code",
   "execution_count": null,
   "metadata": {
    "scrolled": true
   },
   "outputs": [],
   "source": [
    "tek = [i for i in range(1, 10, 2)]\n",
    "çift = [i for i in range(0, 10, 2)]\n",
    "\n",
    "print(tek)\n",
    "print(çift)"
   ]
  },
  {
   "cell_type": "markdown",
   "metadata": {},
   "source": [
    "<p>5)Tek ögeli bir demet tipi değişken tanımlamaya çalışınız ve tanımladığınız değişkenin doğru olup olmadığını kontrol ediniz. </p>"
   ]
  },
  {
   "cell_type": "code",
   "execution_count": null,
   "metadata": {},
   "outputs": [],
   "source": [
    "demet1 = (\"a\",)\n",
    "demet2 = (\"a\")\n",
    "\n",
    "if type(demet1) == type(tuple()):\n",
    "    print(type(demet1))\n",
    "    print(\"Doğru işlem\")\n",
    "else:\n",
    "    print(type(demet1))\n",
    "    print(\"Yanlış işlem\")\n",
    "\n",
    "if type(demet2) == type(tuple()):\n",
    "    print(type(demet2))\n",
    "    print(\"Doğru işlem\")\n",
    "else:\n",
    "    print(type(demet2))\n",
    "    print(\"Yanlış işlem\")"
   ]
  },
  {
   "cell_type": "markdown",
   "metadata": {},
   "source": [
    "<p>6)Araba markaları ve modelleri ile ilgili, elemanlarını ekrandan gireceğiniz iç içe bir liste değişkeni oluşturunuz. </p>"
   ]
  },
  {
   "cell_type": "code",
   "execution_count": null,
   "metadata": {},
   "outputs": [],
   "source": [
    "arabalar = []\n",
    "markalar = []\n",
    "modeller = []\n",
    "eleman_sayısı = int(input(\"Kaç eleman gireceksiniz: \"))\n",
    "\n",
    "for i in range(eleman_sayısı):\n",
    "    marka = input(\"Marka: \")\n",
    "    model = input(\"Model: \")\n",
    "    markalar.append(marka)\n",
    "    modeller.append(model)\n",
    "    \n",
    "arabalar.append(markalar)\n",
    "arabalar.append(modeller)\n",
    "\n",
    "print(arabalar)"
   ]
  },
  {
   "cell_type": "markdown",
   "metadata": {},
   "source": [
    "<p>7)Bir tanesi tamamen karakter dizisi, diğeri tamamen tam sayı veri tipli elemanlardan oluşan iki liste tanımlayınız. Daha sonra bu listeleri iç içe listeler oluşturmayacak biçimde birleştiriniz. </p>"
   ]
  },
  {
   "cell_type": "code",
   "execution_count": null,
   "metadata": {},
   "outputs": [],
   "source": [
    "l1 = [\"a\", \"b\", \"c\"]\n",
    "l2 = [1, 2, 3]\n",
    "\n",
    "l1.extend(l2)\n",
    "print(l1)"
   ]
  },
  {
   "cell_type": "markdown",
   "metadata": {},
   "source": [
    "<p>8)Bir üniversite için veri tabanı bilgilerini düzenleyeceğimiz bir program yazacağımızı varsayalım. Bizden istenen yapıya göre veri tabanına kaydedilecek bilgiler arasında Öğrencinin adı-soyadı, numarası ve seçtiği ders yer alacak. Bu girilen bilgileri iç içe liste oluşturacak şekilde bir program yazın. Daha sonra bilgileri sırasıyla ad-soyad ve ders ismi için alfabetik olarak, numaralar için ise küçükten büyüğe ilerleyecek şekilde düzenleyin ve ekrana bastırın. </p> "
   ]
  },
  {
   "cell_type": "code",
   "execution_count": null,
   "metadata": {},
   "outputs": [],
   "source": [
    "veri = []\n",
    "ad_soyad = []\n",
    "numara = []\n",
    "ders = []\n",
    "mevcut = int(input(\"Mevcut: \"))\n",
    "\n",
    "for i in range(mevcut):\n",
    "    öa = input(\"Öğrencinin adı-soyad: \")\n",
    "    num = int(input(\"Öğrencinin numarası: \"))\n",
    "    d = input(\"Seçilen ders: \")\n",
    "    ad_soyad.append(öa)\n",
    "    numara.append(num)\n",
    "    ders.append(d)\n",
    "    \n",
    "veri = [ad_soyad, numara, ders]\n",
    "print(\"Düzensiz Liste: \", veri)\n",
    "\n",
    "for i in range(len(veri)):\n",
    "    veri[i].sort()\n",
    "    \n",
    "print(\"Düzenli liste\", veri)"
   ]
  },
  {
   "cell_type": "markdown",
   "metadata": {},
   "source": [
    "<p>9)Aşağıda verilmiş sayılardan oluşan listeye istediğiniz sayıda ve eklediğiniz her eleman başa gelecek şekilde yeni değerler ilave ilave edin. Daha sonra sayıları küçükten büyüğe sıralayın. Sonrasında ise en sondaki elemanı çıkarıp değerleri ekrana bastırın. </p> \n",
    "<p>liste = [4, 2, 20, 13, 7] </p>"
   ]
  },
  {
   "cell_type": "code",
   "execution_count": null,
   "metadata": {},
   "outputs": [],
   "source": [
    "liste = [4, 2, 20, 13, 7]\n",
    "for i in range(3):\n",
    "    liste.insert(0, i)\n",
    "    \n",
    "liste.sort()\n",
    "print(liste)\n",
    "\n",
    "liste.remove(max(liste)) \n",
    "print(liste)"
   ]
  },
  {
   "cell_type": "markdown",
   "metadata": {},
   "source": [
    "<p>10)Klavyeden bir karakter dizisi girip girdiğiniz karakter dizisini demet veri tipine dönüştürün. Daha sonra demetin içinde kaç tane ünlü harf bulunduğunu bulun ve ilk ünlü harfin kullanıldığı indeksi ekrana bastırın. </p>"
   ]
  },
  {
   "cell_type": "code",
   "execution_count": null,
   "metadata": {},
   "outputs": [],
   "source": [
    "ünlüler = \"aeıioöuüAEIİOÖUÜ\"\n",
    "kelime = input(\"Bir kelime girin: \")\n",
    "kelime = tuple(kelime)\n",
    "print(kelime)\n",
    "toplam = 0\n",
    "\n",
    "for i in kelime:\n",
    "    if i in ünlüler:\n",
    "        toplam += 1\n",
    "        \n",
    "print(\"Toplam ünlü:\", toplam)\n",
    "\n",
    "for i in range(len(kelime)):\n",
    "    if kelime[i] in ünlüler:\n",
    "        print(\"İlk ünlünün kullanıldığı index:\", kelime.index(kelime[i]))\n",
    "        break"
   ]
  }
 ],
 "metadata": {
  "kernelspec": {
   "display_name": "Python 3",
   "language": "python",
   "name": "python3"
  },
  "language_info": {
   "codemirror_mode": {
    "name": "ipython",
    "version": 3
   },
   "file_extension": ".py",
   "mimetype": "text/x-python",
   "name": "python",
   "nbconvert_exporter": "python",
   "pygments_lexer": "ipython3",
   "version": "3.8.5"
  }
 },
 "nbformat": 4,
 "nbformat_minor": 4
}
