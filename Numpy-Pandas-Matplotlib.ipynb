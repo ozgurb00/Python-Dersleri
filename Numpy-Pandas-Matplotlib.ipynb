{
 "cells": [
  {
   "cell_type": "markdown",
   "metadata": {},
   "source": [
    "# NUMPY \n",
    "\n",
    "<p>\"Numerical Python\" kelimelerinin kısaltılmışı olan Numpy, genel olarak lineer cebir ve mantıksal işlemlerin kullanıldığı her alanda bize işlemlerde kolaylık sağlayacak araçlar sunan bir kütüphanedir. Python'un standart kütüphaneleri arasında olmadığı için bunları ya işletim sisteminin türüne göre manuel olarak yüklemek gerekir ya da Anaconda Distribution gibi dağıtımları indirip oradaki hazır kütüphaneleri kullanmak gerekir. </p>\n",
    "\n",
    "<br>\n",
    "\n",
    "<p> Kurulum işlemi tamamlandıktan sonra Numpy Python'daki standart kütüphaneler gibi import edilir. Ancak yazılışı uzun sayıldığı için yazılışını kısaltmak amacıyla \"as np\" şeklinde kullanılması tavsiye edilir."
   ]
  },
  {
   "cell_type": "code",
   "execution_count": null,
   "metadata": {},
   "outputs": [],
   "source": [
    "import numpy as np"
   ]
  },
  {
   "cell_type": "markdown",
   "metadata": {},
   "source": [
    "<p>Numpy'daki en temel veri tipi <i>\"array\"</i> denilen yapılardır. Array'ler aşağıdaki gibi tanımlanır. </p>"
   ]
  },
  {
   "cell_type": "code",
   "execution_count": null,
   "metadata": {},
   "outputs": [],
   "source": [
    "array_ornek = np.array([1, 2, 3, 4]) \n",
    "print(array_ornek)"
   ]
  },
  {
   "cell_type": "markdown",
   "metadata": {},
   "source": [
    "<p>Yukarıdaki örnekte görüldüğü gibi array'ler yapı olarak listelere benzemektedir. Ancak gerek yapısal veri tipi gerekse de kullanım yeri olarak listelerden farklılık gösterebilirler. O yüzden pek çok ileri düzey işlemde (vektörel işlemler, matriks veya dataframe tanımlama, boyutlar arası hesaplamalar vb.) listeler yerine array'ler kullanılır. Aşağıdaki örnek array'lerin Python'da hangi isimle tanımlandığını göstermektedir. </p>"
   ]
  },
  {
   "cell_type": "code",
   "execution_count": null,
   "metadata": {},
   "outputs": [],
   "source": [
    "array_ornek = np.array([1, 2, 3, 4])\n",
    "print(type(array_ornek))"
   ]
  },
  {
   "cell_type": "markdown",
   "metadata": {},
   "source": [
    "<p>Array'ler tek boyutlu olabileceği gibi çok boyutlu da olabilir. Yukarıdaki örnekteki array tek boyutluyken aşağıdaki örneklerde çok boyutlu array'ler tanımlanmıştır. Burada dikkat edilmesi gereken hususlardan biri çok boyutlu array tanımlarken tek parantez değil boyut sayısına göre birden fazla parantez kullanmamız gerektiğidir. </p>"
   ]
  },
  {
   "cell_type": "code",
   "execution_count": null,
   "metadata": {},
   "outputs": [],
   "source": [
    "arr1 = np.array([[1, 2], [3, 4], [5, 6]])\n",
    "arr2 = np.array([[1, 3, 5], [7, 9, 11]])\n",
    "\n",
    "print(arr1)\n",
    "print(arr2)"
   ]
  },
  {
   "cell_type": "markdown",
   "metadata": {},
   "source": [
    "<p>Array'lerin elemanlarına ulaşmak istersek tek yapmamız gereken istediğimiz elemanın indeks numarasını aşağıdaki yapıda yazmaktır. Ancak indeksleme işlemi tek boyutlu array'ler ile çok boyutlu array'lerde farklılık göstermektedir.</p>"
   ]
  },
  {
   "cell_type": "code",
   "execution_count": null,
   "metadata": {},
   "outputs": [],
   "source": [
    "arr1 = np.array([1, 2, 3, 4, 5, 6, 7, 8, 9, 10])\n",
    "arr2 = np.array([[1, 2, 3], [4, 5, 6]])\n",
    "print(arr1)\n",
    "print(arr2)\n",
    "\n",
    "print(arr1[0])\n",
    "print(arr2[0])\n",
    "print(arr2[0][1])"
   ]
  },
  {
   "cell_type": "markdown",
   "metadata": {},
   "source": [
    "<p>Arrayler'deki bir diğer özellik de array içerisindeki unsurların veri tipleridir. Mesela bir array'i tam sayı veri tipinde görmek isterken başka bir array'i noktalı sayı şeklinde görmek isteyebiliriz. Bu tarz özel ayarlamaları <i>\"dtype</i> parametresi ile yapabiliriz. </p>"
   ]
  },
  {
   "cell_type": "code",
   "execution_count": null,
   "metadata": {},
   "outputs": [],
   "source": [
    "arr1 = np.array([1, 2, 3, 4.7], dtype = float)\n",
    "arr2 = np.array([1.2, 2.1, 3.4, 4.7], dtype = int)\n",
    "print(arr1)\n",
    "print(arr2) "
   ]
  },
  {
   "cell_type": "markdown",
   "metadata": {},
   "source": [
    "# Numpy Özellikleri:\n",
    "\n",
    "<p>Numpy kütüphanesinin içerisinde hesaplamalarımızda bize kolaylık sağlayan pek çok özellik bulunur. </p>\n",
    "\n",
    "# ndarray.shape:\n",
    "\n",
    "<p>Oluşturduğumuz array'in boyutunu gösterir. </p>"
   ]
  },
  {
   "cell_type": "code",
   "execution_count": null,
   "metadata": {},
   "outputs": [],
   "source": [
    "arr1 = np.array([[1, 2, 3, 4], [1, 2, 3, 4]])\n",
    "print(arr1.shape)\n",
    "print(arr1)"
   ]
  },
  {
   "cell_type": "code",
   "execution_count": null,
   "metadata": {},
   "outputs": [],
   "source": [
    "arr2 = np.array([1, 2, 3])\n",
    "print(arr2.shape)\n",
    "print(arr2)"
   ]
  },
  {
   "cell_type": "code",
   "execution_count": null,
   "metadata": {},
   "outputs": [],
   "source": [
    "arr3 = np.array([[1, 2, 3], [4, 5, 6], [7, 8, 9]])\n",
    "print(arr3.shape)\n",
    "print(arr3)"
   ]
  },
  {
   "cell_type": "code",
   "execution_count": null,
   "metadata": {},
   "outputs": [],
   "source": [
    "arr4 = np.array([[[1, 2], [3, 4], [5, 6]]])\n",
    "print(arr4.shape)\n",
    "print(arr4)"
   ]
  },
  {
   "cell_type": "markdown",
   "metadata": {},
   "source": [
    "# ndarray.reshape\n",
    "\n",
    "<p>Array'in boyutunu yeniden şekillendirmek istediğimizde reshape komutunu kullanırız. </p>"
   ]
  },
  {
   "cell_type": "code",
   "execution_count": null,
   "metadata": {},
   "outputs": [],
   "source": [
    "arr = np.array([1, 2, 3, 4, 5, 6, 7, 8, 9, 10])\n",
    "print(arr.reshape(2, 5))\n",
    "print(arr.reshape(1, 2, 5))"
   ]
  },
  {
   "cell_type": "markdown",
   "metadata": {},
   "source": [
    "# ndarray.ndim\n",
    "\n",
    "<p>Bir array'in boyut sayısını görmek istediğimizde ndim komutunu kullanırız. </p>"
   ]
  },
  {
   "cell_type": "code",
   "execution_count": null,
   "metadata": {},
   "outputs": [],
   "source": [
    "arr1 = np.array([[1, 2, 3, 4], [1, 2, 3, 4]])\n",
    "arr2 = np.array([1, 2, 3])\n",
    "arr3 = np.array([[1, 2, 3], [4, 5, 6], [7, 8, 9]])\n",
    "arr4 = np.array([[[1, 2], [3, 4], [5, 6]]])\n",
    "\n",
    "print(arr1.ndim)\n",
    "print(arr2.ndim)\n",
    "print(arr3.ndim)\n",
    "print(arr4.ndim)"
   ]
  },
  {
   "cell_type": "markdown",
   "metadata": {},
   "source": [
    "# numpy.arange:\n",
    "\n",
    "<p>Belirli bir aralıkta sayısal değerler oluşturmak istediğimiz zaman arange komutunu kullanabiliriz. Bu komut yapı itibaryla Python'un gömülü fonksiyonlarından olan range() fonksiyonuna benzer. Ancak farklı olarak liste değil array veri tipli bir değer döndürür. </p>"
   ]
  },
  {
   "cell_type": "code",
   "execution_count": null,
   "metadata": {},
   "outputs": [],
   "source": [
    "n = np.arange(10)\n",
    "print(n)\n",
    "print(type(n))"
   ]
  },
  {
   "cell_type": "code",
   "execution_count": null,
   "metadata": {},
   "outputs": [],
   "source": [
    "n = np.arange(1, 5)\n",
    "print(n)"
   ]
  },
  {
   "cell_type": "markdown",
   "metadata": {},
   "source": [
    "<p>Eğer oluşturacağımız array'de sayıların kaçar kaçar artacağını farklı bir parametre kullanarak belirleyebiliriz. </p>"
   ]
  },
  {
   "cell_type": "code",
   "execution_count": null,
   "metadata": {},
   "outputs": [],
   "source": [
    "n = np.arange(10, 21, 2)\n",
    "print(n)"
   ]
  },
  {
   "cell_type": "code",
   "execution_count": null,
   "metadata": {},
   "outputs": [],
   "source": [
    "n = np.arange(2, 1, -0.1)\n",
    "print(n)"
   ]
  },
  {
   "cell_type": "markdown",
   "metadata": {},
   "source": [
    "# numpy.zeros:\n",
    "\n",
    "<p>Tamamen sıfırlardan oluşan bir array oluşturur. </p>"
   ]
  },
  {
   "cell_type": "code",
   "execution_count": null,
   "metadata": {},
   "outputs": [],
   "source": [
    "a = np.zeros(10)\n",
    "print(a)"
   ]
  },
  {
   "cell_type": "code",
   "execution_count": null,
   "metadata": {},
   "outputs": [],
   "source": [
    "a = np.zeros(10).reshape(2, 5)\n",
    "print(a)"
   ]
  },
  {
   "cell_type": "code",
   "execution_count": null,
   "metadata": {},
   "outputs": [],
   "source": [
    "a = np.zeros((2, 2))\n",
    "print(a)"
   ]
  },
  {
   "cell_type": "markdown",
   "metadata": {},
   "source": [
    "# numpy.ones:\n",
    "<p>Tamamen birlerden oluşan bir array oluşturur. </p>"
   ]
  },
  {
   "cell_type": "code",
   "execution_count": null,
   "metadata": {},
   "outputs": [],
   "source": [
    "a = np.ones(10)\n",
    "print(a)"
   ]
  },
  {
   "cell_type": "code",
   "execution_count": null,
   "metadata": {},
   "outputs": [],
   "source": [
    "a = np.ones(10).reshape(5, 2)\n",
    "print(a)"
   ]
  },
  {
   "cell_type": "code",
   "execution_count": null,
   "metadata": {},
   "outputs": [],
   "source": [
    "a = np.ones((3, 3))\n",
    "print(a)"
   ]
  },
  {
   "cell_type": "markdown",
   "metadata": {},
   "source": [
    "# numpy.asarray:\n",
    "<p>Başka veri tiplerini array'a dönüştürürken kullanılır. </p>"
   ]
  },
  {
   "cell_type": "code",
   "execution_count": null,
   "metadata": {},
   "outputs": [],
   "source": [
    "liste = [1, 2, 3, 4, 5]\n",
    "arr = np.asarray(liste)\n",
    "print(arr)\n",
    "print(type(arr))"
   ]
  },
  {
   "cell_type": "code",
   "execution_count": null,
   "metadata": {},
   "outputs": [],
   "source": [
    "demet = (1, 2, 3, 4, 5)\n",
    "arr2 = np.asarray(demet)\n",
    "print(arr2)\n",
    "print(type(arr2))"
   ]
  },
  {
   "cell_type": "markdown",
   "metadata": {},
   "source": [
    "# numpy.linspace:\n",
    "\n",
    "<p>Belli bir aralıkta belli bir sayıda düzenli artan değerler elde etmemizi sağlar. </p>"
   ]
  },
  {
   "cell_type": "code",
   "execution_count": null,
   "metadata": {},
   "outputs": [],
   "source": [
    "a = np.linspace(0, 1, 11)\n",
    "print(a)"
   ]
  },
  {
   "cell_type": "code",
   "execution_count": null,
   "metadata": {},
   "outputs": [],
   "source": [
    "a = np.linspace(10, 100, 5)\n",
    "print(a)"
   ]
  },
  {
   "cell_type": "code",
   "execution_count": null,
   "metadata": {},
   "outputs": [],
   "source": [
    "a = np.linspace(0, 5, 6)\n",
    "print(a)"
   ]
  },
  {
   "cell_type": "markdown",
   "metadata": {},
   "source": [
    "# numpy.eye:\n",
    "\n",
    "<p>Belli bir boyutta, köşegen matrisi tamamen birlerden oluşan bir matris, yani birim matris oluşturur. </p>"
   ]
  },
  {
   "cell_type": "code",
   "execution_count": null,
   "metadata": {},
   "outputs": [],
   "source": [
    "a1 = np.eye(3)\n",
    "print(a1)\n",
    "a2  = np.eye(10)\n",
    "print(a2)"
   ]
  },
  {
   "cell_type": "markdown",
   "metadata": {},
   "source": [
    "# Array'lerde Elemanlara Ulaşma ve Elemanlar ile İşlemler Yapma:\n",
    "\n",
    "<p>Konunun başında array'lerin elemanlarına listelerde veya Python'daki diğer benzer veri tiplerinde olduğu gibi elemanlarının konumları vasıtasıyla ulaşabileceğimizden bahsetmiştik. Elbette uygulayabileceğimiz işlemler bununla sınırlı değil. İndeksleri kullanarak daha ileri işlemler yapmak da mümkün. </p>"
   ]
  },
  {
   "cell_type": "code",
   "execution_count": null,
   "metadata": {
    "scrolled": true
   },
   "outputs": [],
   "source": [
    "arr = np.arange(5)\n",
    "print(arr)\n",
    "print(arr[2:4])\n",
    "print(arr[1:5])\n",
    "print(arr[::])\n",
    "print(arr[::-1])\n",
    "print(arr[:4:2])\n",
    "print(arr[1:])"
   ]
  },
  {
   "cell_type": "markdown",
   "metadata": {},
   "source": [
    "<p>Yukarıdaki işlemlerden de anlaşılabileceği gibi array'lerdeki elemanlara listelerde olduğu gibi ulaşabiliriyoruz. Bu açıdan eğer elemanları değiştirmek veya daha farklı işlemler yapmak istersek gene listelerden alışık olduğumuz yöntemleri kullanabilriz. </p>"
   ]
  },
  {
   "cell_type": "code",
   "execution_count": null,
   "metadata": {},
   "outputs": [],
   "source": [
    "arr = np.linspace(0, 100, 11)\n",
    "print(arr)\n",
    "arr[0] = 1\n",
    "print(arr)\n",
    "arr[0:2] = 100\n",
    "print(arr)\n",
    "print(arr > 1000)\n",
    "print(arr < 50)\n",
    "arr[arr > 70] = 0\n",
    "print(arr)"
   ]
  },
  {
   "cell_type": "markdown",
   "metadata": {},
   "source": [
    "<p>Eğer array'ler çok boyutlu ise dilimleme işlemlerine de buna göre dikkat etmeliyiz. </p>"
   ]
  },
  {
   "cell_type": "code",
   "execution_count": null,
   "metadata": {},
   "outputs": [],
   "source": [
    "arr = np.arange(1, 17).reshape(4, 4)\n",
    "print(arr)\n",
    "print(arr[:, 1])\n",
    "print(arr[:, 1:2])\n",
    "print(arr[0, :])\n",
    "print(arr[0:1, :])\n",
    "print(arr[:, 0:2]) "
   ]
  },
  {
   "cell_type": "markdown",
   "metadata": {},
   "source": [
    "# Aritmetik İşlemler:\n",
    "\n",
    "<p>Aynı boyuta sahip array'ler üzerinde temel aritmetik işlemler uygulanabilir. </p>"
   ]
  },
  {
   "cell_type": "code",
   "execution_count": null,
   "metadata": {},
   "outputs": [],
   "source": [
    "a = np.array([1, 2, 3, 4, 5])\n",
    "b = np.array([2, 2, 2, 2, 2])\n",
    "print(a + b)\n",
    "print(a - b)\n",
    "print(a * b)\n",
    "print(a / b)"
   ]
  },
  {
   "cell_type": "code",
   "execution_count": null,
   "metadata": {},
   "outputs": [],
   "source": [
    "a = np.array([[1, 2], [3, 4]])\n",
    "b = np.array([[2, 2], [2, 2]])\n",
    "print(a)\n",
    "print(b)"
   ]
  },
  {
   "cell_type": "code",
   "execution_count": null,
   "metadata": {},
   "outputs": [],
   "source": [
    "print(a + b)\n",
    "print(a - b)\n",
    "print(a * b)\n",
    "print(a / b)"
   ]
  },
  {
   "cell_type": "code",
   "execution_count": null,
   "metadata": {},
   "outputs": [],
   "source": [
    "a = np.array([[[1, 2, 3], [4, 5, 6]]])\n",
    "b = np.array([[[2, 2, 2], [2, 2, 2]]])\n",
    "print(a.shape)\n",
    "print(b.shape)"
   ]
  },
  {
   "cell_type": "code",
   "execution_count": null,
   "metadata": {
    "scrolled": true
   },
   "outputs": [],
   "source": [
    "print(a + b)\n",
    "print(a - b)\n",
    "print(a * b)\n",
    "print(a / b)"
   ]
  },
  {
   "cell_type": "markdown",
   "metadata": {},
   "source": [
    "# Broadcasting:\n",
    "\n",
    "<p>Yukarıda boyutları aynı array'ler üzerinde temel aritmetik işlemler yapabileğimizden söz ettik. Ancak farklı boyuttaki array'lerle işlem yapmamız da mümkündür. Broadcasting metodu, bize bu imkanı sağlayan yöntemlerden biridir. Bu metot sayesinde farklı boyuttaki array'ler arasında temel aritmetik işlemler yapılabilir. </p>"
   ]
  },
  {
   "cell_type": "code",
   "execution_count": null,
   "metadata": {},
   "outputs": [],
   "source": [
    "arr1 = np.array([1, 2, 3])\n",
    "arr2 = np.array([2])\n",
    "print(arr1.shape)\n",
    "print(arr2.shape)"
   ]
  },
  {
   "cell_type": "code",
   "execution_count": null,
   "metadata": {},
   "outputs": [],
   "source": [
    "print(arr1 + arr2)\n",
    "print(arr1 - arr2)\n",
    "print(arr1 * arr2)\n",
    "print(arr1 / arr2)"
   ]
  },
  {
   "cell_type": "code",
   "execution_count": null,
   "metadata": {},
   "outputs": [],
   "source": [
    "arr1 = np.array([[1, 2], [3, 4]])\n",
    "arr2 = np.array([[[2], [5]]])\n",
    "print(arr1.shape)\n",
    "print(arr2.shape)"
   ]
  },
  {
   "cell_type": "code",
   "execution_count": null,
   "metadata": {},
   "outputs": [],
   "source": [
    "print(arr1 + arr2)\n",
    "print(arr1 - arr2)\n",
    "print(arr1 * arr2)\n",
    "print(arr1 / arr2)"
   ]
  },
  {
   "cell_type": "markdown",
   "metadata": {},
   "source": [
    "<p>Yukarıdaki örneklerde farklı boyuttaki array'lerle işlem yapılabileceğini gördük. Peki bu harf farklı boyuttaki array üzerinde aritmetik işlemler yapılabieceği anlamına gelir mi? Cevap, hayır. Çünkü broadcasting metodunun da belirli kuralları vardır ve bu kurallar her farklı boyuttaki array'i kapsamaz. O yüzden aşağıda özetlenen bu kuralları iyi anlayıp broadcasting uygulayacağımız array'leri buna göre seçmemiz gerekir.</p>"
   ]
  },
  {
   "cell_type": "markdown",
   "metadata": {},
   "source": [
    "# Broadcasting Kuralları: \n",
    "\n",
    "<p>İki array üzerinde işlem yapılırken Numpy bu iki array'in boyutlarını kıyaslar. Bu kıyasa en sağdan başlar ve sola doğru devam eder. Eğer aşağıdaki şartlardan birini sağlanıyorsa işlemleri gerçekleştirir. </p>\n",
    "<p>-Boyutlardaki değerler eşit olmalı ya da </p>\n",
    "<p>-boyutlardaki değerlerden biri 1 olmalı. </p>\n",
    "<p>Eğer bu şartlar sağlanmazsa <span style=\"color:red\">ValueError: operands could not be broadcast together</span> hatasını alırız </p>"
   ]
  },
  {
   "cell_type": "code",
   "execution_count": null,
   "metadata": {},
   "outputs": [],
   "source": [
    "a = np.array([[1, 2], [3, 4], [5, 6]])\n",
    "b = np.array([[[3], [5], [7], [8]]]) #Eğer sekiz çıkarılsaydı aritmetik işlem yapılabilirdi.\n",
    "print(a.shape)\n",
    "print(b.shape) #Array'lerin boyutları uyumsuz olduğu için hata verecektir.\n",
    "print(a + b)"
   ]
  },
  {
   "cell_type": "markdown",
   "metadata": {},
   "source": [
    "# Rastgele Sayılarla Array Oluşturma:\n",
    "\n",
    "<p>Bilimsel çalışmalarda rastgele sayılara sıklıkla ihtiyaç duyulur. Bu noktada Numpy'ın çeşitli araçları yardımımıza yetişir. Bunlardan birisi veri biliminde sıklıkla kullanılan Gauss Dağılımından (Normal Dağılımdan) rastgele sayıları oluşturan randn() fonksiyonudur. Ancak bu fonksiyonu kullanmadan önce Gauss Dağılımından biraz bahsetmek gerekir.</p>"
   ]
  },
  {
   "cell_type": "markdown",
   "metadata": {},
   "source": [
    "<p>Gauss Dağılımı, ya da daha bilinen haliyle Normal Dağılım, reel değerli bir rastgele değişkene göre tanımlanmış sürekli bir olasılık dağılımıdır. Bu, dağılımın formal açıklamasıdır. Ancak daha basit bir şekilde ifade etmek gerekirse, eğer bir değerler dizisi ortalama değer etrafında sıralandığında aşağıdaki çan şeklindeki grafiği oluşturuyorsa o değerler dizisi normal dağılıma sahiptir denir.</p>\n",
    "\n",
    "<p><span style=\"color:red\">NOT:</span> Aşağıdaki kodlar normal dağılımın görselleştirilmesi amacıyla yazılmıştır. Buradaki eğitim kapsamının dışında unsurlar da barındırdığı için kodu anlamamanız herhangi bir sorun teşkil etmeyecektir. </p>"
   ]
  },
  {
   "cell_type": "code",
   "execution_count": null,
   "metadata": {},
   "outputs": [],
   "source": [
    "import numpy as np\n",
    "import matplotlib.pyplot as plt\n",
    "import scipy.stats as stats\n",
    "import math\n",
    "\n",
    "mu = 0\n",
    "var = 1\n",
    "sigma = math.sqrt(var)\n",
    "x = np.linspace(mu - 3*sigma, mu + 3*sigma, 100)\n",
    "plt.plot(x, stats.norm.pdf(x, mu, sigma))\n",
    "plt.show()"
   ]
  },
  {
   "cell_type": "markdown",
   "metadata": {},
   "source": [
    "<p>Normal dağılımdan oluşan değerler analiz işlemlerinde kolaylık sağladığı için Numpy'ın stadart normal dağılımdan (0 ortalama, 1 varyans değerlerinden oluşan normal dağılım) rastgele sayılar üretmeye yarayan randn() fonksiyonu sıklıkla kullanılır. </p>"
   ]
  },
  {
   "cell_type": "code",
   "execution_count": null,
   "metadata": {
    "scrolled": true
   },
   "outputs": [],
   "source": [
    "a = np.random.randn(10)\n",
    "print(a)"
   ]
  },
  {
   "cell_type": "markdown",
   "metadata": {},
   "source": [
    "<p>Eğer normal dağılımlı değil de belli bir aralıkta tam sayı değerler oluşturmak istersek randint() fonksiyonunu kullanabiliriz. </p>"
   ]
  },
  {
   "cell_type": "code",
   "execution_count": null,
   "metadata": {},
   "outputs": [],
   "source": [
    "a = np.random.randint(1, 10)\n",
    "print(a)"
   ]
  },
  {
   "cell_type": "code",
   "execution_count": null,
   "metadata": {},
   "outputs": [],
   "source": [
    "a = np.random.randint(1, 10, 20)\n",
    "print(a)\n",
    "print(type(a))"
   ]
  },
  {
   "cell_type": "markdown",
   "metadata": {},
   "source": [
    "<p>Yukarıdaki metotlarla oluşturulan rastgele array'ler üzerinde matematiksel analizler ve çıkarımlar yapabiliriz. Numpy bunun için de gelişmiş araçlara sahiptir. </p>"
   ]
  },
  {
   "cell_type": "code",
   "execution_count": null,
   "metadata": {},
   "outputs": [],
   "source": [
    "arr = np.random.rand(10000)\n",
    "print(arr.max())\n",
    "print(arr.min())\n",
    "print(arr.argmax())\n",
    "print(arr.argmin())\n",
    "print(np.median(arr))\n",
    "print(np.mean(arr))\n",
    "print(np.std(arr))\n",
    "print(np.var(arr))"
   ]
  },
  {
   "cell_type": "markdown",
   "metadata": {},
   "source": [
    "Numpy array manipülasyonunda kullanılan çok sayıda metot sunar. Bunların hepsini bilmek çoğunlukla mümkün değildir. Ancak bazılarına aşina olmak önemlidir"
   ]
  },
  {
   "cell_type": "markdown",
   "metadata": {},
   "source": [
    "# ravel:\n",
    "<p>ravel() fonksiyonu Numpy'daki kritik manipülasyon araçlarından birisidir. Farklı boyuttaki bir array'i tek boyutlu hale getirir. İlk bakışta basit bir işlevi varmış gibi görünse de bilhassa çeşitli makine öğrenmesi algoritmalarında oldukça işe yarar. </p>"
   ]
  },
  {
   "cell_type": "code",
   "execution_count": null,
   "metadata": {},
   "outputs": [],
   "source": [
    "arr = np.arange(16).reshape(4, 4)\n",
    "print(arr)\n",
    "x = arr[:, 0:2].ravel()\n",
    "print(x)"
   ]
  },
  {
   "cell_type": "markdown",
   "metadata": {},
   "source": [
    "# concatenate:\n",
    "\n",
    "<p>İki ya da daha fazla aynı boyutlu array'i aynı eksende birleştirmeye yarar. </p>\n",
    "<p>Not: Numpy'da satır ekseni \"axis = 0\", sütun ekseni \"axis = 1\" olarak kullanılır. </p>"
   ]
  },
  {
   "cell_type": "code",
   "execution_count": null,
   "metadata": {},
   "outputs": [],
   "source": [
    "a1 = np.array([1, 2, 3])\n",
    "a2 = np.array([4, 5, 6])\n",
    "arr = np.concatenate((a1, a2))\n",
    "print(arr)\n",
    "a1 = np.array([[1, 2, 3]])\n",
    "a2 = np.array([[4, 5, 6]])\n",
    "arr = np.concatenate((a1, a2), axis = 0)\n",
    "print(arr)\n",
    "print(np.concatenate((a1, a2)))\n",
    "print(np.concatenate((a1, a2), axis = 1))"
   ]
  },
  {
   "cell_type": "code",
   "execution_count": null,
   "metadata": {},
   "outputs": [],
   "source": [
    "a1 = np.array([[0,1], [2, 3]])\n",
    "a2 = np.array([[4, 5], [6, 7]])\n",
    "print(a1)\n",
    "print(a2)\n",
    "print(np.concatenate((a1, a2), axis = 0))\n",
    "print(np.concatenate((a1, a2), axis = 1))"
   ]
  },
  {
   "cell_type": "markdown",
   "metadata": {},
   "source": [
    "# append:\n",
    "\n",
    "<p>Mevcut bir array'e yeni array eklemek istediğimizde kullanılır. </p>"
   ]
  },
  {
   "cell_type": "code",
   "execution_count": null,
   "metadata": {},
   "outputs": [],
   "source": [
    "arr = np.array([[10, 20], [30, 40]])\n",
    "print(arr)\n",
    "arr = np.append(arr, [50, 60])\n",
    "print(arr)"
   ]
  },
  {
   "cell_type": "code",
   "execution_count": null,
   "metadata": {
    "scrolled": true
   },
   "outputs": [],
   "source": [
    "arr = np.array([[10, 20], [30, 40]])\n",
    "print(arr)\n",
    "print(np.append(arr, [[50, 60]] , axis = 0))\n",
    "print(np.append(arr, [[50, 60], [70, 80]], axis = 1))\n",
    "print(np.append(arr, [[50, 60], [70, 80]], axis = 0))"
   ]
  },
  {
   "cell_type": "markdown",
   "metadata": {},
   "source": [
    "# delete:\n",
    "\n",
    "<p>Mevcut bir array'in belli bir kısmını silmek istediğimizde kullanılır. </p>"
   ]
  },
  {
   "cell_type": "code",
   "execution_count": null,
   "metadata": {},
   "outputs": [],
   "source": [
    "arr = np.arange(1, 17)\n",
    "print(arr)\n",
    "print(np.delete(arr, 0))\n",
    "\n",
    "arr = np.arange(1, 17).reshape(4, 4)\n",
    "print(arr)\n",
    "print(np.delete(arr, 0, axis = 0))\n",
    "print(np.delete(arr, 0, axis = 1))"
   ]
  },
  {
   "cell_type": "markdown",
   "metadata": {},
   "source": [
    "# Matris Veri Tipi:\n",
    "\n",
    "<p>Numpy'ın array'ler dışındaki bir diğer önemli unsuru da matris veri tipidir. </p>"
   ]
  },
  {
   "cell_type": "code",
   "execution_count": null,
   "metadata": {},
   "outputs": [],
   "source": [
    "matris = np.matrix(\"1, 2, 3; 4, 5, 6\")\n",
    "print(matris)\n",
    "print(type(matris))"
   ]
  },
  {
   "cell_type": "code",
   "execution_count": null,
   "metadata": {
    "scrolled": true
   },
   "outputs": [],
   "source": [
    "matris = np.matrix(\"1, 2; 3, 4; 5, 6\")\n",
    "print(matris)\n",
    "print(type(matris))"
   ]
  },
  {
   "cell_type": "markdown",
   "metadata": {},
   "source": [
    "<p>Matrislerle ilgili array'lerdekine benzer fonksiyonlar kullanmak istersek Numpy'ın yanında \"matlib\" kütüphanesini de kullanmamız gerekir. </p>"
   ]
  },
  {
   "cell_type": "markdown",
   "metadata": {},
   "source": [
    "# numpy.matlib.zeros():\n",
    "\n",
    "<p>Belli bir boyutta tamamen sıfırlardan oluşan bir matris oluşturur. </p>"
   ]
  },
  {
   "cell_type": "code",
   "execution_count": null,
   "metadata": {},
   "outputs": [],
   "source": [
    "import numpy as np\n",
    "import numpy.matlib\n",
    "\n",
    "mtr = np.matlib.zeros((4, 4))\n",
    "print(mtr)"
   ]
  },
  {
   "cell_type": "markdown",
   "metadata": {},
   "source": [
    "# numpy.matlib.ones():\n",
    "\n",
    "<p>Tamamı birlerden oluşan belli bir boyutta matris oluşturur. </p>"
   ]
  },
  {
   "cell_type": "code",
   "execution_count": null,
   "metadata": {},
   "outputs": [],
   "source": [
    "mtr = np.matlib.ones((2, 2))\n",
    "print(mtr)"
   ]
  },
  {
   "cell_type": "markdown",
   "metadata": {},
   "source": [
    "# numpy.matlib.eye():\n",
    "\n",
    "<p>Belli bir boyutta köşegen değerleri bir olan matris oluşturur. </p>"
   ]
  },
  {
   "cell_type": "code",
   "execution_count": null,
   "metadata": {
    "scrolled": true
   },
   "outputs": [],
   "source": [
    "print(np.matlib.eye(n = 5, M = 4, k = 0))"
   ]
  },
  {
   "cell_type": "markdown",
   "metadata": {},
   "source": [
    "# numpy.matlib.identity():\n",
    "\n",
    "<p>Belli bir boyutta köşegen matris oluşturur. </p>"
   ]
  },
  {
   "cell_type": "code",
   "execution_count": null,
   "metadata": {},
   "outputs": [],
   "source": [
    "print(np.matlib.identity(4))"
   ]
  },
  {
   "cell_type": "markdown",
   "metadata": {},
   "source": [
    "# numpy.matlib.rand():\n",
    "\n",
    "<p>Belli bir boyutta rastgele değerlerden oluşan matris oluşturur. </p>"
   ]
  },
  {
   "cell_type": "code",
   "execution_count": null,
   "metadata": {},
   "outputs": [],
   "source": [
    "print(np.matlib.rand(3, 4))"
   ]
  },
  {
   "cell_type": "markdown",
   "metadata": {},
   "source": [
    "# numpy.transpose:\n",
    "\n",
    "<p>Bir array'in transpozunu (boyutlarının yer değiştirmesini) gerçekleştirir. </p>"
   ]
  },
  {
   "cell_type": "code",
   "execution_count": null,
   "metadata": {},
   "outputs": [],
   "source": [
    "arr = np.array([[1, 2, 3, 4, 5], [6, 7, 8, 9, 10]])\n",
    "print(arr)\n",
    "print(np.transpose(arr))"
   ]
  },
  {
   "cell_type": "markdown",
   "metadata": {},
   "source": [
    "# Lineer Cebir İşlemleri:\n",
    "\n",
    "# Determinant:"
   ]
  },
  {
   "cell_type": "code",
   "execution_count": null,
   "metadata": {},
   "outputs": [],
   "source": [
    "arr1 = np.array([[1, 2], [3, 4]])\n",
    "print(np.linalg.det(arr1))\n",
    "arr2 = np.array([[1, 2, 3], [4, 5, 6], [7, 8, 9]])\n",
    "print(arr2)\n",
    "print(np.linalg.det(arr2))"
   ]
  },
  {
   "cell_type": "markdown",
   "metadata": {},
   "source": [
    "# Bir Matrisin Tersi:"
   ]
  },
  {
   "cell_type": "code",
   "execution_count": null,
   "metadata": {},
   "outputs": [],
   "source": [
    "arr = np.array([[1,2],[3,4]]) \n",
    "print(np.linalg.inv(arr))"
   ]
  },
  {
   "cell_type": "markdown",
   "metadata": {},
   "source": [
    "# Nokta Çarpımı:"
   ]
  },
  {
   "cell_type": "code",
   "execution_count": null,
   "metadata": {},
   "outputs": [],
   "source": [
    "a1 = np.array([[1, 2,], [3, 4]])\n",
    "a2 = np.array([[5, 6], [7, 8]])\n",
    "print(np.dot(a1, a2))"
   ]
  },
  {
   "cell_type": "markdown",
   "metadata": {},
   "source": [
    "# İç Çarpım:"
   ]
  },
  {
   "cell_type": "code",
   "execution_count": null,
   "metadata": {},
   "outputs": [],
   "source": [
    "a = np.array([1,2,3])\n",
    "b = np.array([0,1,0])\n",
    "print(np.inner(a, b))"
   ]
  },
  {
   "cell_type": "markdown",
   "metadata": {},
   "source": [
    "# Matriks Çarpımı:"
   ]
  },
  {
   "cell_type": "code",
   "execution_count": null,
   "metadata": {},
   "outputs": [],
   "source": [
    "a = np.array([[1, 2], [3, 4]])\n",
    "b = np.array([[4, 1], [2, 2]])\n",
    "np.matmul(a, b)"
   ]
  },
  {
   "cell_type": "markdown",
   "metadata": {},
   "source": [
    "# PANDAS\n",
    "\n",
    "<p>Pandas, modern teknoloji alanlarında yüksek performanslı veri manipülasyonu ve analiz araçları sunan ileri seviye bir Python kütüphanesidir. Son yıllarda oldukça gelişen yapısı sayesinde pek çok uygulama alanının olmazsa olmazı haline gelmiştir. </p>"
   ]
  },
  {
   "cell_type": "markdown",
   "metadata": {},
   "source": [
    "# Series:\n",
    "\n",
    "<p>Numpy'da array'ler nasıl ki en temel veri tipiyse, Pandas'ta seriler en temel veri tipidir. Kullanım olarak kısaca tek boyutlu, homojen veri dizilerini ifade eden seriler aşağıdaki şekilde tanımlanır. </p>"
   ]
  },
  {
   "cell_type": "code",
   "execution_count": null,
   "metadata": {
    "scrolled": true
   },
   "outputs": [],
   "source": [
    "import pandas as pd\n",
    "import numpy as np\n",
    "\n",
    "seri = pd.Series([\"a\", \"b\", \"c\"])\n",
    "print(seri)\n",
    "print(type(seri))"
   ]
  },
  {
   "cell_type": "markdown",
   "metadata": {},
   "source": [
    "<p>Yukarıdaki örnekten de anlaşılabileceği gibi, bir seri oluşturmak için Series() fonksiyonu içine öncelikle liste, sözlük ya da array gibi başka bir veri tipi ekliyoruz ve ardından o veri tipini seriye dönüştürüyoruz. Dikkat edilirse seri haline dönüştürdüğümüz verinin önünde bir de indeks bilgisi yer alıyor. Eğer indeksleri ayrıca tanımlamazsak indeks numaları 0'dan başlayıp verideki eleman sayısının bir eksiğine geldiğinde bitiyor. Eğer bunun haricinde indeks değerleri oluşturmak istersek bunu Series() fonksiyonu içerisinde ayrı bir parametre olarak belirtmek durumundayız.</p>"
   ]
  },
  {
   "cell_type": "code",
   "execution_count": null,
   "metadata": {},
   "outputs": [],
   "source": [
    "seri = pd.Series([\"a\", \"b\", \"c\", \"d\"], index = [10, 20, 30, 40])\n",
    "print(seri)"
   ]
  },
  {
   "cell_type": "markdown",
   "metadata": {},
   "source": [
    "<p>Kendi tanımlayacağımız indeks numaraları nümerik değerler içerebileceği gibi başka veri tipindeki değerleri de içerebilir. </p>"
   ]
  },
  {
   "cell_type": "code",
   "execution_count": null,
   "metadata": {},
   "outputs": [],
   "source": [
    "seri = pd.Series([\"A\", \"B\", \"C\"], [\"Harf 1\", \"Harf 2\", \"Harf 3\"])\n",
    "print(seri)"
   ]
  },
  {
   "cell_type": "markdown",
   "metadata": {},
   "source": [
    "<p>Eğer seri elemanlarına ulaşmak istersek bunu liste, demet, array vb. veri tiplerindekine benzer şekilde yapabiliriz. </p>"
   ]
  },
  {
   "cell_type": "code",
   "execution_count": null,
   "metadata": {},
   "outputs": [],
   "source": [
    "seri = pd.Series([\"a\", \"b\", \"c\", \"d\"])\n",
    "print(seri[0])\n",
    "print(seri[2:4])"
   ]
  },
  {
   "cell_type": "code",
   "execution_count": null,
   "metadata": {},
   "outputs": [],
   "source": [
    "seri = pd.Series([[1, 2], [3, 4]])\n",
    "print(seri[0][0])\n",
    "print(seri[1][1])"
   ]
  },
  {
   "cell_type": "markdown",
   "metadata": {},
   "source": [
    "# DataFrames:\n",
    "\n",
    "<p>Pandas'taki bir diğer önemli veri tipi de dataframe'ler, yani veri setleridir (veya veri çerçeveleri de denilebilir). Veri setlerinin serilerden farkı bunların kolon başlıkları içermesi ve tek boyutlu olabileceği gibi asıl olarak çok boyutlu verilerle çalışmamızı sağlamasıdır. </p>"
   ]
  },
  {
   "cell_type": "code",
   "execution_count": null,
   "metadata": {},
   "outputs": [],
   "source": [
    "df = pd.DataFrame([1, 2, \"c\", \"d\", \"e\"])\n",
    "print(df)\n",
    "print(type(df))"
   ]
  },
  {
   "cell_type": "markdown",
   "metadata": {},
   "source": [
    "<p>Yukarıdaki örnekte DataFrame() fonksiyonu içerisine bir liste veri tipi yazdık ve daha sonra bunun bir veri setine dönüştüğünü type() fonksiyonu ile teyit ettik. Ayrıca veri setlerinin serilerden farkllı olarak bir kolon başlığı içerdiğini de gördük. Eğer veri setinin kolon başlıklarını kendimiz belirlemezsek başlık isimleri otomatik olarak atanır ve 0'dan başlayıp devam eder. </p>"
   ]
  },
  {
   "cell_type": "code",
   "execution_count": null,
   "metadata": {},
   "outputs": [],
   "source": [
    "df = pd.DataFrame([\"a\", \"b\", \"c\", \"d\"], columns = [\"Harfler\"])\n",
    "print(df)"
   ]
  },
  {
   "cell_type": "code",
   "execution_count": null,
   "metadata": {},
   "outputs": [],
   "source": [
    "veriler = {\"Sayılar\": [1, 2, 3], \"Harfler\": [\"a\", \"b\", \"c\"]}\n",
    "df = pd.DataFrame(veriler)\n",
    "print(df)"
   ]
  },
  {
   "cell_type": "markdown",
   "metadata": {},
   "source": [
    "<p>Serilerde olduğu gibi veri setlerinde de indeks numaralarını değiştirebiliriz. </p>"
   ]
  },
  {
   "cell_type": "code",
   "execution_count": null,
   "metadata": {},
   "outputs": [],
   "source": [
    "veriler = {\"Sayılar\": [1, 2, 3], \"Harfler\": [\"a\", \"b\", \"c\"]}\n",
    "df = pd.DataFrame(veriler, index = [\"Sıra-1\", \"Sıra-2\", \"Sıra-3\"])\n",
    "print(df)"
   ]
  },
  {
   "cell_type": "markdown",
   "metadata": {},
   "source": [
    "<p>Eğer veri setlerindeki elemanlara ulaşmak istersek burada öncelikle yapmamız gereken kolon isimlerini belirtmektedir. Bunu yaptıktan sonra spesifik olarak o kolondaki belirli elemanlara indeks numaraları vasıtasıyla ulaşabiliriz. </p>"
   ]
  },
  {
   "cell_type": "code",
   "execution_count": null,
   "metadata": {},
   "outputs": [],
   "source": [
    "veriler = {\"Sayılar\": [1, 2, 3], \"Harfler\": [\"a\", \"b\", \"c\"]}\n",
    "df = pd.DataFrame(veriler)\n",
    "print(veriler[\"Sayılar\"])\n",
    "print(veriler[\"Harfler\"])\n",
    "print(veriler[\"Sayılar\"][0])\n",
    "print(veriler[\"Harfler\"][2])"
   ]
  },
  {
   "cell_type": "markdown",
   "metadata": {},
   "source": [
    "<p>Kolonlar üzerinden sayısal işlemler de yapabiliriz. </p>"
   ]
  },
  {
   "cell_type": "code",
   "execution_count": null,
   "metadata": {},
   "outputs": [],
   "source": [
    "v1 = pd.DataFrame([5, 10, 15], columns = [\"Sayılar\"])\n",
    "v2 = pd.DataFrame([1, 1, 1], columns = [\"Sayılar\"])\n",
    "print(v1)\n",
    "print(v2)\n",
    "v = v1 - v2\n",
    "print(v)\n",
    "print(type(v))"
   ]
  },
  {
   "cell_type": "markdown",
   "metadata": {},
   "source": [
    "<p>Mevcut bir veri setine kolon ekleyebilir ya da bir kolonu çıkarabiliriz. </p>"
   ]
  },
  {
   "cell_type": "code",
   "execution_count": null,
   "metadata": {},
   "outputs": [],
   "source": [
    "v = pd.DataFrame([5, 10, 15], columns = [\"Sayılar-1\"])\n",
    "print(v)\n",
    "v[\"Sayılar-2\"] = pd.DataFrame([1, 2, 3])\n",
    "print(v)"
   ]
  },
  {
   "cell_type": "markdown",
   "metadata": {},
   "source": [
    "<p>Eğer mevcut bir kolonu çıkarmak istersek del veya pop() seçeneklerini kullanabiliriz. </p>"
   ]
  },
  {
   "cell_type": "code",
   "execution_count": null,
   "metadata": {},
   "outputs": [],
   "source": [
    "v = {\"İsimler\": [\"Ahmet\", \"Mehmet\", \"Saffet\"], \"Yaş\": [24, 30, 60]}\n",
    "df = pd.DataFrame(v)\n",
    "print(df)\n",
    "del df[\"Yaş\"]\n",
    "print(df)"
   ]
  },
  {
   "cell_type": "code",
   "execution_count": null,
   "metadata": {
    "scrolled": true
   },
   "outputs": [],
   "source": [
    "v = {\"İsimler\": [\"Ahmet\", \"Mehmet\", \"Saffet\"], \"Yaş\": [24, 30, 60]}\n",
    "df = pd.DataFrame(v)\n",
    "print(df)\n",
    "df.pop(\"İsimler\")\n",
    "print(df)"
   ]
  },
  {
   "cell_type": "markdown",
   "metadata": {},
   "source": [
    "<p>Eğer bir veri setindeki satır veya kolonların değerlerinin tamamına ulaşmak istersek Pandas bize bunun için ilave araçlar da sunmaktadır. Bu noktada iloc ve loc fonksiyonlarını kullanabiliriz. </p>"
   ]
  },
  {
   "cell_type": "code",
   "execution_count": null,
   "metadata": {
    "scrolled": false
   },
   "outputs": [],
   "source": [
    "v1 = {\"Sayılar-1\": [1, 2, 3], \"Sayılar-2\": [4, 5, 6]}\n",
    "df1 = pd.DataFrame(v1)\n",
    "print(df1, end=\"\\n\\n\")\n",
    "print(df1.iloc[0], end=\"\\n\\n\")\n",
    "print(df1.iloc[:, 1:2], end=\"\\n\\n\")"
   ]
  },
  {
   "cell_type": "code",
   "execution_count": null,
   "metadata": {},
   "outputs": [],
   "source": [
    "v2 = {\"İsimler\": [\"Ahmet\", \"Fatih\", \"Recep\"], \"Meslek\": [\"Öğretmen\", \"Avukat\", \"Tüccar\"], \"Sayılar\": [1, 2, 3]}\n",
    "df2 = pd.DataFrame(v2, index = [\"s1\", \"s2\", \"s3\"])\n",
    "print(df2, end=\"\\n\\n\")\n",
    "print(df2.loc[\"s1\"], end=\"\\n\\n\")"
   ]
  },
  {
   "cell_type": "markdown",
   "metadata": {},
   "source": [
    "<p>loc ile iloc arasında çeşitli farklar vardır. Bunlardan birisi, loc etiket tabanlıyken (label-based) iloc indeks tabanlıdır (index-based). Yani loc ile işlem yaparken seçeceğimiz satır veya sütunun adı önplandayken, iloc'ta indeks numaraları önplandadır. Ayrıca veri setimizde mantıksal operatörler yardımıyla manipülasyonlar yapmak istersek buna imkan veren loc fonksiyonunu kullanabiliriz. </p>"
   ]
  },
  {
   "cell_type": "code",
   "execution_count": null,
   "metadata": {},
   "outputs": [],
   "source": [
    "v = {\"Kişiler\": [\"A\", \"B\", \"C\", \"U\", \"V\", \"X\", \"Y\", \"Z\"], \"Boy\": [168, 185, 171, 156, 177, 182, 176, 191],\n",
    "    \"Kilo\":[59, 78, 67, 49, 65, 86, 90, 76]}\n",
    "df = pd.DataFrame(v)\n",
    "print(df)"
   ]
  },
  {
   "cell_type": "code",
   "execution_count": null,
   "metadata": {
    "scrolled": true
   },
   "outputs": [],
   "source": [
    "print(df.loc[df.Kişiler != \"A\"]) #Veri setinde A hariç diğer kişilerin bilgilerini görmemizi sağlar."
   ]
  },
  {
   "cell_type": "code",
   "execution_count": null,
   "metadata": {},
   "outputs": [],
   "source": [
    "print(df.loc[0:5]) #0-5 etiketli satırlarda bulunan bilgileri görmemizi sağlar"
   ]
  },
  {
   "cell_type": "code",
   "execution_count": null,
   "metadata": {},
   "outputs": [],
   "source": [
    "print(df.loc[(df.Boy > 170) & (df.Kilo < 85)]) #Boyu 170'ten büyük ve kiloso 85'ten küçük kişileri görmemizi sağlar."
   ]
  },
  {
   "cell_type": "markdown",
   "metadata": {},
   "source": [
    "<p>Veri setleri üstünde çalışırken işlemlerimizi ekrana bastırmak için display() fonksiyonunu da kullanabiliriz. </p>"
   ]
  },
  {
   "cell_type": "code",
   "execution_count": null,
   "metadata": {},
   "outputs": [],
   "source": [
    "display(df)"
   ]
  },
  {
   "cell_type": "code",
   "execution_count": null,
   "metadata": {},
   "outputs": [],
   "source": [
    "display(df.iloc[:, 0:2]) "
   ]
  },
  {
   "cell_type": "code",
   "execution_count": null,
   "metadata": {},
   "outputs": [],
   "source": [
    "display(df.iloc[0:5, :])"
   ]
  },
  {
   "cell_type": "markdown",
   "metadata": {},
   "source": [
    "<p>Veri setleri; seriler, listeler ve vb. diğer Python veri tiplerinde olduğu gibi değiştirilebilir (mutable) veri tipleri olduğu için bir veri seti üstünde istediğimiz değişiklikleri rahatlıkla gerçekleştirebiliriz. </p>"
   ]
  },
  {
   "cell_type": "code",
   "execution_count": null,
   "metadata": {},
   "outputs": [],
   "source": [
    "v = {\"Kişiler\": [\"A\", \"B\", \"C\", \"U\", \"V\", \"X\", \"Y\", \"Z\"], \"Boy\": [168, 185, 171, 156, 177, 182, 176, 191],\n",
    "    \"Kilo\":[59, 78, 67, 49, 65, 86, 90, 76]}\n",
    "df = pd.DataFrame(v)\n",
    "print(df[\"Kişiler\"][7])\n",
    "df[\"Kişiler\"][7] = \"W\"\n",
    "yeni = df[\"Kişiler\"][7]\n",
    "print(\"Yeni Kişi: {}\".format(yeni))"
   ]
  },
  {
   "cell_type": "code",
   "execution_count": null,
   "metadata": {},
   "outputs": [],
   "source": [
    "v = {\"Kişiler\": [\"A\", \"B\", \"C\", \"U\", \"V\", \"X\", \"Y\", \"Z\"], \"Boy\": [168, 185, 171, 156, 177, 182, 176, 191],\n",
    "    \"Kilo\":[59, 78, 67, 49, 65, 86, 90, 76]}\n",
    "df = pd.DataFrame(v)\n",
    "df.loc[(df.Kişiler) == \"A\"] = np.nan #A kişisine ait bütün değerleri \"NaN\" yani yok haline getirir.\n",
    "print(df)"
   ]
  },
  {
   "cell_type": "code",
   "execution_count": null,
   "metadata": {},
   "outputs": [],
   "source": [
    "v = {\"Kişiler\": [\"A\", \"B\", \"C\", \"U\", \"V\", \"X\", \"Y\", \"Z\"], \"Boy\": [168, 185, 171, 156, 177, 182, 176, 191],\n",
    "    \"Kilo\":[59, 78, 67, 49, 65, 86, 90, 76]}\n",
    "df = pd.DataFrame(v)\n",
    "df.loc[(df.Kişiler) == \"A\", [\"Kilo\"]] = 99 #A kişisinin kilosunu 99 yaptı.\n",
    "print(df.loc[0])"
   ]
  },
  {
   "cell_type": "markdown",
   "metadata": {},
   "source": [
    "<p>Eğer loc veya iloc ile elde ettiğimiz değerleri tek bir dizi haline görmek istersek values uzantısını kullanabiliriz. </p>"
   ]
  },
  {
   "cell_type": "code",
   "execution_count": null,
   "metadata": {},
   "outputs": [],
   "source": [
    "v = {\"Kişiler\": [\"A\", \"B\", \"C\", \"U\", \"V\", \"X\", \"Y\", \"Z\"], \"Boy\": [168, 185, 171, 156, 177, 182, 176, 191],\n",
    "    \"Kilo\":[59, 78, 67, 49, 65, 86, 90, 76]}\n",
    "df = pd.DataFrame(v)\n",
    "print(df.iloc[:, 1:2].values) #1 indeksli kolonun bütün değerlerini tek bir array olarak elde etti. "
   ]
  },
  {
   "cell_type": "markdown",
   "metadata": {},
   "source": [
    "# Pandas Fonksiyonları:\n",
    "\n",
    "## head()/tail():\n",
    "\n",
    "<p>Veri setleri üzerinde çalışırken genelde tek seferde görüntülemesi zor verilerle çalışırız. O yüzden veri setinin bütünü yerine belli kısımlarını görmemiz daha uygun olacaktır. Böyle durumlarda veri setinin başlangıçtaki değerlerini dörmek için head(), sondaki değerlerini görmek için tail() fonksiyonunu kullanabiliriz. Eğer bu fonksiyonlarda kendimiz bir parametre belirtmezsek otomatik olarak her kolonun ilk 5 verisini görürüz. </p> "
   ]
  },
  {
   "cell_type": "code",
   "execution_count": null,
   "metadata": {},
   "outputs": [],
   "source": [
    "x = np.random.randn(100)\n",
    "y = np.random.randint(1, 10, 100)\n",
    "df = pd.DataFrame({\"Sayılar-1\": x, \"Sayılar-2\": y})\n",
    "print(df.head())\n",
    "print(df.tail())"
   ]
  },
  {
   "cell_type": "code",
   "execution_count": null,
   "metadata": {},
   "outputs": [],
   "source": [
    "print(df.head(10))\n",
    "print(df.tail(10))"
   ]
  },
  {
   "cell_type": "markdown",
   "metadata": {},
   "source": [
    "# sum():\n",
    "\n",
    "<p>Bir veri setinin belli bir satırı ve sütunundaki değerlerin toplamını sum() fonksiyonu ile elde edebiliriz.</p>"
   ]
  },
  {
   "cell_type": "code",
   "execution_count": null,
   "metadata": {
    "scrolled": true
   },
   "outputs": [],
   "source": [
    "df = pd.DataFrame({\"Sayılar-1\":[10, 20, 30], \"Sayılar-2\":[50, 100, 150]})\n",
    "print(df)\n",
    "print(df.sum())"
   ]
  },
  {
   "cell_type": "code",
   "execution_count": null,
   "metadata": {},
   "outputs": [],
   "source": [
    "df = pd.DataFrame({\"Sayılar-1\":[10, 20, 30], \"Sayılar-2\":[50, 100, 150]})\n",
    "print(df[\"Sayılar-1\"].sum())\n",
    "print(df[\"Sayılar-2\"].sum())"
   ]
  },
  {
   "cell_type": "markdown",
   "metadata": {},
   "source": [
    "# mean():\n",
    "\n",
    "<p>Veri setiyle ilgili ortalama değerleri elde etmemizi sağlar. </p>"
   ]
  },
  {
   "cell_type": "code",
   "execution_count": null,
   "metadata": {},
   "outputs": [],
   "source": [
    "df = pd.DataFrame({\"Sayılar-1\":[10, 20, 30], \"Sayılar-2\":[50, 100, 150]})\n",
    "print(df.mean())"
   ]
  },
  {
   "cell_type": "markdown",
   "metadata": {},
   "source": [
    "# median():\n",
    "\n",
    "<p>Veri setindeki medyan değerlerini elde etmemizi sağlar. </p>"
   ]
  },
  {
   "cell_type": "code",
   "execution_count": null,
   "metadata": {},
   "outputs": [],
   "source": [
    "df = pd.DataFrame({\"Sayılar-1\":[10, 20, 30], \"Sayılar-2\":[50, 100, 150]})\n",
    "print(df.median())"
   ]
  },
  {
   "cell_type": "markdown",
   "metadata": {},
   "source": [
    "# mode():\n",
    "\n",
    "<p>Veri setindeki mod değerlerini verir. </p>"
   ]
  },
  {
   "cell_type": "code",
   "execution_count": null,
   "metadata": {},
   "outputs": [],
   "source": [
    "df = pd.DataFrame({\"Sayılar-1\":[10, 10, 20, 30], \"Sayılar-2\":[100, 50, 100, 150]})\n",
    "print(df.mode())"
   ]
  },
  {
   "cell_type": "markdown",
   "metadata": {},
   "source": [
    "# std():\n",
    "\n",
    "<p>Veri setinin standart sapmasını verir. </p>"
   ]
  },
  {
   "cell_type": "code",
   "execution_count": null,
   "metadata": {},
   "outputs": [],
   "source": [
    "df = pd.DataFrame({\"Sayılar-1\":[10, 10, 20, 30], \"Sayılar-2\":[100, 50, 100, 150]})\n",
    "print(df.std())"
   ]
  },
  {
   "cell_type": "markdown",
   "metadata": {},
   "source": [
    "# count():\n",
    "\n",
    "<p>Bir veri setinde kaç tane eleman olduğunu gösterir. </p>"
   ]
  },
  {
   "cell_type": "code",
   "execution_count": null,
   "metadata": {
    "scrolled": true
   },
   "outputs": [],
   "source": [
    "df = pd.DataFrame({\"Sayılar-1\":[10, 10, 20, 30], \"Sayılar-2\":[100, 50, 100, 150]})\n",
    "print(df.count())"
   ]
  },
  {
   "cell_type": "markdown",
   "metadata": {},
   "source": [
    "# describe():\n",
    "\n",
    "<p>Bir veri setindeki değerlerin tanımlayıcı özelliklerini genel bir tablo halinde özetler. </p>"
   ]
  },
  {
   "cell_type": "code",
   "execution_count": null,
   "metadata": {
    "scrolled": true
   },
   "outputs": [],
   "source": [
    "df = pd.DataFrame({\"Sayılar-1\":[10, 10, 20, 30], \"Sayılar-2\":[100, 50, 100, 150]})\n",
    "print(df.describe())"
   ]
  },
  {
   "cell_type": "markdown",
   "metadata": {},
   "source": [
    "# Kayıp Verilerle Çalışmak: \n",
    "\n",
    "<p>Gerçek zamanlı çalışmalarda kayıp verilerle karşılaşmak çok sık yaşanan bir durumdur. Ancak bu iyiye işaret değildir. Çünkü kayıp veriler bizim analiz ve analiz sonrası işlemlemlerimizi sekteye uğratır. Dolayısıyla kayıp verileri gördüğümüz anda onlardan kurtulmamız gerekir. Bunun için çok çeşitli ve yer yer ileri düzey işlemler yapılabilir. Ancak Pandas'ın bize sunduğu araçlarla bunu en basit haliyle bilmek başlangıç için yeterli olacaktır. </p>"
   ]
  },
  {
   "cell_type": "code",
   "execution_count": null,
   "metadata": {},
   "outputs": [],
   "source": [
    "df = pd.DataFrame({\"Boy\": [180, 160, 175, np.nan, 174, np.nan], \"Yaş\":[18, 22, 16, 13, np.nan, np.nan]})\n",
    "print(df)"
   ]
  },
  {
   "cell_type": "markdown",
   "metadata": {},
   "source": [
    "<p>Python'da kayıp veriyi np.nan komutu ile oluşturabildiğimizi daha önceki örneklerde görmüştük. Yukarıdaki örnekte bunu bir kez daha kullanıp çeşitli kayıp veriler oluşturduk. Burada az sayıda veri olduğu için ilk bakışta hangi verilerin kayıp olduğunu fark ettik. Ancak büyük çaplı veri setlerinde tespit işleminin otomatize olması gerekir. Bundan dolayı Pandas'ta bulunan isna() fonksiyonu ile kayıp verileri tespit edip dropna() ile onları veri setinden çıkarabiliriz. "
   ]
  },
  {
   "cell_type": "code",
   "execution_count": null,
   "metadata": {},
   "outputs": [],
   "source": [
    "df = pd.DataFrame({\"Boy\": [180, 160, 175, np.nan, 174, np.nan], \"Yaş\":[18, 22, 16, 13, np.nan, np.nan]})\n",
    "print(df.isna().sum())\n",
    "df = df.dropna()\n",
    "print(df.isna().sum())\n",
    "print(df)"
   ]
  },
  {
   "cell_type": "markdown",
   "metadata": {},
   "source": [
    "<p>Eğer kayıp verileri komple çıkarmak yerine kendi belirleyeceğimiz bir değerle değiştirmek istersek bunun için fillna() fonksiyonunu kullanabiliriz. </p>"
   ]
  },
  {
   "cell_type": "code",
   "execution_count": null,
   "metadata": {
    "scrolled": true
   },
   "outputs": [],
   "source": [
    "df = pd.DataFrame({\"Boy\": [180, 160, 175, np.nan, 174, np.nan], \"Yaş\":[18, 22, 16, 13, np.nan, np.nan]})\n",
    "df = df.fillna(df.median()) \n",
    "print(df)"
   ]
  },
  {
   "cell_type": "markdown",
   "metadata": {},
   "source": [
    "# Veri Düzenleme:\n",
    "\n",
    "<p>Verilerle çalışırken bazen değerleri sıralamamız, sınıflandırmamız veya bunlara göre değişiklikler yapmamız gerekir. Bu noktada Pandas'ın düzenleme komutları devreye girer. </p>"
   ]
  },
  {
   "cell_type": "markdown",
   "metadata": {},
   "source": [
    "# apply():\n",
    "\n",
    "<p>Fonksiyonel dillere ait bir özellik olan fonksiyon uygulama yöntemininin Pandas vasıtasıyla Python'da kullanılmasını sağlar. apply() içerisine yazılan fonksiyon veri setinde uygulanır. </p>"
   ]
  },
  {
   "cell_type": "code",
   "execution_count": null,
   "metadata": {},
   "outputs": [],
   "source": [
    "df = pd.DataFrame({\"Sayılar\": [10, 20, 30, 40, 50]})\n",
    "def ona_böl(df):\n",
    "    return df / 10\n",
    "print(df.apply(ona_böl))"
   ]
  },
  {
   "cell_type": "markdown",
   "metadata": {},
   "source": [
    "# groupby():\n",
    "\n",
    "<p>"
   ]
  },
  {
   "cell_type": "code",
   "execution_count": null,
   "metadata": {},
   "outputs": [],
   "source": [
    "v = {\"Çalışanlar\": [\"Ahmet\", \"Mustafa\", \"Ayşe\", \"Fatma\", \"Kaan\", \"Nimet\", \"Hasan\", \"Mert\", \"Sema\"],\n",
    "    \"Departman\": [\"Lojistik\", \"Lojistik\", \"Yazılım\", \"Pazarlama\", \"Lojistik\", \"Pazarlama\", \"Yazılım\", \"Pazarlama\", \"Pazarlama\"],\n",
    "    \"Maaşlar\": [4000, 4500, 4200, 3800, 4700, 3500, 4300, 4000, 5000]}\n",
    "df = pd.DataFrame(v)\n",
    "display(df)"
   ]
  },
  {
   "cell_type": "code",
   "execution_count": null,
   "metadata": {},
   "outputs": [],
   "source": [
    "df.pop(\"Departman\") #Maaş değerlerine göre gruplandırma yaparken departman bilgisine ihtiyacımız olmadığı için bu kısmı çıkarır.\n",
    "gby = df.groupby(\"Maaşlar\")\n",
    "display(gby.count())"
   ]
  },
  {
   "cell_type": "code",
   "execution_count": null,
   "metadata": {},
   "outputs": [],
   "source": [
    "v = {\"Çalışanlar\": [\"Ahmet\", \"Mustafa\", \"Ayşe\", \"Fatma\", \"Kaan\", \"Nimet\", \"Hasan\", \"Mert\", \"Sema\"],\n",
    "    \"Departman\": [\"Lojistik\", \"Lojistik\", \"Yazılım\", \"Pazarlama\", \"Lojistik\", \"Pazarlama\", \"Yazılım\", \"Pazarlama\", \"Pazarlama\"],\n",
    "    \"Maaşlar\": [4000, 4500, 4200, 3800, 4700, 3500, 4300, 4000, 5000]}\n",
    "df = pd.DataFrame(v)\n",
    "df.pop(\"Maaşlar\") #Hangi departmanda kaç kişi olduğunu görüntülerken maaşlar işimize yaramadığı için bu kolonu düşürür.\n",
    "gby = df.groupby(\"Departman\")\n",
    "display(gby.count())"
   ]
  },
  {
   "cell_type": "code",
   "execution_count": null,
   "metadata": {},
   "outputs": [],
   "source": [
    "v = {\"Çalışanlar\": [\"Ahmet\", \"Mustafa\", \"Ayşe\", \"Fatma\", \"Kaan\", \"Nimet\", \"Hasan\", \"Mert\", \"Sema\"],\n",
    "    \"Departman\": [\"Lojistik\", \"Lojistik\", \"Yazılım\", \"Pazarlama\", \"Lojistik\", \"Pazarlama\", \"Yazılım\", \"Pazarlama\", \"Pazarlama\"],\n",
    "    \"Maaşlar\": [4000, 4500, 4200, 3800, 4700, 3500, 4300, 4000, 5000]}\n",
    "df = pd.DataFrame(v)\n",
    "df.pop(\"Çalışanlar\")\n",
    "gby = df.groupby(\"Departman\")\n",
    "display(gby.mean())"
   ]
  },
  {
   "cell_type": "markdown",
   "metadata": {},
   "source": [
    "# concat():\n",
    "\n",
    "<p>Satır veya sütun bazlı olarak farklı veri setlerini birleştirmeye yarar. </p>"
   ]
  },
  {
   "cell_type": "code",
   "execution_count": null,
   "metadata": {},
   "outputs": [],
   "source": [
    "df1 = pd.DataFrame({\"İsim-1\": [\"Ali\", \"Ayşe\", \"Fatma\"]} )\n",
    "df2 = pd.DataFrame({\"İsim-2\": [\"Mehmet\", \"Mustafa\", \"Mine\"]})\n",
    "df = pd.concat([df1, df2], axis = 1) #axis = 1 parametresi veri setlerinin sütun bazlı birleştirilmesini sağlar.\n",
    "print(df)"
   ]
  },
  {
   "cell_type": "markdown",
   "metadata": {},
   "source": [
    "# merge():\n",
    "\n",
    "<p>Ortak kolonlara sahip veri setlerini bu kolonlar üzerinden yeniden oluşturmak istersek merge() fonksiyonunu kullanabiliriz. </p>"
   ]
  },
  {
   "cell_type": "code",
   "execution_count": null,
   "metadata": {},
   "outputs": [],
   "source": [
    "df1 = pd.DataFrame({\"İsimler\": [\"Ali\", \"Ayşe\", \"Fatma\"], \"Yaş\": [25, 30, 35]} )\n",
    "df2 = pd.DataFrame({\"İsimler\": [\"Ali\", \"Ayşe\", \"Fatma\"], \"Meslek\": [\"Öğretmen\", \"Eczacı\", \"Ekonomist\"]})\n",
    "display(df1)\n",
    "display(df2)\n",
    "df = pd.merge(df1, df2, on = \"İsimler\")\n",
    "display(df)"
   ]
  },
  {
   "cell_type": "markdown",
   "metadata": {},
   "source": [
    "# MATPLOTLIB\n",
    "\n",
    "<p>Matplotlib veri görselleştirmede kullanılan oldukça gelişmiş bir kütüphanedir. Veri içeren yapılar üstünde ileri seviye görselleştirme araçları sunmaktadır. Bunlardan en temeli plot() fonksiyonudur.</p>"
   ]
  },
  {
   "cell_type": "code",
   "execution_count": null,
   "metadata": {
    "scrolled": true
   },
   "outputs": [],
   "source": [
    "import numpy as np\n",
    "import pandas as pd\n",
    "import matplotlib.pyplot as plt\n",
    "%matplotlib inline \n",
    "#inline ifadesi grafiklerin notebook'ta görüntülenmesini ve kaydedilmesini sağlar\n",
    "\n",
    "x = [1, 2, 3, 4, 5, 6]\n",
    "y = [10, 20, 30, 40, 50, 60]\n",
    "plt.plot(x, y)\n",
    "plt.show() "
   ]
  },
  {
   "cell_type": "markdown",
   "metadata": {},
   "source": [
    "# Grafikleri Özelleştirmek:"
   ]
  },
  {
   "cell_type": "markdown",
   "metadata": {},
   "source": [
    "<p>Matplotlib'in bize sunduğu araçlarla verilerdeki değerleri yukarıdaki örnekte olduğu gibi sade bir görünümle sunabiliriz. Ancak hem eldeki verileri daha ayrıntılı incelemek hem de işe bir miktar da sanatsallık katmak için çoğu analist görselleştirme işlemlerinde ileri düzey teknikleri kullanmayı tercih eder. Veri görselleştirme başlı başına bir uzmanlık alanı olduğu için bunların tamamını tek bir başlık altında işlemek mümkün değildir. Zira görselleştirmede tek araç Matplotlib değildir. Ancak bu kütüphane çoğu alanda kullanışlıdır ve temel görselleştirme işlemlerinde en çok tercih edilen kütüphanedir. </p>"
   ]
  },
  {
   "cell_type": "markdown",
   "metadata": {},
   "source": [
    "<p>Bir grafiğe başlık eklemek için xlabel (x ekseni başlığı), ylabel(y ekseni başlığı) ve title(genel başlık) kullanılır. </p>"
   ]
  },
  {
   "cell_type": "code",
   "execution_count": null,
   "metadata": {
    "scrolled": true
   },
   "outputs": [],
   "source": [
    "x = np.random.randint(0, 10, 10)\n",
    "y = np.random.randint(0, 10, 10)\n",
    "plt.scatter(x, y)\n",
    "plt.xlabel(\"X Ekseni\")\n",
    "plt.ylabel(\"Y Ekseni\")\n",
    "plt.title(\"Örnek Grafik\")\n",
    "plt.show()"
   ]
  },
  {
   "cell_type": "markdown",
   "metadata": {},
   "source": [
    "<p>Bir grafiğin x ve y ekseninin limitlerini belirleyebiliriz. Bunun için xlim ve ylim kullanılır. </p>"
   ]
  },
  {
   "cell_type": "code",
   "execution_count": null,
   "metadata": {
    "scrolled": true
   },
   "outputs": [],
   "source": [
    "x = np.random.randint(0, 10, 10)\n",
    "y = np.random.randint(0, 10, 10)\n",
    "plt.scatter(x, y)\n",
    "plt.xlim(0, 20)\n",
    "plt.ylim(0, 20)\n",
    "plt.show()"
   ]
  },
  {
   "cell_type": "markdown",
   "metadata": {},
   "source": [
    "<p>Grafik boyutlarını figure() fonksiyonunun figsize parametresi ile yeniden ayarlayabiliriz. </p>"
   ]
  },
  {
   "cell_type": "code",
   "execution_count": null,
   "metadata": {
    "scrolled": false
   },
   "outputs": [],
   "source": [
    "x = np.random.randint(0, 10, 10)\n",
    "y = np.random.randint(0, 10, 10)\n",
    "plt.figure(figsize = (20, 12))\n",
    "plt.scatter(x, y)\n",
    "plt.show()"
   ]
  },
  {
   "cell_type": "code",
   "execution_count": null,
   "metadata": {
    "scrolled": true
   },
   "outputs": [],
   "source": [
    "x = [1, 2, 3, 4, 5]\n",
    "y = [10, 20, 30 , 40, 50]\n",
    "plt.plot(x, y, \"rx--\") #parametreler yerine kısaltmalarla oluşturulan grafikler\n",
    "#plt.plot(x, y, color=\"red\", marker=\"x\", linestyle=\"dashed\")"
   ]
  },
  {
   "cell_type": "markdown",
   "metadata": {},
   "source": [
    "<p>Bir grafik içerisinde birden fazla çizgi görselleştirebilir ve bu çizgilerin renk, nokta görüntüsü vb. unsurları aşağıdaki yapılarla özelleştirilebilir. </p> "
   ]
  },
  {
   "cell_type": "markdown",
   "metadata": {},
   "source": [
    "<p>Renkler için kısaltmalar: b (blue), g (green), r (red), y (yellow), k (black), m (magenta).... </p>\n",
    "<p>İşaretleticiler için kısaltmalar: '.' (point marker), 'o' (circle marker), 'x' (X marker), 'D' (diamond marker)... </p>\n",
    "<p>Çizgi stilleri için kısaltmalar: '-' (solid line), '--' (dashed line), '-.' (dash-dot line), ':' (dotted line)... </p>"
   ]
  },
  {
   "cell_type": "code",
   "execution_count": null,
   "metadata": {
    "scrolled": true
   },
   "outputs": [],
   "source": [
    "x = [1, 2, 3, 4, 5]\n",
    "y = [10, 20, 30 , 40, 50]\n",
    "x2 = [1, 4, 9, 16, 25]\n",
    "x3 = [0.1, 0.2, 0.3, 0.4, 0.5]\n",
    "plt.plot(x, y, \"rx--\")\n",
    "plt.plot(x2, y, \"mo-\")\n",
    "plt.plot(x3, y, \"kD:\")\n",
    "plt.show()"
   ]
  },
  {
   "cell_type": "markdown",
   "metadata": {},
   "source": [
    "<p>Aksisler ve figure() fonksiyonunu kullanarak özelleştirilmiş figürler oluşturabilir, legend() fonksiyonu ile bu figürlere grafik başlığı ekleyebiliriz. </p>"
   ]
  },
  {
   "cell_type": "code",
   "execution_count": null,
   "metadata": {},
   "outputs": [],
   "source": [
    "x1 = np.array([1, 4, 9, 16, 25])\n",
    "x2 = np.array([1, 8, 27, 64, 125])\n",
    "y = np.array([1, 2, 3, 4, 5])\n",
    "fig = plt.figure()\n",
    "ax = fig.add_axes([0.2, 0.2, 1, 1])\n",
    "ax.plot(x1, y, \"ko-\")\n",
    "ax.plot(x2, y, \"ro-\")\n",
    "ax.legend(labels = (\"x1 değerleri\", \"x2 değerleri\"), loc = \"lower right\")\n",
    "ax.set_title(\"Örnek Grafik\")\n",
    "ax.set_xlabel(\"X ekseni\")\n",
    "ax.set_ylabel(\"Y ekseni\")\n",
    "plt.show()"
   ]
  },
  {
   "cell_type": "markdown",
   "metadata": {},
   "source": [
    "# İç İçe ve Alt Grafikler:\n",
    "\n",
    "<p>Zaman zaman tek bir grafik üstünden değil, iç içe veya alt grafiklerle de çalışmamız gerekir. Bunun için subplot() fonksiyonunun varyasyonları kullanılabilir. </p>"
   ]
  },
  {
   "cell_type": "code",
   "execution_count": null,
   "metadata": {},
   "outputs": [],
   "source": [
    "x1 = np.array([1, 2, 3, 4, 5])\n",
    "x2 = x1 ** 2\n",
    "x3 = x1 ** 3\n",
    "x4 = x1 ** 4\n",
    "y = np.array([1, 2, 3, 4, 5])\n",
    "\n",
    "plt.subplot(2, 2, 1)\n",
    "plt.plot(x1, y, \"rD--\")\n",
    "plt.subplot(2, 2, 2)\n",
    "plt.plot(x2, y, \"yD--\")\n",
    "plt.subplot(2, 2, 3)\n",
    "plt.plot(x3, y, \"mD--\")\n",
    "plt.subplot(2, 2, 4)\n",
    "plt.plot(x4, y, \"kD--\")"
   ]
  },
  {
   "cell_type": "code",
   "execution_count": null,
   "metadata": {},
   "outputs": [],
   "source": [
    "fig = plt.figure()\n",
    "ax1 = fig.add_axes([0.2, 0.2, 1, 1])\n",
    "ax2 = fig.add_axes([0.9, 0.4, 0.2, 0.2])\n",
    "\n",
    "x = np.array([0.1, 0.2, 0.3])\n",
    "y = np.array([1, 2, 3])\n",
    "\n",
    "ax1.plot(x, y, \"rD--\")\n",
    "ax1.set_title(\"Ana Grafiğin Başlığı\")\n",
    "ax1.set_xlabel(\"Ana Grafiğin X Ekseni\")\n",
    "ax1.set_ylabel(\"Ana Grafiğin Y Ekseni\")\n",
    "\n",
    "ax2.plot(x, y, \"kD--\")\n",
    "ax2.set_title(\"Başlık\")\n",
    "ax2.set_xlabel(\"X\")\n",
    "ax2.set_ylabel(\"Y\")"
   ]
  },
  {
   "cell_type": "markdown",
   "metadata": {},
   "source": [
    "# Grafik Çeşitleri:\n",
    "\n",
    "<p>Analiz işlemlerinde kullanılan hemen her grafik Matplotlib'de de mevcuttur.</p>\n",
    "\n",
    "\n",
    "# Çubuk Grafiği:\n",
    "\n",
    "<p>Kategorik verilerde oransal dağılımı keşfetmek için çubuk grafiğine sıklıkla başvurulur. Aynı durum Matplotlib'de de geçerlidir. </p>"
   ]
  },
  {
   "cell_type": "code",
   "execution_count": null,
   "metadata": {},
   "outputs": [],
   "source": [
    "egitim_seviyesi = [\"Ortaöğretim\", \"Lisans\", \"Yüksek Lisans\"]\n",
    "mezun_sayisi = [150, 75, 25]\n",
    "plt.bar(egitim_seviyesi, mezun_sayisi)"
   ]
  },
  {
   "cell_type": "markdown",
   "metadata": {},
   "source": [
    "# Histogram Grafiği:\n",
    "\n",
    "<p>Veri setindeki değerlerin dağılımına ilişkin fikir edinmek istediğimiz zaman kullanılır. </p>"
   ]
  },
  {
   "cell_type": "code",
   "execution_count": null,
   "metadata": {},
   "outputs": [],
   "source": [
    "import matplotlib.pyplot as plt\n",
    "v = np.random.randn(100)\n",
    "plt.hist(v)"
   ]
  },
  {
   "cell_type": "markdown",
   "metadata": {},
   "source": [
    "# Pasta Grafiği:\n",
    "\n",
    "<p>Bir veri setindeki kategorik dağılım oranını keşfetmek amacıyla kullanılır. </p>"
   ]
  },
  {
   "cell_type": "code",
   "execution_count": null,
   "metadata": {},
   "outputs": [],
   "source": [
    "egitim_seviyesi = [\"Ortaöğretim\", \"Lisans\", \"Yüksek Lisans\"]\n",
    "mezun_sayisi = [120, 75, 25]\n",
    "plt.pie(mezun_sayisi, labels = egitim_seviyesi, autopct='%1.3f%%')"
   ]
  },
  {
   "cell_type": "markdown",
   "metadata": {},
   "source": [
    "# Kutu-Bıyık Grafiği:\n",
    "\n",
    "<p>Bir veri setindeki değerlerin dağılımda aykırı değere sahip olup olmadığını keşfetmek amacıyla kullanılır. </p>"
   ]
  },
  {
   "cell_type": "code",
   "execution_count": null,
   "metadata": {},
   "outputs": [],
   "source": [
    "v = pd.DataFrame({\"A\": np.random.randn(100), \"B\": np.random.randn(100), \"C\": np.random.randn(100)})\n",
    "\n",
    "plt.boxplot(v)"
   ]
  },
  {
   "cell_type": "code",
   "execution_count": null,
   "metadata": {
    "scrolled": true
   },
   "outputs": [],
   "source": [
    "v = pd.DataFrame({\"A\":[10, 11, 9, 10, 11, 12, 11, 9, 12, 15, 11, 7, 6, 11, 12, 10, 9, 11]})\n",
    "plt.boxplot(v)"
   ]
  },
  {
   "cell_type": "markdown",
   "metadata": {},
   "source": [
    "# 3 BOYUTLU GRAFİKLER:\n",
    "\n",
    "<p>Matplotlib ile sadece iki boyutlu değil üç boyutlu grafikler de elde edebiliriz. Örneğin aşağıdaki kodlar ile boş bir üç boyutlu görseli ekrana yansıtmış oluyoruz.</p>"
   ]
  },
  {
   "cell_type": "code",
   "execution_count": null,
   "metadata": {},
   "outputs": [],
   "source": [
    "import matplotlib.pyplot as plt\n",
    "from mpl_toolkits.mplot3d import Axes3D #Matplotlib'in 3-D eksenler için gerekli araçları\n",
    "fig = plt.figure()\n",
    "ax = plt.axes(projection = '3d')"
   ]
  },
  {
   "cell_type": "markdown",
   "metadata": {},
   "source": [
    "# 3-D Saçılım Grafiği:"
   ]
  },
  {
   "cell_type": "code",
   "execution_count": null,
   "metadata": {},
   "outputs": [],
   "source": [
    "x = np.random.random(100) #0-1 aralığında rastgele sayılar oluşturur.\n",
    "y = 2 * np.random.random(100)\n",
    "z = x + y\n",
    "\n",
    "fig = plt.figure(figsize=(12, 9))\n",
    "ax = plt.axes(projection = '3d')\n",
    "ax.scatter3D(x, y, z)\n",
    "ax.set_xlabel('x')\n",
    "ax.set_ylabel('y')\n",
    "ax.set_zlabel('z')"
   ]
  },
  {
   "cell_type": "markdown",
   "metadata": {},
   "source": [
    "# 3-D Çizgi Grafiği:"
   ]
  },
  {
   "cell_type": "code",
   "execution_count": null,
   "metadata": {},
   "outputs": [],
   "source": [
    "x = np.random.random(100) \n",
    "y = 2 * np.random.random(100)\n",
    "z = x + y\n",
    "\n",
    "fig = plt.figure(figsize=(12, 9))\n",
    "ax = plt.axes(projection = '3d')\n",
    "\n",
    "ax.plot3D(x, y, z)\n",
    "ax.set_xlabel('x')\n",
    "ax.set_ylabel('y')\n",
    "ax.set_zlabel('z')"
   ]
  },
  {
   "cell_type": "markdown",
   "metadata": {},
   "source": [
    "# İleri Seviye Kütüphanelerde Dosya Kaydetme ve Dosyalarla Çalışma:\n",
    "\n",
    "<p>Numpy, Pandas, Matplotlib gibi kütüphanelerle çalışırken pek çok kez veri setleri, grafikler, matematiksel işlemler vb. gibi araçları salt kod ile oluşturmak yerine bu araçları içeren dosyalar ve görüntüler üzerinden işlemler yaparız. Bu noktada hem kendi kodlarımızı dışarıya veri seti işlevi görecek çeşitli formatlarda (csv, xlsx, txt vb.) hem de grafik olarak kullanılabilecek çeşitli görsel formatlarda (jpg, png, gif vb.) aktarabiliriz. Ya da bu formatlardaki harici dosyaları Python ortamına dahil edip onlar üstünden kendimiz işlemler yapabiliriz.</p> <br>\n",
    "\n",
    "## Pandas ile Dosya Kaydetme ve Harici Dosyaları Python Ortamına Dahil Etme:\n",
    "<p>Pandas ile csv, xlsx,, txt gibi dosyaları kaydetme ve onları Python ortamına dahil etmek için çeşitli yöntemler vardır. Bu uzantılar en sık kullanılan csv formatlı dosyalardır. Şayet elimizde veri seti sayılacak bir çıktı varsa bu çıktıyı csv dosyası olarak kaydetmek için aşağıdaki işlem uygulanabilir:<p>"
   ]
  },
  {
   "cell_type": "code",
   "execution_count": null,
   "metadata": {},
   "outputs": [],
   "source": [
    "import pandas as pd\n",
    "dt = {\"İsimler\":[\"Ahmet\", \"Mehmet\", \"Ali\", \"Veli\"], \"Yaş\": [20, 40, 25, 60], \"Meslek\": [\"Öğrenci\", \"Doktor\", \"Avukat\", \"Esnaf\"]}\n",
    "df = pd.DataFrame(dt)\n",
    "display(df)"
   ]
  },
  {
   "cell_type": "code",
   "execution_count": null,
   "metadata": {},
   "outputs": [],
   "source": [
    "df.to_csv(\"veriler.csv\", index = False) #Eğer index = False şeklinde belirtmezsek verilerimiz fazladan bir indeks kolonu alır."
   ]
  },
  {
   "cell_type": "markdown",
   "metadata": {},
   "source": [
    "<p>Şu anda yukarıdaki bilgiler bu notebook dosyasının yer aldığı dizine \"veriler.csv\" diye ayrı bir dosya olarak kaydedildi. Bunu görmek için yeni oluşan dosyayı okutarak farklı bir veri seti daha oluşturulalım. Böylece hem harici bir dosya pandas ile nasıl okunur bunu görebiliriz hem de oluşturduğumuz dosya gerçekten düzgün bir şekilde kaydedilmiş mi diye inceleyebiliriz. </p>"
   ]
  },
  {
   "cell_type": "code",
   "execution_count": null,
   "metadata": {
    "scrolled": true
   },
   "outputs": [],
   "source": [
    "df2 = pd.read_csv(\"veriler.csv\")\n",
    "display(df2)"
   ]
  },
  {
   "cell_type": "markdown",
   "metadata": {},
   "source": [
    "<p>Gördüldüğü üzere yeni oluşturulan veri seti ilk veri setinin aynısı. Bu şekilde csv uzantılı dosyaların nasıl dışa aktarılabileceği ve nasıl Python ortamına dahil edilebieceğini görmüş olduk. Benzer türdeki bazı dosyaların nasıl okunacağına ilişkin kod şemaları da aşağıdaki gibidir. </p>"
   ]
  },
  {
   "cell_type": "code",
   "execution_count": null,
   "metadata": {},
   "outputs": [],
   "source": [
    "# pd.read_excel(\"dosyaadi\") ---> Excel dosyalarını okur\n",
    "# pd.read_table(\"dosyaadi\") ----> Text dosyalarını okur\n",
    "# pd.read_json(\"dosyaadi\") ----> Json dosyalarını okur\n",
    "# pd.read_sql(\"\"dosyaadi) -----> SQL tablolarını okur"
   ]
  },
  {
   "cell_type": "markdown",
   "metadata": {},
   "source": [
    "# Matplotlib ile Dosya Kaydetme:\n",
    "\n",
    "<p>Oluşturduğumuz bir görseli dışarıya png, jpg, gif vb. bir görüntü dosyası olarak aktarmak istersek aşağıdaki gibi bir işlem yapabiliriz. </p>"
   ]
  },
  {
   "cell_type": "code",
   "execution_count": null,
   "metadata": {},
   "outputs": [],
   "source": [
    "import pandas as pd\n",
    "import numpy as np\n",
    "import matplotlib.pyplot as plt\n",
    "\n",
    "x = np.random.random(100) #0-1 aralığında rastgele sayılar oluşturur.\n",
    "y = 2 * np.random.random(100)\n",
    "z = x + y\n",
    "\n",
    "fig = plt.figure(figsize=(12, 9))\n",
    "ax = plt.axes(projection = '3d')\n",
    "ax.scatter3D(x, y, z)\n",
    "ax.set_xlabel('x')\n",
    "ax.set_ylabel('y')\n",
    "ax.set_zlabel('z')"
   ]
  },
  {
   "cell_type": "code",
   "execution_count": null,
   "metadata": {},
   "outputs": [],
   "source": [
    "fig.savefig(\"figure.png\")"
   ]
  },
  {
   "cell_type": "markdown",
   "metadata": {},
   "source": [
    "<p>Yukarıdaki komut ile grafiğimizi bu notebook dosyasının yer aldığı dizine \"figure.png\" diye kaydettik. Bunu bahsedilen klasöre gidip ayrıca görebileceğimiz gibi, aşağıdaki kod ile bu grafiği Python üstünde görüntüleyerek de teyit edebiliriz. </p>"
   ]
  },
  {
   "cell_type": "code",
   "execution_count": null,
   "metadata": {
    "scrolled": true
   },
   "outputs": [],
   "source": [
    "import matplotlib.pyplot as plt\n",
    "import matplotlib.image as mpimg\n",
    "\n",
    "plt.figure(figsize = (12, 9))\n",
    "img=mpimg.imread('figure.png')\n",
    "imgplot = plt.imshow(img)"
   ]
  },
  {
   "cell_type": "markdown",
   "metadata": {},
   "source": [
    "# SORULAR\n",
    "\n",
    "<p>1) Eşit sayıda elemana sahip liste ve demet veri tiplerinde birer değişken oluşturun. Ardından oluşturduğunuz değişkenleri array'a dönüştürüp dönüşümünüzün doğru olup olmadığını kontrol edin. </p>"
   ]
  },
  {
   "cell_type": "code",
   "execution_count": null,
   "metadata": {},
   "outputs": [],
   "source": [
    "import numpy as np\n",
    "\n",
    "liste = [1, 2, 3, 4, 5]\n",
    "demet = (6, 7, 8, 9, 10)\n",
    "\n",
    "arr1 = np.asarray(liste)\n",
    "arr2 = np.asarray(demet)\n",
    "print(type(arr1))\n",
    "print(type(arr2))"
   ]
  },
  {
   "cell_type": "markdown",
   "metadata": {},
   "source": [
    "<p>2) Tamamen birlerden oluşan 16 elemanlı tek boyutlu bir array oluşturun ve bunu dört satırlı yeni bir array haline getirin. Ardından yeni array'in satır, sütun bilgileri ile kaç boyutlu olduğunu kontrol edin.</p>"
   ]
  },
  {
   "cell_type": "code",
   "execution_count": null,
   "metadata": {},
   "outputs": [],
   "source": [
    "import numpy as np\n",
    "\n",
    "arr = np.ones(16)\n",
    "arr2 = arr.reshape(4, -1)\n",
    "print(arr2.shape)\n",
    "print(arr2.ndim)"
   ]
  },
  {
   "cell_type": "markdown",
   "metadata": {},
   "source": [
    "<p>3) [0, 1000] değer aralığındaki rastgele sayılardan oluşan 100 elemanlı tek boyutlu bir array oluşturunuz. Ardından bu array'in tanımlayıcı istatistiksel bilgilerini (maksimum değer, minimum değer, medyan, ortalama, standart sapma, varyans) gösteren bir kod yazınız. </p>"
   ]
  },
  {
   "cell_type": "code",
   "execution_count": null,
   "metadata": {},
   "outputs": [],
   "source": [
    "import numpy as np\n",
    "\n",
    "arr = np.array([np.random.randint(0, 501) * 2 for i in range(100)])\n",
    "\n",
    "def toplam_tek(arr):\n",
    "    toplam = 0\n",
    "    for i in arr:\n",
    "        if i % 2 != 0:\n",
    "            toplam += 1\n",
    "    return toplam\n",
    "\n",
    "def binden_buyuk_mu(arr):\n",
    "    toplam = 0\n",
    "    for i in arr:\n",
    "        if i > 1000:\n",
    "            toplam += 1\n",
    "    return toplam\n",
    "\n",
    "print(toplam_tek(arr))\n",
    "print(binden_buyuk_mu(arr))\n",
    "print(arr)\n",
    "\n",
    "def veri_info(arr):\n",
    "    print(\"-\"*50)\n",
    "    print(\"Maksimum: {}\\nMinimum: {}\\nMedyan: {}\\nOrtalama: {}\\nStandart Sapma: {}\\nVaryans: {}\".format(np.max(arr),\n",
    "    np.min(arr), np.median(arr), np.mean(arr), np.std(arr), np.var(arr)))\n",
    "    print(\"-\"*50)\n",
    "\n",
    "veri_info(arr)"
   ]
  },
  {
   "cell_type": "markdown",
   "metadata": {},
   "source": [
    "<p>4)  $(x + 1)^n$ binom açılımında $n$ $\\epsilon$ $[1,3]$ olmak üzere n değerlerinin $[0, 100]$ aralığındaki değişimini özelleştirilmiş tek bir grafik içerisinde inceleyin. </p>\n",
    "<p><b>Hatırlatma: </b> </p>\n",
    "<p>$(x + y)^n = \\sum\\limits_{k=0}^n {{n}\\choose{k}} x^ky^{n-k}$</p>"
   ]
  },
  {
   "cell_type": "code",
   "execution_count": null,
   "metadata": {
    "scrolled": true
   },
   "outputs": [],
   "source": [
    "import numpy as np\n",
    "import pandas as pd\n",
    "import matplotlib.pyplot as plt\n",
    "\n",
    "n = np.linspace(0, 100)\n",
    "\n",
    "plt.figure(figsize = (9, 6))\n",
    "plt.plot(n + 1, color = \"dimgray\", linewidth = 3.0, linestyle = \"dotted\", marker = \"D\", markerfacecolor = \"lightcoral\", label = \"n = 1\")\n",
    "plt.plot(n ** 2 + 2 * n + 1, color = \"lightseagreen\", linewidth = 2.0, linestyle = \"solid\", label = \"n = 2\")\n",
    "plt.plot(n ** 3 + 3 * n ** 3 + 3 * n + 1, color = \"indigo\", linestyle = \"dashed\", marker = \"P\", markerfacecolor = \"chartreuse\", \n",
    "         markersize = 10, label = \"n = 3\")\n",
    "plt.legend(loc = \"upper left\")\n",
    "plt.xlabel(\"X Ekseni\", fontsize = 20)\n",
    "plt.ylabel(\"Y Ekseni\", fontsize = 20)\n",
    "plt.title(\"Genel Grafik\", fontsize = 25)\n",
    "plt.show()"
   ]
  },
  {
   "cell_type": "markdown",
   "metadata": {},
   "source": [
    "<p>5) Belli bir boyutta belli satır ve sütun sayısını geçmeyecek şekilde belli bir aralıkta rastgele array'ler oluşturan bir fonksiyon yazınız. En son aşamada ise oluşan array'in bütün değerlerini tek bir boyutta görünecek şekilde ekrana bastırın.</p>"
   ]
  },
  {
   "cell_type": "code",
   "execution_count": null,
   "metadata": {},
   "outputs": [],
   "source": [
    "import numpy as np\n",
    "\n",
    "def rastgele_array(boyut, minimum, maksimum):\n",
    "    değer = np.random.randint(minimum, maksimum + 1, boyut) # [3, 2]\n",
    "    return np.random.randint(0, 10001, değer)\n",
    "\n",
    "a = rastgele_array(2, 2, 5)\n",
    "print(a)\n",
    "print(a.ravel())"
   ]
  },
  {
   "cell_type": "markdown",
   "metadata": {},
   "source": [
    "<p>6) n boyutlu bir karesel matrisin kendisi ile tersinin çarpımı birim matrise eşittir ($ A \\times {A^{-1}} = {A^{-1}} \\times A=I$). Bu bilgiyi kanıtlayacak bir kod yazın.  </p>"
   ]
  },
  {
   "cell_type": "code",
   "execution_count": null,
   "metadata": {},
   "outputs": [],
   "source": [
    "import numpy as np\n",
    "\n",
    "arr1 = np.array([[1, 2], [3, 4]])\n",
    "arr2 = np.linalg.inv(arr1)\n",
    "arr = np.dot(arr1, arr2)\n",
    "for i in range(2):\n",
    "    for j in range(2):\n",
    "        print(\"%.2f\" % arr[i][j], end= \" \")\n",
    "    print(\"\\n\")"
   ]
  },
  {
   "cell_type": "markdown",
   "metadata": {},
   "source": [
    "<p>7) Aşağıdaki listedeki değerleri kullanarak bir seri oluşturunuz ve indeksleri özelleştirerek \"Sayı 1, Sayı 2, ...\" gibi kategorik değerler atayınız. </p> \n",
    "sayılar = [12, 33, 41, 454, 26, 141, 8, 87, 942, 545]"
   ]
  },
  {
   "cell_type": "code",
   "execution_count": null,
   "metadata": {
    "scrolled": true
   },
   "outputs": [],
   "source": [
    "import pandas as pd\n",
    "\n",
    "sayılar = [12, 33, 41, 454, 26, 141, 8, 87, 942, 545]\n",
    "indeks = []\n",
    "for i in range(len(sayılar)):\n",
    "    indeks.append(\"Sayı {}\".format(i+1))\n",
    "seri = pd.Series(data = sayılar, index = indeks)\n",
    "print(seri)"
   ]
  },
  {
   "cell_type": "markdown",
   "metadata": {},
   "source": [
    "<p>9) Dizindeki \"veriler.xlsx\" adlı dosyayı Python ortamına aktarın. Ardından bu veri setinin kategorik ve nümerik değerlerini özetleyin. </p>"
   ]
  },
  {
   "cell_type": "code",
   "execution_count": null,
   "metadata": {},
   "outputs": [],
   "source": [
    "import numpy as np\n",
    "import pandas as pd\n",
    "import matplotlib.pyplot as plt\n",
    "\n",
    "veriler = pd.read_excel(\"veriler.xlsx\")\n",
    "display(veriler)\n",
    "print(veriler.info())\n",
    "print(\"-\"*50)\n",
    "display(veriler.describe())"
   ]
  },
  {
   "cell_type": "markdown",
   "metadata": {},
   "source": [
    "<p>10) Veri setini cinsiyet değerlerine göre gruplandırıp cinsiyete göre nümerik değerlerin özetine ulaşın. </p>"
   ]
  },
  {
   "cell_type": "code",
   "execution_count": null,
   "metadata": {},
   "outputs": [],
   "source": [
    "gby = veriler.groupby(\"Cinsiyet\")\n",
    "display(gby.describe())"
   ]
  },
  {
   "cell_type": "markdown",
   "metadata": {},
   "source": [
    "<p>11) Veri setindeki kategorik değerleri çıkarıp kalan kolonlara göre yeni bir veri seti oluşturunuz. Ardından yeni değişkendeki nümerik değerler üzerinden aykırı değerleri inceleyiniz ve eğer bunlar verinin bütünlüğünü bozmakta ise bu değerleri medyan değerleri ile değiştiriniz. </p>"
   ]
  },
  {
   "cell_type": "code",
   "execution_count": null,
   "metadata": {
    "scrolled": true
   },
   "outputs": [],
   "source": [
    "veriler2 = veriler.iloc[:, 1:4]\n",
    "display(veriler2)\n",
    "plt.boxplot(veriler2)"
   ]
  },
  {
   "cell_type": "markdown",
   "metadata": {},
   "source": [
    "<p>Aykırı değer kavramı üstünde çeşitli yaklaşımlar vardır. Bunlar aykırı değeri tespit ettikten sonra onları çıkarmak veya yerlerine medyan değeri ekleme gibi yaklaşımlar olabilir. Ancak yöntemler çeşitlilik gösterdiği için alternatiflerden birini seçmek gerekir. Bu örnek üzerinde, aykırı değerlerin veri setinin bütünlüğünü bozup bozmadığını gözlemlemek için <b>scipy</b> kütüphanesinin <b>stats</b> aracını kullanacağınz. Bu doğrultuda veri setindeki z değerlerini elde edip eğer bunlardan mutlak değeri 3'ü geçen varsa onun yerine medyan değerlerini ekleyeceğiz. </p> "
   ]
  },
  {
   "cell_type": "code",
   "execution_count": null,
   "metadata": {},
   "outputs": [],
   "source": [
    "from scipy import stats\n",
    "\n",
    "z_değer = stats.zscore(veriler2)\n",
    "print(z_değer[abs(z_değer) > 3])"
   ]
  },
  {
   "cell_type": "markdown",
   "metadata": {},
   "source": [
    "<p>Görüldüğü üzere veri setinde bütünlüğü bozan bir aykırı değer görünmüyor bu yönteme göre. Ancak diyelim ki Boy kolonunda gerçekten çok uçuk bir değer olsaydı, bu durumda nasıl bir yaklaşım izlememiz gerekirdi bir de bunu inceleyelim. </p>"
   ]
  },
  {
   "cell_type": "code",
   "execution_count": null,
   "metadata": {},
   "outputs": [],
   "source": [
    "veriler2[\"Boy\"][0] = 500\n",
    "z_değer = stats.zscore(veriler2)\n",
    "print(z_değer[abs(z_değer) > 3])"
   ]
  },
  {
   "cell_type": "code",
   "execution_count": null,
   "metadata": {
    "scrolled": true
   },
   "outputs": [],
   "source": [
    "print(veriler2[\"Boy\"].quantile(0.50)) \n",
    "print(veriler2[\"Boy\"].quantile(0.95)) "
   ]
  },
  {
   "cell_type": "code",
   "execution_count": null,
   "metadata": {},
   "outputs": [],
   "source": [
    "veriler2[\"Boy\"] = np.where(veriler2[\"Boy\"] > 283, 167, veriler2[\"Boy\"])\n",
    "display(veriler2.iloc[0:1, :])"
   ]
  },
  {
   "cell_type": "markdown",
   "metadata": {},
   "source": [
    "<p>Görüldüğü üzere biraz önce ilk satırdaki 500 olan boy değeri, medyan değeri olan 167 ile değiştirildi. </p>"
   ]
  },
  {
   "cell_type": "markdown",
   "metadata": {},
   "source": [
    "<p>12) Oluşturduğunuz ikinci veri setini (sadece sayısal değerleri içeren) kullanarak her bir kolonun matematiksel dağılımını (1,3) formatına uygun olarak subplot'lar yardımıyla görselleştiriniz. </p>"
   ]
  },
  {
   "cell_type": "code",
   "execution_count": null,
   "metadata": {
    "scrolled": true
   },
   "outputs": [],
   "source": [
    "import numpy as np\n",
    "import pandas as pd\n",
    "import matplotlib.pyplot as plt\n",
    "import seaborn as sbn\n",
    "\n",
    "veriler2 = veriler.iloc[:, 1:4]\n",
    "\n",
    "fig = plt.figure(figsize = (9, 6))\n",
    "plt.subplot(1, 3, 1)\n",
    "sbn.distplot(veriler2[\"Boy\"])\n",
    "plt.subplot(1, 3, 2)\n",
    "sbn.distplot(veriler2[\"Kilo\"])\n",
    "plt.subplot(1, 3, 3)\n",
    "sbn.distplot(veriler2[\"Yaş\"])\n",
    "plt.show()"
   ]
  },
  {
   "cell_type": "markdown",
   "metadata": {},
   "source": [
    "<p>13) Oluşturduğumuz ilk veri setine (kategorik kolonları da içeren) kişilerin yaş durumlarına göre \"Çocuk\", \"Yetişkin\" veya \"Yaşlı\" gibi bilgilerin yer aldığı yeni bir kolon ekleyin (0-18 Arası Çocuk, 18-65 Arası Yetişkin, 65+ Yaşlı)."
   ]
  },
  {
   "cell_type": "code",
   "execution_count": null,
   "metadata": {},
   "outputs": [],
   "source": [
    "def yaş_durumu_ekle(df, kolon):\n",
    "    yeni_kolon = []\n",
    "    for i in range(len(df)):\n",
    "        if df[kolon][i] < 18:\n",
    "            yeni_kolon.append(\"Çocuk\")\n",
    "        elif df[kolon][i] >= 18 and df[kolon][i] < 65:\n",
    "            yeni_kolon.append(\"Yetişkin\")\n",
    "        else:\n",
    "            yeni_kolon.append(\"Yaşlı\")\n",
    "        df[\"Yaş Durumu\"] = pd.DataFrame(yeni_kolon)\n",
    "    return df\n",
    "\n",
    "yeni_df = yaş_durumu_ekle(veriler, \"Yaş\")\n",
    "display(yeni_df)"
   ]
  },
  {
   "cell_type": "markdown",
   "metadata": {},
   "source": [
    "<p>14) Oluşturulan ilk veri setindeki \"Boy\", \"Kilo\" ve \"Yaş\" arasındaki ilişkiyi üç boyutlu bir grafik ile görselleştirin. </p>"
   ]
  },
  {
   "cell_type": "code",
   "execution_count": null,
   "metadata": {},
   "outputs": [],
   "source": [
    "import matplotlib.pyplot as plt\n",
    "from mpl_toolkits.mplot3d import Axes3D\n",
    "\n",
    "x = veriler.iloc[:, 1:2].values\n",
    "y = veriler.iloc[:, 2:3].values\n",
    "z = veriler.iloc[:, 3:4].values\n",
    "\n",
    "fig = plt.figure(figsize=(9, 6))\n",
    "ax = plt.axes(projection = '3d')\n",
    "ax.scatter3D(x, y, z)\n",
    "ax.set_xlabel('Boy')\n",
    "ax.set_ylabel('Kilo')\n",
    "ax.set_zlabel('Yaş')"
   ]
  },
  {
   "cell_type": "markdown",
   "metadata": {},
   "source": [
    "<p>15) Aşağıdaki array'leri uygun şekilde birleştirip her bir array bir sütun bildirecek şekilde bir veri setine haline getirin. Ardından kayıp değerleri veri bütünlüğünü bozmadan yeniden düzenleyip veri setini son haline getirin.</p>\n",
    "<p>arr1 = np.array([[10, 11, 11, 8, 9, 12, np.nan, 10, 12, np.nan, 13, 11, np.nan, 8, 10]]) </p>\n",
    "<p>arr2 = np.array([[43, 38, 47, 36, 32, 33, 40, 45, 43, 33, 28, np.nan, np.nan, 46, 28]]) <p>"
   ]
  },
  {
   "cell_type": "code",
   "execution_count": null,
   "metadata": {},
   "outputs": [],
   "source": [
    "import numpy as np\n",
    "import pandas as pd\n",
    "\n",
    "arr1 = np.array([[10, 11, 11, 8, 9, 12, np.nan, 10, 12, np.nan, 13, 11, np.nan, 8, 10]])\n",
    "arr2 = np.array([[43, 38, 47, 36, 32, 33, 40, 45, 43, 33, 28, np.nan, np.nan, 46, 28]])\n",
    "\n",
    "arr = np.concatenate((arr1, arr2), axis = 0)\n",
    "print(arr)\n",
    "arr = np.transpose(arr)\n",
    "print(arr)\n",
    "df = pd.DataFrame(arr, columns = [\"Sayılar 1 \", \"Sayılar 2\"])\n",
    "df = df.fillna(df.median())\n",
    "display(df)"
   ]
  },
  {
   "cell_type": "markdown",
   "metadata": {},
   "source": [
    "<p>16) $(-2\\pi, 2\\pi)$ aralığında sinüs ve kosinüs grafiklerini özelleştirilmiş bir grafik içerisinde görselleştirin. </p>"
   ]
  },
  {
   "cell_type": "code",
   "execution_count": null,
   "metadata": {
    "scrolled": true
   },
   "outputs": [],
   "source": [
    "import numpy as np\n",
    "import matplotlib.pyplot as plt\n",
    "\n",
    "x = np.linspace(-2 * np.pi, 2 * np.pi)\n",
    "y1 = np.sin(x)\n",
    "y2 = np.cos(x)\n",
    "\n",
    "fig = plt.figure(figsize = (9, 6))\n",
    "plt.plot(x, y1, linewidth = 5, linestyle = \"solid\", label = \"Sinüs\", color = \"crimson\")\n",
    "plt.plot(x, y2, linewidth = 3, linestyle = \"dashed\", label = \"Kosinüs\", color = \"darkviolet\")\n",
    "plt.legend(loc = \"lower left\")\n",
    "plt.xlabel(\"X Ekseni\", fontsize = 20)\n",
    "plt.ylabel(\"Y Ekseni\", fontsize = 20)\n",
    "plt.title(\"Genel Grafik\", fontsize = 25)\n",
    "plt.show()"
   ]
  }
 ],
 "metadata": {
  "kernelspec": {
   "display_name": "Python 3",
   "language": "python",
   "name": "python3"
  },
  "language_info": {
   "codemirror_mode": {
    "name": "ipython",
    "version": 3
   },
   "file_extension": ".py",
   "mimetype": "text/x-python",
   "name": "python",
   "nbconvert_exporter": "python",
   "pygments_lexer": "ipython3",
   "version": "3.8.5"
  }
 },
 "nbformat": 4,
 "nbformat_minor": 4
}
