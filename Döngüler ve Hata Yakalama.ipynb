{
 "cells": [
  {
   "cell_type": "markdown",
   "metadata": {},
   "source": [
    "# DÖNGÜLER\n",
    "\n",
    "<p>Python'a Giriş konularında programlama alanında kullanılan bazı temel konuları gördük. Bu konular ile bazı temel işlemleri yapabilmekteyiz. Ancak daha otomatize ve ciddi işler yapmak için başka araçlara da ihtiyacımız olacaktır. İşte bu noktada döngüler ve hata yakalama bizi bir adım daha ileriye götürmektedir. </p>\n",
    "\n",
    "<p>Döngüler programlarımızı otomatize etme yönündeki en önemli araçlardan biridir. Dikkat edilirse ilk konulardaki programlar tek kullanımlık kodlardı. Ancak tek kullanımlık kodlar her zaman işlevsel olmayabilir. Bu gibi durumlarda döngüler devreye girer ve kodlarımızın sınırlı ya da sınırsız aralıklarda çalışmasını sağlar. </p>\n",
    "\n",
    "<p>Döngüler temel olarak while ve for olarak iki ayrılır. Bu iki yapı pseudo-code (sözde kod) diziminde de yoğun olarak kullanılmaktadır. Ancak bazı programlama dilleri bu iki yapının yanında do-while ve switch case gibi unsurları da içermektedir. Python'da bu ek yapılar bulunmamakta, sadece while ve for döngüleri yer almaktadır. </p>\n"
   ]
  },
  {
   "cell_type": "markdown",
   "metadata": {},
   "source": [
    "# while Döngüsü\n",
    "\n",
    "<p>Bu döngü programların sınırlı veya sınırsız aralıklarda çalışmasını sağlamaktadır. Eğer sınır manuel olarak belirtilmezse program sonsuza kadar çalışır, ki bu istenmeyen bir durumdur. Bundan dolayı while kullanırken mutlaka programı sonlandıracak bir mekanizma geliştirilmelidir. </p>\n",
    "\n",
    "<p>while döngüsünün sonsuza kadar çalışmasına ilişkin aşağıdaki örnek incelenebilir. Bu örnek dıştan sonlandırılmadığı takdirde sürekli olarak çalışmaya devam edecektir. Çünkü x = 10 şartını değiştirecek hiçbir kısıt konulmamıştır.</p>"
   ]
  },
  {
   "cell_type": "code",
   "execution_count": null,
   "metadata": {},
   "outputs": [],
   "source": [
    "x = 10\n",
    "while x == 10:\n",
    "    print(\"x, 10'a eşittir.\")"
   ]
  },
  {
   "cell_type": "markdown",
   "metadata": {},
   "source": [
    "<p>Bu döngüyü kullanırken operatörler, koşullu ifadeler, mantıksal kısıtlar oluşturmak döngüyü kontrol altına almak için kullanılan bazı yollardandır. </p>"
   ]
  },
  {
   "cell_type": "code",
   "execution_count": null,
   "metadata": {},
   "outputs": [],
   "source": [
    "a = 0\n",
    "while a < 10:\n",
    "    a += 1\n",
    "    print(a)"
   ]
  },
  {
   "cell_type": "markdown",
   "metadata": {},
   "source": [
    "<p> Yukarıdaki kodun çıktısı 1, 2, 3, 4, 5, 6, 7, 8, 9 ve 10’dur. İlk başta x’in değeri 0 olarak başlar ve döngüye girildiği anda her seferinde x’e +1 eklenir. Böylece sayı 10’a ulaştığında Python artık x’in 10’dan küçük olmadığını anlar ve döngüyü sonlandırır. </p>\n",
    "\n",
    "<p>Bu yöntem while döngüsünü sınırlandırmak için uygun olsa da her zaman kullanışlı değildir. Mesela kullanıcıdan, kullanıcının istediği sayıda değer almak istediğimizde aşağıdaki gibi bir yaklaşım daha doğru olacaktır. Ancak aşağıdaki örneği incelemeden önce break komutunu da öğrenmek gerekiyor.</p>\n",
    "\n",
    "# break Komutu\n",
    "<p>Bu komut döngü içerisinde bir şart sağlandığı zaman programı sonlandırmaya yarar. Özellikle while döngüsü ile çok sık kullanılır. </p>"
   ]
  },
  {
   "cell_type": "code",
   "execution_count": null,
   "metadata": {},
   "outputs": [],
   "source": [
    "while True:\n",
    "    a = input(\"Bir değer girin: \")\n",
    "    if a == \"s\":\n",
    "        print(\"İşlem sonlandırıldı.\")\n",
    "        break"
   ]
  },
  {
   "cell_type": "markdown",
   "metadata": {},
   "source": [
    "<p>Yukarıdaki kodda kullanılan \"while True\" yapısı işlem içerisinde gerçekleşen eylemler doğru olduğu müddetçe, yani a değeri \"s\" harfine eşit olmadığı müddetçe devam edecek anlamına gelir. Ancak değişkenin değeri \"s\" harfi olarak seçildiğinde döngü break vasıtası ile sonlanlandırılır. </p>"
   ]
  },
  {
   "cell_type": "code",
   "execution_count": null,
   "metadata": {},
   "outputs": [],
   "source": [
    "while a != -1:\n",
    "    a = int(input(\"Bir sayı girin: \"))"
   ]
  },
  {
   "cell_type": "markdown",
   "metadata": {},
   "source": [
    "<p>Buradaki örnekte ise while en baştan sınırlandırılıyor ve -1 değeri girildiğinde break komutuna gerek kalmadan program sonlanıyor. </p>"
   ]
  },
  {
   "cell_type": "markdown",
   "metadata": {},
   "source": [
    "# for Döngüsü\n",
    "\n",
    "<p> for döngüsü, programları sınırlı ya da sınırsız aralıklarda çalıştırmaya yarar. for’un while’dan farkı,\n",
    "while’da kod aksi belirtilmediği müddetçe sınırsız bir aralıkta çalışırken, for’da ise programın hangi\n",
    "aralıkta çalışacağı en baştan belirtilmek zorundadır. </p>\n",
    "\n",
    "<p> for döngüsünde sınır belirleme işlemlerinde range() fonksiyonu sıklıkla kullanılır. </p>"
   ]
  },
  {
   "cell_type": "code",
   "execution_count": null,
   "metadata": {},
   "outputs": [],
   "source": [
    "harfler = \"abcdefgh\"\n",
    "for harf in harfler:\n",
    "    print(harf)"
   ]
  },
  {
   "cell_type": "markdown",
   "metadata": {},
   "source": [
    "<p>Bu örnekte \"harfler\" isimli bir karakter dizisi tanımlanıyor. Daha sonra bir for döngüsü açılıyor ve harfler içerisindeki her bir eleman \"harf\" adlı keyfi bir değişken ismi alıyor. Burada harf değişkeni aslında tek bir elemanı simgeliyor. Ancak for döngüsü adım adım ilerleyen bir döngü olduğu için, yani harfler değişkeninin ilk elemanından son elemanına kadar bu döngünün elemanları tek tek incelendiği için, her bir adımda harf değişkeni ile ilişkilendiriliyor ve her bir adımda farklı bir eleman ekrana yansıtılıyor. </p>\n",
    "\n",
    "<p>for döngüsündeki bir diğer önemli nokta da bu döngünün $iteratif$ yani tekrarlanabilir veri tiplerinde çalışmasıdır. Python'da şimdiye kadar gördüğümüz değişkenler arasında karakter dizileri iteratif iken sayılar değildi. Bundan dolayı sayısal bir değer döngü içerisine sokulursa program hata verecektir. </p>"
   ]
  },
  {
   "cell_type": "code",
   "execution_count": null,
   "metadata": {},
   "outputs": [],
   "source": [
    "sayı = 1000\n",
    "for i in sayı:\n",
    "    print(i)"
   ]
  },
  {
   "cell_type": "markdown",
   "metadata": {},
   "source": [
    "# range() Fonksiyonu\n",
    "\n",
    "<p>Sayıların iteratif yapılar olmamasından dolayı doğrudan for döngüsüne sokulamayacağından söz etmiştik. Ancak sayılar döngülerde önemli bir yer tutar. Bundan dolayı Python'da sayıların döngülere doğrudan dahil edilmesi için range() fonksiyonu geliştirilmiştir. Bu fonksiyon belli bir aralıkta sayılar verir. Örneğin range(0, 10) yazdığımızda bu aralığın matematiksel karşılığı [0, 10) olmaktadır. Yani fonksiyondaki ilk sayı aralıkta bulunurken son sayı yer almamaktadır. Bu özellikler doğrultusunda aşağıdaki gibi işlemler yapılabilir. </p>"
   ]
  },
  {
   "cell_type": "code",
   "execution_count": null,
   "metadata": {},
   "outputs": [],
   "source": [
    "for i in range(1, 11):\n",
    "    print(i)"
   ]
  },
  {
   "cell_type": "code",
   "execution_count": null,
   "metadata": {},
   "outputs": [],
   "source": [
    "for i in range(0, 10):\n",
    "    print(i, end = \" \")"
   ]
  },
  {
   "cell_type": "markdown",
   "metadata": {},
   "source": [
    "<p>Eğer range() fonksiyonundaki aralık sadece iki değer olarak belirtilirse sayılar ilk değerden son değere kadar birer birer artar. Ancak daha farklı artış miktarları elde etmek istersek bu durumda fonksiyonun üçüncü parametresini, yani sayıların kaçar artacağını bildiren parametreyi yazmak durumundayız. </p>"
   ]
  },
  {
   "cell_type": "code",
   "execution_count": null,
   "metadata": {},
   "outputs": [],
   "source": [
    "for i in range(0, 101, 5): #0-100 arasındaki beş ile bölünebilen sayıları verir\n",
    "    print(i, end = \" \")"
   ]
  },
  {
   "cell_type": "code",
   "execution_count": null,
   "metadata": {},
   "outputs": [],
   "source": [
    "for i in range(0, 21, 2): #0-20 arasındaki çift sayıları verir\n",
    "    print(i)"
   ]
  },
  {
   "cell_type": "code",
   "execution_count": null,
   "metadata": {},
   "outputs": [],
   "source": [
    "for i in range(10, -1, -1): #Sayılar !0'dan 0'a kadar birer birer azalır.\n",
    "    print(i, end = \" \")"
   ]
  },
  {
   "cell_type": "markdown",
   "metadata": {},
   "source": [
    "## pass Deyimi\n",
    "\n",
    "<p>Döngülerde kullanılan bazı komutlar olduğunu break komutu sayesinde öğrenmiştik. Bu komut belli bir şart sağlandığında döngüyü tamamen sona erdiriyordu. Ancak bazı durumlarda bu kadar keskin bir yöntem yerine, yani döngünün tamamen sona ermesi yerine döngünün belli bir kısmının geçersiz kılınmasını, kalanının devam etmesini isteyebiliriz. İşte böyle durumlarda break yerine kullanılabilecek alternatif komutlar var. Bunlardan bir tanesi de pass deyimi. </p>\n",
    "\n",
    "<p>Bu komutun görevi bir döngü içerisinde gösterilmesini istemediğimiz işlemi geçersiz kılarak döngünün devam etmesini sağlamaktır. </p>"
   ]
  },
  {
   "cell_type": "code",
   "execution_count": null,
   "metadata": {},
   "outputs": [],
   "source": [
    "kelime = \"büyüklük\"\n",
    "for harf in kelime:\n",
    "    if harf == \"ü\":\n",
    "        pass\n",
    "        print(\"    harfi çıkarıldı: ü\")\n",
    "    else:\n",
    "        print(harf)\n",
    "\n",
    "print(\"------------------------------\")\n",
    "\n",
    "kelime = \"büyüklük\"\n",
    "for harf in kelime:\n",
    "    if harf == \"ü\":\n",
    "        pass\n",
    "    else:\n",
    "        print(harf)"
   ]
  },
  {
   "cell_type": "markdown",
   "metadata": {},
   "source": [
    "<p>Örnekte görüldüğü üzere pass deyimi sayesinde ü harfine gelindiğinde bunlar özel bir şekilde belirtilmediği takdirde ekrana yansıtılmadı. </p>"
   ]
  },
  {
   "cell_type": "markdown",
   "metadata": {},
   "source": [
    "# continue Deyimi\n",
    "\n",
    "<p>continue deyimi, Python'da döngülerde kullanılan ve döngü içerisinde sağlanmasını istemediğimiz bir durumla karşılaştığımızda, o işlemi es geçip döngünün başına dönmemizi sağlayan bir ifadedir. </p>"
   ]
  },
  {
   "cell_type": "code",
   "execution_count": null,
   "metadata": {
    "scrolled": true
   },
   "outputs": [],
   "source": [
    "kelime = \"BİLGİSAYAR\"\n",
    "for harf in kelime:\n",
    "    if harf == \"G\":\n",
    "        print(\"\\tşu harf es geçildi: G\")\n",
    "        continue\n",
    "    print(harf)"
   ]
  },
  {
   "cell_type": "markdown",
   "metadata": {},
   "source": [
    "<p>continue ve pass deyimleri döngü içerisinde benzer işlevlere sahiptir. Ancak aralarında önemli bir fark vardır. Pass deyimi döngü içerisinde belirtilen işleme sıra geldiğinde onu yok farz eder ve döngü kaldığı yerden devam eder. continue deyimi ise belirtilen işleme geldiğinde onu es geçip döngünün en başına döner. Aşağıdaki örnek bunu anlamak için somut bir görüntü oluşturmaktadır. </p>"
   ]
  },
  {
   "cell_type": "code",
   "execution_count": null,
   "metadata": {},
   "outputs": [],
   "source": [
    "kelime = \"programlama\"\n",
    "for harf in kelime:\n",
    "    if harf == \"g\":\n",
    "        continue\n",
    "    print(harf)\n",
    "    \n",
    "print()\n",
    "\n",
    "for harf in kelime:\n",
    "    if harf == \"g\":\n",
    "        pass\n",
    "    print(harf)"
   ]
  },
  {
   "cell_type": "markdown",
   "metadata": {},
   "source": [
    "## İç İçe Yapılar \n",
    "\n",
    "<p>İç içe yapılar programlama dillerinde sıklıkla kullanılır. Bunun sebebi bir işlemi yapmak için bazen çok katmanlı mekanizmalar gerekir. Gerek koşullu ifadelerde gerekse de döngüler de bu çok katmanlı ya da çok aşamalı mekanizmalar iç içe yapılar sayesinde oluşturulur. </p>\n",
    "\n",
    "<p>Aşağıdaki örnekte bunun için basit bir senaryo bulunmaktadır. Diyelim ki belli seviyede matematik işlemleri yapabileceğiniz bir site bulunmakta. Ancak siteye üye olunmadığı takdirde sadece temel aritmetik işlemler yapılabiliyor. Daha ileri seviye işlemler için ise üye olmak gerekiyor. Bundan dolayı siteye girişte ilk olarak yapılacak işlem soruluyor. Eğer üye olunmadan sadece basit aritmetik işlemler yapılacaksa 'Aritmetik İşlem' başlığı, üyelik veya giriş için ise 'Giriş veya Kayıt' seçeneği seçiliyor. Buna göre ya girdiğimiz iki sayı üstünen aritmetik işlemler yapılıyor ya da var ise mevcut üyelik kontrol ediliyor, yok ise yeni kayıt alınıyor. </p>"
   ]
  },
  {
   "cell_type": "code",
   "execution_count": null,
   "metadata": {},
   "outputs": [],
   "source": [
    "işlem1 = input(\"Yapacağınız işlemi seçin ('Aritmetik İşlem' veya 'Giriş veya Kayıt'): \")\n",
    "üyelik_adı = \"Abc Xyz\"\n",
    "\n",
    "if işlem1 == \"Aritmetik İşlem\":\n",
    "    işlem2 = input(\"Yapacağınız aritmetik işlemi seçin ('Toplama', 'Çıkarma', 'Bölme' veya 'Çarpma'): \")\n",
    "    if işlem2 == 'Toplama':\n",
    "        sayı1 = int(input(\"İlk sayı: \"))\n",
    "        sayı2 = int(input(\"İkinci sayı: \"))\n",
    "        print(\"Sonuç:\", sayı1 + sayı2)\n",
    "    elif işlem2 == \"Çıkarma\":\n",
    "        sayı1 = int(input(\"İlk sayı: \"))\n",
    "        sayı2 = int(input(\"İkinci sayı: \"))\n",
    "        print(\"Sonuç:\", sayı1 - sayı2)\n",
    "    elif işlem2 == \"Bölme\":\n",
    "        sayı1 = int(input(\"İlk sayı: \"))\n",
    "        sayı2 = int(input(\"İkinci sayı: \"))\n",
    "        print(\"Sonuç:\", sayı1 / sayı2)\n",
    "    elif işlem2 == \"Çarpma\":\n",
    "        sayı1 = int(input(\"İlk sayı: \"))\n",
    "        sayı2 = int(input(\"İkinci sayı: \"))\n",
    "        print(\"Sonuç:\", sayı1 * sayı2)\n",
    "    else:\n",
    "        print(\"Geçersiz İşlem!\")\n",
    "        \n",
    "        \n",
    "elif işlem1 == \"Giriş veya Kayıt\":\n",
    "    işlem2 = input(\"Daha önce kayıt yaptırdınız mı? ('Evet' veya 'Hayır'): \")\n",
    "    if işlem2 == \"Hayır\":\n",
    "        yeni_kayıt = input(\"Üyelik adınızı giriniz: \")\n",
    "        print(\"Sayın {}, kaydınız başarıyla alınmıştır.\".format(yeni_kayıt))\n",
    "    elif işlem2 == \"Evet\":\n",
    "        mevcut_kayıt = input(\"Kayıtlı olduğunuz ismi girin: \")\n",
    "        if mevcut_kayıt == üyelik_adı:\n",
    "            print(\"Sayın {}, hoşgeldiniz!\".format(üyelik_adı))\n",
    "        else:\n",
    "            print(\"Belirttiğiniz isim kayıtlarda bulunamamıştır, lütfen tekrar deneyiniz.\")\n",
    "    else:\n",
    "        print(\"Geçersiz İşlem!\")\n",
    "        \n",
    "        \n",
    "else:\n",
    "    print(\"Geçersiz İşlem!\")"
   ]
  },
  {
   "cell_type": "markdown",
   "metadata": {},
   "source": [
    "<p>İç içe döngüler döngü içerisinde döngü demektir. İç döngü, dış döngünün her bir iterasyonu için bir kez çalışır. Böylece ihtiyaç halinde sınırlı ya da sınırsız aralıklarda çalışan karar mekanizmaları oluşturulabilinir. </p>"
   ]
  },
  {
   "cell_type": "code",
   "execution_count": null,
   "metadata": {},
   "outputs": [],
   "source": [
    "s1 = \"12\"\n",
    "s2 = \"123\"\n",
    "\n",
    "for i in s1:\n",
    "    for j in s2:\n",
    "        print(f\"({i}, {j})\")"
   ]
  },
  {
   "cell_type": "markdown",
   "metadata": {},
   "source": [
    "<p>Yukarıdaki örnekte içe içe döngü sırası s1 içinde s2 üzerine işlemler yapmak üzerine kurulu. Bundan dolayı önce s1'in ilk değeri olan 1 elemanı s2'nin bütün elemanları ile eşleşiyor. Bu tamamlandığında ise s2'nin ikinci elemanı olan 2 değeri diğer elemanlarla eşleşiyor ve ortaya yukarıdaki görüntü çıkıyor. </p>"
   ]
  },
  {
   "cell_type": "code",
   "execution_count": null,
   "metadata": {},
   "outputs": [],
   "source": [
    "for i in range(1, 3):\n",
    "    for j in range(1, 4):\n",
    "        print(\"Dış döngünün {}. elemanı iç döngünün {}. elemanı ile eşleşti.\".format(i, j))\n",
    "    print(\"Dış döngünün {}. elemanı, iç döngünün bütün elemanları ile eşleşti. Şimdi sonraki elemana geçiliyor.\".format(i))\n",
    "print(\"Eleman kalmadı ve döngü sonlandı.\")"
   ]
  },
  {
   "cell_type": "markdown",
   "metadata": {},
   "source": [
    "<p>İç içe döngüler for ve while yapılarının her türlü kombinasyonu ile kullanılabilir. Yani for içinde for, for içinde while, while içinde for ve while içinde while kullanarak programlar oluşturulabilir. Burada önemli olan doğru mantıksal yapıyı oluşturmaktır. </p>"
   ]
  },
  {
   "cell_type": "code",
   "execution_count": null,
   "metadata": {},
   "outputs": [],
   "source": [
    "a = 1\n",
    "while a < 10:\n",
    "    for i in range(1, 10):\n",
    "        print(a * i, end = \" \")\n",
    "    a += 1\n",
    "    print(\"\\n\")"
   ]
  },
  {
   "cell_type": "markdown",
   "metadata": {},
   "source": [
    "<p>Yukarıdaki örnekte while içinde for kullanılarak basit bir çarpım tablosu oluşturulmuştur. Aynı sonuç başka iç içe döngülerle de kurulabilir. </p>"
   ]
  },
  {
   "cell_type": "markdown",
   "metadata": {},
   "source": [
    "## HATA YAKALAMA\n",
    "\n",
    "<p>İster başlangıç seviyesi ister ileri seviye olsun programlamanın her seviyesinde hata yapmak kaçınılmazdır. Hata yapmaktan korkmamak gerekir. Ancak hata yaptığımızda bunu yönetmeyi ve hata türlerinin neler olduğunu bilmek gerekir. Bu hususta aşağıdaki örneğe bakalım ve Python'un bu hatayı nasıl adlandırdığını görelim </p>"
   ]
  },
  {
   "cell_type": "code",
   "execution_count": null,
   "metadata": {},
   "outputs": [],
   "source": [
    "değer = \"karater dizisi\" \n",
    "print(değer + 1)"
   ]
  },
  {
   "cell_type": "markdown",
   "metadata": {},
   "source": [
    "<p>Yukarıda karakter dizisi tipinde bir değişken tanımladık ve onun bir sayıyla toplamını ekrana bastırmaya çalıştık. Ne var ki bir sayı ile karakter dizisi toplanamaz. İşte böyle bir durum, yani yapılacak bir işlemde uyumsuz veri tiplerinin kullanıldığı hatalara Python'da 'TypeError' yani tip hatası denir. Buna benzer pek çok hata türü vardır. Ancak belli başlı hata türleri daha sık önümüze çıkar. Bunları aşağıda inceleyelim. </p>"
   ]
  },
  {
   "cell_type": "markdown",
   "metadata": {},
   "source": [
    "# 1) Sentaks Hatası\n",
    "\n",
    "<p>Bir programlama dilinde programın çalışmasını sağlayacak doğru kod dizilimine sentaks denir. Eğer kod diziliminde bir hata yaparsak Python bunu anlayamaz ve kodu çalıştıramaz. Bu tarz hatalara sektaks hatası, ya da Python'daki haliyle \"SyntaxError\" denir."
   ]
  },
  {
   "cell_type": "code",
   "execution_count": null,
   "metadata": {},
   "outputs": [],
   "source": [
    "harfler = \"abc\"\n",
    "for harf in harfler;\n",
    "    print(harf)"
   ]
  },
  {
   "cell_type": "markdown",
   "metadata": {},
   "source": [
    "<p>Yukarıdaki kodu çalıştırdığımızda Python en altta belirttiği gibi bir sentaks hatası verdi. Çünkü for döngüsünü yazdığımız satırın sonunda noktalı virgül değil iki nokta üst üste kullanılmalıydı. Böyle yapmadığımız için Python ne yapmak istediğimizi tam anlayamadı ve kod hata verdi. </p>\n",
    "\n",
    "# 2) Tür Hatası:\n",
    "\n",
    "<p>Python'da bazı işlemleri aynı değişken türleri üstünden yapabiliriz. Mesela bir toplama işlemi için iki sayısal değer gereklidir. Eğer bir sayısal değer ile bir karakter dizisini toplamaya çalışırsak burada bir hata alacağız demektir. Bu da TypeError denilen ve Türkçesi tür hatası anlamına gelen bir hatadır. </p>"
   ]
  },
  {
   "cell_type": "code",
   "execution_count": null,
   "metadata": {},
   "outputs": [],
   "source": [
    "print(5 + \"abc\")"
   ]
  },
  {
   "cell_type": "markdown",
   "metadata": {},
   "source": [
    "# 3) Değer Hatası:\n",
    "\n",
    "<p>Bir veri tipini bir nesneye atarken dikkatli olmalıyız. Bazı durumlarda bunu yapamazsak ValueError denilen değer hatası alabiliriz. </p>"
   ]
  },
  {
   "cell_type": "code",
   "execution_count": null,
   "metadata": {},
   "outputs": [],
   "source": [
    "int(\"kelime\")"
   ]
  },
  {
   "cell_type": "markdown",
   "metadata": {},
   "source": [
    "<p>int() fonksiyonu \"123\" gibi sayısal değer içermeyen karakter dizilerini tam sayıya dönüştüremez. Eğer biz bunu yapmaya zorlarsak da yukarıdaki hatayı verir. </p>\n",
    "\n",
    "# 4) Sıfıra Bölme Hatası:\n",
    "\n",
    "<p>Matematiksel olarak bir sayıyı 0'a bölemeyiz. Böyle bir hataya düşersek Python bize ZeroDivisionError, yani sıfıra bölme hatası verecektir. </p>"
   ]
  },
  {
   "cell_type": "code",
   "execution_count": null,
   "metadata": {},
   "outputs": [],
   "source": [
    "print(100 / 0)"
   ]
  },
  {
   "cell_type": "markdown",
   "metadata": {},
   "source": [
    "# 5) İsim Hatası:\n",
    "\n",
    "<p>Eğer atamadığımız bir değişken üzerinden işlem yapmaya çalışırsak, NameError denilen isim hatası alırız. </p>"
   ]
  },
  {
   "cell_type": "code",
   "execution_count": null,
   "metadata": {},
   "outputs": [],
   "source": [
    "x = 100\n",
    "y = 50\n",
    "print(x + y + z)"
   ]
  },
  {
   "cell_type": "markdown",
   "metadata": {},
   "source": [
    "# try...except... Yapısı:\n",
    "\n",
    "<p>Python'daki hata türlerini idare edebilmek için kullanılan çeşitli yöntemler vardır. Bunlardan en temeli try...except... yapısıdır. Bu yapı sayesinde Python bünyesinde tanımlanan hataları rahatlıkla idare edebiliriz. </p>"
   ]
  },
  {
   "cell_type": "code",
   "execution_count": null,
   "metadata": {},
   "outputs": [],
   "source": [
    "try: #exception handling\n",
    "    a = 10\n",
    "    print(a + \"abc\")\n",
    "except TypeError:\n",
    "    print(\"TypeError hatası yapıldı\")"
   ]
  },
  {
   "cell_type": "markdown",
   "metadata": {},
   "source": [
    "<p>Yukarıdaki kod çalıştırıldığında Python bize TypeError ile ilgili genel hata mesajı yerine bizim print() fonksiyonu içerisinde belirlediğimiz hata mesajını\n",
    "gösterecektir.</p>"
   ]
  },
  {
   "cell_type": "code",
   "execution_count": null,
   "metadata": {},
   "outputs": [],
   "source": [
    "try:\n",
    "    s1 = int(input(\"İlk değer: \"))\n",
    "    s2 = int(input(\"İkinci değer: \"))\n",
    "    print(s1/s2)\n",
    "except ZeroDivisionError:\n",
    "    print(\"Sıfır dile bir sayı bölünemez.\")"
   ]
  },
  {
   "cell_type": "markdown",
   "metadata": {},
   "source": [
    "# try...except...else Yapısı:\n",
    "\n",
    "<p>try...except... yapısında oluşturduğumuz şartlar bize bir hata olarak dönmezse, bunlara ilaveten else yapısını da kullanabiliriz. Bu sayede \n",
    "birden fazla hata türünü aynı blok altında toplayabiliriz ya da bloğa ilaveten başka bir kod yapısıyla da devam edebiliriz. </p>"
   ]
  },
  {
   "cell_type": "code",
   "execution_count": null,
   "metadata": {},
   "outputs": [],
   "source": [
    "try:\n",
    "    sayı1 = int(input(\"Sayı 1: \"))\n",
    "    sayı2 = int(input(\"Sayı 2: \"))\n",
    "    print(sayı1/sayı2)\n",
    "except ValueError:\n",
    "    print(\"Değer hatası yapıldı\")\n",
    "except ZeroDivisionError:\n",
    "    print(\"Sıfıra bölme hatası yapıldı\")\n",
    "else:\n",
    "    print(\"Sıfıra bölme veya değer hatası yapılmadı\")"
   ]
  },
  {
   "cell_type": "markdown",
   "metadata": {},
   "source": [
    "# raise Yapısı:\n",
    "\n",
    "<p>raise yapısı, Python'daki temel hatalarla ya da kendi belirleyeceğimiz özel bir durumla karşılaştığımızda, bize yine kendi belirleyeceğimiz bir hata mesajı yazmamızı sağlar. </p>"
   ]
  },
  {
   "cell_type": "code",
   "execution_count": null,
   "metadata": {},
   "outputs": [],
   "source": [
    "rakamlar = \"0123456789\"\n",
    "ad = input(\"Adınız: \")\n",
    "for i in ad:\n",
    "    if i in rakamlar:\n",
    "        raise Exception(\"Adınızda Rakam Olamaz!\")"
   ]
  },
  {
   "cell_type": "markdown",
   "metadata": {},
   "source": [
    "# SORULAR\n",
    "\n",
    "<p> 1) while döngüsünü kullanarak 1’den 20’ye kadar sayıları alt alta sıralayacak kodu yazın. <p>"
   ]
  },
  {
   "cell_type": "code",
   "execution_count": null,
   "metadata": {
    "scrolled": true
   },
   "outputs": [],
   "source": [
    "a = 0\n",
    "while a < 20:\n",
    "    a += 1\n",
    "    print(a)"
   ]
  },
  {
   "cell_type": "markdown",
   "metadata": {},
   "source": [
    "<p>2) İlave atama değerlerini (+=, -=, /=, *=) kullanarak aşağıdaki işlemleri yapın. Her seçenekte toplam 10 terim olacağına dikkat edin. </p>\n",
    "<p>i) 100’den itibaren sayıları yüzer yüzer arttırarak 1000 değerine ulaşın. </p>\n",
    "<p>ii) 3.0 değerinden 0.3 çıkartarak 0'a kadar ulaşın. </p>\n",
    "<p>iii) 2048’den başlayarak sayıları 2’ye bölerek 2 değerine ulaşın.</p>\n",
    "<p>iv) 1’den başlayaran sayıları 3 ile çarparak 59049 sayısına ulaşın. </p>"
   ]
  },
  {
   "cell_type": "code",
   "execution_count": null,
   "metadata": {},
   "outputs": [],
   "source": [
    "a = 0\n",
    "while a < 1000:\n",
    "    a += 100\n",
    "    print(a)\n",
    "    \n",
    "print()\n",
    "b = 3.0\n",
    "while b > 0.3:\n",
    "    b -= 0.3\n",
    "    print(\"%.2f\" % b) \n",
    "    \n",
    "print()\n",
    "c = 2048\n",
    "while c > 2:\n",
    "    c /= 2\n",
    "    print(c)\n",
    "\n",
    "print()\n",
    "d = 1\n",
    "while d < 59049:\n",
    "    d *= 3\n",
    "    print(d)"
   ]
  },
  {
   "cell_type": "markdown",
   "metadata": {},
   "source": [
    "<p> 3) while döngüsünü kullanarak istediğiniz sayıda sayı girin ve bunlardan en büyüğünü bulup ekrana bastırın. </p>"
   ]
  },
  {
   "cell_type": "code",
   "execution_count": null,
   "metadata": {},
   "outputs": [],
   "source": [
    "büyük = int(input(\"İlk sayıyı girin: \"))\n",
    "\n",
    "while True:\n",
    "    sayı = int(input(\"Bir sayı daha girin (çıkmak için -1): \"))\n",
    "    if sayı == -1:\n",
    "        print(\"İşlem sonlandırılıyor.\")\n",
    "        break\n",
    "    if büyük < sayı:\n",
    "        büyük = sayı\n",
    "        \n",
    "print(büyük)"
   ]
  },
  {
   "cell_type": "markdown",
   "metadata": {},
   "source": [
    "<p>4) İstediğiniz basamak değerinde bir pozitif tam sayı giriniz ve o tam sayıda kaç tane 5 rakamı olduğunu bulunuz. </p>"
   ]
  },
  {
   "cell_type": "code",
   "execution_count": null,
   "metadata": {},
   "outputs": [],
   "source": [
    "sayı = int(input(\"Bir sayı giriniz: \")) \n",
    "kaç_basamak = len(str(sayı)) \n",
    "alt_limit = 10 ** (kaç_basamak - 1) \n",
    "beşler = 0\n",
    "\n",
    "yedek = sayı\n",
    "\n",
    "while alt_limit >= 1:\n",
    "    rakam = int(yedek / alt_limit) \n",
    "    if rakam == 5:\n",
    "        beşler += 1\n",
    "    yedek %= alt_limit \n",
    "    alt_limit /= 10 \n",
    "    \n",
    "print(f\"Sayı: {sayı}\")\n",
    "print(f\"Kaç adet 5 var?: {beşler}\")"
   ]
  },
  {
   "cell_type": "markdown",
   "metadata": {},
   "source": [
    "<p>5) for döngüsü kullanarak, aşağıdaki ifadeleri açıklamalara uygun bir şekilde ekrana bastırın.</p>\n",
    "<p>i) 1’den 20’ye kadar olan sayıları ekrana bastırın.</p>\n",
    "<p>ii) “alfabe” kelimesindeki harfleri tek tek ekrana bastırın.</p>\n",
    "<p>iii) 123456 sayısının rakamlarını tek tek ekrana bastırın.</p>"
   ]
  },
  {
   "cell_type": "code",
   "execution_count": null,
   "metadata": {},
   "outputs": [],
   "source": [
    "for i in range(1, 21):\n",
    "    print(i)\n",
    "    \n",
    "print()\n",
    "for harf in \"alfabe\":\n",
    "    print(harf)\n",
    "    \n",
    "print()\n",
    "for rakam in \"123456\":\n",
    "    print(rakam)"
   ]
  },
  {
   "cell_type": "markdown",
   "metadata": {},
   "source": [
    "<p>6) range() fonksiyonu yardımıyla seçeneklerdeki sayıları ekrana bastırın.</p>\n",
    "<p>i) 1 ile 20 arasındaki tek sayılar</p>\n",
    "<p>ii) 0 ile 20 arasındaki çift sayılar</p>\n",
    "<p>iii) 100’den başlayarak 0’a kadar olan sayıları onar onar azaltın.</p>"
   ]
  },
  {
   "cell_type": "code",
   "execution_count": null,
   "metadata": {},
   "outputs": [],
   "source": [
    "for i in range(1, 21, 2):\n",
    "    print(i)\n",
    "    \n",
    "print()\n",
    "for i in range(0, 21, 2):\n",
    "    print(i)\n",
    "    \n",
    "print()\n",
    "for i in range(100, 0, -10):\n",
    "    print(i)"
   ]
  },
  {
   "cell_type": "markdown",
   "metadata": {},
   "source": [
    "<p>7) Bir sınıfın herhangi bir dersten not ortalamasını hesapladığımızı düşünün. Kullanıcıdan sınıf\n",
    "mevcudunu girmesini isteyin. Daha sonra sınıfta ne kadar öğrenci varsa adlarını, soyadlarını ve o\n",
    "derse ait notlarını yazmamızı sağlayacak bir döngü oluşturun ve girilen değerleri ekrana bastırın. En\n",
    "sonda ise sınıfın o derse ait not ortalamasını gösterin.</p>"
   ]
  },
  {
   "cell_type": "code",
   "execution_count": null,
   "metadata": {},
   "outputs": [],
   "source": [
    "mevcut = int(input(\"Sınıf mevcudunu giriniz: \"))\n",
    "sınıf_ort = 0\n",
    "\n",
    "for i in range(1, mevcut + 1):\n",
    "    öğrenci_ad = input(\"{}. Öğrencinin adı: \".format(i))\n",
    "    öğrenci_soyad = input(\"{}. Öğrencinin soyadı: \".format(i))\n",
    "    öğrenci_not = int(input(\"{}. Öğrencinin notu: \".format(i)))\n",
    "    sınıf_ort += öğrenci_not\n",
    "    print(\"---------------------------------------------------\")\n",
    "    print(\"Öğrenci adı soyadı: \", öğrenci_ad, öğrenci_soyad)\n",
    "    print(\"{} {} adlı öğrencinin notu: {}\".format(öğrenci_ad, öğrenci_soyad, öğrenci_not))\n",
    "    print(\"----------------------------------------------------\")\n",
    "\n",
    "print(\"Sınıf ortalaması: \", int(sınıf_ort / mevcut))"
   ]
  },
  {
   "cell_type": "markdown",
   "metadata": {},
   "source": [
    "<p>8)Bir sayının faktöriyelini gösterecek programı yazınız.</p>"
   ]
  },
  {
   "cell_type": "code",
   "execution_count": null,
   "metadata": {},
   "outputs": [],
   "source": [
    "sayı = int(input(\"Faktöriyeli alınacak sayı: \"))\n",
    "çarpım = 1\n",
    "for i in range(1, sayı + 1):\n",
    "    if sayı == 0:\n",
    "        print(\"{}! = 1\".format(sayı))\n",
    "        break\n",
    "    else:\n",
    "        çarpım *= i\n",
    "\n",
    "print(\"{}! = {}\".format(sayı, çarpım))"
   ]
  },
  {
   "cell_type": "markdown",
   "metadata": {},
   "source": [
    "<p>9) cümle = \"Python 2019'da en popüler dil haline gelmiştir.\"<br>\n",
    "Yukarıdaki değişkeni bir döngü içerisinde kullanın ve aradaki boşlukları kaldırıp cümleyi ekrana bastırın. <br>\n",
    "İpucu: print() fonksiyonunda kullanılan end=\"\" parametresi, fonksiyon içerisinde kullanılan herhangi bir ifadeden sonra yeni satıra geçmeyi engeller.</p>"
   ]
  },
  {
   "cell_type": "code",
   "execution_count": null,
   "metadata": {},
   "outputs": [],
   "source": [
    "cümle = \"Python 2019'da en popüler dil haline gelmiştir.\"\n",
    "for karakter in cümle:\n",
    "    if karakter == \" \":\n",
    "        continue\n",
    "    print(karakter, end = \"\")"
   ]
  },
  {
   "cell_type": "markdown",
   "metadata": {},
   "source": [
    "<p>10) sayı = \"123456789\"<br>\n",
    "Verilen karakter dizisini tam sayıya çevirin ve çift sayıları ekrana bastırın.</p>"
   ]
  },
  {
   "cell_type": "code",
   "execution_count": null,
   "metadata": {},
   "outputs": [],
   "source": [
    "sayı = \"123456789\"\n",
    "for i in sayı:\n",
    "    bas = int(i)\n",
    "    if bas % 2 == 0:\n",
    "        print(bas)\n",
    "        continue"
   ]
  },
  {
   "cell_type": "markdown",
   "metadata": {},
   "source": [
    "<p>11) kelime = \"bilişim\" <br>\n",
    "Belirtilen değişkenin \"ş\" harfi hariç diğer harflerini ekrana pass ve continue deyimleri ile bastırın. pass deyimi işe yaramazsa kodunuzda gerekli değişikliği yapın.</p>"
   ]
  },
  {
   "cell_type": "code",
   "execution_count": null,
   "metadata": {
    "scrolled": true
   },
   "outputs": [],
   "source": [
    "kelime = \"bilişim\"\n",
    "for harf in kelime:\n",
    "    if harf == \"ş\":\n",
    "        continue\n",
    "    print(harf)\n",
    "    \n",
    "print()\n",
    "\n",
    "for harf in kelime:\n",
    "    if harf == \"ş\":\n",
    "        pass\n",
    "    print(harf)"
   ]
  },
  {
   "cell_type": "markdown",
   "metadata": {},
   "source": [
    "<p>12) Küçük harflerden oluşan bir kelime girin ve kelimedeki ünlü harfleri çıkararak ünsüzlüleri ekrana bastırın.</p>"
   ]
  },
  {
   "cell_type": "code",
   "execution_count": null,
   "metadata": {},
   "outputs": [],
   "source": [
    "ünlüler = \"aeıioöuü\"\n",
    "kelime = input(\"Bir kelime girin: \")\n",
    "\n",
    "for harf in kelime:\n",
    "    if harf in ünlüler:\n",
    "        pass\n",
    "    else:\n",
    "        print(harf)"
   ]
  },
  {
   "cell_type": "markdown",
   "metadata": {},
   "source": [
    "<p>13) Bir kelime girin ve 12. sorunun tersine bu kez kelimedeki bütün ünsüz harfleri çıkartıp ünlüleri\n",
    "bastırın.</p>"
   ]
  },
  {
   "cell_type": "code",
   "execution_count": null,
   "metadata": {},
   "outputs": [],
   "source": [
    "ünlüler = \"aeıioöuü\"\n",
    "kelime = input(\"Bir kelime girin: \")\n",
    "\n",
    "for harf in kelime:\n",
    "    if harf not in ünlüler:\n",
    "        pass\n",
    "    else:\n",
    "        print(harf)"
   ]
  },
  {
   "cell_type": "markdown",
   "metadata": {},
   "source": [
    "<p>14) Mevcut bilgilerinizi kullanarak 1 ile 9 arasındaki sayıların ikili kombinasyonlarını aşağıdaki görünümü elde edecek şekilde ekrana bastırın.<br>\n",
    "(1, 1)<br>\n",
    "(1, 2)<br>\n",
    "......<br>\n",
    "(9, 8)<br>\n",
    "(9,9)<br></p>"
   ]
  },
  {
   "cell_type": "code",
   "execution_count": null,
   "metadata": {},
   "outputs": [],
   "source": [
    "x = \"123456789\"\n",
    "y = \"123456789\"\n",
    "\n",
    "for i in x:\n",
    "    for j in y:\n",
    "            print(\"({}, {})\".format(i, j))"
   ]
  },
  {
   "cell_type": "markdown",
   "metadata": {},
   "source": [
    "<p>15) On dördüncü sorudaki çözümü baz alarak 1-9 arasındaki sayıların çarpım tablosunu ekrana bastırın. </p>"
   ]
  },
  {
   "cell_type": "code",
   "execution_count": null,
   "metadata": {},
   "outputs": [],
   "source": [
    "x = \"123456789\"\n",
    "y = \"123456789\"\n",
    "\n",
    "for i in x:\n",
    "    for j in y:\n",
    "            print(int(i) * int(j), end = \"\\t\")\n",
    "    print()"
   ]
  },
  {
   "cell_type": "markdown",
   "metadata": {},
   "source": [
    "<p> 16) Klavyeden gireceğiniz bir sayının başka bir sayıya bölümünü gösterecek bir kod yazın ve sıfıra bölme hatası yapılması ihtimaline karşı try...except... yapısı ile yeni bir hata mesajı oluşturun.</p>"
   ]
  },
  {
   "cell_type": "code",
   "execution_count": null,
   "metadata": {},
   "outputs": [],
   "source": [
    "try:\n",
    "    sayı1 = int(input(\"Sayı 1: \"))\n",
    "    sayı2 = int(input(\"Sayı 2: \"))\n",
    "    print(sayı1 / sayı2)\n",
    "except ZeroDivisionError:\n",
    "    print(\"Sıfıra bölme hatası yapıldı\")"
   ]
  },
  {
   "cell_type": "markdown",
   "metadata": {},
   "source": [
    "<p>17) 16. sorudaki aynı yapıyı bu sefer hem ValueError hem de ZeroDivisionError hatalarını içerecek şekilde, tek bir try...except yapısı içerisinde oluşturun. </p>"
   ]
  },
  {
   "cell_type": "code",
   "execution_count": null,
   "metadata": {},
   "outputs": [],
   "source": [
    "try:\n",
    "    sayı1 = int(input(\"Sayı 1: \"))\n",
    "    sayı2 = int(input(\"Sayı 2: \"))\n",
    "    print(sayı1 / sayı2)\n",
    "except(ZeroDivisionError, ValueError):\n",
    "    print(\"Sıfıra bölme hatası ya da değer hatası yapıldı.\")"
   ]
  },
  {
   "cell_type": "markdown",
   "metadata": {},
   "source": [
    "<p>18) Gireceğiniz bir sayının çift olmaması durumunda kendi belirleyeceğiniz tipte bir hata verecek programı yazınız. </p>"
   ]
  },
  {
   "cell_type": "code",
   "execution_count": null,
   "metadata": {},
   "outputs": [],
   "source": [
    "sayı = int(input(\"Sayı: \"))\n",
    "if(sayı % 2 == 0):\n",
    "    print(\"Sayı çifttir.\")\n",
    "else:\n",
    "    raise Exception(\"Çift Sayı Girilmeme Hatası\")"
   ]
  },
  {
   "cell_type": "markdown",
   "metadata": {},
   "source": [
    "<p>19) İki sayı üstünden hesap yapılabilen dört temel işlemden oluşacak basit bir hesap makinesi tasarlayın ve kullanıcıdan hangi işlemi yapmasını isteyeceği bir kod yazın. Kullanıcının vereceği cevap mevcut işlemlerden biriyse buna göre kullanıcının gireceği iki sayı üstünde o işleme göre hesap yapın ve sonucu ekrana bastırın. Eğer kullanıcının vereceği cevap mevcut işlemlerin dışındaysa buna göre bir hata mesajı oluşturun </p>"
   ]
  },
  {
   "cell_type": "code",
   "execution_count": null,
   "metadata": {},
   "outputs": [],
   "source": [
    "sayı1 = int(input(\"Sayı 1: \"))\n",
    "sayı2 = int(input(\"Sayı 2: \"))\n",
    "işlem = input(\"\"\"İşlemler:\n",
    "1) Toplama\n",
    "2) Çıkarma\n",
    "3) Bölme\n",
    "4) Çarpma\n",
    "İşlemi seçiniz: \"\"\")\n",
    "\n",
    "if işlem == \"Toplama\":\n",
    "    print(\"Toplam: {}\".format(sayı1 + sayı2))\n",
    "elif işlem == \"Çıkarma\":\n",
    "    print(\"Çıkarma: {}\".format(sayı1 - sayı2))\n",
    "elif işlem == \"Bölme\":\n",
    "    print(\"Bölme: {}\".format(sayı1 / sayı2))\n",
    "elif işlem == \"Çarpma\":\n",
    "    print(\"Çarpma: {}\".format(sayı1 * sayı2))\n",
    "else:\n",
    "    raise Exception(\"Geçersiz işlem.\")"
   ]
  },
  {
   "cell_type": "markdown",
   "metadata": {},
   "source": [
    "<p>20) Kullanıcıdan sadece ünlü harflerden oluşan bir karakter dizisi girmesini isteyin. Eğer aksi durumda bir değer girilirse yeni bir hata mesajı oluşturun.</p>"
   ]
  },
  {
   "cell_type": "code",
   "execution_count": null,
   "metadata": {},
   "outputs": [],
   "source": [
    "ünlüler = \"aeıioöuü\"\n",
    "değer = input(\"Sadece ünlü harflerden oluşan bir karakter dizisi girin: \")\n",
    "\n",
    "for i in değer:\n",
    "    if i not in ünlüler:\n",
    "        raise Exception(\"Geçersiz İşlem! Sadece ünlülerden oluşan bir karakter dizisi girmelisiniz.\")\n",
    "    else:\n",
    "        print(i, end = \"\")"
   ]
  },
  {
   "cell_type": "markdown",
   "metadata": {},
   "source": [
    "## ÇALIŞMA SORULARI\n",
    "\n",
    "<p>Şu ana kadar gördüğümüz konular üstünde pek çok örnek soru ve problem çözdük. Bu kısmı pekiştirmek ve sonraki aşamalar için pratik yapmak amacıyla aşağıdaki soruları kendiniz çözmeyi deneyin. Daha sonra sonuçlarınızı karşılaştırmak veya yapamadığınız kısımları öğrenmek için örnek çözümleri inceleyebilirsiniz. </p>"
   ]
  },
  {
   "cell_type": "markdown",
   "metadata": {},
   "source": [
    "<p>1) Bir değişken oluşturup aşağıdaki metni o değişkene atayın ve içinde kaç tane ünlü kaçta ünlü olmayan harf ya da karakter olduğunu, ayrıca ünlü harflerin hangisinden de kaç tane olduğunu gösteren bir kod yazın. </p>\n",
    "\n",
    "<p>İstanbul Türkiye'nin kuzeybatısında, Marmara kıyısı ve Boğaziçi boyunca, Haliç'i de çevreleyecek şekilde kurulmuştur. İstanbul kıtalararası bir şehir olup, Avrupa'daki bölümüne Avrupa Yakası veya Rumeli Yakası, Asya'daki bölümüne ise Anadolu Yakası veya Asya Yakası denir. Tarihte ilk olarak üç tarafı Marmara Denizi, Boğaziçi ve Haliç'in sardığı bir yarımada üzerinde kurulan İstanbul'un batıdaki sınırını İstanbul Surları oluşturmaktaydı. Gelişme ve büyüme sürecinde surların her seferinde daha batıya ilerletilerek inşa edilmesiyle 4 defa genişletilen şehrin 39 ilçesi vardır. Sınırları içerisinde ise büyükşehir belediyesi ile birlikte toplam 40 belediye bulunmaktadır.</p>"
   ]
  },
  {
   "cell_type": "markdown",
   "metadata": {},
   "source": [
    "<p>2) Aşağıdaki tırnak içerisindeki karakter dizisini bir değişkene atayın. Daha sonra bir döngü içerisine alın ve hangi unsurun karakter dizisi, hangi unsurun tam sayı olduğunu belirtin ve buna göre ekrana bastırın. Ayrıca tam sayıları tek veya çift olmasına göre belirtiniz.</p>\n",
    "<p>\"abcd123efg567h89\"</p>"
   ]
  },
  {
   "cell_type": "markdown",
   "metadata": {},
   "source": [
    "<p>3) Bir sayı girin ve bunun palindrom sayı olup olmadığını kontrol edin.</p>"
   ]
  },
  {
   "cell_type": "markdown",
   "metadata": {},
   "source": [
    "<p>4) random modülünü kullanarak bir madeni para atışını modelleyiniz ve 1000 atışın sonunda kaç tane yazı kaç tane tura olduğunu ekrana bastırın. </p>"
   ]
  },
  {
   "cell_type": "markdown",
   "metadata": {},
   "source": [
    "<p>5) Matris çarpımı kuralına göre iki matrisin birbirleriyle çarpılabilmesi için ilk matrisin sütun sayısı ile ikinci matrisin satır sayısının aynı olması gerekir. Klavyeden iki ayrı matrisin satır ve sütun sayısını giriniz ve matrislerin çarpılabilir olup olmadığını gösterecek bir program yazınız. </p>"
   ]
  },
  {
   "cell_type": "markdown",
   "metadata": {},
   "source": [
    "# ALIŞTIRMA SORULARININ ÇÖZÜMLERİ\n",
    "\n",
    "### Soru-1 Çözüm) "
   ]
  },
  {
   "cell_type": "code",
   "execution_count": null,
   "metadata": {},
   "outputs": [],
   "source": [
    "metin = \"İstanbul Türkiye'nin kuzeybatısında, Marmara kıyısı ve Boğaziçi boyunca, Haliç'i de çevreleyecek şekilde kurulmuştur. İstanbul kıtalararası bir şehir olup, Avrupa'daki bölümüne Avrupa Yakası veya Rumeli Yakası, Asya'daki bölümüne ise Anadolu Yakası veya Asya Yakası denir. Tarihte ilk olarak üç tarafı Marmara Denizi, Boğaziçi ve Haliç'in sardığı bir yarımada üzerinde kurulan İstanbul'un batıdaki sınırını İstanbul Surları oluşturmaktaydı. Gelişme ve büyüme sürecinde surların her seferinde daha batıya ilerletilerek inşa edilmesiyle 4 defa genişletilen şehrin 39 ilçesi vardır. Sınırları içerisinde ise büyükşehir belediyesi ile birlikte toplam 40 belediye bulunmaktadır.\"\n",
    "ünlüler = \"aeıioöuüAEIİOÖUÜ\"\n",
    "toplam_ünlü = 0\n",
    "toplam_ünlü_olmayan = 0\n",
    "toplam_a = 0\n",
    "toplam_e = 0\n",
    "toplam_ı = 0\n",
    "toplam_i = 0\n",
    "toplam_o = 0\n",
    "toplam_ö = 0\n",
    "toplam_u = 0\n",
    "toplam_ü = 0\n",
    "\n",
    "for karakter in metin:\n",
    "    if karakter in ünlüler:\n",
    "        toplam_ünlü += 1\n",
    "        if karakter == \"a\" or karakter == \"A\":\n",
    "            toplam_a += 1\n",
    "        if karakter == \"e\" or karakter == \"E\":\n",
    "            toplam_e += 1\n",
    "        if karakter == \"ı\" or karakter == \"I\":\n",
    "            toplam_ı += 1\n",
    "        if karakter == \"i\" or karakter == \"i\":\n",
    "            toplam_i += 1\n",
    "        if karakter == \"o\" or karakter == \"o\":\n",
    "            toplam_o += 1\n",
    "        if karakter == \"ö\" or karakter == \"Ö\":\n",
    "            toplam_ö += 1\n",
    "        if karakter == \"u\" or karakter == \"U\":\n",
    "            toplam_u += 1\n",
    "        if karakter == \"ü\" or karakter == \"Ü\":\n",
    "            toplam_ü += 1\n",
    "    else:\n",
    "        toplam_ünlü_olmayan += 1\n",
    "\n",
    "print(\"Toplam ünlü\", toplam_ünlü)\n",
    "print(\"Topplam ünlü olmayan\", toplam_ünlü_olmayan)\n",
    "print(\"Toplam a\", toplam_a)\n",
    "print(\"Toplam e\", toplam_e)\n",
    "print(\"Toplam ı\", toplam_ı)\n",
    "print(\"Toplam i\", toplam_i)\n",
    "print(\"Toplam o\", toplam_o)\n",
    "print(\"Toplam ö\", toplam_ö)\n",
    "print(\"Toplam u\", toplam_u)\n",
    "print(\"Toplam ü\", toplam_ü)"
   ]
  },
  {
   "cell_type": "markdown",
   "metadata": {},
   "source": [
    "### Soru-2 Çözüm)"
   ]
  },
  {
   "cell_type": "code",
   "execution_count": null,
   "metadata": {},
   "outputs": [],
   "source": [
    "değişken = \"abcd123efg567h89\"\n",
    "harfler = \"abcdefgh\"\n",
    "rakamlar = \"123456789\"\n",
    "\n",
    "for i in değişken:\n",
    "    if i in harfler:\n",
    "        print(\"{}, bir harftir.\".format(i))\n",
    "    if i in rakamlar:\n",
    "        i = int(i)\n",
    "        if i % 2 == 0:\n",
    "            print(\"{} sayısı çifttir.\".format(i))\n",
    "        else:\n",
    "            print(\"{} sayısı tektir.\".format(i))"
   ]
  },
  {
   "cell_type": "markdown",
   "metadata": {},
   "source": [
    "### Soru-3 Çözüm)"
   ]
  },
  {
   "cell_type": "code",
   "execution_count": null,
   "metadata": {},
   "outputs": [],
   "source": [
    "n = int(input(\"Bir sayı girin: \"))\n",
    "yedek = n\n",
    "ters = 0\n",
    "\n",
    "while(n > 0):\n",
    "    rakam = n % 10\n",
    "    ters = ters * 10 + rakam\n",
    "    n = n // 10\n",
    "    \n",
    "if(yedek == ters):\n",
    "    print(\"Palindrom sayıdır.\")\n",
    "else:\n",
    "    print(\"Palindrom sayı değildir.\")"
   ]
  },
  {
   "cell_type": "markdown",
   "metadata": {},
   "source": [
    "### Soru-4 Çözüm)"
   ]
  },
  {
   "cell_type": "code",
   "execution_count": null,
   "metadata": {},
   "outputs": [],
   "source": [
    "import random\n",
    "\n",
    "yazı = 0\n",
    "tura = 0\n",
    "\n",
    "for i in range(1, 1001):\n",
    "    atış = random.randint(0, 1)\n",
    "    if atış == 1:\n",
    "        yazı += 1\n",
    "    if atış == 0:\n",
    "        tura += 1\n",
    "        \n",
    "print(\"Tura: \", tura)\n",
    "print(\"Yazı: \", yazı)"
   ]
  },
  {
   "cell_type": "markdown",
   "metadata": {},
   "source": [
    "### Soru-5 Çözüm)"
   ]
  },
  {
   "cell_type": "code",
   "execution_count": null,
   "metadata": {},
   "outputs": [],
   "source": [
    "satır1 = int(input(\"Birinci matrisin satırı: \"))\n",
    "sütun1 = int(input(\"Birinci matrisin sütunu: \"))\n",
    "\n",
    "satır2 = int(input(\"İkinci matrisin satırı: \"))\n",
    "sütun2 = int(input(\"İkinci matrisin sütunu: \"))\n",
    "\n",
    "if sütun1 == satır2:\n",
    "    print(\"Çarpılabilir\")\n",
    "else:\n",
    "    print(\"Çarpılamaz\")"
   ]
  }
 ],
 "metadata": {
  "kernelspec": {
   "display_name": "Python 3",
   "language": "python",
   "name": "python3"
  },
  "language_info": {
   "codemirror_mode": {
    "name": "ipython",
    "version": 3
   },
   "file_extension": ".py",
   "mimetype": "text/x-python",
   "name": "python",
   "nbconvert_exporter": "python",
   "pygments_lexer": "ipython3",
   "version": "3.8.5"
  }
 },
 "nbformat": 4,
 "nbformat_minor": 4
}
