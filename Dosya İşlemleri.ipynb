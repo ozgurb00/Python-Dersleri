{
 "cells": [
  {
   "cell_type": "markdown",
   "metadata": {},
   "source": [
    "# DOSYA İŞLEMLERİ\n",
    "\n",
    "<p> Programlamada dosya işlemleri önemli bir yer tutmaktadır. Python da bu noktada dosya açma, değiştirme ve yazma işlemlerinde oldukça pratik araçlar sunmaktadır. </p>\n",
    "\n",
    "## Dosya Oluşturma\n",
    "\n",
    "<p> Python'da temel dosya işlemleri open() fonksiyonu ile yapılmaktadır. Eğer yeni bir dosya oluşturmak ve içine sıfırdan bilgiler yazmak istersek open() fonksiyonunu \"w\", yani yazma kipi ile birlikte kullanıyoruz. </p>"
   ]
  },
  {
   "cell_type": "code",
   "execution_count": null,
   "metadata": {},
   "outputs": [],
   "source": [
    "open(\"ornek dosya.txt\", \"w\") "
   ]
  },
  {
   "cell_type": "markdown",
   "metadata": {},
   "source": [
    "<p> Yukarıdaki örnekte bir adet örnek dosya oluşturmak için önce bir değişlen adı belirledik. Daha sonrasında ise bu değişken üzerinden \"ornek dosya\" adlı bir metin dosyasını yazma kipinde oluşturduk. Böylece çalıştığımız dizin içerisinde bir dosya oluşmuş oldu. Bunu dizine gidip kontrol edersek dosyanın gerçekten oluştuğunu ve açtığımızda içinin boş olduğunu görebiliriz. </p> "
   ]
  },
  {
   "cell_type": "markdown",
   "metadata": {},
   "source": [
    "# Dosyaya Yazma\n",
    "\n",
    "<p> Boş bir dosya oluşturduktan sonra onun içerisine çeşitli değerler girmemiz gerekir. Bu noktada Python'un bize sunduğu temel araçlardan bir tanesi $write$ metodudur. </p>"
   ]
  },
  {
   "cell_type": "code",
   "execution_count": null,
   "metadata": {},
   "outputs": [],
   "source": [
    "open(\"fiyatlar.txt\", \"w\")"
   ]
  },
  {
   "cell_type": "code",
   "execution_count": null,
   "metadata": {},
   "outputs": [],
   "source": [
    "dosya = open(\"fiyatlar.txt\", \"w\")\n",
    "dosya.write(\"X Marka: 200 $\")\n",
    "dosya.close()"
   ]
  },
  {
   "cell_type": "markdown",
   "metadata": {},
   "source": [
    "<p> Yukarıdaki örnekte önce fiyatlar adlı bir metin dosyasını yazma kipinde oluşturduk. Ardından bu dosya üstünden Python'da işlem yapabilmek için dosya diye bir değişken oluşturup mevcut dosyayı yazma kipinde açtık ve write fonksiyonu ile bir bilgi girdik. Dosyayı açtığımızda gerçekten bir bilginin girilmiş olduğunu görebiliriz. En son aşamada ise close() metodu ile bu dosyayı kapamış olduk. Çünkü açılan dosyalar kapatılmazlarsa arkada çalışmaya devam ederler ve bu istemediğimiz bir durum oluşturur. </p>"
   ]
  },
  {
   "cell_type": "markdown",
   "metadata": {},
   "source": [
    "## \"w\" Kipi ile İlgili Önemli Not\n",
    "\n",
    "<p> Eğer mevcut bir dosyayı \"w\" kipi ile açarsak o dosyadaki eski bilgiler silinecektir. Bundan dolayı mevcut bir dosyaya ekleme yapmak istediğimizde onu \"w\" kipi ile açarsak ortaya hoş olmayan bir durum çıkacaktır. O yüzden bu kipi kullanırken dikkat etmek gerekir. </p>"
   ]
  },
  {
   "cell_type": "code",
   "execution_count": null,
   "metadata": {},
   "outputs": [],
   "source": [
    "dosya = open(\"fiyatlar.txt\", \"w\")\n",
    "dosya.close()"
   ]
  },
  {
   "cell_type": "markdown",
   "metadata": {},
   "source": [
    "<p> Yukarıdaki işlemin neticesinde dosyadaki eski bilgilerin silindiğini görebiliriz. Eğer yeniden \"fiyatlar\" diye bir metin dosyası oluşturmak istersek ve birkaç örnek değer girersek aşağıdaki işlemler ile bu durum gerçekleştirilebilir.</p>"
   ]
  },
  {
   "cell_type": "code",
   "execution_count": null,
   "metadata": {},
   "outputs": [],
   "source": [
    "open(\"fiyatlar.txt\", \"w\")\n",
    "dosya = open(\"fiyatlar.txt\", \"w\")\n",
    "dosya.write(\"X Marka: 500 $\\n\") #değeri ekledikten sonra notebook'ta beliren sayı kaçış dizisi de dahil\n",
    "#toplam karakter sayısınını oluşturan byte değerini göstermektedir"
   ]
  },
  {
   "cell_type": "code",
   "execution_count": null,
   "metadata": {},
   "outputs": [],
   "source": [
    "dosya.write(\"Y Marka: 300 $\\n\")"
   ]
  },
  {
   "cell_type": "code",
   "execution_count": null,
   "metadata": {},
   "outputs": [],
   "source": [
    "dosya.write(\"Ö Marka: 400 $\\n\") \n",
    "dosya.close()"
   ]
  },
  {
   "cell_type": "markdown",
   "metadata": {},
   "source": [
    "<p> Eğer \"Ö Marka: 400 $\" değerine kadar olan değişiklikleri teker teker dosya üstünde incelersek bunların düzgün bir şekilde aktarıldığını görebiliriz. Ne var ki son bilgide bir Türkçe karakter eklediğimiz ve uygun encoding değerini belirtmediğimiz için bir uyarı mesajıyla karşılaştık. </p>"
   ]
  },
  {
   "cell_type": "code",
   "execution_count": null,
   "metadata": {},
   "outputs": [],
   "source": [
    "dosya = open(\"fiyatlar.txt\", \"w\", encoding = \"utf-8\")\n",
    "dosya.write(\"X Marka: 500 $\\n\")\n",
    "dosya.write(\"Y Marka: 300 $\\n\")\n",
    "dosya.write(\"Ö Marka: 400 $\\n\")\n",
    "dosya.close()"
   ]
  },
  {
   "cell_type": "markdown",
   "metadata": {},
   "source": [
    "<p> Dosyayı açarken encoding parametresine en genel standart olan \"utf-8\" i eklediğimizde sorunun giderildiği görülecektir. </p>"
   ]
  },
  {
   "cell_type": "markdown",
   "metadata": {},
   "source": [
    "## Dosyalara \"a\" Kipi ile Yazmak\n",
    "\n",
    "<p> Eğer mevcut bir dosyaya değer eklemek istersek bunu dosyadaki eski bilgileri silmeden \"a\" kipini kullanarak yapabilmekteyiz. Eğer \"a\" kipi ile açtığımız dosya daha önce mevcut değilse o vakit \"w\" kipinde olduğu gibi dosyayı en baştan oluşturacaktır. </p>"
   ]
  },
  {
   "cell_type": "code",
   "execution_count": null,
   "metadata": {},
   "outputs": [],
   "source": [
    "dosya = open(\"fiyatlar.txt\", \"a\", encoding = \"utf-8\") \n",
    "dosya.write(\"Z Marka: 600 $\\n\")\n",
    "dosya.close()"
   ]
  },
  {
   "cell_type": "markdown",
   "metadata": {},
   "source": [
    "## Dosya Okuma\n",
    "\n",
    "<p> Mevcut bir dosyanın değerlerini okumak istediğimizde \"r\" kipini kullanıyoruz. Eğer bu kipi mevcut olmayan bir dosyayı okumak için kullanırsak programımızın hata vereceğine dikkat etmeliyiz. </p>"
   ]
  },
  {
   "cell_type": "code",
   "execution_count": null,
   "metadata": {},
   "outputs": [],
   "source": [
    "dosya = open(\"fiyatlar.txt\", \"r\", encoding = \"utf-8\") "
   ]
  },
  {
   "cell_type": "code",
   "execution_count": null,
   "metadata": {},
   "outputs": [],
   "source": [
    "dosya = open(\"abcde.txt\", \"r\", encoding = \"utf-8\") #böyle bir kod olmadığı için hata verecektir."
   ]
  },
  {
   "cell_type": "markdown",
   "metadata": {},
   "source": [
    "<p> Dosya okuma işlemlerinde kullanılan üç temel metot olan read(), readline() ve readlines() bize dosyadaki değerlere ulaşmamızda yardımcı olur. İşlev olarak birbirlerine benzeseler de aralarında belirgin farklar vardır. </p>"
   ]
  },
  {
   "cell_type": "markdown",
   "metadata": {},
   "source": [
    "## read()\n",
    "\n",
    "<p> Dosyadaki değerlerin tamamını okumak istediğimizde kullandığımız metottur. </p>"
   ]
  },
  {
   "cell_type": "code",
   "execution_count": null,
   "metadata": {},
   "outputs": [],
   "source": [
    "dosya = open(\"fiyatlar.txt\", \"r\", encoding = \"utf-8\")\n",
    "print(dosya.read())"
   ]
  },
  {
   "cell_type": "markdown",
   "metadata": {},
   "source": [
    "<p> read() ile bütün değerler okunduğu için eğer bu metodu başka bir değişken üstünden kullanmayı denersek bu sefer herhangi bir değere ulaşamayız. </p>"
   ]
  },
  {
   "cell_type": "code",
   "execution_count": null,
   "metadata": {},
   "outputs": [],
   "source": [
    "dosya = open(\"fiyatlar.txt\", \"r\", encoding = \"utf-8\")\n",
    "oku = dosya.read()\n",
    "print(oku)"
   ]
  },
  {
   "cell_type": "code",
   "execution_count": null,
   "metadata": {},
   "outputs": [],
   "source": [
    "oku2 = dosya.read()\n",
    "print(oku2)"
   ]
  },
  {
   "cell_type": "markdown",
   "metadata": {},
   "source": [
    "## readline()\n",
    "\n",
    "<p> Dosyadaki her bir satırı tek tek okumamızı sağlayan metottur. Toplam satır bittikten sonra readline() kullanmaya devam edersek sadece boşluklu yapılar gösterilecektir. </p>"
   ]
  },
  {
   "cell_type": "code",
   "execution_count": null,
   "metadata": {},
   "outputs": [],
   "source": [
    "dosya = open(\"fiyatlar.txt\", \"r\", encoding = \"utf-8\")\n",
    "\n",
    "print(dosya.readline())\n",
    "print(dosya.readline())\n",
    "print(dosya.readline())\n",
    "print(dosya.readline())\n",
    "print(dosya.readline()) \n",
    "print(dosya.readline())"
   ]
  },
  {
   "cell_type": "markdown",
   "metadata": {},
   "source": [
    "## readlines()\n",
    "\n",
    "<p> Dosyadaki bütün değerleri bir liste olarak gösteren metottur. </p>"
   ]
  },
  {
   "cell_type": "code",
   "execution_count": null,
   "metadata": {},
   "outputs": [],
   "source": [
    "dosya = open(\"fiyatlar.txt\", \"r\", encoding = \"utf-8\")\n",
    "print(dosya.readlines())"
   ]
  },
  {
   "cell_type": "markdown",
   "metadata": {},
   "source": [
    "## Dosyaları Otomatik Kapama\n",
    "\n",
    "<p> Dosyalar kapanmadığı vakit sistem kaynaklarını boş yere tüketir veya programımızla alakalı bir noktada hata almamıza sebep olabilir. Bundan dolayı dosyalar ile çalışırken programımızın sonunda mutlaka dosyaları kapatmalıyız. Ancak bazı durumlarda dosyalar close() metodu ile kapatılamayabilir. İşte böyle durumlarda hataları otomatik olarak ayıklamak için otomatik kapama işlemleri uygulanır. </p>"
   ]
  },
  {
   "cell_type": "code",
   "execution_count": null,
   "metadata": {},
   "outputs": [],
   "source": [
    "try:\n",
    "    dosya = open(\"fiyatlar.txt\", \"r\", encoding = \"utf-8\")\n",
    "except Exception:\n",
    "    print(\"İşlem esnasında bir hata oluştu\")\n",
    "finally:\n",
    "    dosya.close()"
   ]
  },
  {
   "cell_type": "markdown",
   "metadata": {},
   "source": [
    "<p> Otomatik kapama işlemlerinde hata yakalama yöntemleri kullanıldığında finally bloğunun altına close() metodunu ekleyerek dosyalarımızı otomatik kapatabiliriz. Bu oldukça kullanışlı bir yöntemdir. Ancak daha kullanışlı bir yöntem daha vardır ve bu da \"with\" ifadesi ile gerçekleştirilir. </p>"
   ]
  },
  {
   "cell_type": "code",
   "execution_count": null,
   "metadata": {},
   "outputs": [],
   "source": [
    "with open(\"fiyatlar.txt\", \"r\", encoding = \"utf-8\") as dosya:\n",
    "    print(dosya.read())"
   ]
  },
  {
   "cell_type": "markdown",
   "metadata": {},
   "source": [
    "## Dosyaları İleri Geri Sarma\n",
    "\n",
    "<p> Şu ana kadar gördüğümüz yöntemlerde dosyaların değerlerine hep baştan başlayıp sona kadar gittik, bundan sonrasında da tekrar başa dönemedik. Ancak dosyalarda yapılacak değişikliklerde veya ulaşılacak değerlerde her zaman baştan başlayamayız. Bazen ara değerlere gitmek bazen de sona gidip tekrar başa dönmek isteyebiliriz. İşte böyle durumlarda dosyalarda ileri ve geri gitmemizi sağlayan çeşitli araçlar bulunmaktadır. </p>"
   ]
  },
  {
   "cell_type": "markdown",
   "metadata": {},
   "source": [
    "## seek()\n",
    "\n",
    "<p> Dosyanın belli bir byte'ına gitmek için kullanılan metottur. </p>"
   ]
  },
  {
   "cell_type": "code",
   "execution_count": null,
   "metadata": {},
   "outputs": [],
   "source": [
    "import random\n",
    "\n",
    "harfler = [\"a\", \"b\", \"c\", \"d\", \"e\", \"f\"]\n",
    "\n",
    "with open(\"harfler.txt\", \"w\", encoding = \"utf-8\") as dosya:\n",
    "    for i in range(10):\n",
    "        for j in range(10):\n",
    "            dosya.write(random.choice(harfler) + \" \")\n",
    "        dosya.write(\"\\n------------------------------------\\n\")"
   ]
  },
  {
   "cell_type": "markdown",
   "metadata": {},
   "source": [
    "<p> Yukarıdaki kod ile belli sayıda rastgele harfler ve çizgilerden oluşan bir dosya oluşturuldu. Biz bu dosyanın tüm elemanlarını read() ile okursak tüm değerlerini görmüş oluruz. Eğer ikinci kez kullanmak istersek ise boşlukla karşılaşacağımızı bilmekteyiz. Eğer tüm değerleri tekrar tekrar okumak istersek işte o vakit bizi en baştaki ya da başka noktalardaki değerlere götürecek olan seek() metodunu kullanabiliriz </p>"
   ]
  },
  {
   "cell_type": "code",
   "execution_count": null,
   "metadata": {},
   "outputs": [],
   "source": [
    "with open(\"harfler.txt\", \"r\", encoding = \"utf-8\") as dosya:\n",
    "    print(dosya.read())\n",
    "    print(dosya.read()) #ikinci komutta değerlerin tekrar okunmadığı gözlenir"
   ]
  },
  {
   "cell_type": "code",
   "execution_count": null,
   "metadata": {},
   "outputs": [],
   "source": [
    "with open(\"harfler.txt\", \"r\", encoding = \"utf-8\") as dosya:\n",
    "    print(dosya.read())\n",
    "    print()\n",
    "    dosya.seek(0)\n",
    "    print(dosya.read())"
   ]
  },
  {
   "cell_type": "markdown",
   "metadata": {},
   "source": [
    "<p> Seek ile en başa dönülmesi sayesinde değerler bir kez daha okutulmuş oldu. </p>"
   ]
  },
  {
   "cell_type": "markdown",
   "metadata": {},
   "source": [
    "## tell()\n",
    "\n",
    "<p> seek() ile çalışırken zaman zaman dosyanın hangi konumunda olduğumuzu bilmemiz gerekebilir. İşte bu noktada bize bu bilgiyi tell() metodu vermektedir. </p>"
   ]
  },
  {
   "cell_type": "code",
   "execution_count": null,
   "metadata": {},
   "outputs": [],
   "source": [
    "with open(\"harfler.txt\", \"r\", encoding = \"utf-8\") as dosya:\n",
    "    print(dosya.tell()) #0 çıktısı ile dosyanın başında olduğumuzu gösterir"
   ]
  },
  {
   "cell_type": "markdown",
   "metadata": {},
   "source": [
    "<p> seek() ile bir noktaya gidip tell() ile hangi noktaya gitmiş olduğumuzu görebiliriz. </p>"
   ]
  },
  {
   "cell_type": "code",
   "execution_count": null,
   "metadata": {},
   "outputs": [],
   "source": [
    "with open(\"harfler.txt\", \"r\", encoding = \"utf-8\") as dosya:\n",
    "    dosya.seek(50)\n",
    "    print(dosya.tell())"
   ]
  },
  {
   "cell_type": "markdown",
   "metadata": {},
   "source": [
    "<p> Dosyadaki değerleri incelemek için her bir karakterin 1 byte olduğunu ve satırlar üstünden hangi elemanın ne kadar yer kapladığını bilmek gerekebilir. </p>"
   ]
  },
  {
   "cell_type": "code",
   "execution_count": null,
   "metadata": {},
   "outputs": [],
   "source": [
    "with open(\"harfler.txt\", \"r\", encoding = \"utf-8\") as dosya:\n",
    "    liste = list(dosya)\n",
    "    for i in range(len(liste)):\n",
    "        print(len(liste[i]))"
   ]
  },
  {
   "cell_type": "code",
   "execution_count": null,
   "metadata": {},
   "outputs": [],
   "source": [
    "with open(\"harfler.txt\", \"r\", encoding = \"utf-8\") as dosya:\n",
    "    dosya.seek(59)\n",
    "    print(dosya.read(21))"
   ]
  },
  {
   "cell_type": "markdown",
   "metadata": {},
   "source": [
    "<p> Yukarıdaki kod ile harfler.txt dosyasındaki ilk iki satırı atlayıp üçüncü satırın tamamını yazdırmış olduk. Burada seek() içerisine yazdığımız argüman ilk iki satırın kapladığı alanın toplamı, read() içerisine yazdığımız değer ise üçüncü satırın toplam karater alanı idi. </p>"
   ]
  },
  {
   "cell_type": "markdown",
   "metadata": {},
   "source": [
    "## Dosyalarda Değişiklik Yapma\n",
    "\n",
    "<p> Eğer mevcut bir dosyanın sonuna yeni bir değer eklemek istiyorsak, bunu daha önce gördüğümüz \"a\" kipi ile yapabiliriz. </p>"
   ]
  },
  {
   "cell_type": "code",
   "execution_count": null,
   "metadata": {},
   "outputs": [],
   "source": [
    "with open(\"fiyatlar.txt\", \"a\", encoding = \"utf-8\") as dosya:\n",
    "    dosya.write(\"T Marka: 1000 $\\n\")"
   ]
  },
  {
   "cell_type": "code",
   "execution_count": null,
   "metadata": {},
   "outputs": [],
   "source": [
    "with open(\"fiyatlar.txt\", \"r\", encoding = \"utf-8\") as dosya:\n",
    "    print(dosya.read())"
   ]
  },
  {
   "cell_type": "markdown",
   "metadata": {},
   "source": [
    "## Hem Okuma Hem Yazma Kipi r+\n",
    "\n",
    "<p> Eğer bir dosyada hem okuma hem yazma işlemi yapmak istersek \"r+\" kipini kullanabiliriz. </p>"
   ]
  },
  {
   "cell_type": "code",
   "execution_count": null,
   "metadata": {},
   "outputs": [],
   "source": [
    "open(\"hayvanlar.txt\", \"w\")\n",
    "\n",
    "with open(\"hayvanlar.txt\", \"r+\") as dosya:\n",
    "    dosya.write(\"Aslan\\n\")\n",
    "    dosya.write(\"Kaplan\\n\")\n",
    "    dosya.write(\"Bizon\\n\")\n",
    "    dosya.write(\"Ceylan\\n\")"
   ]
  },
  {
   "cell_type": "markdown",
   "metadata": {},
   "source": [
    "<p> Dosyaların başında değişiklik yapmak için seek(0) ile dosyanın başına gidip gerekli değişiklikleri yapabiliriz. </p>"
   ]
  },
  {
   "cell_type": "code",
   "execution_count": null,
   "metadata": {},
   "outputs": [],
   "source": [
    "with open(\"hayvanlar.txt\", \"r+\") as dosya:\n",
    "    değerler = dosya.read()\n",
    "    dosya.seek(0)\n",
    "    dosya.write(\"Geyik\\n\" + değerler)"
   ]
  },
  {
   "cell_type": "markdown",
   "metadata": {},
   "source": [
    "<p> Dosya ortasında değişiklik yapmak için readlines() metodunu kullanabiliriz. </p>"
   ]
  },
  {
   "cell_type": "code",
   "execution_count": null,
   "metadata": {},
   "outputs": [],
   "source": [
    "with open(\"hayvanlar.txt\", \"r+\") as dosya:\n",
    "    değerler = dosya.readlines()\n",
    "    değerler.insert(1, \"Deve\\n\")\n",
    "    dosya.seek(0)\n",
    "    dosya.writelines(değerler)"
   ]
  },
  {
   "cell_type": "code",
   "execution_count": null,
   "metadata": {},
   "outputs": [],
   "source": [
    "with open(\"hayvanlar.txt\", \"r+\") as dosya:\n",
    "    d = dosya.read()\n",
    "    print(d)"
   ]
  },
  {
   "cell_type": "markdown",
   "metadata": {},
   "source": [
    "# MODÜLLER\n",
    "\n",
    "<p> Harici uygulamalarda kullanılmak üzere oluşturulan fonksiyonların ve sınıfların yer aldığı dosyalar Python'da modül olarak geçer. Modüller sayesinde bir dosyadaki fonksiyonlar daha otomatize bir şekilde başka uygulamalarda da kullanılır.</p>"
   ]
  },
  {
   "cell_type": "markdown",
   "metadata": {},
   "source": [
    "<p> Şu ana kadar öğrendiğimiz konularda çeşitli modülleri ayrıntıya girmeden zaman zaman kullandık. Özelleştirilmiş modüllere geçmeden önce gömülü modüllerin yaygın olanlarına bir göz atmak faydalı olacaktır. </p>"
   ]
  },
  {
   "cell_type": "markdown",
   "metadata": {},
   "source": [
    "## Modülleri İçe Aktarmak "
   ]
  },
  {
   "cell_type": "markdown",
   "metadata": {},
   "source": [
    "<p> Mevcut bir modülü içe aktarmak için \"import\" komutu kullanılır. İçe aktarma işleminden sonra bir modüle unsurlar programımızın içerisinde kullanılabilir hale gelir. </p>"
   ]
  },
  {
   "cell_type": "markdown",
   "metadata": {},
   "source": [
    "## Datetime Modülü \n",
    "\n",
    "<p> Python'da zaman dilimleri kendi başlarına bir veri tipi oluşturmazlar. Ancak programlamanın çeşitli alanlarına tarihlere ayrı bir veri tipi olarak ihtiyaç duyulmaktadır. Bundan dolayı zamanla ilgili işlemlerde bu modül oldukça sık kullanılır. </p>"
   ]
  },
  {
   "cell_type": "code",
   "execution_count": null,
   "metadata": {},
   "outputs": [],
   "source": [
    "import datetime"
   ]
  },
  {
   "cell_type": "markdown",
   "metadata": {},
   "source": [
    "<p> Yukarıdaki işlem ile birlikte artık datetime modülü içe aktarıldı ve içindeki unsurlar Python tarafından kullanılabilir hale geldi. Bu modül ile ilgili çeşitli örnekler, açıklamalarıyla beraber aşağıda verilmiştir. </p>"
   ]
  },
  {
   "cell_type": "code",
   "execution_count": null,
   "metadata": {},
   "outputs": [],
   "source": [
    "# Mevcut anın zamanını ve tarihi elde etme\n",
    "şimdi = datetime.datetime.now()\n",
    "print(şimdi)"
   ]
  },
  {
   "cell_type": "code",
   "execution_count": null,
   "metadata": {},
   "outputs": [],
   "source": [
    "# Özel bir tarihi \"datetime.date\" yani tarihsel veri tipine dönüştürme\n",
    "tarih = datetime.date(2021, 1, 20) #Yıl-Ay-Gün formatı\n",
    "print(tarih)\n",
    "print(type(tarih))"
   ]
  },
  {
   "cell_type": "code",
   "execution_count": null,
   "metadata": {},
   "outputs": [],
   "source": [
    "# Özel bir tarihin saat, dakika ve saniye ile birlikte oluşturulması\n",
    "tarih = datetime.datetime(2021, 1, 20, 15, 26, 33)\n",
    "print(tarih)"
   ]
  },
  {
   "cell_type": "code",
   "execution_count": null,
   "metadata": {},
   "outputs": [],
   "source": [
    "# İki tarih arasındaki fark\n",
    "tarih1 = datetime.date(year = 2020, month = 6, day = 15)\n",
    "tarih2 = datetime.date(year = 2021, month = 8, day = 10)\n",
    "print(tarih2 - tarih1)"
   ]
  },
  {
   "cell_type": "code",
   "execution_count": null,
   "metadata": {},
   "outputs": [],
   "source": [
    "# Tarih ve zamanı karakter dizisi formunda oluşturma\n",
    "\n",
    "from datetime import datetime\n",
    "\n",
    "şimdi = datetime.now()\n",
    "yıl = şimdi.strftime(\"%Y\")\n",
    "ay = şimdi.strftime(\"%m\")\n",
    "gün = şimdi.strftime(\"%d\")\n",
    "zaman = şimdi.strftime(\"%H:%M:%S\")\n",
    "\n",
    "tarih = şimdi.strftime(\"%m/%d/%Y, %H:%M:%S\")\n",
    "print(tarih)\n",
    "print(type(tarih))"
   ]
  },
  {
   "cell_type": "code",
   "execution_count": null,
   "metadata": {},
   "outputs": [],
   "source": [
    "# Karakter dizisini datetime formatına dönüştürme\n",
    "from datetime import datetime\n",
    "\n",
    "tarih = \"01/01/2021 01:01:30\"\n",
    "dt = datetime.strptime(tarih, \"%d/%m/%Y %H:%M:%S\")\n",
    "print(dt)\n",
    "print(type(dt))"
   ]
  },
  {
   "cell_type": "markdown",
   "metadata": {},
   "source": [
    "## time Modülü\n",
    "\n",
    "<p> Zaman ve tarihle ilgili işlemlerde kullanılan bir diğer modül de time modülüdür. </p>"
   ]
  },
  {
   "cell_type": "code",
   "execution_count": null,
   "metadata": {},
   "outputs": [],
   "source": [
    "# Programların çalışması arasında belli bir zaman duraksama sağlanması\n",
    "import time\n",
    "\n",
    "print(\"Program çalışmaya başladı...\")\n",
    "time.sleep(5)\n",
    "print(\"Birkaç saniye geçti...\")"
   ]
  },
  {
   "cell_type": "markdown",
   "metadata": {},
   "source": [
    "## math Modülü\n",
    "\n",
    "<p> İleri düzey matematiksel işlemlerde kullanılan modüldür. </p>"
   ]
  },
  {
   "cell_type": "code",
   "execution_count": null,
   "metadata": {},
   "outputs": [],
   "source": [
    "# Bir sayının eksponensiyelini bulma\n",
    "import math\n",
    "print(math.exp(10))\n",
    "print(math.exp(-10))"
   ]
  },
  {
   "cell_type": "code",
   "execution_count": null,
   "metadata": {},
   "outputs": [],
   "source": [
    "# Bir sayının faktöriyelini bulma\n",
    "import math\n",
    "print(math.factorial(5))\n",
    "print(math.factorial(10))"
   ]
  },
  {
   "cell_type": "code",
   "execution_count": null,
   "metadata": {},
   "outputs": [],
   "source": [
    "# Bir sayının doğal logaritmasını bulma\n",
    "import math\n",
    "print(math.log(100))\n",
    "print(math.log(4))"
   ]
  },
  {
   "cell_type": "code",
   "execution_count": null,
   "metadata": {},
   "outputs": [],
   "source": [
    "# n sonuç arasından k sonucun kombinasyonunu bulma\n",
    "import math\n",
    "print(math.comb(5, 3))"
   ]
  },
  {
   "cell_type": "code",
   "execution_count": null,
   "metadata": {},
   "outputs": [],
   "source": [
    "# n değerden k seçim yapılması durumunda oluşacak permütasyonları bulma\n",
    "import math\n",
    "print(math.perm(5, 3))"
   ]
  },
  {
   "cell_type": "code",
   "execution_count": null,
   "metadata": {},
   "outputs": [],
   "source": [
    "# Bir sayının sayının bir sayıya üssünü bulma\n",
    "import math\n",
    "print(math.pow(3, 2))\n",
    "print(math.pow(2, 5))"
   ]
  },
  {
   "cell_type": "code",
   "execution_count": null,
   "metadata": {},
   "outputs": [],
   "source": [
    "# Trigonometrik değerleri bulma\n",
    "import math\n",
    "print(math.sin(30))\n",
    "print(math.cos(30))\n",
    "print(math.tan(30))"
   ]
  },
  {
   "cell_type": "code",
   "execution_count": null,
   "metadata": {},
   "outputs": [],
   "source": [
    "# Çeşitli matematiksel sayıları\n",
    "print(math.e)\n",
    "print(math.inf)\n",
    "print(math.pi)"
   ]
  },
  {
   "cell_type": "markdown",
   "metadata": {},
   "source": [
    "## random Modülü\n",
    "\n",
    "<p> Rastgelelik konusunda çalışmalar yapmamıza olanak sağlayan modüldür. </p>"
   ]
  },
  {
   "cell_type": "code",
   "execution_count": null,
   "metadata": {},
   "outputs": [],
   "source": [
    "# Bellir bir aralıkta rastgele değer elde etme\n",
    "import random\n",
    "print(random.randint(0, 1))"
   ]
  },
  {
   "cell_type": "code",
   "execution_count": null,
   "metadata": {},
   "outputs": [],
   "source": [
    "# Bir diziden rastgele değer elde etme\n",
    "import random\n",
    "liste = [1, 5, 2, 3, 10, 4]\n",
    "karakterler = \"abcdefg\"\n",
    "print(random.choice(liste))\n",
    "print(random.choice(karakterler))"
   ]
  },
  {
   "cell_type": "code",
   "execution_count": null,
   "metadata": {},
   "outputs": [],
   "source": [
    "# Bir dizi içerisinden belli sayıda rastgele değer elde etme\n",
    "liste = [1, 3, 4, 2, 5, 10, 9, 6, 7, 11, 12, 13]\n",
    "print(random.sample(liste, 3))"
   ]
  },
  {
   "cell_type": "code",
   "execution_count": null,
   "metadata": {},
   "outputs": [],
   "source": [
    "# Bir dizideki elemanları yeniden düzenleme\n",
    "liste = [1, 3, 4, 2, 5, 10, 9, 6, 7, 11, 12, 13]\n",
    "random.shuffle(liste)\n",
    "print(liste)"
   ]
  },
  {
   "cell_type": "markdown",
   "metadata": {},
   "source": [
    "## Modül Oluşturma\n",
    "\n",
    "<p> Modül oluşturmak için çalıştığımız klasör içerisine belirli fonksiyon ve özellikler barındıran bir kod dizisi yazmamız ve bunu içeri aktarmamız gerekmektedir. Bu noktadan sonra o harici Python kodundaki özellikleri yardımcı unsurlar olarak kullanabileceğiz demektir. </p>"
   ]
  },
  {
   "cell_type": "code",
   "execution_count": null,
   "metadata": {},
   "outputs": [],
   "source": [
    "import modul\n",
    "toplam = modul.toplama(5, 10)\n",
    "print(toplam)\n",
    "çarpım = modul.çarpma(4, 5)\n",
    "print(çarpım)"
   ]
  },
  {
   "cell_type": "markdown",
   "metadata": {},
   "source": [
    "# SORULAR\n",
    "\n",
    "<p> 1) Uygun komutları kullanarak \"İlk Dosyam\" elemanının yer alacağı bir dosya oluşturunuz. </p>"
   ]
  },
  {
   "cell_type": "code",
   "execution_count": null,
   "metadata": {},
   "outputs": [],
   "source": [
    "open(\"dosya.txt\", \"w\", encoding = \"utf-8\")\n",
    "with open(\"dosya.txt\", \"r+\", encoding = \"utf-8\") as dosya:\n",
    "    dosya.write(\"İlk dosyam\")"
   ]
  },
  {
   "cell_type": "markdown",
   "metadata": {},
   "source": [
    "<p> 2) Bir dosya oluşturun ve dosyanın içerisine Türkçe karakterleri de kullanacağınız 10 adet isim ekleyip dosyadaki bütün değerleri ekrana bastırın. </p>"
   ]
  },
  {
   "cell_type": "code",
   "execution_count": null,
   "metadata": {},
   "outputs": [],
   "source": [
    "open(\"isimler.txt\", \"w\", encoding = \"utf-8\")\n",
    "with open(\"isimler.txt\", \"r+\", encoding = \"utf-8\") as d:\n",
    "    d.write(\"Ali\\n\")\n",
    "    d.write(\"Ahmet\\n\")\n",
    "    d.write(\"Cem\\n\")\n",
    "    d.write(\"Can\\n\")\n",
    "    d.write(\"Ömer\\n\")\n",
    "    d.write(\"Ülkü\\n\")\n",
    "    d.write(\"Tarık\\n\")\n",
    "    d.write(\"Saffet\\n\")\n",
    "    d.write(\"Aydın\\n\")\n",
    "    d.write(\"Metin\")\n",
    "    d.seek(0)\n",
    "    print(d.read())"
   ]
  },
  {
   "cell_type": "markdown",
   "metadata": {},
   "source": [
    "<p> 3) İçerisinde sırasıyla kullanıcıların ad, soyad, müşteri numarası, il, ürün, marka ve model bilgilerinin yer alacağı bir kayıt sistemi oluşturacağımızı varsayalım. Buna göre belli sayıda kullanıcının ilgili bilgilerini rastgele değerlerden oluşturacağınız bir kod yazın. </p>"
   ]
  },
  {
   "cell_type": "code",
   "execution_count": null,
   "metadata": {},
   "outputs": [],
   "source": [
    "import random\n",
    "\n",
    "def fonksiyon(n):\n",
    "    ad = [\"Ali\", \"Ahmet\", \"Mehmet\", \"Saffet\", \"Hasan\", \"Ayşe\", \"Fatma\", \"Nur\", \"Can\", \"Mete\", \"Ömer\", \"Melek\", \"Lale\", \n",
    "      \"Mert\", \"Hale\"]\n",
    "    soyad = [\"Yılmaz\", \"Can\", \"Özdemir\", \"Gül\", \"Özbek\", \"Ersoy\", \"Yıldız\", \"Yıldırım\", \"Aydın\", \"Arslan\"]\n",
    "    m_no = \"0123456789\"\n",
    "    il = [\"İstanbul\", \"İzmir\", \"Ankara\", \"Konya\", \"Antalya\", \"Eskişehir\", \"Bursa\", \"Edirne\", \"Sakarya\", \"Trabzon\"]\n",
    "    ürün = [\"Otomobil\", \"Bilgisayar\", \"Cep Telefonu\"]\n",
    "    marka = [\"X\", \"Y\", \"Z\", \"W\", \"T\"]\n",
    "    model = [\"A\", \"B\", \"C\", \"D\", \"E\"]\n",
    "    open(\"kayıtlar.txt\", \"w\", encoding = \"utf-8\")\n",
    "    with open(\"kayıtlar.txt\", \"r+\", encoding = \"utf-8\") as dosya:\n",
    "        for i in range(n):\n",
    "            dosya.write(random.choice(ad) + \", \")\n",
    "            dosya.write(random.choice(soyad) + \", \")\n",
    "            dosya.write(\"\".join(random.sample(m_no, 10)) + \", \")\n",
    "            dosya.write(random.choice(il) + \", \")\n",
    "            dosya.write(random.choice(ürün) + \", \")\n",
    "            dosya.write(random.choice(marka) + \", \")\n",
    "            dosya.write(random.choice(model) + \"\\n\")\n",
    "            \n",
    "fonksiyon(100)"
   ]
  },
  {
   "cell_type": "markdown",
   "metadata": {},
   "source": [
    "<p> 4) Bir önceki soruda oluşturduğunuz dosyaya aynı bilgileri kullanarak bir satır daha kayıt ekleyin ve dosya değerlerini alfabetik olarak sıralayıp (isimler A'dan Z'ye ilerleyecek şekilde) oluşan yeni görüntüyü ekrana yazdırın.</p>"
   ]
  },
  {
   "cell_type": "code",
   "execution_count": null,
   "metadata": {},
   "outputs": [],
   "source": [
    "import locale\n",
    "locale.setlocale(locale.LC_ALL, \"Turkish_Turkey.1254\")\n",
    "\n",
    "with open(\"kayıtlar.txt\", \"r+\", encoding = \"utf-8\") as dosya:\n",
    "    dosya.write(\"Ahmet, Aydın, 0123456789, İstanbul, Otomobil, X, Y\\n\")\n",
    "    liste = dosya.readlines()\n",
    "    liste = sorted(liste, key = locale.strxfrm)\n",
    "for i in range(len(liste)):\n",
    "    print(liste[i], end = \"\")"
   ]
  },
  {
   "cell_type": "markdown",
   "metadata": {},
   "source": [
    "<p> 5) Bir dosya oluşturup dosyaya belli sayıda isim ekleyin. Ardından dosyanın başına ve ortasına ekstra birer adet daha isim ekleyin ve oluşan son dosyayı inceleyip yaptığınız işlemlerin doğruluğunu kontrol edin. </p>"
   ]
  },
  {
   "cell_type": "code",
   "execution_count": null,
   "metadata": {
    "scrolled": true
   },
   "outputs": [],
   "source": [
    "open(\"dsy.txt\", \"w\", encoding = \"utf-8\")\n",
    "with open(\"dsy.txt\", \"r+\", encoding = \"utf-8\") as dosya:\n",
    "    dosya.write(\"Ali\\n\")\n",
    "    dosya.write(\"Ahmet\\n\")\n",
    "    dosya.write(\"Mehmet\\n\")\n",
    "    dosya.write(\"Hasan\\n\")\n",
    "    \n",
    "with open(\"dsy.txt\", \"r+\", encoding = \"utf-8\") as dosya:\n",
    "    değerler = dosya.read()\n",
    "    dosya.seek(0)\n",
    "    dosya.write(\"Nedim\\n\" + değerler)\n",
    "    dosya.seek(0)\n",
    "    değerler = dosya.readlines()\n",
    "    değerler.insert(1, \"Selim\\n\")\n",
    "    dosya.seek(0)\n",
    "    dosya.writelines(değerler)\n",
    "    dosya.seek(0)\n",
    "    print(dosya.read())"
   ]
  }
 ],
 "metadata": {
  "kernelspec": {
   "display_name": "Python 3",
   "language": "python",
   "name": "python3"
  },
  "language_info": {
   "codemirror_mode": {
    "name": "ipython",
    "version": 3
   },
   "file_extension": ".py",
   "mimetype": "text/x-python",
   "name": "python",
   "nbconvert_exporter": "python",
   "pygments_lexer": "ipython3",
   "version": "3.8.5"
  }
 },
 "nbformat": 4,
 "nbformat_minor": 4
}
