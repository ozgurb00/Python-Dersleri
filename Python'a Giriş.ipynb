{
 "cells": [
  {
   "cell_type": "markdown",
   "metadata": {},
   "source": [
    "# PYTHON'A GİRİŞ\n",
    "\n",
    "<p>Günümüzde bilgisayarların ve bilgisayarlarla ilişkili teknolojilerin hayatımızı ne derecede etkilediği, 2020'nin başlarında neredeyse tüm dünyayı esir alan ve insanları evlere kapatan Covid-19'un da etkisiyle iyice açığa çıktı. Bu değişimin ne derece büyük olduğunu sadece 30-40 yıl önceki günlük yaşamı inceleyerek anlayabiliriz. </p>\n",
    "\n",
    "<p>Büyüklerimizden dinlemişizdir onların zamanında hayatın ne kadar farklı olduğunu. Akrabalık ve arkadaşlık ilişkilerinin doğallığını, buluşmaların günler öncesinden planlanıp ona göre hareket edildiğini, hastane veya iş görüşmesi gibi basit durumlar için saatlerce sıra beklenildiğini, bankacılık ve resmi evraklar için tomar tomar kağıtlar kullanıldığını, derslere çalışmak için cilt cilt kitaplar taşındığını ve daha nicesini. Ondandır ki şimdi en azından ellilerinde altmışlarında olan büyüklerimiz gelişen teknolojiye genç nesiller kadar hızlı adapte olamıyorlar. Ancak teknoloji öyle hızlı gelişti ki artık bu hızlı değişimden şikayet eden çok yaşlı insanlar bile ellerinde akıllı telefonlarla akrabalarını görüntülü arıyor, sosyal medya sitelerinden eski arkadaşlarını bulabiliyor veya yemek tarifi için arama motorundan çeşitli siteleri araştırabiliyor. </p>\n",
    "\n",
    "<p>Gençler açısından teknolojinin kullanımına bakıldığında ise yukarıda bahsedilen olumsuz sayılabilecek pek çok olumsuz sayılabilecek durum artık çözüldü ve işler oldukça hızlı yapılmaya başlandı. Mesela yakın tarihin gördüğü en ölümcül pandemi olan İspanyol Gribi'nde (1918-1920) insanların online eğitim, çalışma ve etkinlik düzenleme şansları olmadığı için herkes günlük hayatına dışarıda devam etti ve yakın temas sonucu oldukça fazla yayılan virüs yüzünden ölü sayısı 1.8 milyarlık dünya nüfusundan 17 ila 100 milyona ulaştı. Oysa bugün hem sağlık hem teknoloji alanındaki gelişmeler sonucu günlük hayatımız tam anlamıyla düzelemese de bir asır önceye göre daha iyi şartlara sahip olduğumuzu görebiliyoruz. </p>\n",
    "\n",
    "<p>Yirmi birinci yüzyılın ilk çeyreğini geride bırakmaya yaklaştığımız bu günlerde teknolojinin önemini anlıyor, dolayısıyla ona ilgi de artıyor. Bilhassa Endüstri 4.0 kavramıyla birlikte yazılım teknolojilerine yönelik muazzam bir ilgi oluştu ve geniş kitleler bu değişimde yer almak amacıyla, bilgiye ulaşımın da kolaylaşması sayesinde yazılım eğitimi almaya başladı. </p>\n",
    "\n",
    "<p>Değişen şartlara bakınca artık temel yazılım bilgisine sahip olmak nüfusun önemli bir bölümü için İngilizce veya matematik bilmek gibi olmazsa olmaz haline geldi. Peki sunulan onca bilgi ve düzenlenen onca eğitim şu ana kadar bu ihtiyacı giderdi mi? Cevap ne yazık ki hayır. Çünkü yeni teknoloji devrimi günlük hayattaki etkisini birden hissettirdi ve $hype$ her ne kadar yüksek olsa da henüz bu alandaki nitelikli insan sayısı yeterli seviyeye ulaşmadı. Bundan dolayı gerek profesyonelgerekse de gönüllü olarak pek çok kişi ve kurum Endüstri 4.0'ın hedeflerine ulaşmak için çalışmaya devam ediyor. </p>\n",
    "\n",
    "</p>Biz de bu eğitim boyunca yazılım teknolojileri arasında oldukça önemli hale gelen ve popülerliği de giderek artan Python'u temel düzeyde öğrenmeye çalışacağız. Ancak buna başlamadan önce neden Python öğrenmeliyiz, bu eğitimde diğer kurslardan farklı olarak neler olacak gibi soruları yanıtlayalım. </p>\n",
    "\n",
    "## Eğitimin Amacı\n",
    "\n",
    "<p>Uygulamalarla Temel Python Eğitimi'nin amacı Python'u hiç bilmeyen, konulara aşina ama pratik eksikliği olan ve başka bir dil bilip ayrıca bu dili de öğrenmek isteyen kişilere Python konularını örnek uygulamalar, sorular ve projelerle öğretmektir. Eğitim boyunca her dersin ilk kısmı konu anlatımı, ikinci kısmı ise konuya ilişkin sorulardan oluşacaktır ki bu eğitimin en önemli özelliği budur. Zira ne öğreniyorsak öğrenelim, öğrendiğimizi pekiştirmediğimiz sürece onu bir şekilde unuturuz. Biz de öğrendiklerimizi kalıcı hale getirmek için eğitim boyunca kolaydan zora yüzlerce soru çözmeye çalışacağız.</p>\n",
    "\n",
    "## Eğitimin İçeriği\n",
    "\n",
    "<p>Aşağıdaki şekilde oluşturulmuş toplam sekiz ana konu üzerinden genel programlama altyapısı ve çok amaçlı bir programlama dili olan Python'a özgü unsurlar ayrıntılarıyla ele alınacak. </p>\n",
    "\n",
    "<b>Konu-1) Temel Python Komutları, Operatörler ve Koşullu İfadeler <br>\n",
    "<b>Konu-2) Döngüler ve Hata Yakalama <br>\n",
    "<b>Konu-3) Listeler, Demetler, Sözlükler, Kümeler <br>\n",
    "<b>Konu-4) Karakter Dizileri <br>\n",
    "<b>Konu-5) Fonksiyonlar <br>\n",
    "<b>Konu-6) Dosya İşlemleri <br>\n",
    "<b>Konu-7) Nesne Yönelimli Programlama <br>\n",
    "<b>Konu-8) Kütüphaneler, Numpy, Pandas, Matplotlib <br>"
   ]
  },
  {
   "cell_type": "markdown",
   "metadata": {},
   "source": [
    "# Python'a Genel Bir Bakış\n",
    "\n",
    "<p>İlk kez 1940'lı yıllarda hayata geçirilmeye başlanan programlama dilleri zaman içerisinde yaygınlaştı ve yüzlerce farklı programlama dili çeşitli alanlarda kullanılır hale geldi. Elbette ki bu dillerin hepsi eşit oranda kullanılmadı. Bazıları doğal olarak diğerlerinden daha ön plana çıktı ve daha popüler oldu. Ancak teknoloji geliştikçe eskiden popüler olan diller de yerlerini daha yeni dillere bırakmaya başladı ve döngü bu şekilde günümüze kadar devam etti. </p>\n",
    "\n",
    "<p>Dillerin popülerliği konusunda somut bir örnek vermek gerekirse, 90'lı yıllarda C, C++, Fortran, Pascal, BASIC, Ada, Lisp gibi diller oldukça yaygın kullanılırken 2000'li yıllara gelindiğinde C/C++ harici diğer diller eredeyse kullanılmamaya başlandı. C ve C++ gibi dillerin de popülerliği azaldı, ancak önemli sektörlerde kullanılmaya devam edildi. Web teknolojileri, otomasyon sistemleri, bilgisayar ve konsol oyunları, siber güvenlik vb. pek çok alandaki gelişmeler sonucu günün şartlarına uygun olarak Java, PHP, Javascript, C# ve Ruby gibi diller ön plana çıkmaya başladı. </p>\n",
    "\n",
    "<p>2010'lardan sonra veri alanında ortaya çıkan gelişmeler neticesinde ise verinin kullanımına yönelik olarak oldukça farklı teknolojiler gelişti. Bunlara istinaden akıllı sistemler ve iletişim araçları gelişti ve farklılaştı. Sonuç olarak da dillerin popülerliği tekrar değişti ve Python, R, Kotlin, Flutter, Swift, GO gibi diller sıklıkla kullanılır hale geldi. </p>\n",
    "\n",
    "<p>Northeastern University'nin iş arama sitesi Indeed'e istinaden gerçekleştirdiği araştırmaya göre 2020'nin en popüler dilleri aşağıdaki gibiydi. </p>\n",
    "\n",
    "1) Python <br>\n",
    "2) JavaScript <br>\n",
    "3) Java <br>\n",
    "4) C# <br>\n",
    "5) C <br>\n",
    "6) C++ <br>\n",
    "7) GO <br>\n",
    "8) R <br>\n",
    "9) Swift <br>\n",
    "10) PHP <br>\n",
    "\n",
    "<p>Listenin ilk sırasında Python'u görüyoruz. Sonuç hiç şaşırtıcı değil. Zira Python arayüz tasarımından yapay zekaya, web teknolojilerinden siber güvenliğe, bilimsel hesaplamadan robotiğe kadar pek çok alanda kullanılıyor. Üstelik dinamik yapısı ve basit tasarımı sayesinde programlamaya yeni başlayanlar için büyük kolaylık ve esneklik sağlıyor. </p>\n",
    "\n",
    "<p>Yukarıdaki açıklamayı biraz daha somutlaştırmak gerekirse, derslerin devamında da göreceğimiz gibi Python'da bir değişken tanımlamak için yapmamız gereken tek şey bir değişken adı belirlemek ve onun yanına tam sayı, ondalıklı sayı, karakter dizisi vb. bir değer yazmak. Mesela bu basit işlemi C, Java gibi kod yazımı daha zor bir dilde yazsaydık değişkene belli bir değer atamak için o değerin hangi <b>temel veri tipine</b> (tam sayı, ondalıklı sayı, karakter dizisi vb.) ait olduğunu özellikle belirtmemiz gerecekti. Aşağıdaki örneklerden bunu inceleyebiliriz.</p>"
   ]
  },
  {
   "cell_type": "markdown",
   "metadata": {},
   "source": [
    "## Java'da 'Hello World' Yazmak\n",
    "\n",
    "<pre>\n",
    "public class app {\n",
    "    \n",
    "\tpublic static void main(String[] args) {\n",
    "        System.out.println(\"Hello World!\");\n",
    "    }\n",
    "}\n",
    "</pre>\n"
   ]
  },
  {
   "cell_type": "markdown",
   "metadata": {},
   "source": [
    "## Python'da 'Hello World' Yazmak"
   ]
  },
  {
   "cell_type": "code",
   "execution_count": null,
   "metadata": {},
   "outputs": [],
   "source": [
    "print(\"Hello World\")"
   ]
  },
  {
   "cell_type": "markdown",
   "metadata": {},
   "source": [
    "## Java'da Değişken Oluşturmak\n",
    "\n",
    "<pre>\n",
    "public class app {\n",
    "    \n",
    "\tpublic static void main(String[] args) {\n",
    "        double ondalikliSayi = 100.85;\n",
    "        int tamSayi = 67;\n",
    "        String karakterDizisi = \"Karakter Dizisi\";\n",
    "         \n",
    "    }\n",
    "}\n",
    "</pre>"
   ]
  },
  {
   "cell_type": "markdown",
   "metadata": {},
   "source": [
    "## Python'da Değişken Oluşturmak"
   ]
  },
  {
   "cell_type": "code",
   "execution_count": null,
   "metadata": {},
   "outputs": [],
   "source": [
    "a, b, c = 100.85, 67, \"Karakter Dizisi\""
   ]
  },
  {
   "cell_type": "markdown",
   "metadata": {},
   "source": [
    "<p>Görüldüğü üzere Java'da daha zor yapılabilen işleri Python'da kolaylıkla yapabiliyoruz. Elbette Python'un sağladığı kolaylıklar bununla sınırlı değil. Python'da veri tipleri üzerindeki esnekliğimiz sayesinde farklı veri tiplerini ileride göreceğimiz listeler, sözlükler, demetler vb. yerlerde birlikte kullanabiliyoruz. Ayrıca Java, C, C++ gibi dillerde değişken oluştururken değişken değerlerinin bilgisayar hafızasında ne kadar yer kapladığını bilmemiz gerekirken Python bize bu tarz konularda daha geniş bir alan sunuyor. </p>\n",
    "\n",
    "<p>Basit bir örnek vermek gerekirse, diyelim ki bir işlem için Python veya Java kullanmamız gerekiyor. İşlem klavyeden on tane tam sayı girip bu sayıları ekrana bastırmak olsun. Ancak girilecek tam sayı için bir üst sınır belirlenmemiş olsun. Yani 1,2 gibi küçük sayılar da girebiliriz $10^{100}$, $10^{200}$ gibi sayılar da.</p>\n",
    "\n",
    "<p>Biliniyor ki Java'daki primitif veri tiplerinde bir tam sayı görüntüsü elde edebilmek için kullanabileceğimiz en üst seviye veri tipi $long$ tipindeki değerlerdir. Bu tipteki veriler hafızada 8 Byte yer kaplarlarlar, yani $-2^{63}$ ile $2^{63}$ arasındaki değerleri alabilir. Ancak bu limit değerlerindeki en ufak bir farklılık kodun hata vermesine sebep olacaktır. Örneğin aşağıdaki Java kodunda ilk değişken düzgün bir şekilde kaydedilmişken ikinci değişken limit değerlerini aştığı için programın hata vermesine sebep olmaktadır. </p>"
   ]
  },
  {
   "cell_type": "markdown",
   "metadata": {},
   "source": [
    "<pre>\n",
    "public class app {\n",
    "    \n",
    "\tpublic static void main(String[] args) {\n",
    "        long a = 9223372036854775807L; // 2^63'e esit\n",
    "        long b = 9223372036854775808L; // 2^63 + 1 degerine esit, ust limiti asiyor\n",
    "         \n",
    "    }\n",
    "}\n",
    "</pre>"
   ]
  },
  {
   "cell_type": "markdown",
   "metadata": {},
   "source": [
    "<p>Primitif veri tiplerinin limitlerinden dolayı yukarıdaki görevi yerine getirebilmek için Java'da bilgisayar hafızasının üst sınırı kadar büyük tam sayılara ulaşmamızı gerektiren $BigInteger$ sınıfını kullanmamız gerekiyor. Ancak bu sınıfın yapısı oldukça farklı olduğu için klasik Java bilgisinin yanında bu sınıfa ait özelliklerle nasıl sayı oluşturabileceğimiz, nasıl döngü kurabileceğimizi de bilmemiz gerekiyor. bunlar neticesinde aşağıdaki gibi bir kod yazarsak yukarıdaki değerleri elde edebiliyoruz. </p>"
   ]
  },
  {
   "cell_type": "markdown",
   "metadata": {},
   "source": [
    "<pre>\n",
    "import java.math.*;\n",
    "import java.util.*;\n",
    "\n",
    "public class app {\n",
    "    \n",
    "\tpublic static void main(String[] args) {\n",
    "        Scanner input = new Scanner(System.in);\n",
    "        for(int i = 0; i < 10; i++) {\n",
    "            System.out.print(\"Sayi girin: \");\n",
    "            BigInteger sayi = input.nextBigInteger();\n",
    "            System.out.println(\"Girdiginiz sayi: \" + sayi);\n",
    "        }\n",
    "    }\n",
    "}\n",
    "</pre>"
   ]
  },
  {
   "cell_type": "markdown",
   "metadata": {},
   "source": [
    "<p>Java'ya aşina olanlar yukarıdaki döngünün BigInteger sınıfının dahil olması sebebiyle standart döngülerden bir miktar daha zahmetli oluşturulduğunu görecektir, ki bu oldukça basit bir işlemdir. Daha ileri seviye işlemlerde kod yapısı gittikçe karmaşıklaşacaktır.</p>\n",
    "\n",
    "<p>İki dil arasındaki kod yapısını kıyaslamak için gelin aynı işlemi Python'da yapalım. </p>"
   ]
  },
  {
   "cell_type": "code",
   "execution_count": null,
   "metadata": {},
   "outputs": [],
   "source": [
    "for i in range(10):\n",
    "    sayı = int(input(\"Sayı girin: \"))\n",
    "    print(f\"Girdiğiniz sayı: {sayı}\")"
   ]
  },
  {
   "cell_type": "markdown",
   "metadata": {},
   "source": [
    "<p>Görüldüğü üzere aynı işlemi Python'da yaparken ne ekstra bir sınıfı içe aktardık ne de ekstra veri tipi oluşturmayla uğraştık. Birkaç satırlık basit bir kod ile işlemi hallettik. Bu basit işlemlerde bile Python'un kod yapısının oldukça sade ve basit olduğunu görebiliyoruz.</p>\n",
    "\n",
    "## Programlama Dillerini Karşılaştırırken Yapılan Yanlışlara Dair Küçük Bir Not\n",
    "\n",
    "<p>Yukarıda Python'un kod yapısındaki sadeliği anlatırken Python'un diğer bütün dillerden daha iyi olduğu sonucu çıkarmak yazılım okuryazarlığı açısından sakıncalıdır. Zira en iyi programlama dili diye bir şey yoktur. Her dil ayrı bir araçtır ve yapılan işe göre farklı diller kullanmak gerekir. Örneğin derin öğrenme alanında bir çalışma yaparken Python oldukça avantajlıyken, Front-End çalışmalarında Javascript kullanmak gerekebilir. Gömülü sistemlerde çalışırken C++, IOS için program geliştirirken Swift, android için program geliştirirken Flutter kullanılması gibi daha pek çok örnek verilebilir. </p>\n",
    "\n",
    "<p>Sözün özü, Python'un yukarıda saydığımız özellikleri onu en iyi dil yapmaz, bazı açılardan daha avantajlı bir dil yapar. Bu iki durumu birbirine karıştırmamak gerekir. </p>"
   ]
  },
  {
   "cell_type": "markdown",
   "metadata": {},
   "source": [
    "# Temel Python Komutları\n",
    "\n",
    "<p>Python'un yapısından yeterince bahsettiğimize göre şimdi bu dilde bir şeyler yapmamızı sağlayacak temel araçları öğrenmeye başlayalım. </p>"
   ]
  },
  {
   "cell_type": "markdown",
   "metadata": {},
   "source": [
    "## print()\n",
    "\n",
    "<p>Python'un en temel komutlarından birisi print() fonsiyonudur. Bu fonksiyon, parantez içerisine yazdığımız değerleri ekrana bastırmaya yarar. </p>"
   ]
  },
  {
   "cell_type": "code",
   "execution_count": null,
   "metadata": {},
   "outputs": [],
   "source": [
    "print('Merhaba Dünya!')"
   ]
  },
  {
   "cell_type": "code",
   "execution_count": null,
   "metadata": {},
   "outputs": [],
   "source": [
    "print(1000)"
   ]
  },
  {
   "cell_type": "code",
   "execution_count": null,
   "metadata": {},
   "outputs": [],
   "source": [
    "print(True)"
   ]
  },
  {
   "cell_type": "markdown",
   "metadata": {},
   "source": [
    "<p>Yukarıdaki örneklerde görüldüğü gibi eğer bir sayı ya da doğruluk değeri yazmak istersen bu değerleri doğrudan yazıyoruz. Bir kelime ya da cümleyi ekrana bastırmak istersek print() fonksiyonunun içine tırnak işareti açıp bu değerleri yazıyoruz. </p>\n",
    "\n",
    "<p>Kelime ya da cümleleri ekrana bastırmak için tek varyasyon tek tırnak değildir. Bunun için aşağıdaki varyasyonları da kullanabiliriz. </p>"
   ]
  },
  {
   "cell_type": "code",
   "execution_count": null,
   "metadata": {},
   "outputs": [],
   "source": [
    "print(\"Merhaba Dünya!\")"
   ]
  },
  {
   "cell_type": "code",
   "execution_count": null,
   "metadata": {},
   "outputs": [],
   "source": [
    "print(\"\"\"Merhaba Dünya!\"\"\")"
   ]
  },
  {
   "cell_type": "markdown",
   "metadata": {},
   "source": [
    "<p>Görüldüğü üzere bu fonksiyonda farklı tırnak işaretleri ile aynı sonuçları elde etmek mümkün. Ancak bu tırnak işaretleri tamamen aynı amaçla kullanılmaz. Aralarında belirli farklar vardır. </p>\n",
    "\n",
    "<p>Eğer print() içerisinde kullanacağımız tırnak işaretleri birbiriyle çakışırsa program hata verir. Bu durum genellikle gramer kurallarında farklı görevleri bulunan tek tırnak ile çift tırnak işaretleri bir arada kullanılacaksa meydana gelir. </p>"
   ]
  },
  {
   "cell_type": "code",
   "execution_count": null,
   "metadata": {},
   "outputs": [],
   "source": [
    "print('Python'un en önemli özelliklerinden birisi dinamik yapısıdır')"
   ]
  },
  {
   "cell_type": "markdown",
   "metadata": {},
   "source": [
    "<p>Üstteki kod bir hata verdi. Bunun sebebi Python'un gramer kuralları diye açıklayabileceğimiz sentaks kurallarına aykırı bir işlem yapmamızdır. Daha açık bir şekilde anlatacak olursak, Python yukarıda bizim yaptığımız işi iki tırnak işareti arasında kullanılan karakterlere kadar anladı. Ancak ondan sonrasında tırnak işaretinin kapandığını sanıp cümlenin geri kalanını anlayamadı ve bir hata verdi. Bu tarz bir hatayı düzeltmek için, yani tırnak işaretlerinin birbirleriyle çakışmasını engellemek için print() fonksiyonundaki farklı tırnak işareti varyasyonlarını kullanabiliriz. Örneğin yukarıdaki hatayı almamak için çift tırnak veya üç çtırnak varyasyonlarını kullanabiliriz. </p>"
   ]
  },
  {
   "cell_type": "code",
   "execution_count": null,
   "metadata": {},
   "outputs": [],
   "source": [
    "print(\"Python'un en önemli özelliklerinden birisi dinamik yapısıdır\")"
   ]
  },
  {
   "cell_type": "code",
   "execution_count": null,
   "metadata": {},
   "outputs": [],
   "source": [
    "print(\"\"\"Python'un en önemli özelliklerinden birisi dinamik yapısıdır\"\"\")"
   ]
  },
  {
   "cell_type": "markdown",
   "metadata": {},
   "source": [
    "<p>Bu kez kodlarımız çalıştı. Benzer bir durumu çift tırnak işaretinin kullanıldığı aşağıdaki örneklerde de görebiliriz. </p>"
   ]
  },
  {
   "cell_type": "code",
   "execution_count": null,
   "metadata": {},
   "outputs": [],
   "source": [
    "print(\"\"Java nesne yönelimli bir dildir.\" diye açıkladı.\")"
   ]
  },
  {
   "cell_type": "code",
   "execution_count": null,
   "metadata": {},
   "outputs": [],
   "source": [
    "print('\"Java nesne yönelimli bir dildir.\" diye açıkladı.')"
   ]
  },
  {
   "cell_type": "code",
   "execution_count": null,
   "metadata": {},
   "outputs": [],
   "source": [
    "print(\"\"\"\"Java nesne yönelimli bir dildir.\" diye açıkladı.\"\"\")"
   ]
  },
  {
   "cell_type": "markdown",
   "metadata": {},
   "source": [
    "<p>Şu ana kadar gördüğümüz tırnak işaretleri arasındaki bir diğer özellik de üç tırnak arasına yazdığımız değerlerin birden çok satıra yayılabilmesidir. Bu, diğer tırnak işaretleri ile yapılabilecek bir işlem değildir. Çünkü tek ve çift tırnak işaretleri arasına yazılan değerler en fazla bir satır boyunca yayılır. Alt satıra geçilmeye çalışılırsa program hata verir. </p>"
   ]
  },
  {
   "cell_type": "code",
   "execution_count": null,
   "metadata": {},
   "outputs": [],
   "source": [
    "print('One Ring to rule them all.\n",
    "      One Ring to find them.')"
   ]
  },
  {
   "cell_type": "code",
   "execution_count": null,
   "metadata": {},
   "outputs": [],
   "source": [
    "print(\"I'm not in danger Skyler,\n",
    "      I'm the danger.\")"
   ]
  },
  {
   "cell_type": "markdown",
   "metadata": {},
   "source": [
    "<p>Üç tırnak işareti arasına bu değerleri yazarsak yukarıdaki hatalardan kurtulmuş oluruz. </p>"
   ]
  },
  {
   "cell_type": "code",
   "execution_count": null,
   "metadata": {},
   "outputs": [],
   "source": [
    "print(\"\"\"One Ring to rule them all\n",
    "One Ring to find them\n",
    "One Ring to bring them all\n",
    "and in the darkness bind them\"\"\")"
   ]
  },
  {
   "cell_type": "code",
   "execution_count": null,
   "metadata": {},
   "outputs": [],
   "source": [
    "print(\"\"\"I'm not in danger Skyler,\n",
    "I'm the danger.\"\"\")"
   ]
  },
  {
   "cell_type": "markdown",
   "metadata": {},
   "source": [
    "<p>Şu ana kadar tırnak işaretleri ile alakalı hataları farklı varyasyonlar ile gidermeyi denedik. Çok satırlı cümleleri gene üç tırnak kullanımı ile giderdik. Ancak benzer durumları sürekli farklı tırnak varyasyonları ile gidermek pratik bir yöntem değildir. Bunlar yerine <b>kaçış dizileri</b> denilen ve kodlarımızı daha pratik olarak idare etmemizi sağlayan yapıları kullanabiliriz. </p>"
   ]
  },
  {
   "cell_type": "markdown",
   "metadata": {},
   "source": [
    "## Kaçış Dizileri \n",
    "\n",
    "<p>Kaçış dizileri, çoğunlukla karakter dizilerini ekrana bastırırken kullanılan işlevsel unsurlardır. </p>\n",
    "\n",
    "## Ters Taksim(\\\\) \n",
    "\n",
    "<p>Karakter dizisi içerisinde kullanıldığında, kendisinden sonra gelen karakteri gerçersiz kılar. Tırnak işaretlerinin karışmasını önlemek için sıkça başvurulur.</p>"
   ]
  },
  {
   "cell_type": "code",
   "execution_count": null,
   "metadata": {
    "scrolled": true
   },
   "outputs": [],
   "source": [
    "print('Altar\\'ın oğlu Tarkan mı? O_O')"
   ]
  },
  {
   "cell_type": "code",
   "execution_count": null,
   "metadata": {},
   "outputs": [],
   "source": [
    "print(\"\\\"Hayır!\\\" diye bağırdı.\")"
   ]
  },
  {
   "cell_type": "markdown",
   "metadata": {},
   "source": [
    "## Yeni Satır(\\n)\n",
    "\n",
    "<p>Karakter dizisi içerisinde kullanıldığında, kendisinden sonra gelen karakter ya da karakter dizisini yeni bir satıra taşır. </p>"
   ]
  },
  {
   "cell_type": "code",
   "execution_count": null,
   "metadata": {},
   "outputs": [],
   "source": [
    "print(\"One Ring to rule them all\\nOne Ring to find them\\nOne Ring to bring them all\\nin the darkness bind them\")"
   ]
  },
  {
   "cell_type": "markdown",
   "metadata": {},
   "source": [
    "## Tab Komutu (\\t)\n",
    "\n",
    "<p>Kendisinden sonra gelen karakter ya da karakter dizisini hizalamaya yarar. </p>"
   ]
  },
  {
   "cell_type": "code",
   "execution_count": null,
   "metadata": {},
   "outputs": [],
   "source": [
    "print(\"Java\\n\\tPython\\nC++\\n\\tPHP\")"
   ]
  },
  {
   "cell_type": "markdown",
   "metadata": {},
   "source": [
    "<p>Yukarıdaki unsurların dışında print() fonksiyonun pek çok özelliği daha bulunmaktadır. Ancak bunlara geçmeden önce Python'da değişken tanımlama konusuna değinmek daha faydalı olacaktır. </p>"
   ]
  },
  {
   "cell_type": "markdown",
   "metadata": {},
   "source": [
    "## Değişken Tanımlama\n",
    "\n",
    "<p>Programlama dillerinde değişken dediğimiz kavram aslında belli bir veri tipini adlandırma ve onu hafızada tutma işlemidir. Bu durum Python'da da aynıdır. Ancak çoğu dilde bu işlem için değişkenin atanacağı veri tipi ayrıca belirtilirken, Python değişkenin atandığı veri tipini otomatik olarak tanır ve bu sayede kullanıcıları büyük bir zahmetten kurtarır. <p>\n",
    "    \n",
    "<p>Bu noktada bazı kurallar ve ön kabuller de vardır. Bunları da aşağıdaki şekilde sıralayabiliriz. </p>"
   ]
  },
  {
   "cell_type": "markdown",
   "metadata": {},
   "source": [
    "## Değişken Tanımlama Kuralları\n",
    "\n",
    "<pre>\n",
    "-Değişken adı tanımlamanın belirli kuralları vardır.\n",
    "\n",
    "-Değişken adının kafa karıştırmaması için anlamlı bir ifade öncelikli tercih olmalıdır.\n",
    "\n",
    "-Değişkenin ilk harfinde özel semboller kullanılmaz. (!, #, $, £ gibi)\n",
    "\n",
    "-Değişken adları rakam ile başlamaz.\n",
    "\n",
    "-Değişken isimleri case sensitive’dir (büyük küçük harfe duyarlıdır).\n",
    "</pre>"
   ]
  },
  {
   "cell_type": "code",
   "execution_count": null,
   "metadata": {},
   "outputs": [],
   "source": [
    "a = 1000\n",
    "b = 0.005\n",
    "c = \"abcdefgh\"\n",
    "d = False"
   ]
  },
  {
   "cell_type": "markdown",
   "metadata": {},
   "source": [
    "<p>Değişkenleri ekrana yansıtmak istediğimizde değişken isimlerini print() fonksiyonundaki tırnak işaretleri içerisinde değil doğrudan yazarız. </p>"
   ]
  },
  {
   "cell_type": "code",
   "execution_count": null,
   "metadata": {},
   "outputs": [],
   "source": [
    "print(a)"
   ]
  },
  {
   "cell_type": "code",
   "execution_count": null,
   "metadata": {},
   "outputs": [],
   "source": [
    "print(b)"
   ]
  },
  {
   "cell_type": "code",
   "execution_count": null,
   "metadata": {},
   "outputs": [],
   "source": [
    "print(c)"
   ]
  },
  {
   "cell_type": "code",
   "execution_count": null,
   "metadata": {},
   "outputs": [],
   "source": [
    "print(d)"
   ]
  },
  {
   "cell_type": "markdown",
   "metadata": {},
   "source": [
    "<p>Eğer birden fazla değişkenimiz varsa bunları alt alta değil yan yana da tanımlayabiliriz. Burada önemli olan yan yana yazılan değişkenlerden sonra eşitlik işaretinin sağ tarafında değişken sayısı kadar değer olmasıdır. Aksi halde program hata verir. </p>"
   ]
  },
  {
   "cell_type": "code",
   "execution_count": null,
   "metadata": {},
   "outputs": [],
   "source": [
    "d1, d2, d3 = 10000, 0.01, \"harf\"\n",
    "print(d2)\n",
    "print(d1)\n",
    "print(d3)"
   ]
  },
  {
   "cell_type": "code",
   "execution_count": null,
   "metadata": {},
   "outputs": [],
   "source": [
    "print(d1, d2, d3)"
   ]
  },
  {
   "cell_type": "markdown",
   "metadata": {},
   "source": [
    "<p>Eğer değişkenleri cümleler ya da çeşitli karakter dizisi bloklarının arasında kullanmak istersek bu noktada aşağıdaki yöntemler yardımcı olacaktır. </p>"
   ]
  },
  {
   "cell_type": "code",
   "execution_count": null,
   "metadata": {},
   "outputs": [],
   "source": [
    "name = \"Anakin\"\n",
    "print(\"I have the high ground\", name, \"!\")"
   ]
  },
  {
   "cell_type": "markdown",
   "metadata": {},
   "source": [
    "<p>Üstteki örnekte küçük bir kusur dikkatimizi çekmeli. Cümleler ile değişken adı arasında boşluk bırakmamamıza rağmen arada boşluklar var. Bunun sebebi print() fonksiyonunda görünmeyen parametrelerin olması. Bu parametrelerin ne olduğuna <b> help() </b> fonksiyonu yardımıyla daha yakından bakalım. </p>"
   ]
  },
  {
   "cell_type": "code",
   "execution_count": null,
   "metadata": {},
   "outputs": [],
   "source": [
    "help(print)"
   ]
  },
  {
   "cell_type": "markdown",
   "metadata": {},
   "source": [
    "<p>Bu fonksiyon Python'daki bazı yapıların açıklamalarını vermektedir. Dikkat ederseniz yukarıda sep, end gibi çeşitli kelimeler var. Bunlar print() fonksiyonunun parametreleri, tanımlı yardımcı değerlerdir. Eğer biz bunlara ekstra bir değer atamazsak bunların otomatik olarak tanımlı değerleri vardır. Mesela sep parametresi print içerisindeki ayrık yapıları bir boşluk ile ayırmaktadır. Yukarıdaki örnekte bundan dolayı biz ayrıca belirtmememize rağmen diğer karakterler ile değişken arasında bir boşluk bırakıldı. sep parametresinin önceden tanımlı değerini değiştirirsek bu durumdan kurtulabiliriz.</p>"
   ]
  },
  {
   "cell_type": "code",
   "execution_count": null,
   "metadata": {},
   "outputs": [],
   "source": [
    "name = \"Anakin\"\n",
    "print(\"I have the high ground \", name, \"!\", sep = \"\") "
   ]
  },
  {
   "cell_type": "markdown",
   "metadata": {},
   "source": [
    "<p>end parametresinin ön tanımlı değeri yeni satır kaçış dizisidir. Bundan dolayı print() kullanımından sonra başka bir print() ile ekrana değerler yazdırdığımızda bunlar alt alta görünür. Bu değeri değiştirirsek farklı sonuçlar elde edebiliriz. </p>"
   ]
  },
  {
   "cell_type": "code",
   "execution_count": null,
   "metadata": {},
   "outputs": [],
   "source": [
    "c1 = \"SQL, Excel, Hadoop, Scala, Kafka, Spark, \"\n",
    "c2 = \"Mercedes, BMW, Ford, Fiat, Porsche, Renault\"\n",
    "print(c1, end = \"\")\n",
    "print(c2)"
   ]
  },
  {
   "cell_type": "markdown",
   "metadata": {},
   "source": [
    "<p>Görüldüğü üzere end parametresinin değerini değiştirdikten sonra, yani yeni satır yerine aynı satırdan devam etmemizi sağlayan boşluksuz yapı ile daha farklı bir sonuç elde ettik. </p> \n",
    "\n",
    "<p>Başlangıç için end ve sep parametrelerini bilmek print() fonksiyonunu daha rahat kullanmamızı sağlayacaktır. Diğer parametrelere dosya işlemlerinde devam edilecektir. </p>"
   ]
  },
  {
   "cell_type": "markdown",
   "metadata": {},
   "source": [
    "## format() \n",
    "\n",
    "<p>Karakter dizilerini biçimlendirmek amacıyla kullanılır. Aşağıdaki yapı ile değişken isimlerini veya ekstra değerleri karakter dizisi içerisine çıktı olarak yerleştirmemizi sağlar. </p>"
   ]
  },
  {
   "cell_type": "code",
   "execution_count": null,
   "metadata": {},
   "outputs": [],
   "source": [
    "name = \"Anakin\"\n",
    "print(\"I have the high ground {}!\".format(name))"
   ]
  },
  {
   "cell_type": "code",
   "execution_count": null,
   "metadata": {},
   "outputs": [],
   "source": [
    "print(\"{} sayısının yaklaşık değeri {} etmektedir.\".format(\"Pi\", 3.14))"
   ]
  },
  {
   "cell_type": "markdown",
   "metadata": {},
   "source": [
    "## f String\n",
    "\n",
    "<p>format() fonksiyonu ile yaptığımız işlemlerin büyük bir kısmını f String ile de gerçekleştirebiliriz. Giriş kodlarından birinde aslında kullanmıştık. Şimdi daha yakından bakalım. </p>"
   ]
  },
  {
   "cell_type": "code",
   "execution_count": null,
   "metadata": {},
   "outputs": [],
   "source": [
    "name = \"Anakin\"\n",
    "print(f\"I have the high ground {name}!\")"
   ]
  },
  {
   "cell_type": "markdown",
   "metadata": {},
   "source": [
    "## type()\n",
    "\n",
    "<p>Python'un önemli komutlarından birisi de bir veri tipini kontrol etmemizi sağlayan type() fonksiyonudur. Bu fonksiyon sayesinde hangi değerin hangi veri tipine ait olduğunu inceleyebiliyoruz. </p>"
   ]
  },
  {
   "cell_type": "code",
   "execution_count": null,
   "metadata": {},
   "outputs": [],
   "source": [
    "d1 = 10000\n",
    "d2 = 0.1\n",
    "d3 = \"sdadasdas\"\n",
    "d4 = False\n",
    "\n",
    "print(type(d1))\n",
    "print(type(d2))\n",
    "print(type(d3))\n",
    "print(type(d4))"
   ]
  },
  {
   "cell_type": "markdown",
   "metadata": {},
   "source": [
    "## len()\n",
    "<p>Çeşitli veri tiplerinin uzunluklarını elde etmek amacıyla len() fonksiyonunu kullanırız. Bu fonksiyon çoğu veri tipinde uzunluk değerini verecektir. Ancak sayısal değerlerde kullanılırsa hata verecektir.</p>"
   ]
  },
  {
   "cell_type": "code",
   "execution_count": null,
   "metadata": {},
   "outputs": [],
   "source": [
    "anime = \"Attack on Titan\"\n",
    "print(len(anime))"
   ]
  },
  {
   "cell_type": "code",
   "execution_count": null,
   "metadata": {},
   "outputs": [],
   "source": [
    "sayı = 12345\n",
    "print(len(sayı))"
   ]
  },
  {
   "cell_type": "markdown",
   "metadata": {},
   "source": [
    "## str()\n",
    "\n",
    "<p>Bir veri tipini karakter dizisine dönüştürür. </p>"
   ]
  },
  {
   "cell_type": "code",
   "execution_count": null,
   "metadata": {},
   "outputs": [],
   "source": [
    "sayı = 10000\n",
    "print(type(sayı))\n",
    "yeni_değer = str(sayı)\n",
    "print(type(yeni_değer))"
   ]
  },
  {
   "cell_type": "markdown",
   "metadata": {},
   "source": [
    "## int()\n",
    "\n",
    "<p>Tam sayıya dönüştürülebilir veri tiplerini tam sayıya dönüştürür.</p>"
   ]
  },
  {
   "cell_type": "code",
   "execution_count": null,
   "metadata": {},
   "outputs": [],
   "source": [
    "d1 = \"12345\"\n",
    "d2 = 3.14\n",
    "print(type(d1))\n",
    "print(type(d2))\n",
    "y1 = int(d1)\n",
    "y2 = int(d2)\n",
    "print(y1)\n",
    "print(y2)\n",
    "print(type(y1))\n",
    "print(type(y2))"
   ]
  },
  {
   "cell_type": "markdown",
   "metadata": {},
   "source": [
    "## float()\n",
    "\n",
    "<p>Dönüştürülebilir veri tiplerini ondalıklı sayı haline getirir. </p>"
   ]
  },
  {
   "cell_type": "code",
   "execution_count": null,
   "metadata": {},
   "outputs": [],
   "source": [
    "d1 = \"3.14\"\n",
    "d2 = 10\n",
    "print(type(d1))\n",
    "print(type(d2))\n",
    "y1 = float(d1)\n",
    "y2 = float(d2)\n",
    "print(y1)\n",
    "print(y2)\n",
    "print(type(y1))\n",
    "print(type(y2))"
   ]
  },
  {
   "cell_type": "markdown",
   "metadata": {},
   "source": [
    "## Operatörler \n",
    "\n",
    "<p>Python'da işlerimizi kolaylaştıran araçlardan bir diğeri de operatörlerdir. Operatörler sayesinde pek çok şeyi otomatize edebilir hale geliyoruz. </p>\n",
    "\n",
    "## Aritmetik Operatörler\n",
    "\n",
    "<p>Dört temel işlem ile üs alma, kalan bulma, taban bölme gibi işlemleri yapmamızı sağlayan operetörlerdir. </p>\n",
    "\n",
    "+: Toplama <br>\n",
    "-: Çıkarma <br>\n",
    "\\*: Çarpma <br>\n",
    "/: Bölme <br>\n",
    "\\**: Üs alma <br>\n",
    "%: Modülüs <br>\n",
    "//: Taban Bölme <br>"
   ]
  },
  {
   "cell_type": "code",
   "execution_count": null,
   "metadata": {},
   "outputs": [],
   "source": [
    "100 + 50"
   ]
  },
  {
   "cell_type": "code",
   "execution_count": null,
   "metadata": {},
   "outputs": [],
   "source": [
    "90 - 40"
   ]
  },
  {
   "cell_type": "code",
   "execution_count": null,
   "metadata": {},
   "outputs": [],
   "source": [
    "5 * 15"
   ]
  },
  {
   "cell_type": "code",
   "execution_count": null,
   "metadata": {},
   "outputs": [],
   "source": [
    "1000 / 10"
   ]
  },
  {
   "cell_type": "code",
   "execution_count": null,
   "metadata": {},
   "outputs": [],
   "source": [
    "2 ** 5"
   ]
  },
  {
   "cell_type": "code",
   "execution_count": null,
   "metadata": {},
   "outputs": [],
   "source": [
    "77 % 5"
   ]
  },
  {
   "cell_type": "code",
   "execution_count": null,
   "metadata": {},
   "outputs": [],
   "source": [
    "9 % 2"
   ]
  },
  {
   "cell_type": "code",
   "execution_count": null,
   "metadata": {},
   "outputs": [],
   "source": [
    "60 // 7"
   ]
  },
  {
   "cell_type": "code",
   "execution_count": null,
   "metadata": {},
   "outputs": [],
   "source": [
    "22 // 3"
   ]
  },
  {
   "cell_type": "markdown",
   "metadata": {},
   "source": [
    "## Atama Operatörleri\n",
    "\n",
    "<p>Mevcut bir değişkene kendi değerinin üstüne değerler eklemek istediğimizde kullanılan operatörlerdir. </p>\n",
    "\n",
    "<pre>\n",
    "+=\n",
    "-=\n",
    "*= \n",
    "/=\n",
    "%=\n",
    "//=\n",
    "**=\n",
    "</pre>"
   ]
  },
  {
   "cell_type": "code",
   "execution_count": null,
   "metadata": {},
   "outputs": [],
   "source": [
    "x = 10\n",
    "x += 5 # x = x + 5\n",
    "print(x)"
   ]
  },
  {
   "cell_type": "code",
   "execution_count": null,
   "metadata": {},
   "outputs": [],
   "source": [
    "y = 2\n",
    "y *= 3 # y = y * 3\n",
    "print(y)"
   ]
  },
  {
   "cell_type": "markdown",
   "metadata": {},
   "source": [
    "## Kıyas Operatörleri\n",
    "\n",
    "<p>Mantıksal işlemler yaparken (doğru mudur yanlış mıdır vb.) değerleri kıyaslamımızı sağlayan operatörlerdir. </p>\n",
    "<pre>\n",
    "== : Eşittir\n",
    "!= : Eşit değildir\n",
    "> : Büyüktür\n",
    "< : Küçüktür\n",
    ">= : Büyük eşittir\n",
    "<= : Küçük eşittir\n",
    "</pre>"
   ]
  },
  {
   "cell_type": "markdown",
   "metadata": {},
   "source": [
    "## Boolean Opeatörler:\n",
    "\n",
    "\n",
    "True: Bir işlemin doğruluğunu belirtir. <br>\n",
    "False: Bir işlemin yanlışlığını belirtir."
   ]
  },
  {
   "cell_type": "code",
   "execution_count": null,
   "metadata": {},
   "outputs": [],
   "source": [
    "x = 100\n",
    "x == 100"
   ]
  },
  {
   "cell_type": "code",
   "execution_count": null,
   "metadata": {},
   "outputs": [],
   "source": [
    "x == 10"
   ]
  },
  {
   "cell_type": "code",
   "execution_count": null,
   "metadata": {},
   "outputs": [],
   "source": [
    "x != 10"
   ]
  },
  {
   "cell_type": "code",
   "execution_count": null,
   "metadata": {},
   "outputs": [],
   "source": [
    "y = 10\n",
    "z = 20\n",
    "y == z"
   ]
  },
  {
   "cell_type": "code",
   "execution_count": null,
   "metadata": {},
   "outputs": [],
   "source": [
    "y > z"
   ]
  },
  {
   "cell_type": "code",
   "execution_count": null,
   "metadata": {},
   "outputs": [],
   "source": [
    "y < z"
   ]
  },
  {
   "cell_type": "code",
   "execution_count": null,
   "metadata": {},
   "outputs": [],
   "source": [
    "y <= z"
   ]
  },
  {
   "cell_type": "markdown",
   "metadata": {},
   "source": [
    "## Mantıksal Operatörler\n",
    "\n",
    "<p> Mantıksal doğruluk tabloları baz alınarak oluşturulan ifadelerdir. Bundan dolayı bazı doğruluk tablolarını bilmek önemlidir. </p>\n",
    "\n",
    "<p>Mutlaka bilinmesi gereken tablolar: VE, VEYA, DEĞİL </p>\n",
    "\n",
    "<p>Bu operatörler Python'da şu ifadelerle temsil edilir: and, or, not </p>"
   ]
  },
  {
   "cell_type": "code",
   "execution_count": null,
   "metadata": {},
   "outputs": [],
   "source": [
    "a = 1\n",
    "b = 2\n",
    "a == 1 and b == 2 > 0"
   ]
  },
  {
   "cell_type": "code",
   "execution_count": null,
   "metadata": {},
   "outputs": [],
   "source": [
    "a != 0 and b > -1"
   ]
  },
  {
   "cell_type": "code",
   "execution_count": null,
   "metadata": {},
   "outputs": [],
   "source": [
    "a > 0 or b < 0"
   ]
  },
  {
   "cell_type": "code",
   "execution_count": null,
   "metadata": {},
   "outputs": [],
   "source": [
    "a < 0 or b <= 0"
   ]
  },
  {
   "cell_type": "code",
   "execution_count": null,
   "metadata": {},
   "outputs": [],
   "source": [
    "not b < 5"
   ]
  },
  {
   "cell_type": "markdown",
   "metadata": {},
   "source": [
    "# Aitlik Operatörü:\n",
    "\n",
    "<p>Bir karakter dizisi veya sayı Python'daki bir veri tipinin içerisinde bulunuyorsa bunu kontrol etmemizi sağlayan operatördür. </p>"
   ]
  },
  {
   "cell_type": "code",
   "execution_count": null,
   "metadata": {},
   "outputs": [],
   "source": [
    "veri = \"kelime\"\n",
    "\"k\" in veri"
   ]
  },
  {
   "cell_type": "code",
   "execution_count": null,
   "metadata": {
    "scrolled": true
   },
   "outputs": [],
   "source": [
    "\"z\" in veri"
   ]
  },
  {
   "cell_type": "markdown",
   "metadata": {},
   "source": [
    "<p>Burada dikkat etmemiz gereken unsur aitlik operatörlerini sayısal değerlerde kullanmamaktır. Eğer bunları sayısal değerlerde kullanırsak program hata verecektir. </p>"
   ]
  },
  {
   "cell_type": "code",
   "execution_count": null,
   "metadata": {},
   "outputs": [],
   "source": [
    "numara = 10908\n",
    "1 in numara"
   ]
  },
  {
   "cell_type": "markdown",
   "metadata": {},
   "source": [
    "# Kimlik Operatörleri:\n",
    "\n",
    "<p>Python'daki nesnelerin bilgisayar hafızasındaki kapladığı bölgeleri gösteren kimliklerdir. id() fonksiyonu kimlikleri öğrenmemizi sağlar. </p>"
   ]
  },
  {
   "cell_type": "code",
   "execution_count": null,
   "metadata": {},
   "outputs": [],
   "source": [
    "kelime = \"abcd\"\n",
    "id(kelime)"
   ]
  },
  {
   "cell_type": "code",
   "execution_count": null,
   "metadata": {},
   "outputs": [],
   "source": [
    "sayı = 20\n",
    "id(sayı)"
   ]
  },
  {
   "cell_type": "markdown",
   "metadata": {},
   "source": [
    "# Koşullu İfadeler:\n",
    "\n",
    "<p>Bir programda belli şartları sağlamak için birtakım karar mekanizmaları oluşturmamıza olanak tanıyan ifadelerdir. </p>\n",
    "\n",
    "# If deyimi:\n",
    "\n",
    "Karar verme işlemlerinde kullanılır."
   ]
  },
  {
   "cell_type": "code",
   "execution_count": null,
   "metadata": {},
   "outputs": [],
   "source": [
    "sayı1 = int(input(\"İlk sayı: \"))\n",
    "sayı2 = int(input(\"İkinci sayı: \"))\n",
    "\n",
    "if sayı1 > sayı2:\n",
    "    print(\"İlk sayı, ikinci sayıdan daha büyük\")\n",
    "if sayı1 < sayı2:\n",
    "    print(\"İkinci sayı, ilk sayıdan daha büyük\")\n",
    "if sayı1 == sayı2:\n",
    "    print(\"Sayılar eşit\")"
   ]
  },
  {
   "cell_type": "markdown",
   "metadata": {},
   "source": [
    "# Else Deyimi:\n",
    "\n",
    "<p>Karar verme işleminde, belirtilen şartlar haricinde başka bir şart sağlanıyorsa burada \"else\" deyimi kullanılır. </p>"
   ]
  },
  {
   "cell_type": "code",
   "execution_count": null,
   "metadata": {},
   "outputs": [],
   "source": [
    "değişken = 10\n",
    "if type(değişken) == type(\"\"):\n",
    "    print(\"Karakter dizisi\")\n",
    "else:\n",
    "    print(\"Karakter dizisi değil\")"
   ]
  },
  {
   "cell_type": "markdown",
   "metadata": {},
   "source": [
    "# Elif Deyimi:\n",
    "\n",
    "<p>Çoklu koşul ifadelerinde sadece if ve else kullanılırsa program bazen yanlışlıklar yapabilir. Bu gibi durumlarda hataların önüne geçmek için \"elif\" deyimi kullanılır. </p>"
   ]
  },
  {
   "cell_type": "code",
   "execution_count": null,
   "metadata": {},
   "outputs": [],
   "source": [
    "yaş = int(input(\"Yaşınızı girin: \"))\n",
    "\n",
    "if yaş >= 18:\n",
    "    print(\"Yetişkin\")\n",
    "if yaş < 18:\n",
    "    print(\"Yetişkin değil.\")\n",
    "else:\n",
    "    print(\"Geçersiz işlem\")"
   ]
  },
  {
   "cell_type": "code",
   "execution_count": null,
   "metadata": {},
   "outputs": [],
   "source": [
    "yaş = int(input(\"Yaşınızı girin: \"))\n",
    "\n",
    "if yaş >= 18:\n",
    "    print(\"Yetişkin\")\n",
    "elif yaş < 18:\n",
    "    print(\"Yetişkin değil.\")\n",
    "else:\n",
    "    print(\"Geçersiz işlem\")"
   ]
  },
  {
   "cell_type": "markdown",
   "metadata": {},
   "source": [
    "## Yorum Komutları\n",
    "\n",
    "<p>Zaman zaman bir kodun arasına ya da yanına onu daha anlaşılır kılmak, unutmamamız gereken konuları eklemek için açıklamalar eklemek isteriz. Programlama dillerinde bu tarz açıklamaların kodların yapısını bozmasını engelleyen araçları vardır. Bunlara yorum komutları denir. Yorum komutları sayesinde istediğimiz kısımlar orada yazı olarak görünür ancak programlama dilleri tarafından kodun bir parçası olarak algılanmadığı için program çalışmaya devam eder. </p>\n",
    "\n",
    "<p>Python'da tek satırlık yorumlar için # işareti kullanılır. </p>"
   ]
  },
  {
   "cell_type": "code",
   "execution_count": null,
   "metadata": {},
   "outputs": [],
   "source": [
    "d1 = 1000 #Burada bir tam sayı tanımlıyoruz.\n",
    "print(d1)"
   ]
  },
  {
   "cell_type": "markdown",
   "metadata": {},
   "source": [
    "<p>Eğer yapmak istediğimiz yorum oldukça uzunsa # işareti yerine üç tırnak kullanılabilir. Yalnız yorum bloğu görevi gören üç tırnak ile print() fonksiyonunda kullanılan üç tırnağı karştırmamak gerekir. </p>"
   ]
  },
  {
   "cell_type": "code",
   "execution_count": null,
   "metadata": {},
   "outputs": [],
   "source": [
    "gezegen = \"Mars\"\n",
    "\"\"\"\n",
    "Mars, Güneş Sistemi'nin Güneş'ten itibaren dördüncü gezegeni. \n",
    "Roma mitolojisindeki savaş tanrısı Mars'a ithafen adlandırılmıştır. \n",
    "Yüzeyindeki yaygın demir oksitten dolayı kızılımsı bir görünüme sahip olduğu\n",
    "için \"Kızıl Gezegen\" de denir.\n",
    "\"\"\"\n",
    "print(gezegen)"
   ]
  },
  {
   "cell_type": "markdown",
   "metadata": {},
   "source": [
    "## input()\n",
    "\n",
    "<p>Programlama dillerindeki en önemli unsurlardan birisi kullanıcılar tarafından girilen değerlerdir. Python'da bunu input() fonksiyonu ile aşağıdaki gibi yapabilmekteyiz. </p>"
   ]
  },
  {
   "cell_type": "code",
   "execution_count": null,
   "metadata": {},
   "outputs": [],
   "source": [
    "a = input(\"Bir kelime girin: \")\n",
    "print(a)"
   ]
  },
  {
   "cell_type": "code",
   "execution_count": null,
   "metadata": {},
   "outputs": [],
   "source": [
    "s1 = int(input(\"İlk sayıyı girin: \"))\n",
    "s2 = int(input(\"İkinci sayıyı girin: \"))\n",
    "print(\"İki sayının toplamı: {}\".format(s1 + s2))"
   ]
  },
  {
   "cell_type": "markdown",
   "metadata": {},
   "source": [
    "# SORULAR\n",
    "\n",
    "<p><strong>1)</strong> Aşağıdaki metni print() fonksiyonunun 3 farklı noktalama işareti (tırnak varyasyonları) ile ekrana\n",
    "bastırın.</p>\n",
    "<p>Merhaba Dünya!</p>"
   ]
  },
  {
   "cell_type": "code",
   "execution_count": null,
   "metadata": {},
   "outputs": [],
   "source": [
    "print(\"Merhaba Dünya!\")\n",
    "print('Merhaba Dünya!')\n",
    "print(\"\"\"Merhaba Dünya!\"\"\")"
   ]
  },
  {
   "cell_type": "markdown",
   "metadata": {},
   "source": [
    "<p><strong>2)</strong> Aşağıdaki metinleri print() fonksiyonununun uygun özelliğini kullanarak sadece tek bir komut ile\n",
    "ekrana bastırıız.</p>\n",
    "\n",
    "<p>Girintilere dayalı basit sözdizimi, dilin öğrenilmesini ve akılda kalmasını kolaylaştırır. \n",
    "Bu da ona söz diziminin ayrıntıları ile vakit yitirmeden programlama yapılmaya başlanabilen \n",
    "bir dil olma özelliği kazandırır.</p>"
   ]
  },
  {
   "cell_type": "code",
   "execution_count": null,
   "metadata": {},
   "outputs": [],
   "source": [
    "print(\"\"\"Girintilere dayalı basit sözdizimi, dilin öğrenilmesini ve akılda kalmasını kolaylaştırır. \n",
    "Bu da ona söz diziminin ayrıntıları ile vakit yitirmeden programlama yapılmaya başlanabilen \n",
    "bir dil olma özelliği kazandırır.\"\"\")"
   ]
  },
  {
   "cell_type": "markdown",
   "metadata": {},
   "source": [
    "<p><strong>3)</strong> print() fonksiyonunda kullanılan ilk tırnak işaretinin ardından diğer işaretler rahatlıkla kullanılabilir\n",
    "ve ekrana bastırılabilir. Buna göre aşağıdaki ifadeleri ekrana yansıyınız. Eğer kod hata verecekse kaçış\n",
    "dizisi kullanınız.</p>\n",
    "\n",
    "<p><strong>a)</strong>Tek tırnak işareti ile başlayıp aşağıdaki ifadeleri ekrana bastırınız.</p>\n",
    "\n",
    "<p>I) “Rus edebiyatındaki en iyi yazarın Dostoyevski ve en iyi romanın da Suç ve Ceza olduğunu iddia\n",
    "ediyorum.” dedi.</p>\n",
    "\n",
    "<p>II) \"\"\" \"\"\" kullanımı Python dilinde önemli bir yere sahiptir.</p>\n",
    "\n",
    "<p>III) “Son teknolojik gelişmeler Tesla’nın çalışmalarının insanlık için önemini tekrar hatırlattı.” diye\n",
    "konuştu. </p>\n",
    "\n",
    "<p><strong>b)</strong>Çift tırnak ile başlayıp aşağıdaki ifadelerini yazınız.</p>\n",
    "\n",
    "<p>I) Göktürk Anıtları’nda geçen bodun kelimesi ‘millet, kavim, sab, söz’ anlamına gelmektedir.</p>\n",
    "\n",
    "<p>II) Önce biraz geriledi. Sonra “Ben neden artık bu işleri bırakmıyoru?” diye düşündü.</p>"
   ]
  },
  {
   "cell_type": "code",
   "execution_count": null,
   "metadata": {},
   "outputs": [],
   "source": [
    "#a)\n",
    "print(' “Rus edebiyatındaki en iyi yazarın Dostoyevski ve en iyi romanın da Suç ve Ceza olduğunu iddia ediyorum.” dedi.')\n",
    "print(' \"\"\" \"\"\" kullanımı Python dilinde önemli bir yere sahiptir.')\n",
    "print('“Son teknolojik gelişmeler Tesla\\'nın çalışmalarının insanlık için önemini tekrar hatırlattı.” diye konuştu.')\n",
    "\n",
    "print(\"\\n\")\n",
    "#b)\n",
    "print(\"Göktürk Anıtları’nda geçen bodun kelimesi ‘millet, kavim, sab, söz’ anlamına gelmektedir.\")\n",
    "print(\"Önce biraz geriledi. Sonra \\\"Ben neden artık bu işleri bırakmıyoru?\\\" diye düşündü.\")"
   ]
  },
  {
   "cell_type": "markdown",
   "metadata": {},
   "source": [
    "<p><strong>4)</strong>Aşağıdaki dörtlüğü formata uygun şekilde tek bir print() fonksiyonu ve uygun kaçış dizilerini\n",
    "kullanarak ekrana bastırın.</p>\n",
    "\n",
    "<p>Ne hasta bekler sabahı</p>\n",
    "<p>&emsp;&emsp;Ne taze ölüyü mezar</p>\n",
    "<p>Ne de şeytan bir sabahı</p>\n",
    "<p>&emsp;&emsp;Seni beklediğim kadar.</p>"
   ]
  },
  {
   "cell_type": "code",
   "execution_count": null,
   "metadata": {},
   "outputs": [],
   "source": [
    "print(\"Ne hasta bekler sabahı\\n\\tNe taze ölüyü mezar\\nNe de şeytan bir günahı\\n\\tSeni beklediğim kadar\")"
   ]
  },
  {
   "cell_type": "markdown",
   "metadata": {},
   "source": [
    "<p><strong>5)</strong>Aşağıdaki cümleleri yorum işareti ile kullanın.</p>\n",
    "\n",
    "<p>a) Görünen köy kılavuz istemez.</p>\n",
    "\n",
    "<p>b) Python, çok amaçlı bir programlama dilidir.</p>\n",
    "\n",
    "<p>c) Sınava iyi hazırlan, yoksa barajı geçemezsin.</p>"
   ]
  },
  {
   "cell_type": "code",
   "execution_count": null,
   "metadata": {},
   "outputs": [],
   "source": [
    "#Görünen köy kılavuz istemez.\n",
    "#Python, çok amaçlı bir programlama dilidir.\n",
    "#Sınava iyi hazırlan, yoksa barajı geçemezsin."
   ]
  },
  {
   "cell_type": "markdown",
   "metadata": {},
   "source": [
    "<p><strong>6)</strong>Verilen paragrafı çok satırlı yorum bloğu ile kullanınız.</p>\n",
    "<pre>Algoritma, belli bir problemi çözmek veya belirli bir amaca ulaşmak için tasarlanan yol. \n",
    " Matematikte ve bilgisayar biliminde bir işi yapmak için tanımlanan, bir başlangıç durumundan başladığında, \n",
    "açıkça belirlenmiş bir son durumunda sonlanan, sonlu işlemler kümesidir. </pre>"
   ]
  },
  {
   "cell_type": "code",
   "execution_count": null,
   "metadata": {},
   "outputs": [],
   "source": [
    "\"\"\"\n",
    "Algoritma, belli bir problemi çözmek veya belirli bir amaca ulaşmak için tasarlanan yol. \n",
    "Matematikte ve bilgisayar biliminde bir işi yapmak için tanımlanan, bir\n",
    "başlangıç durumundan başladığında, açıkça belirlenmiş bir son durumunda sonlanan, sonlu işlemler kümesidir. \n",
    "\"\"\""
   ]
  },
  {
   "cell_type": "markdown",
   "metadata": {},
   "source": [
    "<p><strong>7)</strong>format() fonksiyonu yardımıyla, verilen boşluklara sırasıyla “Java”, “Sun Microsystems”, “23 Ocak\n",
    "1996” ifadelerini ekleyiniz.</p>\n",
    "\n",
    "<p>{} programlama dili {} tarafından {} tarihinde piyasaya sürülmüştür.</p>"
   ]
  },
  {
   "cell_type": "code",
   "execution_count": null,
   "metadata": {},
   "outputs": [],
   "source": [
    "print(\"{} programlama dili {} tarafından {} tarihinde piyasaya sürülmüştür.\".format(\"Java\", \"Sun Microsystems\", \"23 Ocak 1996\"))"
   ]
  },
  {
   "cell_type": "markdown",
   "metadata": {},
   "source": [
    "<p><strong>8)</strong>7. sorudaki cümleyi “txt” adlı bir değişkene atayıp format() fonksiyonu ile ekrana bastırın.</p>"
   ]
  },
  {
   "cell_type": "code",
   "execution_count": null,
   "metadata": {},
   "outputs": [],
   "source": [
    "txt =  \"{} programlama dili {} tarafından {} tarihinde piyasaya sürülmüştür.\".format(\"Java\", \"Sun Microsystems\", \"23 Ocak 1996\")\n",
    "print(txt)"
   ]
  },
  {
   "cell_type": "markdown",
   "metadata": {},
   "source": [
    "<p><strong>9)</strong>Python’da farklı değişken tipleri birbirlerine dönüştürülebilir. Buna göre aşağıdaki seçeneklere\n",
    "uygun dönüşümleri yapınız.</p>\n",
    "\n",
    "<p>a) Verilen virgüllü sayı değişkenlerini tam sayıya dönüştürün.</p>\n",
    "<p>I) a = 19.0000</p>\n",
    "<p>II) b = 100.0 / 10.0</p>\n",
    "\n",
    "<br>\n",
    "\n",
    "<p>b) Verilen tam sayıları noktadan sonra 2 sıfır gelecek şekilde virgüllü sayıya dönüştürün.</p>\n",
    "<p>I) x = 1265</p>\n",
    "<p>II) y = 108</p>\n",
    "<p>III) z = 87851</p>\n",
    "\n",
    "<br>\n",
    "\n",
    "<p>c) Verilen sayıları karakter dizisine dönüştürün ve dönüşümden sonra type() fonksiyonu ile\n",
    "dönüşümlerin doğruluğunu test edin.</p>\n",
    "<p>I) m = 12345</p>\n",
    "<p>II) n = 1087954</p>\n",
    "\n",
    "<br>\n",
    "\n",
    "<p>d) Verilen karakter dizilerini tam sayıya dönüştürün ve en sondaki aritmetik işlemi ekrana bastırarak\n",
    "sonucu kontrol edin.</p>\n",
    "<p>I) u = “10”</p>\n",
    "<p>II) v = “995”</p>\n",
    "<p>III) u * v + 50</p>"
   ]
  },
  {
   "cell_type": "code",
   "execution_count": null,
   "metadata": {},
   "outputs": [],
   "source": [
    "#a)\n",
    "a = 19.0000\n",
    "b = 100.0 / 10.0\n",
    "\n",
    "print(int(a))\n",
    "print(int(b))\n",
    "\n",
    "print(\"\\n\")\n",
    "#b)\n",
    "x = 1265\n",
    "\n",
    "y = 108\n",
    "\n",
    "z = 87851\n",
    "\n",
    "print(\"%.2f\" % x)\n",
    "print(\"%.2f\" % y)\n",
    "print(\"%.2f\" % z)\n",
    "\n",
    "print(\"\\n\")\n",
    "#c)\n",
    "m = 12345\n",
    "n = 1087954\n",
    "\n",
    "print(type(str(m)))\n",
    "print(type(str(n)))\n",
    "\n",
    "print(\"\\n\")\n",
    "#d)\n",
    "u = \"10\"\n",
    "v = \"995\"\n",
    "\n",
    "print(type(int(u)))\n",
    "print(type(int(v)))\n",
    "\n",
    "print(int(u) * int(v) + 50)"
   ]
  },
  {
   "cell_type": "markdown",
   "metadata": {},
   "source": [
    "<p><strong>10) </strong>a = 10 ve b = 20 değişkenleri veriliyor. Buna göre sadece if ve else ifadelerini kullanarak a + b\n",
    "toplamının 30 edip etmediğini kontrol ediniz.</p>"
   ]
  },
  {
   "cell_type": "code",
   "execution_count": null,
   "metadata": {},
   "outputs": [],
   "source": [
    "a = 100\n",
    "b = 20\n",
    "\n",
    "if a + b == 30:\n",
    "    print(\"İşlem doğru\")\n",
    "else:\n",
    "    print(\"İşlem yanlış\")"
   ]
  },
  {
   "cell_type": "markdown",
   "metadata": {},
   "source": [
    "<p><strong>11) </strong>input() fonksiyonu kullanılarak bir sayı giriniz ve bu sayının çift ya da tek olduğunu belirten\n",
    "koşullu bir ifade yazınız.</p>"
   ]
  },
  {
   "cell_type": "code",
   "execution_count": null,
   "metadata": {},
   "outputs": [],
   "source": [
    "sayı = int(input(\"Bir sayı giriniz: \"))\n",
    "\n",
    "if sayı % 2 == 0:\n",
    "    print(\"Çifttir\")\n",
    "else:\n",
    "    print(\"Tektir\")"
   ]
  },
  {
   "cell_type": "markdown",
   "metadata": {},
   "source": [
    "<p><strong>12) </strong>3 aylık bir İngilizce kursunda her ay 2 quiz yapılmaktadır. Eğer tüm quizlerin ortalaması 90 ve 100\n",
    "arasında ise öğrenci C1 kuruna, 80 ve 90 arasında ise B2 kuruna, 70 ve 80 arasında ise B1 kuruna\n",
    "geçecektir. Eğer 70 ve daha altında not alırsa bulunduğu seviyeyi tekrarlayacaktır. Buna göre, 0 ile 100\n",
    "arasında değişebilen 6 farklı rastgele notu input yardımıyla giriniz ve bu notların aritmetik ortalamasını\n",
    "alınız. Yukarıdaki şartları sağlayacak bir kod yazınız ve öğrencinin hangi seviyeye ulaştığını ekrana\n",
    "bastırınız.</p>"
   ]
  },
  {
   "cell_type": "code",
   "execution_count": null,
   "metadata": {},
   "outputs": [],
   "source": [
    "n1 = int(input(\"Notunuzu giriniz: \"))\n",
    "n2 = int(input(\"Notunuzu giriniz: \"))\n",
    "n3 = int(input(\"Notunuzu giriniz: \"))\n",
    "n4 = int(input(\"Notunuzu giriniz: \"))\n",
    "n5 = int(input(\"Notunuzu giriniz: \"))\n",
    "n6 = int(input(\"Notunuzu giriniz: \"))\n",
    "\n",
    "ort = (n1 + n2 + n3 + n4 + n5 + n6) / 6\n",
    "\n",
    "print(\"Ortalama:\", ort)\n",
    "if 90 < ort <= 100:\n",
    "    print(\"C1\")\n",
    "elif 80 < ort <= 90:\n",
    "    print(\"B2\")\n",
    "elif 70 < ort <= 80:\n",
    "    print(\"B1\")\n",
    "else:\n",
    "    print(\"Kur tekrarı.\")"
   ]
  },
  {
   "cell_type": "markdown",
   "metadata": {},
   "source": [
    "<p><strong>13)</strong>Rastgele iki sayıyı input fonksiyonu kullanarak giriniz ve bu sayıları büyüklük ya da eşitlik olarak\n",
    " karşılaştıracak bir program yazınız.</p>"
   ]
  },
  {
   "cell_type": "code",
   "execution_count": null,
   "metadata": {},
   "outputs": [],
   "source": [
    "sayı1 = int(input(\"İlk sayı: \"))\n",
    "sayı2 = int(input(\"İkinci sayı: \"))\n",
    "\n",
    "if sayı1 > sayı2:\n",
    "    print(\"İlk sayı, ikinci sayıdan daha büyük\")\n",
    "if sayı1 < sayı2:\n",
    "    print(\"İkinci sayı, ilk sayıdan daha büyük\")\n",
    "if sayı1 == sayı2:\n",
    "    print(\"Sayılar eşit\")"
   ]
  },
  {
   "cell_type": "markdown",
   "metadata": {},
   "source": [
    "<p><strong>14) </strong>Gireceğiniz üç basamaklı bir sayının basamak değerlerini gösteren bir kod yazınız.</p>"
   ]
  },
  {
   "cell_type": "code",
   "execution_count": null,
   "metadata": {},
   "outputs": [],
   "source": [
    "sayı = int(input(\"Üç basamaklı bir sayı girin: \")) #123\n",
    "bb = int(sayı % 10) #3\n",
    "sayı /= 10 #12.3\n",
    "ob = int(sayı % 10) #2\n",
    "sayı /= 10 #1.23\n",
    "yb = int(sayı % 10) #1\n",
    "sayı /= 10\n",
    "print(\"Yüzler Basamağı: {}\\nOnlar Basamağı: {}\\nBirler Basamağı: {}\".format(yb, ob, bb))"
   ]
  },
  {
   "cell_type": "markdown",
   "metadata": {},
   "source": [
    "<p><strong>15) </strong>Gireceğiniz dört basamaklı bir sayının basamak değerlerini gösteren bir kod yazınız.</p>"
   ]
  },
  {
   "cell_type": "code",
   "execution_count": null,
   "metadata": {},
   "outputs": [],
   "source": [
    "sayı = int(input(\"Dört basamaklı bir sayı girin: \"))\n",
    "bb = int(sayı % 10)\n",
    "sayı /= 10\n",
    "ob = int(sayı % 10)\n",
    "sayı /= 10\n",
    "yb = int(sayı % 10)\n",
    "sayı /= 10\n",
    "binb = int(sayı % 10)\n",
    "sayı /= 10\n",
    "print(\"Binler B. : {}\\nYüzler B. : {}\\nOnlar B. : {}\\nBirler B. : {}\".format(binb, yb, ob, bb))"
   ]
  },
  {
   "cell_type": "markdown",
   "metadata": {},
   "source": [
    "<p> <b>16)</b> True değerini 1'e, False değerini 0'a dönüştürecek kodu yazın. </p>"
   ]
  },
  {
   "cell_type": "code",
   "execution_count": null,
   "metadata": {},
   "outputs": [],
   "source": [
    "print(int(True))\n",
    "print(int(False))"
   ]
  },
  {
   "cell_type": "markdown",
   "metadata": {},
   "source": [
    "<p> <b>17) </b> Bool ifadeleri ve mantıksal operatörleri kullanarak \"VE\" doğruluk tablosunu ekrana bastırınız. </p> "
   ]
  },
  {
   "cell_type": "code",
   "execution_count": null,
   "metadata": {},
   "outputs": [],
   "source": [
    "print(True and True)\n",
    "print(True and False)\n",
    "print(False and True)\n",
    "print(False and False)"
   ]
  },
  {
   "cell_type": "markdown",
   "metadata": {},
   "source": [
    "<p> <b>18)</b> Bool ifadeleri ve mantıksal operatörleri kullanarak \"VEYA\" doğruluk tablosunu ekrana bastırın. </p>"
   ]
  },
  {
   "cell_type": "code",
   "execution_count": null,
   "metadata": {},
   "outputs": [],
   "source": [
    "print(True or True)\n",
    "print(True or False)\n",
    "print(False or True)\n",
    "print(False or False)"
   ]
  },
  {
   "cell_type": "markdown",
   "metadata": {},
   "source": [
    "<p> <b>19)</b> Bool ifadeleri ve mantıksal operatörleri kullanarak \"DEĞİL\" doğruluk tablosunu ekrana bastırın. </p>"
   ]
  },
  {
   "cell_type": "code",
   "execution_count": null,
   "metadata": {},
   "outputs": [],
   "source": [
    "print(not True)\n",
    "print(not False)"
   ]
  },
  {
   "cell_type": "markdown",
   "metadata": {},
   "source": [
    "<p> <b>20)</b> Doğum yılınızı girin ve Çin takvimine göre burcunuzu gösterin.</p>"
   ]
  },
  {
   "cell_type": "code",
   "execution_count": null,
   "metadata": {},
   "outputs": [],
   "source": [
    "yıl = int(input(\"Doğduğunuz yılı girin: \"))\n",
    "\n",
    "if(yıl - 2000) % 12 == 0:\n",
    "    burç = \"Ejderha\"\n",
    "elif(yıl - 2000) % 12 == 1:\n",
    "    burç = \"Yılan\"\n",
    "elif(yıl - 2000) % 12 == 2:\n",
    "    burç = \"At\"\n",
    "elif(yıl - 2000) % 12 == 3:\n",
    "    burç = \"Koyun\"\n",
    "elif(yıl - 2000) % 12 == 4:\n",
    "    burç = \"Maymun\"\n",
    "elif(yıl - 2000) % 12 == 5:\n",
    "    burç = \"Horoz\"\n",
    "elif(yıl - 2000) % 12 == 6:\n",
    "    burç = \"Köpek\"\n",
    "elif(yıl - 2000) % 12 == 7:\n",
    "    burç = \"Domuz\"\n",
    "elif(yıl - 2000) % 12 == 8:\n",
    "    burç = \"Fare\"\n",
    "elif(yıl - 2000) % 12 == 9:\n",
    "    burç = \"Öküz\"\n",
    "elif(yıl - 2000) % 12 == 10:\n",
    "    burç = \"Kaplan\"\n",
    "else:\n",
    "    burç = \"Tavşan\"\n",
    "    \n",
    "print(burç)"
   ]
  }
 ],
 "metadata": {
  "kernelspec": {
   "display_name": "Python 3",
   "language": "python",
   "name": "python3"
  },
  "language_info": {
   "codemirror_mode": {
    "name": "ipython",
    "version": 3
   },
   "file_extension": ".py",
   "mimetype": "text/x-python",
   "name": "python",
   "nbconvert_exporter": "python",
   "pygments_lexer": "ipython3",
   "version": "3.8.5"
  }
 },
 "nbformat": 4,
 "nbformat_minor": 4
}
