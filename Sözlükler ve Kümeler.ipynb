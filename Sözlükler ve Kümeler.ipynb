{
 "cells": [
  {
   "cell_type": "markdown",
   "metadata": {},
   "source": [
    "## SÖZLÜKLER\n",
    "\n",
    "<p>Python'daki önemli veri tiplerinden birisi de sözlüklerdir. Yapı olarak listelere ve demetlere benzer. Ancak aralarında önemli farklar vardır. </p>\n",
    "\n",
    "<p>Bir sözlük tanımlamak için aşağıdaki yapı kullanılır. </p>"
   ]
  },
  {
   "cell_type": "code",
   "execution_count": null,
   "metadata": {},
   "outputs": [],
   "source": [
    "sözlük = {\"Eleman\": 1}\n",
    "print(sözlük)\n",
    "print(type(sözlük))"
   ]
  },
  {
   "cell_type": "markdown",
   "metadata": {},
   "source": [
    "<p>Görüldüğü üzere sözlükler en az bir ana eleman ve ona karşılık gelen ikinci bir diğer elemandan oluşur. Bu haliyle diğer veri tiplerinden farklıdır. Ancak sadece bununla sınırlı değildir. Sözlükler birden fazla eleman alabilir, ana eleman birden fazla ara değer alabilir. Ayrıca sözlükler farklı veri tipleri ve iç içe sözlüklerden de oluşabilir. </p>"
   ]
  },
  {
   "cell_type": "code",
   "execution_count": null,
   "metadata": {},
   "outputs": [],
   "source": [
    "kelimeler = {\"Bilgisayar\":\"Computer\",\n",
    "            \"Klavye\":\"Keyboard\",\n",
    "            \"Programlama\":\"Programming\",\n",
    "            \"Veri\":\"Data\"}\n",
    "print(kelimeler)\n",
    "\n",
    "çalışanlar = {\"Ali\":[\"Müdür\", 45],\n",
    "             \"Veli\":[\"Teknisyen\", 34],\n",
    "             \"Ayşe\":[\"Sekreter\", 25]}\n",
    "\n",
    "print(çalışanlar)\n",
    "\n",
    "iç_içe_sözlük = {\"Sözlük\": {\"İngilizce\":\"Dil\"}}\n",
    "\n",
    "print(iç_içe_sözlük)"
   ]
  },
  {
   "cell_type": "markdown",
   "metadata": {},
   "source": [
    "<p>Sözlüklerin elemalarına listeler ve demetlerde de olduğu gibi ulaşabiliriz. Ancak arada belli farklar vardır. Ayrıca sözlükler değiştirilebilir (mutable) veri tipleridir ve elemanları değiştirilebilir, yeni eleman eklenebilir. Elemanlarına döngüler yardımıyla ulaşılabilir. </p>"
   ]
  },
  {
   "cell_type": "code",
   "execution_count": null,
   "metadata": {
    "scrolled": true
   },
   "outputs": [],
   "source": [
    "hobiler = {\"Futbol\":\"Spor\",\n",
    "          \"Yazarlık\":\"Edebiyat\",\n",
    "          \"Caz\":\"Müzik\"}\n",
    "\n",
    "for i in hobiler:\n",
    "    print(i)\n",
    "    \n",
    "print()\n",
    "    \n",
    "for i in hobiler:\n",
    "    print(hobiler[i])\n",
    "    \n",
    "print()\n",
    "print(len(hobiler))\n",
    "\n",
    "print()\n",
    "print(hobiler[\"Futbol\"])\n",
    "print(hobiler[\"Yazarlık\"])\n",
    "print(hobiler[\"Caz\"])\n",
    "\n",
    "print()\n",
    "hobiler[\"Tatil Yapmak\"] = \"Seyahat\"\n",
    "print(hobiler[\"Tatil Yapmak\"])\n",
    "print(hobiler)\n",
    "\n",
    "print()\n",
    "hobiler[\"Caz\"] = \"Şarkı\"\n",
    "print(hobiler[\"Caz\"])"
   ]
  },
  {
   "cell_type": "code",
   "execution_count": null,
   "metadata": {},
   "outputs": [],
   "source": [
    "iç_içe_sözlük = {\"sözlük1\":{\"harf1\":\"a\", \"harf2\":\"b\"},\n",
    "                \"sözlük2\":{\"harf3\":\"c\", \"harf4\":\"d\"}}\n",
    "\n",
    "print(iç_içe_sözlük[\"sözlük1\"][\"harf1\"])\n",
    "print(iç_içe_sözlük[\"sözlük2\"][\"harf4\"])"
   ]
  },
  {
   "cell_type": "markdown",
   "metadata": {},
   "source": [
    "<p>Boş bir sözlüğe döngüler yardımıyla eleman da eklenebilir. </p>"
   ]
  },
  {
   "cell_type": "code",
   "execution_count": null,
   "metadata": {},
   "outputs": [],
   "source": [
    "sözlük = {}\n",
    "for i in range(3):\n",
    "    sözlük[i] = i\n",
    "print(sözlük)\n",
    "\n",
    "sözlük = {}\n",
    "liste=[\"sıfır\", \"bir\", \"iki\"]\n",
    "for i in range(3):\n",
    "    sözlük[i] = liste[i]\n",
    "    \n",
    "print(sözlük)"
   ]
  },
  {
   "cell_type": "markdown",
   "metadata": {},
   "source": [
    "## Sözlük Üreteçleri \n",
    "\n",
    "Listelerde olduğu gibi sözlüklerde de üreteç fonksiyonları mevcuttur. Sözlükler, yukarıdaki yöntemlere ek olarak aşağıdaki şekilde de oluşturulabilir."
   ]
  },
  {
   "cell_type": "code",
   "execution_count": null,
   "metadata": {},
   "outputs": [],
   "source": [
    "sıra = [1, 2, 3, \"x\", \"y\"]\n",
    "harf = (\"a\", \"b\", \"c\")\n",
    "\n",
    "sözlük = {i: i for i in sıra}\n",
    "print(sözlük)\n",
    "\n",
    "sözlük = {i: harf.index(i) for i in harf}\n",
    "print(sözlük)"
   ]
  },
  {
   "cell_type": "markdown",
   "metadata": {},
   "source": [
    "## Sözlük Metotları\n",
    "\n",
    "<p>Sözlükler de listeler gibi pek çok metoda sahiptir. Ancak sözlük veri tipi yapısı itibarıyla listelerden daha farklı metotlar içerir. </p>"
   ]
  },
  {
   "cell_type": "markdown",
   "metadata": {},
   "source": [
    "# keys():\n",
    "\n",
    "Bir sözlüğün ana elemanları, yani anahtar değerleri bu yöntem ile elde edilebilir."
   ]
  },
  {
   "cell_type": "code",
   "execution_count": null,
   "metadata": {},
   "outputs": [],
   "source": [
    "kelimeler = {\"Bilgisayar\":\"Computer\",\n",
    "            \"Klavye\":\"Keyboard\",\n",
    "            \"Programlama\":\"Programming\",\n",
    "            \"Veri\":\"Data\"}\n",
    "\n",
    "print(kelimeler.keys())"
   ]
  },
  {
   "cell_type": "markdown",
   "metadata": {},
   "source": [
    "# values():\n",
    "\n",
    "<p>Sözlükteki ikincil değerleri elde etmek için kullanılır. </p>"
   ]
  },
  {
   "cell_type": "code",
   "execution_count": null,
   "metadata": {},
   "outputs": [],
   "source": [
    "kelimeler = {\"Bilgisayar\":\"Computer\",\n",
    "            \"Klavye\":\"Keyboard\",\n",
    "            \"Programlama\":\"Programming\",\n",
    "            \"Veri\":\"Data\"}\n",
    "\n",
    "print(kelimeler.values())"
   ]
  },
  {
   "cell_type": "markdown",
   "metadata": {},
   "source": [
    "# items():\n",
    "\n",
    "<p>Hem anahtar değerleri hem ikincil değerleri elde etmek için kullanılır. </p>"
   ]
  },
  {
   "cell_type": "code",
   "execution_count": null,
   "metadata": {},
   "outputs": [],
   "source": [
    "kelimeler = {\"Bilgisayar\":\"Computer\",\n",
    "            \"Klavye\":\"Keyboard\",\n",
    "            \"Programlama\":\"Programming\",\n",
    "            \"Veri\":\"Data\"}\n",
    "\n",
    "print(kelimeler.items())"
   ]
  },
  {
   "cell_type": "markdown",
   "metadata": {},
   "source": [
    "# fromkeys():\n",
    "\n",
    "<p>Başka veri tipleri yardımıyla sözlük oluşturmak için tekrarlanabilir veri tipleri kullanılır. Sentaksı aşağıdaki gibidir. </p>"
   ]
  },
  {
   "cell_type": "code",
   "execution_count": null,
   "metadata": {},
   "outputs": [],
   "source": [
    "sayı = [0]\n",
    "sözlük1 = dict.fromkeys(sayı, \"sıfır\")\n",
    "print(sözlük1)\n",
    "\n",
    "harf = \"a\"\n",
    "sözlük2 = dict.fromkeys(harf, 1)\n",
    "print(sözlük2)\n",
    "\n",
    "liste = [\"isim\", 20]\n",
    "sözlük3 = dict.fromkeys(\"öğe\", liste)\n",
    "print(sözlük3)"
   ]
  },
  {
   "cell_type": "markdown",
   "metadata": {},
   "source": [
    "# copy():\n",
    "\n",
    "<p>Aynı elemanlara sahip iki ya da daha fazla sözlük üzerinde yapılan değişiklikler birbirini etkilemesin istersek bu yöntemle sorunu çözebiliriz. </p>"
   ]
  },
  {
   "cell_type": "code",
   "execution_count": null,
   "metadata": {
    "scrolled": true
   },
   "outputs": [],
   "source": [
    "sözlük1 = {\"harf1\":\"a\",\n",
    "          \"harf2\":\"b\",\n",
    "          \"harf3\":\"c\"}\n",
    "\n",
    "sözlük2 = sözlük1\n",
    "\n",
    "print(sözlük1)\n",
    "print(sözlük2)\n",
    "\n",
    "sözlük2[\"harf4\"] = \"d\"\n",
    "\n",
    "print(sözlük1)\n",
    "print(sözlük2)"
   ]
  },
  {
   "cell_type": "code",
   "execution_count": null,
   "metadata": {},
   "outputs": [],
   "source": [
    "sözlük1 = {\"harf1\":\"a\",\n",
    "          \"harf2\":\"b\",\n",
    "          \"harf3\":\"c\"}\n",
    "\n",
    "sözlük2 = sözlük1.copy()\n",
    "\n",
    "print(sözlük1)\n",
    "print(sözlük2)\n",
    "\n",
    "sözlük2[\"harf4\"] = \"d\"\n",
    "\n",
    "print(sözlük1)\n",
    "print(sözlük2)"
   ]
  },
  {
   "cell_type": "markdown",
   "metadata": {},
   "source": [
    "# clear():\n",
    "\n",
    "<p>Bir sözlüğü tamamen temizlemek istersek bu metodu kullanabiliz. </p>"
   ]
  },
  {
   "cell_type": "code",
   "execution_count": null,
   "metadata": {},
   "outputs": [],
   "source": [
    "sözlük = {\"eleman1\": 1, \"eleman2\": 2}\n",
    "print(sözlük)\n",
    "sözlük.clear()\n",
    "print(sözlük)"
   ]
  },
  {
   "cell_type": "markdown",
   "metadata": {},
   "source": [
    "# pop():\n",
    "\n",
    "<p>Sözlükten bir anahtar değeri silmemizi mümkün kılar </p>"
   ]
  },
  {
   "cell_type": "code",
   "execution_count": null,
   "metadata": {},
   "outputs": [],
   "source": [
    "kelimeler = {\"Bilgisayar\":\"Computer\",\n",
    "            \"Klavye\":\"Keyboard\",\n",
    "            \"Programlama\":\"Programming\",\n",
    "            \"Veri\":\"Data\"}\n",
    "\n",
    "kelimeler.pop(\"Bilgisayar\")\n",
    "print(kelimeler)"
   ]
  },
  {
   "cell_type": "markdown",
   "metadata": {},
   "source": [
    "# KÜMELER\n",
    "\n",
    "<p>Python'daki bir diğer veri tipi de kümelerdir. Matematik derslerinden aşina olduğumuz bu veri tipi tıpkı matematik dünyasındaki muadili gibi soyut bir yapıya sahiptir ve bu yönüyle Python'daki diğer veri tiplerinden biraz farklıdır. Öncelikle küme veri tipinin elemanları tekrarlanabilir değildir. Aynı elemandan birden fazla varsa tıpkı matematikteki kümelerde olduğu gibi bu fazla elemanlar tek bir eleman olarak kabul edilir. </p>"
   ]
  },
  {
   "cell_type": "code",
   "execution_count": null,
   "metadata": {},
   "outputs": [],
   "source": [
    "küme = {1, 2, 3, 1, 2}\n",
    "for i in küme:\n",
    "    print(i)\n",
    "\n",
    "print()\n",
    "küme = {2, 1, 3, 3, 4, 2}\n",
    "for i in küme:\n",
    "    print(i)\n",
    "    \n",
    "print(küme)"
   ]
  },
  {
   "cell_type": "markdown",
   "metadata": {},
   "source": [
    "## Küme Üreteçleri\n",
    "\n",
    "<p>Başka veri tiplerinde olduğu gibi kümeler de üreteç fonksiyonlarına sahiptir. </p>"
   ]
  },
  {
   "cell_type": "code",
   "execution_count": null,
   "metadata": {},
   "outputs": [],
   "source": [
    "küme = {i for i in range(10)}\n",
    "print(küme)"
   ]
  },
  {
   "cell_type": "markdown",
   "metadata": {},
   "source": [
    "<p>Kümeler pek çok metoda sahiptir. Bunu aşağıdaki şekilde görebiliriz.</p>"
   ]
  },
  {
   "cell_type": "code",
   "execution_count": null,
   "metadata": {},
   "outputs": [],
   "source": [
    "print(dir(set))"
   ]
  },
  {
   "cell_type": "markdown",
   "metadata": {},
   "source": [
    "<p>Yukarıdaki metotlardan alt çizgiler arasında kalan özel metotları gözardı edersek, kümelerdeki fonksiyonların çoğunun matematikten aşina olduğumuz \"kesişim, fark, alt kümeleme\" gibi işlemlerin varyasyonları olduğu açıktır. Bunların programlamadaki kullanımları da hemen hemen aynıdır </p> "
   ]
  },
  {
   "cell_type": "code",
   "execution_count": null,
   "metadata": {
    "scrolled": true
   },
   "outputs": [],
   "source": [
    "küme1 = {1, 3, 5, 3, 2, 1, 5, 10, 20, 7, 8, 9, 8}\n",
    "küme2 = {0, 3, 4, 5, 1, 2, 3, 8, 10, 11, 13, 17, 15, 15}\n",
    "\n",
    "\n",
    "print(küme1.difference(küme2))\n",
    "print(küme2.intersection(küme1))\n",
    "print(küme1.issubset(küme2))\n",
    "print(küme1.union(küme2))"
   ]
  },
  {
   "cell_type": "markdown",
   "metadata": {},
   "source": [
    "# add()\n",
    "\n",
    "<p>Kümelere yeni eleman eklemek istediğimizde kullanılır. </p>"
   ]
  },
  {
   "cell_type": "code",
   "execution_count": null,
   "metadata": {},
   "outputs": [],
   "source": [
    "küme = {\"a\", \"b\", \"c\", \"z\"}\n",
    "küme.add(\"d\")\n",
    "\n",
    "print(küme)"
   ]
  },
  {
   "cell_type": "code",
   "execution_count": null,
   "metadata": {},
   "outputs": [],
   "source": [
    "küme = set() #boş kümeyi küme ={} şeklinde tanımlarsak bunun sözlük olarak algılanacağına dikkat edelim.\n",
    "for i in range(5):\n",
    "    küme.add(i)\n",
    "    \n",
    "print(küme)"
   ]
  },
  {
   "cell_type": "markdown",
   "metadata": {},
   "source": [
    "# copy()\n",
    "\n",
    "<p>Sözlüklerdeki copy metoduyla aynı şekilde çalışır. Aynı değerlere sahip küme değişkenleri üstünde yapılan değişimlerin bu değişkenleri etkilememesi için kullanılır. </p>"
   ]
  },
  {
   "cell_type": "code",
   "execution_count": null,
   "metadata": {},
   "outputs": [],
   "source": [
    "küme1 = {1, 2}\n",
    "küme2 = küme1\n",
    "küme2.add(3)\n",
    "\n",
    "print(küme1)\n",
    "print(küme2)\n",
    "print(id(küme1))\n",
    "print(id(küme2))"
   ]
  },
  {
   "cell_type": "code",
   "execution_count": null,
   "metadata": {},
   "outputs": [],
   "source": [
    "küme1 = {1, 2}\n",
    "küme2 = küme1.copy()\n",
    "\n",
    "küme2.add(3)\n",
    "\n",
    "print(küme1)\n",
    "print(küme2)\n",
    "print(id(küme1))\n",
    "print(id(küme2))"
   ]
  },
  {
   "cell_type": "markdown",
   "metadata": {},
   "source": [
    "# discard()\n",
    "\n",
    "<p>Kümeden bir eleman silmemizi sağlayan fonksiyondur. </p>"
   ]
  },
  {
   "cell_type": "code",
   "execution_count": null,
   "metadata": {},
   "outputs": [],
   "source": [
    "enstrüman = {\"keman\", \"gitar\", \"bateri\", \"piyano\"}\n",
    "enstrüman.discard(\"keman\")\n",
    "print(enstrüman)"
   ]
  },
  {
   "cell_type": "markdown",
   "metadata": {},
   "source": [
    "# clear()\n",
    "\n",
    "<p>Bir kümenin içindeki öğeleri tamamen temizler. </p>"
   ]
  },
  {
   "cell_type": "code",
   "execution_count": null,
   "metadata": {},
   "outputs": [],
   "source": [
    "enstrüman = {\"keman\", \"gitar\", \"bateri\", \"piyano\"}\n",
    "enstrüman.clear()\n",
    "print(enstrüman)"
   ]
  },
  {
   "cell_type": "markdown",
   "metadata": {},
   "source": [
    "# SORULAR"
   ]
  },
  {
   "cell_type": "markdown",
   "metadata": {},
   "source": [
    "<p>1)Aşağıdaki sözlüğün ara değerlerini (values) döngüler yardımıyla ekrana bastırın. </p>\n",
    "çalışanlar = {\"Ali\":[\"Müdür\", 45],\n",
    "             \"Veli\":[\"Teknisyen\", 34],\n",
    "             \"Ayşe\":[\"Sekreter\", 25]}"
   ]
  },
  {
   "cell_type": "code",
   "execution_count": null,
   "metadata": {},
   "outputs": [],
   "source": [
    "çalışanlar = {\"Ali\":[\"Müdür\", 45], \"Veli\":[\"Teknisyen\", 34], \"Ayşe\":[\"Sekreter\", 25]}\n",
    "for i in çalışanlar:\n",
    "    print(çalışanlar[i])"
   ]
  },
  {
   "cell_type": "markdown",
   "metadata": {},
   "source": [
    "<p>2)Online yemek siparişi verilebilen bir sitede aşağıdaki seçeneklerin olduğunu varsayalım. Vejetaryan beslenen bir müşterinin aşağıdaki menülerden birini seçeceğini düşünelim ve buna göre sözlük veri tipinde sunulan menülerden et yemekleri içeren unsurları çıkaralım. </p>\n",
    "\n",
    "menüler = {\"Menü 1\": [\"Izgara tavuk\", \"bulgur pilavı\", \"ayran\"], <br>\n",
    "          \"Menü 2\": [\"Hamburger\", \"patates kızartması\", \"kola\"], <br>\n",
    "          \"Menü 3\": [\"Mercimek çorbası\", \"salata\", \"meyve suyu\"], <br>\n",
    "          \"Menü 4\": [\"Ispanak\", \"makarna\", \"yoğurt\"]}"
   ]
  },
  {
   "cell_type": "code",
   "execution_count": null,
   "metadata": {},
   "outputs": [],
   "source": [
    "menüler = {\"Menü 1\": [\"Izgara tavuk\", \"bulgur pilavı\", \"ayran\"],\n",
    "\"Menü 2\": [\"Hamburger\", \"patates kızartması\", \"kola\"],\n",
    "\"Menü 3\": [\"Mercimek çorbası\", \"salata\", \"meyve suyu\"],\n",
    "\"Menü 4\": [\"Ispanak\", \"makarna\", \"yoğurt\"]}\n",
    "\n",
    "eskiler = [\"Izgara tavuk\", \"Hamburger\"]\n",
    "\n",
    "print(menüler[\"Menü 1\"][0])\n",
    "print(len(menüler[\"Menü 1\"]))\n",
    "\n",
    "for i in menüler:\n",
    "    for j in range(len(menüler[i])):\n",
    "        print(menüler[i][j])\n",
    "    print()\n",
    "    \n",
    "for i in menüler:\n",
    "    for j in range(len(menüler[i])):\n",
    "        if menüler[i][j] in eskiler:\n",
    "            print(\"{} etli yemek içermektedir.\".format(i))\n",
    "            \n",
    "menüler.pop(\"Menü 1\")\n",
    "menüler.pop(\"Menü 2\")\n",
    "\n",
    "print(menüler)"
   ]
  },
  {
   "cell_type": "markdown",
   "metadata": {},
   "source": [
    "<p>3)Herhangi bir karakter dizisi oluşturup oluşturduğunuz karakter dizisini kümeye dönüştürün ve aynı elemanların kümeye dahil olup olmadığını inceleyin. </p>"
   ]
  },
  {
   "cell_type": "code",
   "execution_count": null,
   "metadata": {},
   "outputs": [],
   "source": [
    "değişken = \"Çekoslavakyalalılaştıramadıklarımız\"\n",
    "print(set(değişken))"
   ]
  },
  {
   "cell_type": "markdown",
   "metadata": {},
   "source": [
    "<p>4)Aşağıdaki liste değişkeninin içerisinde karmaşık düzende verilen illeri alfabetik olarak sıralayın ve sözlük üreteçleri yardımıyla elemanların indekslerini yeni bir sözlük değişkeni içerisinde birleştirin. </p>\n",
    "\n",
    "iller = [\"Malatya\", \"Zonguldak\", \"Trabzon\", \"İzmir\", \"Ankara\", \"Tekirdağ\", \"Bursa\"]"
   ]
  },
  {
   "cell_type": "code",
   "execution_count": null,
   "metadata": {},
   "outputs": [],
   "source": [
    "iller = [\"Malatya\", \"Zonguldak\", \"Trabzon\", \"İzmir\", \"Ankara\", \"Tekirdağ\", \"Bursa\"]\n",
    "iller.sort()\n",
    "sözlük = {i: iller.index(i) for i in iller}\n",
    "print(sözlük)"
   ]
  },
  {
   "cell_type": "markdown",
   "metadata": {},
   "source": [
    "<p>5)Boş bir sözlük oluşturup döngüler yardımıyla sözlüğün içerisine kendi belirleyeceğiniz sayıdaki indeksin kelime karşılığını (0. indeks değeri anahtar değer ise, ara değer olarak \"sıfır\" karakter dizisinin eklenmesi gibi) ara değer olarak ekleyin. </p>"
   ]
  },
  {
   "cell_type": "code",
   "execution_count": null,
   "metadata": {},
   "outputs": [],
   "source": [
    "sözlük = {}\n",
    "değerler = [\"sıfır\", \"bir\", \"iki\", \"üç\"]\n",
    "for i in range(4):\n",
    "    sözlük[i] = değerler[i]\n",
    "    \n",
    "print(sözlük)"
   ]
  },
  {
   "cell_type": "markdown",
   "metadata": {},
   "source": [
    "<p>6)Rastgele bir sözlük değişkeni tanımlayınız ve bu sözlüğün içerisindeki anahtar değerler ile ara değerlerin yerlerini değiştiriniz. </p>"
   ]
  },
  {
   "cell_type": "code",
   "execution_count": null,
   "metadata": {},
   "outputs": [],
   "source": [
    "sözlük1 = {\"İzmir\":\"Ege\",\n",
    "          \"İstanbul\":\"Marmara\",\n",
    "          \"Ankara\":\"İç Anadolu\",\n",
    "          \"Antalya\":\"Akdeniz\"}\n",
    "\n",
    "sözlük2 = {}\n",
    "\n",
    "for i in sözlük1.keys():        \n",
    "    sözlük2[sözlük1[i]] = i\n",
    "\n",
    "    \n",
    "print(sözlük2)"
   ]
  },
  {
   "cell_type": "markdown",
   "metadata": {},
   "source": [
    "<p>7)Bir önceki soruda tanımladığınız sözlük değişkenini tekrar kullanarak aşağıdaki işlemleri yapınız. </p>\n",
    "<p>i)Sözlüğü anahtar değerlerini, ikincil değerlerini ve bunlarının her ikisi aynı anda elde edip ekrana bastırın. </p>\n",
    "<p>ii)Sözlüğün ikincil değerlerinin tamamını \"!?.,\" olarak değiştirin. </p>\n",
    "<p>iii)Yeni bir sözlük değişkeni daha oluşturup ilk sözlüğe eşitleyiniz. Ardından ikinci sözlüğe eleman daha ekleyin. (Not: Ekleyeceğiniz elemanın ilk değişken içerisinde olmaması gerekmektedir.)"
   ]
  },
  {
   "cell_type": "code",
   "execution_count": null,
   "metadata": {},
   "outputs": [],
   "source": [
    "sözlük1 = {\"İzmir\":\"Ege\",\n",
    "          \"İstanbul\":\"Marmara\",\n",
    "          \"Ankara\":\"İç Anadolu\",\n",
    "          \"Antalya\":\"Akdeniz\"}\n",
    "\n",
    "print(sözlük1.keys())\n",
    "print(sözlük1.values())\n",
    "print(sözlük1.items())\n",
    "\n",
    "sözlük2 = dict.fromkeys(sözlük1, \"!?.,\")\n",
    "print(sözlük2)\n",
    "\n",
    "sözlük3 = sözlük1.copy()\n",
    "sözlük3[\"Mersin\"] = \"Akdeniz\"\n",
    "print(sözlük3)\n",
    "print(sözlük1)"
   ]
  },
  {
   "cell_type": "markdown",
   "metadata": {},
   "source": [
    "<p>8)Küme üreteçleri ile 0 ile 20 arasındaki (20 dahil) çift sayıları gösterecek bir değişken oluşturunuz ve bu değişkeni ekrana bastırınız. </p>"
   ]
  },
  {
   "cell_type": "code",
   "execution_count": null,
   "metadata": {},
   "outputs": [],
   "source": [
    "küme = {i for i in range(0, 21, 2)}\n",
    "print(küme)"
   ]
  },
  {
   "cell_type": "markdown",
   "metadata": {},
   "source": [
    "<p>9)Aşağıdaki iki kümenin farkını, kesişimini ve birleşimini gösterin. </p>\n",
    "<p>küme1 = {\"a\", \"b\", \"k\", \"l\", \"m\", \"x\", \"y\"} </p>\n",
    "<p>küme2 = {\"b\", \"l\", \"m\", \"x\"} </p>"
   ]
  },
  {
   "cell_type": "code",
   "execution_count": null,
   "metadata": {
    "scrolled": true
   },
   "outputs": [],
   "source": [
    "küme1 = {\"a\", \"b\", \"k\", \"l\", \"m\", \"x\", \"y\"}\n",
    "\n",
    "küme2 = {\"b\", \"l\", \"m\", \"x\"}\n",
    "\n",
    "print(küme1.difference(küme2))\n",
    "print(küme1.union(küme2))\n",
    "print(küme1.intersection(küme2))"
   ]
  },
  {
   "cell_type": "markdown",
   "metadata": {},
   "source": [
    "<p>10)Boş bir küme oluşturun ve kümeye rastgele tam sayı değerleri ekleyin ve en sonunda oluşan kümeyi ekrana bastırın. </p>"
   ]
  },
  {
   "cell_type": "code",
   "execution_count": null,
   "metadata": {},
   "outputs": [],
   "source": [
    "küme = set() \n",
    "print(type(küme))\n",
    "for i in range(10):\n",
    "    x = int(input(\"Sayı: \"))\n",
    "    küme.add(x)\n",
    "    \n",
    "print(küme)"
   ]
  }
 ],
 "metadata": {
  "kernelspec": {
   "display_name": "Python 3",
   "language": "python",
   "name": "python3"
  },
  "language_info": {
   "codemirror_mode": {
    "name": "ipython",
    "version": 3
   },
   "file_extension": ".py",
   "mimetype": "text/x-python",
   "name": "python",
   "nbconvert_exporter": "python",
   "pygments_lexer": "ipython3",
   "version": "3.8.5"
  }
 },
 "nbformat": 4,
 "nbformat_minor": 4
}
