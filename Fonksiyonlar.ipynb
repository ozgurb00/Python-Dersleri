{
 "cells": [
  {
   "cell_type": "markdown",
   "metadata": {},
   "source": [
    "## FONKSİYONLAR\n",
    "\n",
    "<p>Programlama dillerinde fonksiyonlar hesaplamalı, mantıksal ve değerlendirmeli süreçleri otomatize etmek amacıyla tasarlanmış organize yapılardır. Şu ana kadar incelediğimiz pek çok fonksiyon bu tanımlamayı doğrulayan kanıtlar sunmuştur. </p>\n",
    "\n",
    "<p>Geçmiş konulardaki fonksiyonların topluca tek bir konu başlığı altında incelenmeme sebebi kullanımlarındaki basitlik idi. Bu basitlik sayesinde ilgili konu başlıklarında yardımcı unsurlar olarak ele alındılar ve net sonuçlar oluşturdular. Buradan şu çıkarıma ulaşabiliriz, fonksiyonların amacı bir işi en optimize şekilde tamamlamak ve onu programcının en kolay kullanacağı şekilde tasarlamaktır. </p>\n",
    "\n",
    "<p>Python'da fonksiyonlar gömülü (built-in) fonksiyonlar ve özelleştirilmiş fonksiyonlar olarak ikiye ayrılır. Bizim şu ana kadar gördüğümüz fonksiyonlar Python'un kendi içerisinde gelen gömülü fonksiyonlardı ve bu fonksiyonların nasıl tasarlandıklarını tam olarak bilmiyorduk. Ancak kendimiz yeni bir fonksiyon oluşturmak istediğimizde, çalışmasını istediğimiz çıktıya göre kod tasarımını kendimiz yapmak durumundayız. O yüzden bundan sonra sadece gömülü fonksiyonlarla değil, kendi fonksiyonlarımızla da çalışacağız ve bu doğrultuda hem Python'un fonksiyon oluşturma araçlarını göreceğiz hem de performansı yüksek kodlar yazmaya çalışacağız. </p>\n",
    "\n",
    "<p>Python'da özel fonksiyonlar oluşturmak için aşağıdaki yapıyı kullanabiliriz. </p>"
   ]
  },
  {
   "cell_type": "code",
   "execution_count": null,
   "metadata": {},
   "outputs": [],
   "source": [
    "def özel_fonksiyon():\n",
    "    print(\"İlk özel fonksiyonum...\")\n",
    "    \n",
    "özel_fonksiyon()"
   ]
  },
  {
   "cell_type": "markdown",
   "metadata": {},
   "source": [
    "<p>Fonksiyon oluşturmak için \"def\" komutunu yazıyoruz yukarıdaki örnekte olduğu gibi ve ardından fonksiyonun adını yazıp yanına parantez açıyoruz. Eğer belli bir parametre belirtmeyeceksek parantezin içini boş bırakıyoruz ve bu bloğun altına çalışmasını istediğimiz kodu yazıyor. Daha sonrasında fonksiyonumuzu çalıştırmak istediğimizde yukarıdaki gibi fonksiyonu yazıyoruz ve fonksiyon çağrıldığı vakit blok altındaki kod aktif hale geliyor. Buna uygun olarak işlemler yapılıyor. Aşağıda bu yapıyla oluşturulmuş birkaç örnek daha yer alıyor. Ancak aralarında parametre içeren yapılar da mevcut.</p>"
   ]
  },
  {
   "cell_type": "code",
   "execution_count": null,
   "metadata": {},
   "outputs": [],
   "source": [
    "def çarpım_tablosu():\n",
    "    print(\"*\" * 30)\n",
    "    for i in range(1, 10):\n",
    "        for j in range(1, 10):\n",
    "            print(i * j, end = \" \")\n",
    "        print()\n",
    "    print(\"*\" * 30)\n",
    "        \n",
    "çarpım_tablosu()"
   ]
  },
  {
   "cell_type": "code",
   "execution_count": null,
   "metadata": {},
   "outputs": [],
   "source": [
    "help(print)"
   ]
  },
  {
   "cell_type": "code",
   "execution_count": null,
   "metadata": {},
   "outputs": [],
   "source": [
    "def kare_hesaplama(x):\n",
    "    print(x ** 2)\n",
    "    \n",
    "kare_hesaplama(10)"
   ]
  },
  {
   "cell_type": "code",
   "execution_count": null,
   "metadata": {},
   "outputs": [],
   "source": [
    "def çift_mi(x):\n",
    "    if x % 2 == 0:\n",
    "        print(\"Çift\")\n",
    "    else:\n",
    "        print(\"Çift değil\")\n",
    "\n",
    "çift_mi(4)\n",
    "çift_mi(3)\n",
    "çift_mi(0)"
   ]
  },
  {
   "cell_type": "code",
   "execution_count": null,
   "metadata": {},
   "outputs": [],
   "source": [
    "def kare_kök(x):\n",
    "    print(x ** 0.5)\n",
    "    \n",
    "kare_kök(4)\n",
    "kare_kök(64)\n",
    "kare_kök(3)\n",
    "kare_kök(5)"
   ]
  },
  {
   "cell_type": "markdown",
   "metadata": {},
   "source": [
    "## return Deyimi\n",
    "\n",
    "<p>Şu ana kadar oluşturduğumuz fonksiyonlarda daha çok sonuç odaklı gittik. Yani ya fonksiyonu çağırdığımızda ekranda bir mesajla karşılaştık ya da parametre olarak kullandığımız değer üstünde yapılan işlemin sonucunu ekrana yansıttık. Ancak bu tarz kullanımlar Python'da $NoneType$ yani türü olmayan değerler olarak geçer. Örneğin kare_kök() fonksiyonu ile elde ettiğimiz değeri bir değişkene atamaya çalıştığımızda ne oluyor inceleyelim. </p>"
   ]
  },
  {
   "cell_type": "code",
   "execution_count": null,
   "metadata": {},
   "outputs": [],
   "source": [
    "a = kare_kök(4) \n",
    "print(a)\n",
    "print(a + 2)"
   ]
  },
  {
   "cell_type": "markdown",
   "metadata": {},
   "source": [
    "<p>Görüldüğü gibi bu tarz bir işlem yaptığımızda, a değişkeni herhangi bir değere eşitlenemedi ve a'yı ekrana yansıttığımızda \"None\", a + 2 işlemini ekrana yansıttığımızda TypeError hatası aldık. </p>\n",
    "\n",
    "<p>Eğer özel fonksiyonlardaki parametreleri kullanarak sonuç odaklı değil de tür odaklı işlemler yapmak istersek, yani fonksiyon ile belli bir veri türü elde etmek istersek bu durumda $return$ ifadesini kullanmamız gerekir. </p>"
   ]
  },
  {
   "cell_type": "code",
   "execution_count": null,
   "metadata": {},
   "outputs": [],
   "source": [
    "def kare_bul(x):\n",
    "    return x ** 2\n",
    "\n",
    "a = kare_bul(5)\n",
    "print(type(a))\n",
    "print(a)\n",
    "print(a + 10)"
   ]
  },
  {
   "cell_type": "markdown",
   "metadata": {},
   "source": [
    "<p> Çıktıda görüldüğü üzere return ifadesini kullandıktan sonra artık belli bir veri tipi elde etmiş olduk. Bu ifadenin bir başka özelliği de return ile kullanılan fonksiyonlarda, fonksiyonu çağırdığımızda sonucun ekrana hemen gelmemesidir. Böyle kullanımlarda sonucu görebilmek için print() ya da benzer işlevli yapılardan faydalanılmalıdır. </p>"
   ]
  },
  {
   "cell_type": "code",
   "execution_count": null,
   "metadata": {},
   "outputs": [],
   "source": [
    "def çarpım(a, b):\n",
    "    return a * b\n",
    "\n",
    "print(çarpım(3, 5))"
   ]
  },
  {
   "cell_type": "markdown",
   "metadata": {},
   "source": [
    "<p>return ifadesi kendisinden sonra gelen sayıyı bir değer haline getirir. Ancak her zaman bu şekilde kullanılmak zorunda değildir. Eğer return ifadesini kendisinden sonra herhangi bir değer gelmeden kullanırsak artık return'ün aşağısına yazılan kodlar geçersiz sayılacaktır. </p>"
   ]
  },
  {
   "cell_type": "code",
   "execution_count": null,
   "metadata": {},
   "outputs": [],
   "source": [
    "def fonk(a):\n",
    "    print(\"a üssü 2:\", a ** 2)\n",
    "    return\n",
    "    print(\"a üssü 3:\", a **3) #bu kısım yukarıdaki açıklamadaki sebepten ötürü çalışmayacaktır.\n",
    "    \n",
    "fonk(5)"
   ]
  },
  {
   "cell_type": "markdown",
   "metadata": {},
   "source": [
    "## Parametre ve Argümanlar\n",
    "\n",
    "<p>Fonksiyon oluştururken fonksiyon adından sonra parantezin içerisine yazılan değişkenlere parametre, değişkenlerin değerlerine ise argüman denir. </p>"
   ]
  },
  {
   "cell_type": "code",
   "execution_count": null,
   "metadata": {},
   "outputs": [],
   "source": [
    "def fonk(a, b, c):       #burada, fonksiyon oluştururken belirlediğimiz değişkenler parametrelerdir\n",
    "    return a, b, c\n",
    "print(fonk(1, 2, 3,))   #fonksiyonu çalıştırırken belirttiğimiz değerler ise argümanlardır."
   ]
  },
  {
   "cell_type": "markdown",
   "metadata": {},
   "source": [
    "<p>Yukarıdaki örnekten de anlaşılabileceği gibi a, b, c değerleri parametre; bu parametrelerin aldığı 1, 2, 3 değerleri ise argümandır. </p>"
   ]
  },
  {
   "cell_type": "markdown",
   "metadata": {},
   "source": [
    "## Tanımlı Argümanlar\n",
    "\n",
    "<p> Eğer bir parametrenin değerini aksi belirtilmediği müddetçe sabit bir değere bağlamak istiyorsak bu sabit değere tanımlı argüman diyoruz. </p>"
   ]
  },
  {
   "cell_type": "code",
   "execution_count": null,
   "metadata": {},
   "outputs": [],
   "source": [
    "def tanımlı_arg(a, b = 10):\n",
    "    return a * b\n",
    "\n",
    "print(tanımlı_arg(10))\n",
    "print(tanımlı_arg(10, 20))"
   ]
  },
  {
   "cell_type": "code",
   "execution_count": null,
   "metadata": {},
   "outputs": [],
   "source": [
    "help(print)"
   ]
  },
  {
   "cell_type": "markdown",
   "metadata": {},
   "source": [
    "<p>Yukarıdaki örnekte bir fonksiyon oluşturduk ve ikinci sayıyı 10'a eşitledik. Bu parametre dolayısıyla artık tanımlı bir argüman oldu ve aksi belirtilmediği müddetçe b sayısı 10'a eşit olacak ve buna göre işlemler yapılacak. Ancak bu durum b parametresine farklı bir değer girmeye engel değil. b'ye istediğimiz sayısal değeri girebiliriz. Bu durumda ise b artık tanımlı değerini kaybeder ve kendi belirlediğimiz yeni değer üstünden işlemler gerçekleştirilir. </p>"
   ]
  },
  {
   "cell_type": "markdown",
   "metadata": {},
   "source": [
    "## Sıralı Parametreler\n",
    "\n",
    "<p> Oluşturulma sırası net olan parametrelere sıralı parametreler denir. Bu tarz parametrelerde girilen değer parametrenin sırasına uygun olmalıdır. </p>"
   ]
  },
  {
   "cell_type": "code",
   "execution_count": null,
   "metadata": {},
   "outputs": [],
   "source": [
    "def boy_kilo(boy, kilo):\n",
    "    print(\"Kişinin boyu:\", boy)\n",
    "    print(\"Kişinin kilosu:\", kilo)\n",
    "    \n",
    "boy_kilo(180, 75)"
   ]
  },
  {
   "cell_type": "markdown",
   "metadata": {},
   "source": [
    "<p>boy_kilo fonksiyonu sıralı parametrelerden oluşmakta ve fonksiyonu çağırırken girdiğimiz argümanlar önem arz etmektedir. Örneğin boy ve kilo parametrelerinin sırasını önemsemeyip fonksiyonun içinde doğrudan 75, 180 yazarsam ortaya yanlış bir kullanım çıkacaktır. </p>"
   ]
  },
  {
   "cell_type": "code",
   "execution_count": null,
   "metadata": {},
   "outputs": [],
   "source": [
    "boy_kilo(75, 180)"
   ]
  },
  {
   "cell_type": "markdown",
   "metadata": {},
   "source": [
    "## Sırasız Parametreler\n",
    "\n",
    "<p>Fonksiyonlarda eğer parametrelerin sırası önemsiz ise bu tarz parametrelere sırasız parametreler denir ve girilen değerlerin mutlaka parametre sırasına uygun olması gerekmez. </p>"
   ]
  },
  {
   "cell_type": "code",
   "execution_count": null,
   "metadata": {},
   "outputs": [],
   "source": [
    "def çarpım(a, b):\n",
    "    return a * b\n",
    "\n",
    "print(çarpım(3, 5))\n",
    "print(çarpım(5, 3))"
   ]
  },
  {
   "cell_type": "markdown",
   "metadata": {},
   "source": [
    "<p> Yukarıdaki örnek pratikte sırasız parametre olarak kullanılabilir. Çünkü a ya da b'ye verdiğimiz değerlerin yerlerinin değişmesi çarpma işleminin özelliğinden dolayı sonucu değiştirmeyecektir. Ancak sırasızlık özelliği tam anlamıyla yukarıdaki gibi işlemez. Sırasız parametrelerin kullanımı için fonksiyon çağrılırken parametrelerin sırasının değişmesi ve parametreye doğrudan argüman eklenmesi daha doğru olacaktır. </p>"
   ]
  },
  {
   "cell_type": "code",
   "execution_count": null,
   "metadata": {},
   "outputs": [],
   "source": [
    "def ad_soyad(ad, soyad):\n",
    "    print(\"Ad:\", ad)\n",
    "    print(\"Soyad:\", soyad)\n",
    "    \n",
    "ad_soyad(soyad = \"Can\", ad = \"Ahmet\")"
   ]
  },
  {
   "cell_type": "markdown",
   "metadata": {},
   "source": [
    "## Keyfi Argümanlar (*args)\n",
    "\n",
    "<p>Eğer bir fonksiyona sınırsız sayıda argüman istersek bu durumda keyfi argümanlar ya da literatürdeki kısaltmaya göre $*args$ yapısını kullanırız. Burada *args dediğimiz unsur kendi belirleyeceğimiz bir değişken değerinin önüne yıldız getirilerek kullanılır ve bizim sınırsız sayıda argüman eklememizi sağlar. </p>"
   ]
  },
  {
   "cell_type": "code",
   "execution_count": null,
   "metadata": {},
   "outputs": [],
   "source": [
    "def toplamlar(*sayı):\n",
    "    toplam = 0\n",
    "    for i in sayı:\n",
    "        toplam += i\n",
    "    return toplam\n",
    "\n",
    "print(toplamlar(1, 2, 3, 4, 5, 6, 7, 8, 9, 10))"
   ]
  },
  {
   "cell_type": "markdown",
   "metadata": {},
   "source": [
    "<p>Bir fonksiyon içerisinde hem sıralı hem de keyfi argüman kullanılabilir. </p>"
   ]
  },
  {
   "cell_type": "code",
   "execution_count": null,
   "metadata": {},
   "outputs": [],
   "source": [
    "def fonksiyonum(k1, *karakter):\n",
    "    print(\"İlk karakter:\", k1)\n",
    "    for i in range(1, len(karakter)):\n",
    "        print(\"Karakter {}: {}\".format(i + 1, karakter[i]))\n",
    "fonksiyonum(\"a\", \"b\", \"c\", \"d\", \"e\", \"f\", \"g\")"
   ]
  },
  {
   "cell_type": "markdown",
   "metadata": {},
   "source": [
    "## Tanımlı Keyfi Argümanlar (**kwargs)\n",
    "\n",
    "<p>Keyfi sayıda tanımlı argüman oluşturmak istediğimizde **kwargs yapısını kullanırız. Yani fonksiyonun içerisine iki yıldız koyup önüne kendi belirlediğimiz bir değişken adı belirliyoruz. Ardından fonksiyonu çağırırken kendi istediğimiz sayıda tanımlı argüman kullanıyoruz. </p> "
   ]
  },
  {
   "cell_type": "code",
   "execution_count": null,
   "metadata": {},
   "outputs": [],
   "source": [
    "def fonksiyonum(**karakter):\n",
    "    for i in karakter:\n",
    "        print(karakter[i])\n",
    "        \n",
    "fonksiyonum(k1 = \"a\", k2 = \"b\", k3 = \"c\")"
   ]
  },
  {
   "cell_type": "markdown",
   "metadata": {},
   "source": [
    "## *args ve **kwargs Kullanımlarında Karşılaşılan Veri Tipleri\n",
    "\n",
    "<p>Bu iki yapıyı açıklarken oluşturduğumuz fonksiyonlarda zaman zaman döngüler kullandığımızı fark etmişsinizdir. Bunun nedeni oldukça basit: *args yapısında keyfi değerlerimiz demet veri tipi oluştururken *kwargs yapısındaki keyfi değerlerimiz sözlük veri tipi oluşturmaktadır. Dolayısıyla bu yapılar içerisinde demet ve sözlük veri tiplerine uygun döngüler kurulabilir. </p>"
   ]
  },
  {
   "cell_type": "code",
   "execution_count": null,
   "metadata": {},
   "outputs": [],
   "source": [
    "def fonk1(*x):\n",
    "    print(type(x))\n",
    "    \n",
    "fonk1(3, 5, 10)"
   ]
  },
  {
   "cell_type": "code",
   "execution_count": null,
   "metadata": {},
   "outputs": [],
   "source": [
    "def fonk2(**x):\n",
    "    print(type(x))\n",
    "    \n",
    "fonk2(k1 = \"a\", k2 = \"b\", k3 = \"c\")"
   ]
  },
  {
   "cell_type": "markdown",
   "metadata": {},
   "source": [
    "## args ve kwargs Birlikte Kullanımı\n",
    "\n",
    "<p>Bu argüman türlerinin kullanımında hangi veri tiplerine dönüştüğünü öğrendiğimize göre şimdi bu ikisini birlikte daha rahat kullanıp ona göre işlemler yapabiliriz. </p>"
   ]
  },
  {
   "cell_type": "code",
   "execution_count": null,
   "metadata": {},
   "outputs": [],
   "source": [
    "def fonksiyonum(*x, **y):\n",
    "    print(\"Keyfi argümanların indeks numaları : \", end = \"\")\n",
    "    for i in x:\n",
    "        print(x.index(i), end = \" \")\n",
    "    print(\"\\nTanımlı keyfi argümanların anahtarları ve değerleri: \", end = \"\")\n",
    "    for i in y:\n",
    "        print(f\"({i} : {y[i]})\", end = \" \")\n",
    "        \n",
    "fonksiyonum(1,2 ,3, k1 = \"a\", k2 = \"b\", k3 = \"c\")"
   ]
  },
  {
   "cell_type": "markdown",
   "metadata": {},
   "source": [
    "## lambda \n",
    "\n",
    "<p>Eğer bir fonksiyonu \"def\" komutu ile değil de daha farklı bir yapı ile oluşturmak istersek bu noktada $lambda$ yapısını kullanabiliriz. Bu yapıyı kullanırken öncelikle olarak bir değişken adı oluşturup daha sonra eşittir ibaresini koymamız ve eşittirin sağına da lambda yazmamız gerekir. Buraya kadar olan kısım aslında fonksiyonun isminin belirlenmesi ve bu ismin artık bir fonksiyon görevi göreceğini Python'a açıklamaktan ibarettir. lambda'dan sonra gelen kısımda ise önce bir parametre değeri belirlenir. Sonrasında ise bu parametre üstünden çalışacak kod bloğu yazılır. </p>"
   ]
  },
  {
   "cell_type": "code",
   "execution_count": null,
   "metadata": {},
   "outputs": [],
   "source": [
    "kare_bul = lambda a : a ** 2\n",
    "print(kare_bul(5))"
   ]
  },
  {
   "cell_type": "code",
   "execution_count": null,
   "metadata": {},
   "outputs": [],
   "source": [
    "çarpım = lambda a, b : a * b\n",
    "print(çarpım(10, 20))"
   ]
  },
  {
   "cell_type": "markdown",
   "metadata": {},
   "source": [
    "<p>lambda yapısını daha kısa kodlar yazmak için kullanabiliriz. Ancak bu ifadenin asıl kullanım yeri def ile tanımlanan fonksiyonların içine eklenerek elde edilen tasarımlardır. </p>"
   ]
  },
  {
   "cell_type": "code",
   "execution_count": null,
   "metadata": {},
   "outputs": [],
   "source": [
    "def fonksiyonum(x):                                                       \n",
    "    return lambda y : y * x           \n",
    "    \n",
    "eleman = fonksiyonum(2)\n",
    "print(eleman(3)) #ifade artık 3 * 2 halini aldı"
   ]
  },
  {
   "cell_type": "code",
   "execution_count": null,
   "metadata": {},
   "outputs": [],
   "source": [
    "def fonksiyonum(x):\n",
    "    return lambda y : y ** x\n",
    "\n",
    "taban = fonksiyonum(2)\n",
    "print(taban(3)) #ifade artık 3 ** 2 halini aldı"
   ]
  },
  {
   "cell_type": "markdown",
   "metadata": {},
   "source": [
    "<p>lambda ifadesinin birlikte kullanıldığı bazı fonksiyonlar ile daha ileri düzey işlemler yapılabilmektedir. Ancak bundan önce birkaç fonksiyonu yakından tanımak gerekmektedir. </p>"
   ]
  },
  {
   "cell_type": "markdown",
   "metadata": {},
   "source": [
    "## map()\n",
    "\n",
    "<p>$iterable$ veri tipleri üstünde bir fonksiyon uygulamak istediğimizde bu işlemi tek bir kod içerisinde yapmamızı sağlar. </p>"
   ]
  },
  {
   "cell_type": "code",
   "execution_count": null,
   "metadata": {
    "scrolled": true
   },
   "outputs": [],
   "source": [
    "sayılar = [1, 4, 9, 16, 25, 36, 49, 64, 81, 100]\n",
    "def kare_kök(x):\n",
    "    return x ** 0.5\n",
    "print(*map(kare_kök, sayılar)) #burada * işareti map içinde belirtilen değerleri ayırıp onu doğrudan ekrana bastırmayı sağladı\n",
    "print(map(kare_kök, sayılar))\n",
    "print(list(map(kare_kök, sayılar)))"
   ]
  },
  {
   "cell_type": "markdown",
   "metadata": {},
   "source": [
    "## reduce()\n",
    "\n",
    "<p> $functools$ kütüphanesi import edildikten sonra kullanılmaya başlanır. Özel bir fonksiyonun argümanının tüm listeye ulaşmasını sağlar. Çalışması kısaca şu şekildedir: Öncelikle dizideki ilk iki eleman üstünden işlem yapılır ve bu işlem daha sonra tek tek devam ederek dizide hiç eleman kalmayana dek devam eder. </p>"
   ]
  },
  {
   "cell_type": "markdown",
   "metadata": {},
   "source": [
    "## filter()\n",
    "\n",
    "<p>Bir dizi üstünde uygulanan fonksiyon sonucu oluşan değerlerin her bir ögedeki doğruluk değerini elde etmemizi sağlar. </p>"
   ]
  },
  {
   "cell_type": "code",
   "execution_count": null,
   "metadata": {},
   "outputs": [],
   "source": [
    "def çift_mi(x):\n",
    "    if x % 2 == 0:\n",
    "        return True\n",
    "    else:\n",
    "        return False\n",
    "        \n",
    "dizi = [2, 4, 3, 5, 10, 7, 8, 12, 11, 2.5, 3.2]\n",
    "print(*filter(çift_mi, dizi))"
   ]
  },
  {
   "cell_type": "markdown",
   "metadata": {},
   "source": [
    "<p>Verilen bu üç fonksiyon çoğunluklukla tek başlarına değil lambda ile birlikte kullanılmaktadır. </p>"
   ]
  },
  {
   "cell_type": "code",
   "execution_count": null,
   "metadata": {},
   "outputs": [],
   "source": [
    "sayılar = [1, 4, 9, 16, 25, 36, 49, 64, 81, 100]\n",
    "kökler = map(lambda x : x ** 0.5, sayılar)\n",
    "print(*kökler)"
   ]
  },
  {
   "cell_type": "code",
   "execution_count": null,
   "metadata": {},
   "outputs": [],
   "source": [
    "ad = [\"Ahmet\", \"Ayşe\"]\n",
    "soyad = [\"Can\", \"Yılmaz\"]\n",
    "ad_soyad = map(lambda x, y : \"{} {}\".format(x, y), ad, soyad)\n",
    "print(list(ad_soyad))"
   ]
  },
  {
   "cell_type": "code",
   "execution_count": null,
   "metadata": {},
   "outputs": [],
   "source": [
    "import functools\n",
    "\n",
    "dizi = [1, 2, 3, 4, 5]\n",
    "toplam = functools.reduce(lambda a, b : a + b, dizi)\n",
    "print(toplam)"
   ]
  },
  {
   "cell_type": "code",
   "execution_count": null,
   "metadata": {},
   "outputs": [],
   "source": [
    "dizi = [\"a\", \"bc\", \"defg\", \"h\", \"klm\", \"sdkasjdkalsjasljdklasjdkljaslk\"]\n",
    "en_uzun = functools.reduce(lambda a, b: a if len(a) > len(b) else b, dizi)\n",
    "print(en_uzun)"
   ]
  },
  {
   "cell_type": "code",
   "execution_count": null,
   "metadata": {},
   "outputs": [],
   "source": [
    "dizi = [\"a\", \"b\", \"1\", \"2\", \"0\", \"c\", \"11\", \"k\", \"m\", \"2.5\", \"10\"]\n",
    "sayı_mı = filter(lambda a : a.isdigit(), dizi)\n",
    "print(list(sayı_mı))"
   ]
  },
  {
   "cell_type": "markdown",
   "metadata": {},
   "source": [
    "## Global ve Lokal Değişkenler\n",
    "\n",
    "<p>Fonksiyonlarda kullanılan değişken adı ile fonksiyon dışında kullanılan değişken adı aynı ise bu yanlış kullanımda programlarımızın istediğimiz gibi çalışmasını engelleyebilir. Bunun sebebi $namespace$ denilen isim alanının global ve lokal, yani blok dışı ve blok içi olarak ikiye ayrılmasıdır. </p>"
   ]
  },
  {
   "cell_type": "code",
   "execution_count": null,
   "metadata": {},
   "outputs": [],
   "source": [
    "a = \"Merhaba Dünya\"\n",
    "\n",
    "def hello_world():\n",
    "    print(a)\n",
    "\n",
    "hello_world()"
   ]
  },
  {
   "cell_type": "code",
   "execution_count": null,
   "metadata": {},
   "outputs": [],
   "source": [
    "a = \"Merhaba Dünya\"\n",
    "\n",
    "def hello_world():\n",
    "    a = \"Hello World\"\n",
    "    print(a)\n",
    "\n",
    "hello_world()\n",
    "print(a)"
   ]
  },
  {
   "cell_type": "code",
   "execution_count": null,
   "metadata": {},
   "outputs": [],
   "source": [
    "a = \"Merhaba Dünya\"\n",
    "def hello_world():\n",
    "    print(a)\n",
    "    a = \"Hello World\"\n",
    "    print(a)\n",
    "\n",
    "hello_world()"
   ]
  },
  {
   "cell_type": "markdown",
   "metadata": {},
   "source": [
    "<p> İlk örnekte bir adet $global$ değişken kullandık. Bu değişken fonksiyonun dışındaydı ve fonksiyon içinde a değişkenine göre işlem yaptığımızda onun değeri ekrana yansıtıldı. </p>\n",
    "\n",
    "<p>İkinci örnekte ise hem $lokal$ hem de global değişken kullanıldı. Yani aynı isimli iki değişkenden biri fonksiyon içinde diğeri fonksiyon dışında kullanıldı. Fonksiyon içinde yaptığımız işlemde öncelik lokal değişkende olduğu için fonksiyonu çağırdığımızda global değişkenin değeri değil lokal değişkenin değeri ekrana yansıtıldı. </p>\n",
    "\n",
    "<p>Üçüncü örnekte de global ve lokal değişken kullanıldı. Ancak ikinci örneğe kıyasla buradaki kod bir hata verdi. Sebebi ise global ve lokal değişkenin aynı fonksiyon içinde kullanılmaya çalışılmasıydı. </p>\n",
    "\n",
    "<p> Verilen örnekler neticesinde görüyoruz ki global ve lokal değişkenlerin kullanım şekilleri kodlarımızın işlevselliğini ciddi şekilde etkiliyor. </p>"
   ]
  },
  {
   "cell_type": "markdown",
   "metadata": {},
   "source": [
    "## global Deyimi\n",
    "\n",
    "<p>Üçüncü örnekte gördüğümüz global ve lokal değerlerin çakışmasından kaynaklı hataları düzeltmek için $global$ ifadesini kullanabiliriz. Bu ifade Python'a global değişken değerini fonksiyon içinde kullandığımızı bildirecek ve bu noktadan sonra hangi değerin global değişkene hangi değerin lokal değişkene ait olduğunu Python artık anlayacaktır. </p>"
   ]
  },
  {
   "cell_type": "code",
   "execution_count": null,
   "metadata": {},
   "outputs": [],
   "source": [
    "a = \"Merhaba Dünya\"\n",
    "def hello_world():\n",
    "    global a\n",
    "    print(a)\n",
    "    a = \"Hello World\"\n",
    "    print(a)\n",
    "\n",
    "hello_world()"
   ]
  },
  {
   "cell_type": "markdown",
   "metadata": {},
   "source": [
    "<p>global ifadesini fonksiyon dışında kullanmaya gerek yoktur. Çünkü görevi fonksiyon içinde kullanılmak istenen global değişkeni Python'a bildirmektir ve bu özellik rahatlıkla fark edilebileceği gibi fonksiyon dışında işlevsiz olacaktır. </p>\n",
    "\n",
    "<p>Bunun dışında, global ifadesini kullanmak ilk başta işlevselmiş gibi görünse de yanlış kullanımda global değişken değerini de değiştirebileceği için elzem koşullar haricinde kullanılmaması tavsiye edilmektedir. </p>"
   ]
  },
  {
   "cell_type": "code",
   "execution_count": null,
   "metadata": {},
   "outputs": [],
   "source": [
    "a = 2\n",
    "\n",
    "def üs():\n",
    "    a *= 2\n",
    "    print(a)\n",
    "\n",
    "üs()"
   ]
  },
  {
   "cell_type": "code",
   "execution_count": null,
   "metadata": {},
   "outputs": [],
   "source": [
    "a = 2\n",
    "\n",
    "def üs():\n",
    "    global a\n",
    "    a *= 2\n",
    "    print(a)\n",
    "\n",
    "üs()\n",
    "print(\"a:\",a)"
   ]
  },
  {
   "cell_type": "markdown",
   "metadata": {},
   "source": [
    "<p>İlk örnekte doğrudan global değer üstünden işlem yapmaya kalkıştığımız için program hata verdi. İkinci örnekte ise global ifadesi ile birlikte bu sorunu giderdik. Ancak bu ifadenin kullanımıyla birlikte kod çalışsa da fonksiyon içinde yaptığımız değişiklik global değişkenin değerini de etkilediği için istemediğimiz bir değişikliğe sebep oldu ve a değeri 2 yerine 4 olarak ekrana yansıtıldı. İşte bu gibi kullanım hatalarına müsait olmasından dolayı global ifadesi sıkça kullanılması tavsiye edilmemektedir. </p>"
   ]
  },
  {
   "cell_type": "markdown",
   "metadata": {},
   "source": [
    "## İleri Düzey Fonksiyonlar ve Özellikler\n",
    "\n",
    "<p>Şu ana kadar fonksiyonlarla ilgili anlatılan konular fonksiyonların temel yapısını kavrama üzerine kuruluydu. Ancak fonksiyonlar Python'da oldukça önemli bir yer kapladığı için ileri seviye işlemlerde bu temel yapının yanı sıra çeşitli özellikler de kullanılmaktadır. </p>"
   ]
  },
  {
   "cell_type": "markdown",
   "metadata": {},
   "source": [
    "## Yineleyiciler (Iterators)\n",
    "\n",
    "<p>İterasyon ve iterable kavramlarından önceki konularda belli düzeyde bahsetmiştik. İşte şimdi bu kavramların ne olduğunu anlayabilecek seviyeye geldik ve onları daha rahat inceleyebiliriz. </p>\n",
    "\n",
    "<p>Iteration, yani yineleme kavramı Python'da karakter dizisi, liste, demet, küme gibi veri tiplerinin elemanlarına tek tek ulaşmamızı sağlayan yapıyı karşılamaktadır. Bunların kullanımlarına dair pek çok örnek gördük. Bu değerlere for döngüsü ile ulaşabiliyorduk. Ancak bu tek alternatif değil. $Iterators$, yani yineleyiciler yardımı ile de bu işlemi yapmak mümkündür. </p>"
   ]
  },
  {
   "cell_type": "code",
   "execution_count": null,
   "metadata": {},
   "outputs": [],
   "source": [
    "liste = [\"a\", \"b\", \"c\", \"d\", \"e\"]\n",
    "iter_liste = iter(liste)\n",
    "\n",
    "print(type(iter_liste))\n",
    "print(iter_liste)"
   ]
  },
  {
   "cell_type": "markdown",
   "metadata": {},
   "source": [
    "<p>Yineleyiciler ile çalışırken öncelikle yinelenebilir bir veri tipine ihtiyacımız var. Yukarıdaki örnekte buna uygun olarak bir liste oluşturuyoruz. Ardından yineleyici fonksiyon olan $iter$ fonksiyonunun içine bu listeyi yazıyoruz ve oluşan değerleri iter_liste diye yeni bir değişkene atıyoruz. Ancak bunu ekrana doğrudan yansıtamıyoruz. Bunun için birkaç ekstra araca daha ihtiyacımız var. </p>"
   ]
  },
  {
   "cell_type": "code",
   "execution_count": null,
   "metadata": {},
   "outputs": [],
   "source": [
    "next(iter_liste)"
   ]
  },
  {
   "cell_type": "code",
   "execution_count": null,
   "metadata": {},
   "outputs": [],
   "source": [
    "next(iter_liste)"
   ]
  },
  {
   "cell_type": "code",
   "execution_count": null,
   "metadata": {},
   "outputs": [],
   "source": [
    "next(iter_liste)"
   ]
  },
  {
   "cell_type": "code",
   "execution_count": null,
   "metadata": {},
   "outputs": [],
   "source": [
    "next(iter_liste)"
   ]
  },
  {
   "cell_type": "code",
   "execution_count": null,
   "metadata": {},
   "outputs": [],
   "source": [
    "next(iter_liste)"
   ]
  },
  {
   "cell_type": "code",
   "execution_count": null,
   "metadata": {},
   "outputs": [],
   "source": [
    "next(iter_liste)"
   ]
  },
  {
   "cell_type": "markdown",
   "metadata": {},
   "source": [
    "<p>Örneğimizde bir liste yineleyicisi kullandık ve elemanlarına teker teker ulaşmak için $next$ fonksiyonundan yardım aldık. Bu fonksiyon yinelenebilir değişkenin eleman sayısı kadar bastırılabildi. Ancak sonrasında $StopIteration$ diye bir hata aldık. Bunun sebebi yineleyicilerin mevcut eleman sayısı dışına çıktığında yineleme işlemini sona erdirmesidir. Bu tarz hata mesajlarıyla karşılaşmamak için döngülerden yardım alabiliriz.</p>"
   ]
  },
  {
   "cell_type": "code",
   "execution_count": null,
   "metadata": {},
   "outputs": [],
   "source": [
    "liste = [\"a\", \"b\", \"c\", \"d\", \"e\"]\n",
    "iter_liste = iter(liste)\n",
    "\n",
    "while True:\n",
    "    try:\n",
    "        i = next(iter_liste)\n",
    "        print(i)\n",
    "    except StopIteration:\n",
    "        break"
   ]
  },
  {
   "cell_type": "markdown",
   "metadata": {},
   "source": [
    "<p>Yukarıdaki döngü sayesinde yineleme işleminde herhangi bir hata mesajı almamış olduk. </p>\n",
    "\n",
    "<p>Yineleme kavramında biraz daha ilerlemeden önce birkaç teorik noktaya daha değinmekte yarar var. Yineleme doğrudan fonksiyonlarla alakalı bir yapı değil. Ancak fonksiyonlarla da kullanılabiliyor. </p>"
   ]
  },
  {
   "cell_type": "code",
   "execution_count": null,
   "metadata": {
    "scrolled": true
   },
   "outputs": [],
   "source": [
    "liste = [\"a\", \"b\", \"c\", \"d\", \"e\"]\n",
    "s = \"string\"\n",
    "\n",
    "def yineleme(x):\n",
    "    iter_x = iter(x)\n",
    "    while True:\n",
    "        try:\n",
    "            i = next(iter_x)\n",
    "            print(i)\n",
    "        except StopIteration: \n",
    "            break\n",
    "            \n",
    "yineleme(liste)\n",
    "print()\n",
    "yineleme(s)"
   ]
  },
  {
   "cell_type": "markdown",
   "metadata": {},
   "source": [
    "<p>Nesne yönelimli programlama konusunu henüz görmesek de şu an için yineleyicilerin bu konuyla oldukça alakalı olduğunu söyleyebiliriz. Bundan dolayı, eğer class'larda, yani sınıflarda yineleyiciler kullanacaksak next ve iter yapıları bir sınıf içerisinde fonksiyon görevi görecektir ve <b>def __iter__(self):</b> ile <b>def __next__(self):</b> şeklinde kullanılacaklardır. </p>"
   ]
  },
  {
   "cell_type": "code",
   "execution_count": null,
   "metadata": {
    "scrolled": true
   },
   "outputs": [],
   "source": [
    "class ArdışıkTekÇift:\n",
    "    def __init__(self, lb, ub):\n",
    "        self.lb = lb \n",
    "        self.ub = ub - 1\n",
    "    def __iter__(self):\n",
    "        return self\n",
    "    def __next__(self):\n",
    "        self.lb += 2\n",
    "        if self.lb < self.ub:\n",
    "            return self.lb\n",
    "        else:\n",
    "            raise StopIteration\n",
    "\n",
    "sayılar = ArdışıkTekÇift(0, 10)\n",
    "iter_sayılar = iter(sayılar)\n",
    "\n",
    "print(next(iter_sayılar))\n",
    "print(next(iter_sayılar))\n",
    "print(next(iter_sayılar))\n",
    "print(next(iter_sayılar))\n",
    "print(next(iter_sayılar)) \n",
    "print()\n",
    "\n",
    "for i in ArdışıkTekÇift(0, 22):\n",
    "    print(i)"
   ]
  },
  {
   "cell_type": "markdown",
   "metadata": {},
   "source": [
    "## Üreteçler (Generators)\n",
    "\n",
    "\n",
    "<p>Şu ana kadarki çalışmalarımızda değer oluşturur veya saklarken bunu bilgisayar hafızasında tutacak şekilde gerçekleştirdik. Örneğin birden başlayarak kendimiz belirleyeceğimiz bir üst sınıra kadar ardışık artan sayılar oluşturmak istedik. Bunu aşağıdaki şekilde yapabiliriz. </p>"
   ]
  },
  {
   "cell_type": "code",
   "execution_count": null,
   "metadata": {},
   "outputs": [],
   "source": [
    "import sys\n",
    "\n",
    "def sayı_üret(alt_sınır, üst_sınır):\n",
    "    liste = []\n",
    "    for i in range(alt_sınır, üst_sınır):\n",
    "        liste.append(i)\n",
    "    return liste\n",
    "\n",
    "for i in range(1, 10):\n",
    "    sayılar = sayı_üret(1, 10 ** i)\n",
    "    alan = sys.getsizeof(sayılar)\n",
    "    print(f\"Adım {i}: Hafızada kapladığı alan: {alan}\")"
   ]
  },
  {
   "cell_type": "markdown",
   "metadata": {},
   "source": [
    "<p>Yukarıdaki örnekte görüldüğü üzere, eğer belirli değerler oluştururken o değerleri doğrudan hafızada tutulacak şekilde gerçekleştirirsek hem işlemlerimiz yavaşlamakta hem de işlem kapasitesi büyüdükçe hafıza yetersiz gelmektedir. İşte bu tarz çok büyük işlemlerde değerleri her zaman hafızada tutmamız gerekmez. Onun yerine algoritmik ya da teknik çözümler ile daha etkili ve hızlı işlemler yapabiliriz. Bunlardan birisi de üreteçlerdir. </p>\n",
    "\n",
    "<p>Üreteçler, yinelenebilir nesneler üstünden bellekte yer kaplamayan değerler üretmeyi sağlayan unsurlardır. </p>"
   ]
  },
  {
   "cell_type": "markdown",
   "metadata": {},
   "source": [
    "## yield İfadesi\n",
    "\n",
    "\n",
    "<p>Üreteçlerdeki en önemli anahtar kelimelerden birisi $yield$ ifadesidir. Bu ifade return ile benzer bir göreve sahiptir. Ancak return'den farklı olarak üreteçlerde kullanılır ve her seferinde yinelenebilir bir değer üretir, üretilen değerler hafızada tutulmaz. </p>"
   ]
  },
  {
   "cell_type": "code",
   "execution_count": null,
   "metadata": {},
   "outputs": [],
   "source": [
    "def sayı_üret(alt_sınır, üst_sınır):\n",
    "    while alt_sınır < üst_sınır:\n",
    "        yield alt_sınır\n",
    "        alt_sınır += 1\n",
    "\n",
    "for i in sayı_üret(0, 10**5):\n",
    "    print(i)"
   ]
  },
  {
   "cell_type": "markdown",
   "metadata": {},
   "source": [
    "<p>Üreteçler yinelenebilir değerler ürettiği için yineleyicilerdeki yöntemler burada da kullanılabilir. </p>"
   ]
  },
  {
   "cell_type": "code",
   "execution_count": null,
   "metadata": {},
   "outputs": [],
   "source": [
    "def birden_beşe():\n",
    "    for i in range(1, 6):\n",
    "        yield i\n",
    "        \n",
    "sayılar = birden_beşe()\n",
    "\n",
    "print(next(sayılar))\n",
    "print(next(sayılar))\n",
    "print(next(sayılar))\n",
    "print(next(sayılar))\n",
    "print(next(sayılar))\n",
    "print(next(sayılar))"
   ]
  },
  {
   "cell_type": "markdown",
   "metadata": {},
   "source": [
    "## İç İçe Fonksiyonlar\n",
    "\n",
    "<p>İç içe döngüler ve koşullu ifadeler oluşturulabildiği gibi iç içe fonksiyonlar da oluşturmak mümkündür. Yalnız iç içe fonksiyonlar oluştururken fonksiyon döndürme, fonksiyonları başka bir değişkene atama gibi durumları incelemekte yarar vardır. </p>\n",
    "\n",
    "<p>Yukarıdaki açıklamada belirtilen özellikler fonksiyonların birer nesne sayılması sayesinde mümkün olmaktadır ve aşağıdaki örneklerde olduğu gibi kullanımlar sıkça karşımıza çıkar. </p> "
   ]
  },
  {
   "cell_type": "markdown",
   "metadata": {},
   "source": [
    "## Nesne Olarak Fonksiyonlar\n",
    "\n",
    "<p>Fonksiyonların aslında birer nesne olduğunu görmek için bir fonksiyon tanımlayıp bunu type() ile kontrol edelim. </p>"
   ]
  },
  {
   "cell_type": "code",
   "execution_count": null,
   "metadata": {},
   "outputs": [],
   "source": [
    "def merhaba_dünya():\n",
    "    print(\"merhaba dünya\")\n",
    "    \n",
    "print(type(merhaba_dünya))\n",
    "print(merhaba_dünya)"
   ]
  },
  {
   "cell_type": "markdown",
   "metadata": {},
   "source": [
    "<p>Fonksiyonlar nesne oldukları için başka bir değişkene aktarılıp o değişkeni de fonksiyon haline getirebilirler. </p>"
   ]
  },
  {
   "cell_type": "code",
   "execution_count": null,
   "metadata": {},
   "outputs": [],
   "source": [
    "def mesaj(yazı):\n",
    "    return yazı\n",
    "    \n",
    "durum = mesaj\n",
    "durum"
   ]
  },
  {
   "cell_type": "code",
   "execution_count": null,
   "metadata": {},
   "outputs": [],
   "source": [
    "print(mesaj(\"Merhaba Dünya\"))\n",
    "print(durum(\"Havalar çok soğuk...\"))"
   ]
  },
  {
   "cell_type": "code",
   "execution_count": null,
   "metadata": {},
   "outputs": [],
   "source": [
    "del mesaj\n",
    "print(durum(\"Havalar çok soğuk...\")) #mesaj fonksiyonu silinince durum fonksiyonu bundan etkilenmedi\n",
    "print(mesaj(\"Merhaba Dünya\"))"
   ]
  },
  {
   "cell_type": "markdown",
   "metadata": {},
   "source": [
    "## Döndürülebilen Fonksiyonlar \n",
    "\n",
    "<p>Fonksiyonların nesne olmaları onlara döndürülebilme (return edilebilme) yeteneği de kazandırmaktadır. </p>"
   ]
  },
  {
   "cell_type": "code",
   "execution_count": null,
   "metadata": {},
   "outputs": [],
   "source": [
    "def sayı1(a):                  \n",
    "    def sayı2(b):                 \n",
    "        return a * b                  \n",
    "    return sayı2                  \n",
    "\n",
    "s1 = sayı1(10)\n",
    "print(s1(20))"
   ]
  },
  {
   "cell_type": "markdown",
   "metadata": {},
   "source": [
    "## İç İçe Fonksiyon Örnekleri\n",
    "\n",
    "<p>Fonksiyonları nesne olarak kullanma ve döndürülebilen fonksiyonlar hakkında belli bir seviyede bilgi sahibi olduğumuza göre artık iç içe fonksiyonlar ile ilgili asıl örneklere geçebiliriz. </p>"
   ]
  },
  {
   "cell_type": "code",
   "execution_count": null,
   "metadata": {},
   "outputs": [],
   "source": [
    "def dış(sayı1):\n",
    "    sayı1 = sayı1\n",
    "    def iç():\n",
    "        sayı2 = sayı1 ** 2\n",
    "        return sayı2\n",
    "    return iç()\n",
    "\n",
    "print(dış(10))"
   ]
  },
  {
   "cell_type": "markdown",
   "metadata": {},
   "source": [
    "<p>İç fonksiyonlar dıştaki fonksiyonun değişkenine ulaşabilir. Bu sayede yukarıdaki örnekte \"sayı1\" değişkenine iç fonksiyon ulaşabildi ve onun üstünden \"sayı2\" değişkenini oluşturdu ve en sonda iç fonksiyonu döndürerek doğrudan dış fonksiyonda belirttiğimiz sayının karesine ulaşabildik. Ancak burada şöyle bir durum var, içteki fonksiyon dıştaki fonksiyonun değişkenine ulaşabilirken içteki fonksiyona globalden ulaşamıyoruz. </p>"
   ]
  },
  {
   "cell_type": "code",
   "execution_count": null,
   "metadata": {},
   "outputs": [],
   "source": [
    "sayı1 = 20\n",
    "print(iç())"
   ]
  },
  {
   "cell_type": "markdown",
   "metadata": {},
   "source": [
    "<p>Eğer iç içe fonksiyonları doğrudan fonksiyon olarak değil de nesne olarak döndürürsek bu durumda iç fonksiyonu kullanmak için dış fonksiyonu bir değişkene atamak durumundayız. </p>"
   ]
  },
  {
   "cell_type": "code",
   "execution_count": null,
   "metadata": {},
   "outputs": [],
   "source": [
    "def dış(sayı1):\n",
    "    sayı1 = sayı1\n",
    "    def iç():\n",
    "        sayı2 = sayı1 ** 2\n",
    "        return sayı2\n",
    "    return iç\n",
    "\n",
    "iç_fonksiyon = dış(10)\n",
    "print(iç_fonksiyon())"
   ]
  },
  {
   "cell_type": "markdown",
   "metadata": {},
   "source": [
    "## Dekoratörler (Decorators)\n",
    "\n",
    "<p>Bir fonksiyonun veya sınıfın davranışını modifiye etmek için kullanılan araçlara deköratör denir. Kullanımı ile zaman zaman kod tekrarına düşmekten kurtuluruz. Şimdi dekoratörleri anlamak için örnekleri inceleyelim. </p>"
   ]
  },
  {
   "cell_type": "code",
   "execution_count": null,
   "metadata": {},
   "outputs": [],
   "source": [
    "def dekoratör(fonksiyon):\n",
    "    def wrapper():\n",
    "        print(\"İlk mesaj\")\n",
    "        fonksiyon()\n",
    "        print(\"İkinci mesaj\")\n",
    "    return wrapper\n",
    "\n",
    "def merhaba_dünya():\n",
    "    print(\"Merhaba Dünya\")\n",
    "    \n",
    "merhaba_dünya = dekoratör(merhaba_dünya)\n",
    "merhaba_dünya()"
   ]
  },
  {
   "cell_type": "markdown",
   "metadata": {},
   "source": [
    "<p>Yukarıdaki örnekte bir dekoratörün en temel yapısını görmekteyiz. Burada ilk adım olarak bir dekoratör fonksiyon oluşturuyoruz ve parametre olarak başka bir fonksiyon ekliyoruz. Daha sonrasında dekoratör fonksiyonlarda kullanılan ve wrapper olarak adlandırılan bir adet iç fonksiyon ekliyoruz. Bu iç fonksiyonun kod yapısını oluşturduktan sonra onu döndürüyoruz ve sonrasında wrapper fonksiyonun içerisine eklediğimiz parametre fonksiyonu işlevsel hale getirmek için merhaba_dünya diye yeni bir fonksiyon oluşturuyoruz. </p>\n",
    "\n",
    "<p>İkinci aşamada, dekoratör fonksiyona merhaba_dünya fonksiyonunu argüman olarak ekliyoruz ve oluşan bu yeni yapıyı merhaba_dünya fonksiyonuna atıyoruz. Böylece kodu çalıştırdığımızda merhaba_dünya fonksiyonu wrapper fonksiyonun tam ortasında aktifleşiyor ve ortaya yukarıdaki mesaj çıkıyor. </p>\n",
    "\n",
    "## Dekoretörlerde @ İşaretinin Kullanımı\n",
    "\n",
    "<p>Yukarıdaki dekoratörde son kısımda birtakım fonksiyon atama işlemleri yapmıştık ve en sonunda oluşan yeni fonksiyonu çağırmıştık. Aslına bakarsanız bu Python'un bize sunduğu araçları düşündüğümüzde pek pratik bir yaklaşım değil. Dekoratör fonksiyonu oluşturduğumuzda ona argüman olarak ekleyeceğimiz fonksiyonun hemen üstüne ekleyeceğimiz bir @ işareti bizi bu atama işleminden kuratacaktır. </p>"
   ]
  },
  {
   "cell_type": "code",
   "execution_count": null,
   "metadata": {},
   "outputs": [],
   "source": [
    "def dekoratör(fonksiyon):\n",
    "    def wrapper():\n",
    "        print(\"İlk mesaj\")\n",
    "        fonksiyon()\n",
    "        print(\"İkinci mesaj\")\n",
    "    return wrapper\n",
    "\n",
    "@dekoratör\n",
    "def merhaba_dünya():\n",
    "    print(\"Merhaba Dünya\")\n",
    "    \n",
    "if __name__ == \"__main__\":\n",
    "    merhaba_dünya()"
   ]
  },
  {
   "cell_type": "markdown",
   "metadata": {},
   "source": [
    "<p>Dekoratör yapısını anlamaya çalıştığımız örneğin aynısını yukarıda @ işareti ile kullandığımızda atama işleminden kurtulduğumuzu gördük ve fonksiyonları otomatik olarak çalıştırabildiğimiz if __name__ == \"__main__\" yapısı ile de fonksiyonumuzu çağırarak sonucun aynı şekilde ekrana yansıtıldığını fark ettik. </p>\n",
    "\n",
    "<p>Aşağıdaki örnekte gene aynı mantık ile bir fonksiyonun adını elde etmeye çalışalım. </p>"
   ]
  },
  {
   "cell_type": "code",
   "execution_count": null,
   "metadata": {},
   "outputs": [],
   "source": [
    "def fonk_name(fonk):\n",
    "    def wrapper():\n",
    "        print(\"Fonksiyon adı:\", fonk.__name__)\n",
    "        return fonk\n",
    "    return wrapper\n",
    "    \n",
    "@fonk_name\n",
    "def hello():\n",
    "    return \n",
    "    \n",
    "if __name__ == \"__main__\":\n",
    "    hello()"
   ]
  },
  {
   "cell_type": "markdown",
   "metadata": {},
   "source": [
    "## Zincirleme Dekoratörler"
   ]
  },
  {
   "cell_type": "markdown",
   "metadata": {},
   "source": [
    "<p>Dekoratörleri şu ana kadar tek bir dekoratör fonksiyon üstünden inceledik. Ancak zincirleme dekoratör fonksiyonlar oluşturmak da mümkündür. </p>"
   ]
  },
  {
   "cell_type": "code",
   "execution_count": null,
   "metadata": {},
   "outputs": [],
   "source": [
    "def d1(fonksiyon):\n",
    "    def wrapper(sayı):\n",
    "        x = fonksiyon(sayı)\n",
    "        return x + 1\n",
    "    return wrapper\n",
    "\n",
    "def d2(fonksiyon):\n",
    "    def wrapper(sayı):\n",
    "        x = fonksiyon(sayı)\n",
    "        return x ** 3\n",
    "    return wrapper\n",
    "\n",
    "@d2\n",
    "@d1\n",
    "def fonksiyonum(a):\n",
    "    return a\n",
    "\n",
    "print(fonksiyonum(3))      "
   ]
  },
  {
   "cell_type": "markdown",
   "metadata": {},
   "source": [
    "## Özyineleme (Recursion)\n",
    "\n",
    "<p>Kendi kendisinden istenilen değere ulaşabildiğimiz yapıya özyineleme, yani $recursion$ denir. Recursion ile elde edilebilen değerlere de özyinelemeli, yani $recursive$ değerler denir. </p>\n",
    "\n",
    "<p>Recursion, programlamada oldukça önemli bir yer tutar. Örneğin algoritma tasarımı ve analizinde daha efektif algoritmalar oluşturmak için sıklıkla başvurulur. Elbette bu her zaman istenilen sonucu vermez. Özyineleme yanlış kullanıldığında bir algoritmanın daha yavaş çalışmasına da sebep olabilir. Elbette bütün bu teorik konuları temel programlama eğitiminde görmeyeceğiz. Ancak hem özyinelemenin yapısını hem de önemini görmek için aşağıdaki örnekler incelenebilir. </p>"
   ]
  },
  {
   "cell_type": "code",
   "execution_count": null,
   "metadata": {},
   "outputs": [],
   "source": [
    "def fibonacci(sayı):\n",
    "    if sayı == 0:\n",
    "        return 0\n",
    "    if sayı == 1 or sayı == 2:\n",
    "        return 1\n",
    "    else:\n",
    "        return fibonacci(sayı - 1) + fibonacci(sayı - 2) #Bu yapıyı anlamak için Recursion Tree bakılabilir\n",
    "     \n",
    "#0, 1, 1, 2, 3, 5, 8, 13, 21, 34, 55, 89, 144, ... \n",
    "\n",
    "for i in range(20):\n",
    "    print(fibonacci(i), end = \" \")"
   ]
  },
  {
   "cell_type": "markdown",
   "metadata": {},
   "source": [
    "<p>Yukarıdaki örnekte i. sıradaki fibonacci sayısını özyineleme ile elde etmiş olduk Ancak bu yöntemin efektif olmadığını Recursion Tree üstünden görebiliriz. Zira algoritmanın zaman karmaşıklığı $2^n$ olarak ilerliyor ve n. değer büyüdükçe işlem süresi uzuyor. Bunun yerine aşağıdaki gibi bir algoritma büyük sayılar için daha iyi sonuç verecektir. </p>"
   ]
  },
  {
   "cell_type": "code",
   "execution_count": null,
   "metadata": {},
   "outputs": [],
   "source": [
    "def fibonacci(n):\n",
    "    n1, n2 = 0, 1\n",
    "    if n < 1:\n",
    "        return 0\n",
    "    else:\n",
    "        for i in range(1, n):\n",
    "            n3 = n1 + n2\n",
    "            n1, n2 = n2, n3\n",
    "    return n2\n",
    "\n",
    "for i in range(20):\n",
    "    print(fibonacci(i), end = \" \")"
   ]
  },
  {
   "cell_type": "markdown",
   "metadata": {},
   "source": [
    "<p>İki algoritmanın çalışma hızı arasındaki farkı birer dekoratör kullanarak görebilir ve  35. değerin elde edilme sürelerini inceleyebiliriz. </p>"
   ]
  },
  {
   "cell_type": "code",
   "execution_count": null,
   "metadata": {},
   "outputs": [],
   "source": [
    "import time\n",
    "\n",
    "def zamanlayıcı1(fonksiyon):\n",
    "    hesaplanıyor = False\n",
    "    def wrapper(aralık):\n",
    "        nonlocal hesaplanıyor\n",
    "        if hesaplanıyor:\n",
    "            return fonksiyon(aralık)\n",
    "        else:\n",
    "            başlangıç = time.time()\n",
    "            hesaplanıyor = True\n",
    "            try:\n",
    "                sonuç = fonksiyon(aralık)\n",
    "            finally:\n",
    "                hesaplanıyor = False\n",
    "            bitiş = time.time()\n",
    "            print(\"Fonksiyon\", fonksiyon.__name__, bitiş - başlangıç, \"saniye devam etti.\")\n",
    "            return sonuç\n",
    "    return wrapper\n",
    "\n",
    "def zamanlayıcı2(fonksiyon):\n",
    "    def wrapper(aralık):\n",
    "        başlangıç = time.time()\n",
    "        sonuç = fonksiyon(aralık)\n",
    "        bitiş = time.time()\n",
    "        print(\"Fonksiyon\", fonksiyon.__name__, bitiş - başlangıç, \"saniye devam etti.\")\n",
    "        return sonuç\n",
    "    return wrapper\n",
    "        \n",
    "@zamanlayıcı1\n",
    "def fibonacci1(sayı):\n",
    "    if sayı == 0:\n",
    "        return 0\n",
    "    if sayı == 1 or sayı == 2:\n",
    "        return  1\n",
    "    else:\n",
    "         return fibonacci1(sayı - 1) + fibonacci1(sayı - 2)\n",
    "\n",
    "@zamanlayıcı2\n",
    "def fibonacci2(n):\n",
    "    n1, n2 = 0, 1\n",
    "    if n < 1:\n",
    "        return 0\n",
    "    else:\n",
    "        for i in range(1, n):\n",
    "            n3 = n1 + n2\n",
    "            n1, n2 = n2, n3\n",
    "    return n2\n",
    "\n",
    "#0, 1, 1, 2, 3, 5, 8, 13, 21, 34, 55, 89, 144, ... \n",
    "    \n",
    "if __name__ == \"__main__\":\n",
    "    print(fibonacci1(35))\n",
    "    print(fibonacci2(35))"
   ]
  },
  {
   "cell_type": "markdown",
   "metadata": {},
   "source": [
    "<p>Görüldüğü üzere iteratif fonksiyon rekürsif fonksiyondan daha etkili bir şekilde çalıştı. İşlevsel yapısı sayesinde oldukça ileri noktalardaki fibonacci sayılarını bile bu yöntem ile hızlıca elde etmek mümkün hale geldi. </p>\n",
    "\n",
    "<p>Bu noktada yinelemeli ve özyinelemeli yapılar arasında bir genelleme yapılabilabilir. Örneklerde de görüldüğü gibi özyinelemeli fonksiyonlar daha fazla zamana ve hafızaya ihtiyaç duyarken yinelemeli fonksiyon sonuca oldukça kısa sürede ulaştı. Bu durum genelde de böyledir. Ancak hangi yöntemin daha efektif sonuç vereceği çalıştığımız konuya göre değişir ve özyinelemeli yapıları kullanmak zaman zaman zaruri hale gelebilir. </p>\n",
    "\n",
    "<p>Aşağıda özyinelemeli fonsiyonlarla ilgili birkaç örnek daha yer almaktadır. </p>"
   ]
  },
  {
   "cell_type": "code",
   "execution_count": null,
   "metadata": {},
   "outputs": [],
   "source": [
    "def faktöriyel(n):\n",
    "    if n == 0 or n == 1:\n",
    "        return 1\n",
    "    else:\n",
    "        return n * faktöriyel(n -1)\n",
    "    \n",
    "if __name__ == \"__main__\":\n",
    "    print(faktöriyel(5))"
   ]
  },
  {
   "cell_type": "code",
   "execution_count": null,
   "metadata": {},
   "outputs": [],
   "source": [
    "def maks(dizi, uzunluk):\n",
    "    if uzunluk == 1:\n",
    "        return dizi[0]\n",
    "    else:\n",
    "        x = maks(dizi, uzunluk - 1)\n",
    "    if x > dizi[uzunluk - 1]:\n",
    "        return x\n",
    "    else:\n",
    "        return dizi[uzunluk - 1]\n",
    "    \n",
    "if __name__ == \"__main__\":\n",
    "    dizi = [1, 2, 5, 3, 4, 8, 10, 9]\n",
    "    print(maks(dizi, len(dizi)))"
   ]
  },
  {
   "cell_type": "markdown",
   "metadata": {},
   "source": [
    "## Gömülü Fonksiyonlar\n",
    "\n",
    "<p>Şu ana kadar incelediğiniz kısım kendimizin oluşturacağı fonksiyonların yapısını anlamaya yönelikti. Çünkü önceki konularda pek çok gömülü fonksiyon görmüştük ve yenilerini nasıl oluşturacağımızı öğrenmemiz gerekiyordu. Şimdi bunu belli ölçüde başardık. Ancak henüz görmediğimiz gömülü fonksiyonlar da mevcut ve fonksiyonları konu olarak bitirmeden onları da incelememiz gerekiyor. </p>"
   ]
  },
  {
   "cell_type": "code",
   "execution_count": null,
   "metadata": {},
   "outputs": [],
   "source": [
    "import builtins\n",
    "print(dir(builtins))"
   ]
  },
  {
   "cell_type": "markdown",
   "metadata": {},
   "source": [
    "<p>Python'daki gömülü fonskiyonlar yukarıdaki yöntem ile ekrana yansıtıldı. Bunlardan bazılarını görmüştük. Ancak görmediğimiz ve bu eğitim süresince kullanabileceğimiz kısımları incelemeye yavaştan başlayabiliriz. </p>"
   ]
  },
  {
   "cell_type": "markdown",
   "metadata": {},
   "source": [
    "## abs()\n",
    "\n",
    "<p>Sayısal bir değerin mutlak değerini verir. </p>"
   ]
  },
  {
   "cell_type": "code",
   "execution_count": null,
   "metadata": {},
   "outputs": [],
   "source": [
    "print(abs(-10))\n",
    "print(abs(-3.33))\n",
    "print(abs(100))"
   ]
  },
  {
   "cell_type": "markdown",
   "metadata": {},
   "source": [
    "## all()\n",
    "\n",
    "<p>Değer ya da değerlerin doğrululuklarını kontrol etmek amacıyla kullanılır. Eğer dizide yanlış değerler mevcutsa bunu False, değilse True çıktısı ile gösterir. </p> "
   ]
  },
  {
   "cell_type": "code",
   "execution_count": null,
   "metadata": {
    "scrolled": true
   },
   "outputs": [],
   "source": [
    "all([1, 2, 3]) "
   ]
  },
  {
   "cell_type": "code",
   "execution_count": null,
   "metadata": {},
   "outputs": [],
   "source": [
    "all((0, 2, 5, 10)) #0'ı yanlış olarak kabul ettiği için False değeri döndürür."
   ]
  },
  {
   "cell_type": "code",
   "execution_count": null,
   "metadata": {},
   "outputs": [],
   "source": [
    "all([\"a\", \"b\", \"c\"])"
   ]
  },
  {
   "cell_type": "code",
   "execution_count": null,
   "metadata": {},
   "outputs": [],
   "source": [
    "all([\"\", \"a\", \"b\"]) #\"\" karakterini yanlış kabul ettiği için false döndürür"
   ]
  },
  {
   "cell_type": "code",
   "execution_count": null,
   "metadata": {},
   "outputs": [],
   "source": [
    "def çift_mi(x):\n",
    "    if x % 2 == 0:\n",
    "        return True\n",
    "    else:\n",
    "        return False\n",
    "\n",
    "print(all([çift_mi(0), çift_mi(2), çift_mi(4)]))\n",
    "print(all([çift_mi(0), çift_mi(2), çift_mi(5)]))"
   ]
  },
  {
   "cell_type": "markdown",
   "metadata": {},
   "source": [
    "## any()\n",
    "\n",
    "<p>Dizideki değerlerden herhangi biri doğru ise True, değil ise False değerini döndürür. </p>"
   ]
  },
  {
   "cell_type": "code",
   "execution_count": null,
   "metadata": {},
   "outputs": [],
   "source": [
    "print(any([1, 2, 3]))"
   ]
  },
  {
   "cell_type": "code",
   "execution_count": null,
   "metadata": {},
   "outputs": [],
   "source": [
    "print(any([0, \"\", False]))"
   ]
  },
  {
   "cell_type": "markdown",
   "metadata": {},
   "source": [
    "## bool()\n",
    "\n",
    "<p>Bir dizideki öğe ya da öğelerin bool değerlerini verir. </p>"
   ]
  },
  {
   "cell_type": "code",
   "execution_count": null,
   "metadata": {},
   "outputs": [],
   "source": [
    "bool([1, 2, 3])"
   ]
  },
  {
   "cell_type": "code",
   "execution_count": null,
   "metadata": {},
   "outputs": [],
   "source": [
    "bool(())"
   ]
  },
  {
   "cell_type": "markdown",
   "metadata": {},
   "source": [
    "## complex()\n",
    "\n",
    "<p>Karmaşık sayı oluşturmakta kullanılan bir fonksiyondur. </p>"
   ]
  },
  {
   "cell_type": "code",
   "execution_count": null,
   "metadata": {},
   "outputs": [],
   "source": [
    "complex(5)"
   ]
  },
  {
   "cell_type": "code",
   "execution_count": null,
   "metadata": {},
   "outputs": [],
   "source": [
    "complex(5, 2)"
   ]
  },
  {
   "cell_type": "markdown",
   "metadata": {},
   "source": [
    "## callable()\n",
    "\n",
    "<p> Bir fonksiyonun çağrılabilir olup olmadığını kontrol eder. </p>"
   ]
  },
  {
   "cell_type": "code",
   "execution_count": null,
   "metadata": {},
   "outputs": [],
   "source": [
    "callable(print)"
   ]
  },
  {
   "cell_type": "code",
   "execution_count": null,
   "metadata": {},
   "outputs": [],
   "source": [
    "callable(str)"
   ]
  },
  {
   "cell_type": "markdown",
   "metadata": {},
   "source": [
    "## isinstance()\n",
    "\n",
    "<p>Bir değerin belli bir veri tipine ait olup olmadığını incelemek amacıyla kullanılır. </p>"
   ]
  },
  {
   "cell_type": "code",
   "execution_count": null,
   "metadata": {},
   "outputs": [],
   "source": [
    "isinstance(10, int)"
   ]
  },
  {
   "cell_type": "code",
   "execution_count": null,
   "metadata": {},
   "outputs": [],
   "source": [
    "isinstance(10, float)"
   ]
  },
  {
   "cell_type": "markdown",
   "metadata": {},
   "source": [
    "## pow()\n",
    "\n",
    "<p>Bir sayının belli bir sayıya üssünün sonucunu gösterir. </p>"
   ]
  },
  {
   "cell_type": "code",
   "execution_count": null,
   "metadata": {},
   "outputs": [],
   "source": [
    "pow(2, 3)"
   ]
  },
  {
   "cell_type": "code",
   "execution_count": null,
   "metadata": {},
   "outputs": [],
   "source": [
    "pow(4, 0.5)"
   ]
  },
  {
   "cell_type": "code",
   "execution_count": null,
   "metadata": {},
   "outputs": [],
   "source": [
    "pow(5, 2, 3)  #5^2 = 25 değerinin 3'e bölümünden kalanı verir"
   ]
  },
  {
   "cell_type": "code",
   "execution_count": null,
   "metadata": {},
   "outputs": [],
   "source": [
    "pow(5 ** 2, 4 * 2, int(4 ** 0.5)) "
   ]
  },
  {
   "cell_type": "code",
   "execution_count": null,
   "metadata": {},
   "outputs": [],
   "source": [
    "pow(8, 2, 4 ** 0.5)"
   ]
  },
  {
   "cell_type": "markdown",
   "metadata": {},
   "source": [
    "## reversed()\n",
    "\n",
    "<p>Bir dizinin elemanlarını tersine çevirir. </p>"
   ]
  },
  {
   "cell_type": "code",
   "execution_count": null,
   "metadata": {},
   "outputs": [],
   "source": [
    "print(*reversed([\"a\", \"b\", \"c\", \"d\", \"e\"]))"
   ]
  },
  {
   "cell_type": "code",
   "execution_count": null,
   "metadata": {},
   "outputs": [],
   "source": [
    "print(*reversed((1, 2, 3, 4, 5)))"
   ]
  },
  {
   "cell_type": "markdown",
   "metadata": {},
   "source": [
    "## max()"
   ]
  },
  {
   "cell_type": "markdown",
   "metadata": {},
   "source": [
    "<p>Bir dizideki en büyük değeri verir. </p>"
   ]
  },
  {
   "cell_type": "code",
   "execution_count": null,
   "metadata": {},
   "outputs": [],
   "source": [
    "print(max([1, 2, 3, 4, 5, 60, 20, 30]))"
   ]
  },
  {
   "cell_type": "code",
   "execution_count": null,
   "metadata": {},
   "outputs": [],
   "source": [
    "print(max([\"a\", \"bb\", \"ccc\", \"dd\", \"e\"], key = len))"
   ]
  },
  {
   "cell_type": "markdown",
   "metadata": {},
   "source": [
    "## min()\n",
    "\n",
    "<p>Bir dizideki en küçük değeri verir. </p>"
   ]
  },
  {
   "cell_type": "code",
   "execution_count": null,
   "metadata": {},
   "outputs": [],
   "source": [
    "print(min([1, 2, 3, 4, 5, 60, 20, 30]))"
   ]
  },
  {
   "cell_type": "code",
   "execution_count": null,
   "metadata": {
    "scrolled": true
   },
   "outputs": [],
   "source": [
    "print(min([\"a\", \"bb\", \"ccc\", \"dd\", \"e\"], key = len))"
   ]
  },
  {
   "cell_type": "markdown",
   "metadata": {},
   "source": [
    "## sum()\n",
    "\n",
    "<p>Bir dizideki değerlerin toplamını verir. </p>"
   ]
  },
  {
   "cell_type": "code",
   "execution_count": null,
   "metadata": {},
   "outputs": [],
   "source": [
    "sum([1, 2, 3, 4, 5])"
   ]
  },
  {
   "cell_type": "markdown",
   "metadata": {},
   "source": [
    "## round()\n",
    "\n",
    "<p>Bir sayıyı belli kurallara göre yuvarlamaya yarar. </p>"
   ]
  },
  {
   "cell_type": "code",
   "execution_count": null,
   "metadata": {},
   "outputs": [],
   "source": [
    "round(1.2345) #1'e daha yakın olduğu için 1'e yuvarladı"
   ]
  },
  {
   "cell_type": "code",
   "execution_count": null,
   "metadata": {},
   "outputs": [],
   "source": [
    "round(4.6787) #5'e daha yakın olduğu için 5'e yuvarladı."
   ]
  },
  {
   "cell_type": "markdown",
   "metadata": {},
   "source": [
    "## zip()\n",
    "\n",
    "<p>Dizilerin değerlerini orantılı bir şekilde gruplandırmayı sağlar. </p>"
   ]
  },
  {
   "cell_type": "code",
   "execution_count": null,
   "metadata": {},
   "outputs": [],
   "source": [
    "isimler = [\"Ahmet\", \"Mehmet\", \"Ayşe\"]\n",
    "meslekler = [\"Hakim\", \"Mühendis\", \"Doktor\", \"Akademisyen\"]\n",
    "\n",
    "print(*zip(isimler, meslekler)) #meslekler listesindeki dördüncü eleman fazla olduğu için eşleşmeye dahil edilmedi"
   ]
  },
  {
   "cell_type": "markdown",
   "metadata": {},
   "source": [
    "# SORULAR"
   ]
  },
  {
   "cell_type": "markdown",
   "metadata": {},
   "source": [
    "<p> 1) Çağrıldığında ekrana \"Merhaba Dünya\" yazdıracak bir fonksiyon oluşturun. </p>"
   ]
  },
  {
   "cell_type": "code",
   "execution_count": null,
   "metadata": {},
   "outputs": [],
   "source": [
    "def merhaba_dünya():\n",
    "    print(\"Merhaba Dünya\")\n",
    "    \n",
    "merhaba_dünya()"
   ]
  },
  {
   "cell_type": "markdown",
   "metadata": {},
   "source": [
    "<p> 2) Bir sayının tek olup olmadığını belirten bir fonksiyon oluşturunuz. </p>"
   ]
  },
  {
   "cell_type": "code",
   "execution_count": null,
   "metadata": {},
   "outputs": [],
   "source": [
    "def tek_mi(x):\n",
    "    try:\n",
    "        if x % 2 != 0:\n",
    "            return \"Tek\"\n",
    "        else:\n",
    "            return \"Çift\"\n",
    "    except Exception as e:\n",
    "        return \"Bir hata oluştu!\"\n",
    "    \n",
    "print(tek_mi(1))"
   ]
  },
  {
   "cell_type": "markdown",
   "metadata": {},
   "source": [
    "<p> 3) İkinci dereceden bir denklemin kat sayılarını girin ve denklemin köklerini bulun. </p>"
   ]
  },
  {
   "cell_type": "code",
   "execution_count": null,
   "metadata": {},
   "outputs": [],
   "source": [
    "import math\n",
    "\n",
    "def ikinci_derece_denklem(a, b, c):\n",
    "    delta = b ** 2 - 4 * a * c\n",
    "    delta_kök = math.sqrt(abs(delta))\n",
    "    \n",
    "    if delta > 0:\n",
    "        print(\"İki kök var.\")\n",
    "        print(\"Kök 1:\", (-b - delta_kök) / (2 * a))\n",
    "        print(\"Kök 2:\", (-b + delta_kök) / (2 * a))\n",
    "    elif delta == 0:\n",
    "        print(\"Çift katlı kök var.\")\n",
    "        print(\"Çift katlı kök:\", (-b / (2 * a)))\n",
    "    else:\n",
    "        print(\"Reel kökler yok\")\n",
    "        \n",
    "ikinci_derece_denklem(3, 2, -5)"
   ]
  },
  {
   "cell_type": "markdown",
   "metadata": {},
   "source": [
    "<p> 4) Elemanları sayısal değerlere göre sıralanmamış bir listedeki n. en büyük sayıyı (örneğin [1, 6, 4, 10, 8] listesindeki en büyük 3. sayı 6 gibi) bulacak bir fonksiyon oluşturunuz. </p>"
   ]
  },
  {
   "cell_type": "code",
   "execution_count": null,
   "metadata": {},
   "outputs": [],
   "source": [
    "def k_sayı(dizi, sıra):   \n",
    "    dizi.sort()\n",
    "    dizi = list(reversed(dizi))\n",
    "    return dizi[sıra - 1]\n",
    "\n",
    "liste = [1, 6, 4, 10, 8]\n",
    "print(k_sayı(liste, 3))"
   ]
  },
  {
   "cell_type": "markdown",
   "metadata": {},
   "source": [
    "<p> 5) Bir dairenin alanını bulacak bir fonksiyon oluşturun. Fonksiyon için pi parametresinin tanımlı değerini 3.14159 olarak belirleyin. Daha hassas ölçümler oluşturmak isterseniz fonksiyonu çağırırken pi parametresinde buna göre değişiklikler yapabilirsiniz. </p>"
   ]
  },
  {
   "cell_type": "code",
   "execution_count": null,
   "metadata": {},
   "outputs": [],
   "source": [
    "def daire_alan(yarı_çap, pi = 3.14159):\n",
    "    return pi * yarı_çap * yarı_çap\n",
    "\n",
    "print(daire_alan(1.1))\n",
    "print(daire_alan(1.1, 3.14159265359))"
   ]
  },
  {
   "cell_type": "markdown",
   "metadata": {},
   "source": [
    "<p> 6) *args ve **kwargs yapılarınu kullanarak her iki yapıda da eşit sayıda eleman gireceğiniz bir fonksiyon oluşturun. Daha sonra **kwargs'ın ara değerleri ile *args'ın değerleri ile değiştirip güncellenmiş çıktıyı ekrana yansıtın. </p>"
   ]
  },
  {
   "cell_type": "code",
   "execution_count": null,
   "metadata": {},
   "outputs": [],
   "source": [
    "def fonk(*args, **kwargs):\n",
    "    j = 0\n",
    "    for i in kwargs.keys():\n",
    "        kwargs[i] = args[j]       \n",
    "        j += 1\n",
    "    print(args, kwargs)\n",
    "        \n",
    "fonk(1, 2, 3, a = 3, b = 4, c = 5)"
   ]
  },
  {
   "cell_type": "markdown",
   "metadata": {},
   "source": [
    "<p> 7) Bir dış listeye iki iç liste elemanı ekleyecek şekilde aşağıdaki değerleri tek bir listede birleştirin. Ardından iç listedeki elemanların standart sapmalarını ayrı ayrı hesaplayın ve eğer standart sapma değerleri birbirlerinden oldukça farklı ise bu sefer listedeki değerlerin doğal logaritmalarını alıp, oluşan yeni değerler üstünden stardart sapmalara bir kez daha göz atın ve sonucu yorumlayın. </p>\n",
    "\n",
    "<p> <b>İpucu: </b> Logarithma işlemi için \"import math\" ile math modülünü içe aktarıp math.log() fonksiyonu ile bir değerin doğal logaritmasını alabilirsiniz. </p>\n",
    "\n",
    "<p> <b>İpucu: </b> Standart sapma hesaplamasında aşağıdaki değişkenlerin kitle değerleri olduğunu varsayarak hesaplama yöntemi için kendiniz bir fonksiyon oluşturunuz.</p>\n",
    "\n",
    "<p> genişlik = [11.52, 12.48, 12.3778, 12.73, 12.444, 13.6024, 14.1795, 12.67, 14.0049, 14.2266] </p>\n",
    "<p> uzunluk = [242, 290, 340, 363, 430, 450, 500, 390, 450, 500] </p>   "
   ]
  },
  {
   "cell_type": "code",
   "execution_count": null,
   "metadata": {},
   "outputs": [],
   "source": [
    "import math\n",
    "\n",
    "genişlik = [11.52, 12.48, 12.3778, 12.73, 12.444, 13.6024, 14.1795, 12.67, 14.0049, 14.2266]\n",
    "uzunluk = [242, 290, 340, 363, 430, 450, 500, 390, 450, 500]\n",
    "\n",
    "liste = []\n",
    "liste.append(genişlik)\n",
    "liste.append(uzunluk)\n",
    "print(liste, end = \"\\n\\n\")\n",
    "\n",
    "def sts_bul(x):\n",
    "    ort = sum(x) / len(x)\n",
    "    toplam = 0\n",
    "    for i in x:\n",
    "        toplam += (i - ort) ** 2\n",
    "    sts = (toplam / len(x)) ** 0.5\n",
    "    return sts \n",
    "\n",
    "print(sts_bul(liste[0]))\n",
    "print(sts_bul(liste[1]), end = \"\\n\\n\")\n",
    "\n",
    "liste[0] = [math.log(i) for i in liste[0]]\n",
    "liste[1] = [math.log(i) for i in liste[1]]\n",
    "\n",
    "print(sts_bul(liste[0]))\n",
    "print(sts_bul(liste[1]))"
   ]
  },
  {
   "cell_type": "markdown",
   "metadata": {},
   "source": [
    "<p> 8) Bir sayının i. dereceden kökünü bulan bir fonksiyonu \"def\" komutunu kullanmadan oluşturunuz. </p>"
   ]
  },
  {
   "cell_type": "code",
   "execution_count": null,
   "metadata": {},
   "outputs": [],
   "source": [
    "i_kök = lambda sayı, i_derece : sayı ** (1/i_derece)\n",
    "print(i_kök(8, 3))\n",
    "print(i_kök(9, 2))"
   ]
  },
  {
   "cell_type": "markdown",
   "metadata": {},
   "source": [
    "<p> 9) Aşağıda 1'den 10'a kadar olan sayıların karelerinin yer aldığı bir liste verilmiştir. Bu listedeki elemanların kareköklerini bulan bir fonksiyon oluşturun ve karekökü alınan sayıları tam sayı veri tipinde olacak şekilde yeni bir listeye ekleyin. </p>\n",
    "\n",
    "<p> sayılar = [1, 4, 9, 16, 25, 36, 49, 64, 81, 100] </p>"
   ]
  },
  {
   "cell_type": "code",
   "execution_count": null,
   "metadata": {},
   "outputs": [],
   "source": [
    "sayılar = [1, 4, 9, 16, 25, 36, 49, 64, 81, 100]\n",
    "kökler = list(map(lambda x : int(x ** 0.5), sayılar))\n",
    "print(kökler)"
   ]
  },
  {
   "cell_type": "markdown",
   "metadata": {},
   "source": [
    "<p> 10) İncelediğiniz bir dizideki negatif sayı değerlerini gösterecek bir fonksiyon oluşturun. </p>"
   ]
  },
  {
   "cell_type": "code",
   "execution_count": null,
   "metadata": {},
   "outputs": [],
   "source": [
    "dizi = [-1, 0, -2 , 3, -6, -2.3, -1.1, 2.5, 6.3, 10, -8.2, 11, -4.5, 0, -0.001]\n",
    "negatif_mi = filter(lambda i : i < 0, dizi)\n",
    "print(*negatif_mi)"
   ]
  },
  {
   "cell_type": "markdown",
   "metadata": {},
   "source": [
    "<p> 11) Verilen alfabetik olarak düzenlenmemiş bir dizide her birinin uzunluğu farklı kelimeler arasından en kısa olan elemanı ekrana bastıracak bir fonksiyon oluşturunuz. </p>"
   ]
  },
  {
   "cell_type": "code",
   "execution_count": null,
   "metadata": {},
   "outputs": [],
   "source": [
    "import functools\n",
    "\n",
    "dizi = [\"ata\", \"at\", \"beta\", \"penta\", \"a\", \"dendrogram\"]\n",
    "en_kısa = functools.reduce(lambda a, b: a if len(a) < len(b) else b, dizi)\n",
    "print(en_kısa)"
   ]
  },
  {
   "cell_type": "markdown",
   "metadata": {},
   "source": [
    "<p> 12) Aşağıdaki kodları inceleyiniz ve hangi kodun global değişken ve lokal değişken arasındaki uyuşmazlık sebebiyle hata vereceğini tahmin ediniz. Ardından kodları çalıştırıp tahmininizin doğru olup olmadığını kontrol ediniz. </p>\n",
    "\n",
    "<p> i) </p>\n",
    "\n",
    "<pre>\n",
    "a = 10\n",
    "\n",
    "def işlem():\n",
    "    print(a + 10)\n",
    "\n",
    "işlem()\n",
    "</pre>\n",
    "\n",
    "<p> ii) </p>\n",
    "\n",
    "<pre>\n",
    "a = 10\n",
    "\n",
    "def işlem():\n",
    "    a = 20\n",
    "    print(a + 10)\n",
    "\n",
    "işlem()\n",
    "</pre>\n",
    "\n",
    "<p> iii) </p>\n",
    "\n",
    "<pre>\n",
    "a = 10\n",
    "def işlem():\n",
    "    print(a + 10)\n",
    "    a = 20\n",
    "    print(a + 10)\n",
    "\n",
    "işlem()\n",
    "\n",
    "</pre>"
   ]
  },
  {
   "cell_type": "code",
   "execution_count": null,
   "metadata": {},
   "outputs": [],
   "source": [
    "a = 10\n",
    "\n",
    "def işlem():\n",
    "    print(a + 10)\n",
    "\n",
    "işlem()"
   ]
  },
  {
   "cell_type": "code",
   "execution_count": null,
   "metadata": {},
   "outputs": [],
   "source": [
    "a = 10\n",
    "\n",
    "def işlem():\n",
    "    a = 20\n",
    "    print(a + 10)\n",
    "\n",
    "işlem()"
   ]
  },
  {
   "cell_type": "code",
   "execution_count": null,
   "metadata": {},
   "outputs": [],
   "source": [
    "a = 10\n",
    "def işlem():\n",
    "    print(a + 10)\n",
    "    a = 20\n",
    "    print(a + 10)\n",
    "\n",
    "işlem()"
   ]
  },
  {
   "cell_type": "markdown",
   "metadata": {},
   "source": [
    "<p> 13) 12. soruda, çalışmayan fonksiyonun yapısını bozmadan uygun anahtar kelimeyi kullanarak işlemi yapılabilir hale getiriniz ve bu kullanımdan kaynaklı olarak a değişkeninin son değerinde bir değişiklik olup olmadığını kontrol ediniz. </p>"
   ]
  },
  {
   "cell_type": "code",
   "execution_count": null,
   "metadata": {},
   "outputs": [],
   "source": [
    "a = 10\n",
    "def işlem():\n",
    "    global a\n",
    "    print(a + 10)\n",
    "    a = 20\n",
    "    print(a + 10)\n",
    "\n",
    "işlem()\n",
    "print(\"a son değer:\", a)"
   ]
  },
  {
   "cell_type": "markdown",
   "metadata": {},
   "source": [
    "<p> 14) Belli bir sayı aralığı içerisindeki palindrom (soldan ve sağdan okunuşları aynı olan) sayıları, sayılar bilgisayar hafızasında yer kaplamayacak şekilde elde ediniz.</p>"
   ]
  },
  {
   "cell_type": "code",
   "execution_count": null,
   "metadata": {},
   "outputs": [],
   "source": [
    "def palindrom(alt_sınır, üst_sınır):\n",
    "    for i in range(alt_sınır, üst_sınır):\n",
    "        n = str(i)\n",
    "        if n == n[::-1]:\n",
    "            yield n\n",
    "    \n",
    "print(*palindrom(0, 1000))"
   ]
  },
  {
   "cell_type": "markdown",
   "metadata": {},
   "source": [
    "<p> 15) Bu kez belli bir sayı aralığı içerisindeki palindrom sayıları bir listeye atayarak elde edin ve bu listenin elemanlarını for döngüsü kullanmadan ekrana bastırın. </p>"
   ]
  },
  {
   "cell_type": "code",
   "execution_count": null,
   "metadata": {},
   "outputs": [],
   "source": [
    "def palindrom2(alt_sınır, üst_sınır):\n",
    "    pal = []\n",
    "    for i in range(alt_sınır, üst_sınır):\n",
    "        n = str(i)\n",
    "        if n == n[::-1]:\n",
    "            pal.append(i)\n",
    "    return pal\n",
    "\n",
    "pals = palindrom2(0, 100)\n",
    "iter_pals = iter(pals)\n",
    "\n",
    "while True:\n",
    "    try:\n",
    "        i = next(iter_pals)\n",
    "        print(i)\n",
    "    except StopIteration:\n",
    "        break"
   ]
  },
  {
   "cell_type": "markdown",
   "metadata": {},
   "source": [
    "<p> 16) Bir sayının faktöriyelini elde edecek fonksiyonu hem özyineleme ile hem de kendi belirleyeceğiniz alternatif bir algoritma ile oluşturun. Ardından 5000'in faktöriyelini iki ayrı yöntemle de bulmaya çalışıp hangi yöntemin faktöriyel bulmada avantajlı olduğunu kıyaslayın. </p>"
   ]
  },
  {
   "cell_type": "code",
   "execution_count": null,
   "metadata": {},
   "outputs": [],
   "source": [
    "def faktöriyel1(sayı):\n",
    "    if sayı == 1 or sayı == 0:\n",
    "        return 1\n",
    "    else:\n",
    "        return sayı * faktöriyel1(sayı - 1)\n",
    "    \n",
    "def faktöriyel2(sayı):\n",
    "    if sayı < 0:\n",
    "        yield 0\n",
    "    elif sayı == 0 or sayı == 1:\n",
    "        yield 1\n",
    "    else:\n",
    "        çarpım = 1\n",
    "        while sayı > 1:\n",
    "            çarpım *= sayı\n",
    "            sayı -= 1\n",
    "        yield çarpım\n",
    "    \n",
    "print(faktöriyel1(5000))"
   ]
  },
  {
   "cell_type": "code",
   "execution_count": null,
   "metadata": {},
   "outputs": [],
   "source": [
    "print(list(faktöriyel2(7000)))"
   ]
  },
  {
   "cell_type": "markdown",
   "metadata": {},
   "source": [
    "<p> 17) Belli bir aralıktaki sayıları elde etmek için iki fonksiyon oluşturun. Oluşturduğunuz fonksiyonlardan birinde bu işlemi, her sayıyı boş bir listeye ekleyecek şekilde gerçekleştirin. Diğer fonksiyonda ise değerleri hafızada tutmadan elde edeceğiniz bir yöntem seçin. Daha sonra bu iki fonksiyonun çalışma sürelerini bir dekoratör oluşturarak kıyaslayın. Kıyas için uygun sayı aralığı seçmeye dikkat edin. </p>"
   ]
  },
  {
   "cell_type": "code",
   "execution_count": null,
   "metadata": {},
   "outputs": [],
   "source": [
    "import time\n",
    "\n",
    "def zamanlayıcı(fonksiyon):\n",
    "    def wrapper(lb, ub):\n",
    "        başlangıç = time.time()\n",
    "        sonuç = fonksiyon(lb, ub)\n",
    "        bitiş = time.time()\n",
    "        print(\"Fonksiyon\", fonksiyon.__name__, bitiş - başlangıç, \"saniye devam etti.\")\n",
    "        return sonuç\n",
    "    return wrapper\n",
    "\n",
    "@zamanlayıcı\n",
    "def sayı_üret1(alt_sınır, üst_sınır):\n",
    "    liste = []\n",
    "    for i in range(alt_sınır, üst_sınır):\n",
    "        liste.append(i)\n",
    "    return liste\n",
    "\n",
    "@zamanlayıcı\n",
    "def sayı_üret2(alt_sınır, üst_sınır):\n",
    "    for i in range(alt_sınır, üst_sınır):\n",
    "        yield i\n",
    "        \n",
    "if __name__ == \"__main__\":\n",
    "    sayı_üret1(1, 10 ** 8)\n",
    "    sayı_üret2(1, 10 ** 8)"
   ]
  }
 ],
 "metadata": {
  "kernelspec": {
   "display_name": "Python 3",
   "language": "python",
   "name": "python3"
  },
  "language_info": {
   "codemirror_mode": {
    "name": "ipython",
    "version": 3
   },
   "file_extension": ".py",
   "mimetype": "text/x-python",
   "name": "python",
   "nbconvert_exporter": "python",
   "pygments_lexer": "ipython3",
   "version": "3.8.5"
  }
 },
 "nbformat": 4,
 "nbformat_minor": 4
}
